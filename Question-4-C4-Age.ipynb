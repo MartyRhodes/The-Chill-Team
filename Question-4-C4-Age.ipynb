{
 "cells": [
  {
   "cell_type": "code",
   "execution_count": 1,
   "metadata": {},
   "outputs": [],
   "source": [
    "import pandas as pd\n",
    "import numpy as np\n",
    "import matplotlib.pyplot as plt\n",
    "from pylab import *\n",
    "import seaborn as sns\n",
    "%matplotlib inline\n",
    "import  statsmodels.api as sm\n",
    "import statsmodels.stats.api as sms\n",
    "from scipy import stats\n",
    "from scipy.stats import boxcox"
   ]
  },
  {
   "cell_type": "code",
   "execution_count": 2,
   "metadata": {},
   "outputs": [],
   "source": [
    "#Loaded Libraries"
   ]
  },
  {
   "cell_type": "code",
   "execution_count": 3,
   "metadata": {},
   "outputs": [],
   "source": [
    "ASI_Base = pd.read_csv('C:/Users/matth/Desktop/Week-4-Analysis/ASI_Base.csv')"
   ]
  },
  {
   "cell_type": "code",
   "execution_count": 4,
   "metadata": {},
   "outputs": [],
   "source": [
    "#Loaded Data"
   ]
  },
  {
   "cell_type": "code",
   "execution_count": 5,
   "metadata": {},
   "outputs": [
    {
     "data": {
      "text/html": [
       "<div>\n",
       "<style scoped>\n",
       "    .dataframe tbody tr th:only-of-type {\n",
       "        vertical-align: middle;\n",
       "    }\n",
       "\n",
       "    .dataframe tbody tr th {\n",
       "        vertical-align: top;\n",
       "    }\n",
       "\n",
       "    .dataframe thead th {\n",
       "        text-align: right;\n",
       "    }\n",
       "</style>\n",
       "<table border=\"1\" class=\"dataframe\">\n",
       "  <thead>\n",
       "    <tr style=\"text-align: right;\">\n",
       "      <th></th>\n",
       "      <th>Unnamed: 0</th>\n",
       "      <th>Year</th>\n",
       "      <th>Age</th>\n",
       "      <th>Gender</th>\n",
       "      <th>C1</th>\n",
       "      <th>C2</th>\n",
       "      <th>C3</th>\n",
       "      <th>C4</th>\n",
       "      <th>CTotal</th>\n",
       "      <th>DHEA</th>\n",
       "      <th>IF</th>\n",
       "      <th>INF</th>\n",
       "      <th>P17-OH</th>\n",
       "      <th>TotalIgA</th>\n",
       "      <th>GIgA</th>\n",
       "      <th>RandID</th>\n",
       "    </tr>\n",
       "  </thead>\n",
       "  <tbody>\n",
       "    <tr>\n",
       "      <th>0</th>\n",
       "      <td>0</td>\n",
       "      <td>10</td>\n",
       "      <td>42</td>\n",
       "      <td>F</td>\n",
       "      <td>19.0</td>\n",
       "      <td>6</td>\n",
       "      <td>4.0</td>\n",
       "      <td>5.0</td>\n",
       "      <td>34</td>\n",
       "      <td>1.0</td>\n",
       "      <td>3.0</td>\n",
       "      <td>3.0</td>\n",
       "      <td>49.0</td>\n",
       "      <td>5.0</td>\n",
       "      <td>23.0</td>\n",
       "      <td>9383480749</td>\n",
       "    </tr>\n",
       "    <tr>\n",
       "      <th>1</th>\n",
       "      <td>1</td>\n",
       "      <td>11</td>\n",
       "      <td>60</td>\n",
       "      <td>F</td>\n",
       "      <td>12.0</td>\n",
       "      <td>7</td>\n",
       "      <td>4.0</td>\n",
       "      <td>7.0</td>\n",
       "      <td>30</td>\n",
       "      <td>2.0</td>\n",
       "      <td>3.0</td>\n",
       "      <td>22.0</td>\n",
       "      <td>15.0</td>\n",
       "      <td>7.0</td>\n",
       "      <td>5.0</td>\n",
       "      <td>2705809722</td>\n",
       "    </tr>\n",
       "    <tr>\n",
       "      <th>2</th>\n",
       "      <td>2</td>\n",
       "      <td>14</td>\n",
       "      <td>49</td>\n",
       "      <td>F</td>\n",
       "      <td>11.0</td>\n",
       "      <td>1</td>\n",
       "      <td>1.0</td>\n",
       "      <td>1.0</td>\n",
       "      <td>14</td>\n",
       "      <td>3.0</td>\n",
       "      <td>3.0</td>\n",
       "      <td>3.0</td>\n",
       "      <td>30.0</td>\n",
       "      <td>5.0</td>\n",
       "      <td>1.0</td>\n",
       "      <td>517281238</td>\n",
       "    </tr>\n",
       "    <tr>\n",
       "      <th>3</th>\n",
       "      <td>3</td>\n",
       "      <td>14</td>\n",
       "      <td>35</td>\n",
       "      <td>F</td>\n",
       "      <td>12.0</td>\n",
       "      <td>3</td>\n",
       "      <td>6.0</td>\n",
       "      <td>1.0</td>\n",
       "      <td>22</td>\n",
       "      <td>6.0</td>\n",
       "      <td>15.0</td>\n",
       "      <td>18.0</td>\n",
       "      <td>33.0</td>\n",
       "      <td>16.0</td>\n",
       "      <td>4.0</td>\n",
       "      <td>2356075951</td>\n",
       "    </tr>\n",
       "    <tr>\n",
       "      <th>4</th>\n",
       "      <td>4</td>\n",
       "      <td>13</td>\n",
       "      <td>53</td>\n",
       "      <td>F</td>\n",
       "      <td>20.0</td>\n",
       "      <td>7</td>\n",
       "      <td>4.0</td>\n",
       "      <td>3.0</td>\n",
       "      <td>34</td>\n",
       "      <td>5.0</td>\n",
       "      <td>3.0</td>\n",
       "      <td>7.0</td>\n",
       "      <td>9.0</td>\n",
       "      <td>5.0</td>\n",
       "      <td>13.0</td>\n",
       "      <td>9137475714</td>\n",
       "    </tr>\n",
       "  </tbody>\n",
       "</table>\n",
       "</div>"
      ],
      "text/plain": [
       "   Unnamed: 0  Year  Age Gender    C1  C2   C3   C4  CTotal  DHEA    IF   INF  \\\n",
       "0           0    10   42      F  19.0   6  4.0  5.0      34   1.0   3.0   3.0   \n",
       "1           1    11   60      F  12.0   7  4.0  7.0      30   2.0   3.0  22.0   \n",
       "2           2    14   49      F  11.0   1  1.0  1.0      14   3.0   3.0   3.0   \n",
       "3           3    14   35      F  12.0   3  6.0  1.0      22   6.0  15.0  18.0   \n",
       "4           4    13   53      F  20.0   7  4.0  3.0      34   5.0   3.0   7.0   \n",
       "\n",
       "   P17-OH  TotalIgA  GIgA      RandID  \n",
       "0    49.0       5.0  23.0  9383480749  \n",
       "1    15.0       7.0   5.0  2705809722  \n",
       "2    30.0       5.0   1.0   517281238  \n",
       "3    33.0      16.0   4.0  2356075951  \n",
       "4     9.0       5.0  13.0  9137475714  "
      ]
     },
     "execution_count": 5,
     "metadata": {},
     "output_type": "execute_result"
    }
   ],
   "source": [
    "ASI_Base.head()"
   ]
  },
  {
   "cell_type": "code",
   "execution_count": 7,
   "metadata": {},
   "outputs": [],
   "source": [
    "ASI_Base1 = ASI_Base[['Age','C4']]"
   ]
  },
  {
   "cell_type": "code",
   "execution_count": 8,
   "metadata": {},
   "outputs": [
    {
     "name": "stdout",
     "output_type": "stream",
     "text": [
      "<class 'pandas.core.frame.DataFrame'>\n",
      "RangeIndex: 255 entries, 0 to 254\n",
      "Data columns (total 2 columns):\n",
      " #   Column  Non-Null Count  Dtype  \n",
      "---  ------  --------------  -----  \n",
      " 0   Age     255 non-null    int64  \n",
      " 1   C4      253 non-null    float64\n",
      "dtypes: float64(1), int64(1)\n",
      "memory usage: 4.0 KB\n"
     ]
    }
   ],
   "source": [
    "ASI_Base1.info()"
   ]
  },
  {
   "cell_type": "code",
   "execution_count": 11,
   "metadata": {},
   "outputs": [],
   "source": [
    "#DROP NA Values"
   ]
  },
  {
   "cell_type": "code",
   "execution_count": 10,
   "metadata": {},
   "outputs": [
    {
     "name": "stderr",
     "output_type": "stream",
     "text": [
      "<ipython-input-10-a356c9faf015>:1: SettingWithCopyWarning: \n",
      "A value is trying to be set on a copy of a slice from a DataFrame\n",
      "\n",
      "See the caveats in the documentation: https://pandas.pydata.org/pandas-docs/stable/user_guide/indexing.html#returning-a-view-versus-a-copy\n",
      "  ASI_Base1.dropna(inplace=True)\n"
     ]
    }
   ],
   "source": [
    "ASI_Base1.dropna(inplace=True)"
   ]
  },
  {
   "cell_type": "code",
   "execution_count": 12,
   "metadata": {},
   "outputs": [],
   "source": [
    "#Convert C4 into Integer"
   ]
  },
  {
   "cell_type": "code",
   "execution_count": 13,
   "metadata": {},
   "outputs": [
    {
     "name": "stderr",
     "output_type": "stream",
     "text": [
      "<ipython-input-13-c06d5fb40014>:1: SettingWithCopyWarning: \n",
      "A value is trying to be set on a copy of a slice from a DataFrame.\n",
      "Try using .loc[row_indexer,col_indexer] = value instead\n",
      "\n",
      "See the caveats in the documentation: https://pandas.pydata.org/pandas-docs/stable/user_guide/indexing.html#returning-a-view-versus-a-copy\n",
      "  ASI_Base1['C4'] = ASI_Base1['C4'].astype(int)\n"
     ]
    }
   ],
   "source": [
    "ASI_Base1['C4'] = ASI_Base1['C4'].astype(int)"
   ]
  },
  {
   "cell_type": "code",
   "execution_count": 14,
   "metadata": {},
   "outputs": [
    {
     "name": "stdout",
     "output_type": "stream",
     "text": [
      "<class 'pandas.core.frame.DataFrame'>\n",
      "Int64Index: 253 entries, 0 to 254\n",
      "Data columns (total 2 columns):\n",
      " #   Column  Non-Null Count  Dtype\n",
      "---  ------  --------------  -----\n",
      " 0   Age     253 non-null    int64\n",
      " 1   C4      253 non-null    int32\n",
      "dtypes: int32(1), int64(1)\n",
      "memory usage: 4.9 KB\n"
     ]
    }
   ],
   "source": [
    "ASI_Base1.info()"
   ]
  },
  {
   "cell_type": "code",
   "execution_count": 16,
   "metadata": {},
   "outputs": [
    {
     "name": "stderr",
     "output_type": "stream",
     "text": [
      "<ipython-input-16-2b8eed9576de>:1: SettingWithCopyWarning: \n",
      "A value is trying to be set on a copy of a slice from a DataFrame.\n",
      "Try using .loc[row_indexer,col_indexer] = value instead\n",
      "\n",
      "See the caveats in the documentation: https://pandas.pydata.org/pandas-docs/stable/user_guide/indexing.html#returning-a-view-versus-a-copy\n",
      "  ASI_Base1['C4LOG'] = np.log(ASI_Base1['C4'])\n"
     ]
    }
   ],
   "source": [
    "ASI_Base1['C4LOG'] = np.log(ASI_Base1['C4'])"
   ]
  },
  {
   "cell_type": "code",
   "execution_count": 17,
   "metadata": {},
   "outputs": [
    {
     "data": {
      "text/plain": [
       "<matplotlib.axes._subplots.AxesSubplot at 0xa82b7a8>"
      ]
     },
     "execution_count": 17,
     "metadata": {},
     "output_type": "execute_result"
    },
    {
     "data": {
      "image/png": "[encoded data removed]",
      "text/plain": [
       "<Figure size 432x288 with 1 Axes>"
      ]
     },
     "metadata": {
      "needs_background": "light"
     },
     "output_type": "display_data"
    }
   ],
   "source": [
    "sns.distplot(ASI_Base1['C4LOG'])"
   ]
  },
  {
   "cell_type": "code",
   "execution_count": 18,
   "metadata": {},
   "outputs": [
    {
     "data": {
      "text/plain": [
       "<matplotlib.axes._subplots.AxesSubplot at 0xa6e34a8>"
      ]
     },
     "execution_count": 18,
     "metadata": {},
     "output_type": "execute_result"
    },
    {
     "data": {
      "image/png": "[encoded data removed]",
      "text/plain": [
       "<Figure size 432x288 with 1 Axes>"
      ]
     },
     "metadata": {
      "needs_background": "light"
     },
     "output_type": "display_data"
    }
   ],
   "source": [
    "sns.distplot(ASI_Base1['Age'])"
   ]
  },
  {
   "cell_type": "code",
   "execution_count": 19,
   "metadata": {},
   "outputs": [
    {
     "name": "stdout",
     "output_type": "stream",
     "text": [
      "     Age   C4     C4LOG\n",
      "0     42    5  1.609438\n",
      "1     60    7  1.945910\n",
      "2     49    1  0.000000\n",
      "3     35    1  0.000000\n",
      "4     53    3  1.098612\n",
      "5     53    2  0.693147\n",
      "6     55    8  2.079442\n",
      "7     56    6  1.791759\n",
      "8     24    3  1.098612\n",
      "9     55    6  1.791759\n",
      "10    93   10  2.302585\n",
      "11    55   11  2.397895\n",
      "12    46    2  0.693147\n",
      "13    57    5  1.609438\n",
      "14    46    2  0.693147\n",
      "15    50    1  0.000000\n",
      "16    68    3  1.098612\n",
      "17    28    3  1.098612\n",
      "18    56    8  2.079442\n",
      "19    28    4  1.386294\n",
      "20    35   16  2.772589\n",
      "21    49    6  1.791759\n",
      "22    39    3  1.098612\n",
      "23    60    5  1.609438\n",
      "24    27    2  0.693147\n",
      "25    59    5  1.609438\n",
      "26    43    3  1.098612\n",
      "27    54    5  1.609438\n",
      "28    28    3  1.098612\n",
      "29    33    7  1.945910\n",
      "30    57    3  1.098612\n",
      "31    41    3  1.098612\n",
      "32    57    4  1.386294\n",
      "33    79    8  2.079442\n",
      "34    31    2  0.693147\n",
      "35    46   40  3.688879\n",
      "36    53    2  0.693147\n",
      "37    60    5  1.609438\n",
      "38    69    4  1.386294\n",
      "39    34    4  1.386294\n",
      "40    37    3  1.098612\n",
      "41    52    3  1.098612\n",
      "42    74   26  3.258097\n",
      "43    34   16  2.772589\n",
      "44    54   30  3.401197\n",
      "45    53    9  2.197225\n",
      "46    45    3  1.098612\n",
      "47    55    7  1.945910\n",
      "48    71  120  4.787492\n",
      "49    46    2  0.693147\n",
      "50    64    3  1.098612\n",
      "51    59  110  4.700480\n",
      "52    49    1  0.000000\n",
      "53    46    3  1.098612\n",
      "54    68    3  1.098612\n",
      "55    58    7  1.945910\n",
      "56    47    2  0.693147\n",
      "57    67    3  1.098612\n",
      "58    51  110  4.700480\n",
      "59    59    4  1.386294\n",
      "60    49    7  1.945910\n",
      "61    55    9  2.197225\n",
      "62    59    6  1.791759\n",
      "63    31    7  1.945910\n",
      "64    45    2  0.693147\n",
      "65    26    5  1.609438\n",
      "66    23   44  3.784190\n",
      "67    58    6  1.791759\n",
      "68    52    9  2.197225\n",
      "69    53    4  1.386294\n",
      "70    69   54  3.988984\n",
      "71    33    6  1.791759\n",
      "72    51    8  2.079442\n",
      "73    59  110  4.700480\n",
      "74    25    9  2.197225\n",
      "75    61    5  1.609438\n",
      "76    64    7  1.945910\n",
      "77    38    5  1.609438\n",
      "78    53    6  1.791759\n",
      "79    55    4  1.386294\n",
      "80    47    7  1.945910\n",
      "81    70    7  1.945910\n",
      "82    25    5  1.609438\n",
      "83    31    3  1.098612\n",
      "84    36    2  0.693147\n",
      "85    51    7  1.945910\n",
      "86    60    5  1.609438\n",
      "87    53    1  0.000000\n",
      "88    33    5  1.609438\n",
      "89    61    6  1.791759\n",
      "91    53    1  0.000000\n",
      "92    41    6  1.791759\n",
      "93    32    6  1.791759\n",
      "94    69    4  1.386294\n",
      "95    49    8  2.079442\n",
      "96    50    3  1.098612\n",
      "97    34    5  1.609438\n",
      "98    60    2  0.693147\n",
      "99    60   33  3.496508\n",
      "100   57    5  1.609438\n",
      "101   58    5  1.609438\n",
      "102   60    6  1.791759\n",
      "103   60    5  1.609438\n",
      "104   31    7  1.945910\n",
      "105   49    2  0.693147\n",
      "106   63    3  1.098612\n",
      "107   39    3  1.098612\n",
      "109   65    3  1.098612\n",
      "110   59    4  1.386294\n",
      "111   25    2  0.693147\n",
      "112   65    5  1.609438\n",
      "113   63    4  1.386294\n",
      "114   55   11  2.397895\n",
      "115   64   11  2.397895\n",
      "116   34    2  0.693147\n",
      "117   23   44  3.784190\n",
      "118   20    3  1.098612\n",
      "119   31    5  1.609438\n",
      "120   27    3  1.098612\n",
      "121   54    9  2.197225\n",
      "122   18   10  2.302585\n",
      "123   50    3  1.098612\n",
      "124   69    2  0.693147\n",
      "125   53    5  1.609438\n",
      "126   49    3  1.098612\n",
      "127   57    6  1.791759\n",
      "128   50    3  1.098612\n",
      "129   27    1  0.000000\n",
      "130   62    5  1.609438\n",
      "131   15    4  1.386294\n",
      "132   57    4  1.386294\n",
      "133   26  120  4.787492\n",
      "134   62    1  0.000000\n",
      "135   44    3  1.098612\n",
      "136   34    3  1.098612\n",
      "137   62    5  1.609438\n",
      "138   54   22  3.091042\n",
      "139   53    6  1.791759\n",
      "140   60    4  1.386294\n",
      "141   54    3  1.098612\n",
      "142   23    5  1.609438\n",
      "143   52    9  2.197225\n",
      "144   28    4  1.386294\n",
      "145   36    3  1.098612\n",
      "146   65    5  1.609438\n",
      "147   53   51  3.931826\n",
      "148   52    4  1.386294\n",
      "149   53    2  0.693147\n",
      "150   80    3  1.098612\n",
      "151   57    6  1.791759\n",
      "152   15    3  1.098612\n",
      "153   62    2  0.693147\n",
      "154   59    3  1.098612\n",
      "155   26    1  0.000000\n",
      "156   70   27  3.295837\n",
      "157   41    4  1.386294\n",
      "158   51    5  1.609438\n",
      "159   64    5  1.609438\n",
      "160   42    7  1.945910\n",
      "161   41    6  1.791759\n",
      "162   54    6  1.791759\n",
      "163   52   41  3.713572\n",
      "164   72    5  1.609438\n",
      "165   60    4  1.386294\n",
      "166   58    4  1.386294\n",
      "167   44    1  0.000000\n",
      "168   73    8  2.079442\n",
      "169   41    9  2.197225\n",
      "170   47    2  0.693147\n",
      "171   32    4  1.386294\n",
      "172   58    5  1.609438\n",
      "173   45    9  2.197225\n",
      "174   38    1  0.000000\n",
      "175   44    1  0.000000\n",
      "176   28    3  1.098612\n",
      "177   69    2  0.693147\n",
      "178   46    6  1.791759\n",
      "179   67   10  2.302585\n",
      "180    9    6  1.791759\n",
      "181   56    2  0.693147\n",
      "182   32   29  3.367296\n",
      "183   56    2  0.693147\n",
      "184   52    2  0.693147\n",
      "185   66    2  0.693147\n",
      "186   44    1  0.000000\n",
      "187   39    3  1.098612\n",
      "188   23    1  0.000000\n",
      "189   58    5  1.609438\n",
      "190   27    1  0.000000\n",
      "191   52    3  1.098612\n",
      "192   59    4  1.386294\n",
      "193   48    4  1.386294\n",
      "194   57    3  1.098612\n",
      "195   53    3  1.098612\n",
      "196   38    6  1.791759\n",
      "197   40    4  1.386294\n",
      "198   84    2  0.693147\n",
      "199   48    2  0.693147\n",
      "200   60   27  3.295837\n",
      "201   34    3  1.098612\n",
      "202   50    3  1.098612\n",
      "203   58    5  1.609438\n",
      "204   55    1  0.000000\n",
      "205   44    8  2.079442\n",
      "206   42    4  1.386294\n",
      "207   56    4  1.386294\n",
      "208   57    5  1.609438\n",
      "209   37   45  3.806662\n",
      "210   57    5  1.609438\n",
      "211   59    2  0.693147\n",
      "212   32    5  1.609438\n",
      "213   59    4  1.386294\n",
      "214   78    5  1.609438\n",
      "215   46    7  1.945910\n",
      "216   51    6  1.791759\n",
      "217   44    5  1.609438\n",
      "218   62    3  1.098612\n",
      "219   23    7  1.945910\n",
      "220   46    1  0.000000\n",
      "221   33    1  0.000000\n",
      "222   38    3  1.098612\n",
      "223   63   27  3.295837\n",
      "224   69    7  1.945910\n",
      "225   59    1  0.000000\n",
      "226   64    4  1.386294\n",
      "227   61    5  1.609438\n",
      "228   39    8  2.079442\n",
      "229   56    1  0.000000\n",
      "230   52    4  1.386294\n",
      "231   29    4  1.386294\n",
      "232   40    2  0.693147\n",
      "233   59    3  1.098612\n",
      "234   58    4  1.386294\n",
      "235   52    5  1.609438\n",
      "236   59    5  1.609438\n",
      "237   22    2  0.693147\n",
      "238   46    3  1.098612\n",
      "239   29    4  1.386294\n",
      "240   42   12  2.484907\n",
      "241   50    1  0.000000\n",
      "242   54    4  1.386294\n",
      "243   54    3  1.098612\n",
      "244   57    4  1.386294\n",
      "245   41   39  3.663562\n",
      "246   57    6  1.791759\n",
      "247   62    4  1.386294\n",
      "248   59    4  1.386294\n",
      "249   66    3  1.098612\n",
      "250   33    6  1.791759\n",
      "251   81    8  2.079442\n",
      "252   26    4  1.386294\n",
      "253   39    7  1.945910\n",
      "254   40   11  2.397895\n"
     ]
    }
   ],
   "source": [
    "pd.set_option('display.max_rows', None)\n",
    "pd.set_option('display.max_columns', None)\n",
    "print(ASI_Base1)"
   ]
  },
  {
   "cell_type": "code",
   "execution_count": 20,
   "metadata": {},
   "outputs": [
    {
     "data": {
      "image/png": "[encoded data removed]",
      "text/plain": [
       "<Figure size 432x288 with 1 Axes>"
      ]
     },
     "metadata": {
      "needs_background": "light"
     },
     "output_type": "display_data"
    }
   ],
   "source": [
    "Plot = ASI_Base1.plot.scatter( x = 'Age', y = 'C4')"
   ]
  },
  {
   "cell_type": "code",
   "execution_count": 21,
   "metadata": {},
   "outputs": [
    {
     "data": {
      "image/png": "[encoded data removed]",
      "text/plain": [
       "<Figure size 432x288 with 1 Axes>"
      ]
     },
     "metadata": {
      "needs_background": "light"
     },
     "output_type": "display_data"
    }
   ],
   "source": [
    "Plot = ASI_Base1.plot.scatter( x = 'Age', y = 'C4LOG')"
   ]
  },
  {
   "cell_type": "code",
   "execution_count": 22,
   "metadata": {},
   "outputs": [],
   "source": [
    "x = ASI_Base1['Age']\n",
    "y = ASI_Base1['C4LOG']"
   ]
  },
  {
   "cell_type": "code",
   "execution_count": 23,
   "metadata": {},
   "outputs": [],
   "source": [
    "model = sm.OLS(y,x).fit()"
   ]
  },
  {
   "cell_type": "code",
   "execution_count": 24,
   "metadata": {},
   "outputs": [],
   "source": [
    "pred_val = model.fittedvalues.copy()\n",
    "true_val = ASI_Base1['C4LOG'].values.copy()\n",
    "residual = true_val - pred_val"
   ]
  },
  {
   "cell_type": "code",
   "execution_count": 25,
   "metadata": {},
   "outputs": [
    {
     "data": {
      "image/png": "[encoded data removed]",
      "text/plain": [
       "<Figure size 432x180 with 1 Axes>"
      ]
     },
     "metadata": {
      "needs_background": "light"
     },
     "output_type": "display_data"
    }
   ],
   "source": [
    "fig, ax = plt.subplots(figsize=(6, 2.5))\n",
    "_ = ax.scatter(residual, pred_val)"
   ]
  },
  {
   "cell_type": "code",
   "execution_count": 26,
   "metadata": {},
   "outputs": [],
   "source": [
    "#This seems to be able to draw a line across it with a couple of outliers."
   ]
  },
  {
   "cell_type": "code",
   "execution_count": 27,
   "metadata": {},
   "outputs": [
    {
     "data": {
      "text/plain": [
       "(39.95296875111251, nan, 47.25786633242714, 4.8711846318082525e-11)"
      ]
     },
     "execution_count": 27,
     "metadata": {},
     "output_type": "execute_result"
    }
   ],
   "source": [
    "sms.diagnostic.het_breuschpagan(residual, ASI_Base1[['Age']])"
   ]
  },
  {
   "cell_type": "code",
   "execution_count": 28,
   "metadata": {},
   "outputs": [
    {
     "data": {
      "text/plain": [
       "Ttest_1sampResult(statistic=0.979072500170498, pvalue=0.32849444264755645)"
      ]
     },
     "execution_count": 28,
     "metadata": {},
     "output_type": "execute_result"
    }
   ],
   "source": [
    "sms.linear_harvey_collier(model)"
   ]
  },
  {
   "cell_type": "code",
   "execution_count": 29,
   "metadata": {},
   "outputs": [],
   "source": [
    "transformed, _ = boxcox(ASI_Base1['Age'])"
   ]
  },
  {
   "cell_type": "code",
   "execution_count": 30,
   "metadata": {},
   "outputs": [
    {
     "data": {
      "text/plain": [
       "(array([ 4., 26., 30., 40., 58., 63., 22.,  5.,  4.,  1.]),\n",
       " array([ 11.17628268,  30.79032925,  50.40437582,  70.01842239,\n",
       "         89.63246896, 109.24651553, 128.86056211, 148.47460868,\n",
       "        168.08865525, 187.70270182, 207.31674839]),\n",
       " <a list of 10 Patch objects>)"
      ]
     },
     "execution_count": 30,
     "metadata": {},
     "output_type": "execute_result"
    },
    {
     "data": {
      "image/png": "[encoded data removed]",
      "text/plain": [
       "<Figure size 432x288 with 1 Axes>"
      ]
     },
     "metadata": {
      "needs_background": "light"
     },
     "output_type": "display_data"
    }
   ],
   "source": [
    "plt.hist(transformed)"
   ]
  },
  {
   "cell_type": "code",
   "execution_count": 31,
   "metadata": {},
   "outputs": [
    {
     "data": {
      "text/html": [
       "<table class=\"simpletable\">\n",
       "<caption>OLS Regression Results</caption>\n",
       "<tr>\n",
       "  <th>Dep. Variable:</th>          <td>C4LOG</td>      <th>  R-squared (uncentered):</th>      <td>   0.684</td>\n",
       "</tr>\n",
       "<tr>\n",
       "  <th>Model:</th>                   <td>OLS</td>       <th>  Adj. R-squared (uncentered):</th> <td>   0.683</td>\n",
       "</tr>\n",
       "<tr>\n",
       "  <th>Method:</th>             <td>Least Squares</td>  <th>  F-statistic:       </th>          <td>   546.0</td>\n",
       "</tr>\n",
       "<tr>\n",
       "  <th>Date:</th>             <td>Fri, 26 Feb 2021</td> <th>  Prob (F-statistic):</th>          <td>5.06e-65</td>\n",
       "</tr>\n",
       "<tr>\n",
       "  <th>Time:</th>                 <td>21:51:07</td>     <th>  Log-Likelihood:    </th>          <td> -361.40</td>\n",
       "</tr>\n",
       "<tr>\n",
       "  <th>No. Observations:</th>      <td>   253</td>      <th>  AIC:               </th>          <td>   724.8</td>\n",
       "</tr>\n",
       "<tr>\n",
       "  <th>Df Residuals:</th>          <td>   252</td>      <th>  BIC:               </th>          <td>   728.3</td>\n",
       "</tr>\n",
       "<tr>\n",
       "  <th>Df Model:</th>              <td>     1</td>      <th>                     </th>              <td> </td>   \n",
       "</tr>\n",
       "<tr>\n",
       "  <th>Covariance Type:</th>      <td>nonrobust</td>    <th>                     </th>              <td> </td>   \n",
       "</tr>\n",
       "</table>\n",
       "<table class=\"simpletable\">\n",
       "<tr>\n",
       "   <td></td>     <th>coef</th>     <th>std err</th>      <th>t</th>      <th>P>|t|</th>  <th>[0.025</th>    <th>0.975]</th>  \n",
       "</tr>\n",
       "<tr>\n",
       "  <th>x1</th> <td>    0.0146</td> <td>    0.001</td> <td>   23.367</td> <td> 0.000</td> <td>    0.013</td> <td>    0.016</td>\n",
       "</tr>\n",
       "</table>\n",
       "<table class=\"simpletable\">\n",
       "<tr>\n",
       "  <th>Omnibus:</th>       <td>42.490</td> <th>  Durbin-Watson:     </th> <td>   2.076</td>\n",
       "</tr>\n",
       "<tr>\n",
       "  <th>Prob(Omnibus):</th> <td> 0.000</td> <th>  Jarque-Bera (JB):  </th> <td>  66.847</td>\n",
       "</tr>\n",
       "<tr>\n",
       "  <th>Skew:</th>          <td> 0.964</td> <th>  Prob(JB):          </th> <td>3.05e-15</td>\n",
       "</tr>\n",
       "<tr>\n",
       "  <th>Kurtosis:</th>      <td> 4.619</td> <th>  Cond. No.          </th> <td>    1.00</td>\n",
       "</tr>\n",
       "</table><br/><br/>Warnings:<br/>[1] Standard Errors assume that the covariance matrix of the errors is correctly specified."
      ],
      "text/plain": [
       "<class 'statsmodels.iolib.summary.Summary'>\n",
       "\"\"\"\n",
       "                                 OLS Regression Results                                \n",
       "=======================================================================================\n",
       "Dep. Variable:                  C4LOG   R-squared (uncentered):                   0.684\n",
       "Model:                            OLS   Adj. R-squared (uncentered):              0.683\n",
       "Method:                 Least Squares   F-statistic:                              546.0\n",
       "Date:                Fri, 26 Feb 2021   Prob (F-statistic):                    5.06e-65\n",
       "Time:                        21:51:07   Log-Likelihood:                         -361.40\n",
       "No. Observations:                 253   AIC:                                      724.8\n",
       "Df Residuals:                     252   BIC:                                      728.3\n",
       "Df Model:                           1                                                  \n",
       "Covariance Type:            nonrobust                                                  \n",
       "==============================================================================\n",
       "                 coef    std err          t      P>|t|      [0.025      0.975]\n",
       "------------------------------------------------------------------------------\n",
       "x1             0.0146      0.001     23.367      0.000       0.013       0.016\n",
       "==============================================================================\n",
       "Omnibus:                       42.490   Durbin-Watson:                   2.076\n",
       "Prob(Omnibus):                  0.000   Jarque-Bera (JB):               66.847\n",
       "Skew:                           0.964   Prob(JB):                     3.05e-15\n",
       "Kurtosis:                       4.619   Cond. No.                         1.00\n",
       "==============================================================================\n",
       "\n",
       "Warnings:\n",
       "[1] Standard Errors assume that the covariance matrix of the errors is correctly specified.\n",
       "\"\"\""
      ]
     },
     "execution_count": 31,
     "metadata": {},
     "output_type": "execute_result"
    }
   ],
   "source": [
    "x = transformed\n",
    "model1 = sm.OLS(y,x).fit()\n",
    "model1.summary()"
   ]
  },
  {
   "cell_type": "code",
   "execution_count": 32,
   "metadata": {},
   "outputs": [],
   "source": [
    "# The bottom numbers are not close to 1. Is this going to be a concern?"
   ]
  },
  {
   "cell_type": "code",
   "execution_count": 34,
   "metadata": {},
   "outputs": [],
   "source": [
    "pred_val1 = model1.fittedvalues.copy()\n",
    "true_val1 = ASI_Base1['C4LOG'].values.copy()\n",
    "residual1 = true_val1 - pred_val1"
   ]
  },
  {
   "cell_type": "code",
   "execution_count": 35,
   "metadata": {},
   "outputs": [
    {
     "data": {
      "image/png": "[encoded data removed]",
      "text/plain": [
       "<Figure size 432x180 with 1 Axes>"
      ]
     },
     "metadata": {
      "needs_background": "light"
     },
     "output_type": "display_data"
    }
   ],
   "source": [
    "fig, ax = plt.subplots(figsize=(6, 2.5))\n",
    "_ = ax.scatter(residual, pred_val1)"
   ]
  },
  {
   "cell_type": "code",
   "execution_count": 36,
   "metadata": {},
   "outputs": [
    {
     "data": {
      "text/plain": [
       "(39.644656994814326, nan, 46.825420080763536, 5.866415765845351e-11)"
      ]
     },
     "execution_count": 36,
     "metadata": {},
     "output_type": "execute_result"
    }
   ],
   "source": [
    "sms.diagnostic.het_breuschpagan(residual1, ASI_Base1[['Age']])"
   ]
  },
  {
   "cell_type": "code",
   "execution_count": 37,
   "metadata": {},
   "outputs": [
    {
     "data": {
      "text/plain": [
       "Ttest_1sampResult(statistic=1.5634420917248988, pvalue=0.1192186492030594)"
      ]
     },
     "execution_count": 37,
     "metadata": {},
     "output_type": "execute_result"
    }
   ],
   "source": [
    "sms.linear_harvey_collier(model1)"
   ]
  },
  {
   "cell_type": "code",
   "execution_count": 38,
   "metadata": {},
   "outputs": [
    {
     "data": {
      "image/png": "[encoded data removed]",
      "text/plain": [
       "<Figure size 864x576 with 1 Axes>"
      ]
     },
     "metadata": {
      "needs_background": "light"
     },
     "output_type": "display_data"
    }
   ],
   "source": [
    "fig, ax = plt.subplots(figsize=(12,8))\n",
    "fig = sm.graphics.influence_plot(model1, alpha = .05, ax = ax, criterion=\"cooks\")"
   ]
  },
  {
   "cell_type": "code",
   "execution_count": 39,
   "metadata": {},
   "outputs": [],
   "source": [
    "# I am not sure with this graph if this is right or wrong?"
   ]
  },
  {
   "cell_type": "code",
   "execution_count": 40,
   "metadata": {},
   "outputs": [
    {
     "name": "stdout",
     "output_type": "stream",
     "text": [
      "       dfb_x1       cooks_d  standard_resid  hat_diag  dffits_internal  \\\n",
      "0    0.022405  5.035607e-04        0.464861  0.002325         0.022440   \n",
      "1    0.013145  1.734455e-04        0.175499  0.005600         0.013170   \n",
      "2   -0.079875  6.358049e-03       -1.365013  0.003401        -0.079737   \n",
      "3   -0.034649  1.201491e-03       -0.899987  0.001481        -0.034663   \n",
      "4   -0.026723  7.164456e-04       -0.415834  0.004126        -0.026767   \n",
      "5   -0.052586  2.768901e-03       -0.817489  0.004126        -0.052620   \n",
      "6    0.032678  1.071114e-03        0.485682  0.004520         0.032728   \n",
      "7    0.011371  1.297988e-04        0.165345  0.004725         0.011393   \n",
      "8    0.012591  1.590000e-04        0.523424  0.000580         0.012610   \n",
      "9    0.013495  1.828077e-04        0.200646  0.004520         0.013521   \n",
      "10  -0.093682  8.792820e-03       -0.725411  0.016435        -0.093770   \n",
      "11   0.053951  2.914879e-03        0.801206  0.004520         0.053990   \n",
      "12  -0.031087  9.689624e-04       -0.576191  0.002910        -0.031128   \n",
      "13  -0.003570  1.279328e-05       -0.050785  0.004936        -0.003577   \n",
      "14  -0.031087  9.689624e-04       -0.576191  0.002910        -0.031128   \n",
      "15  -0.083984  7.026324e-03       -1.399549  0.003574        -0.083823   \n",
      "16  -0.083851  7.033406e-03       -0.957183  0.007618        -0.083865   \n",
      "17   0.011784  1.393327e-04        0.404346  0.000851         0.011804   \n",
      "18   0.030986  9.631732e-04        0.450410  0.004725         0.031035   \n",
      "19   0.020089  4.043952e-04        0.688857  0.000851         0.020110   \n",
      "20   0.071320  5.037984e-03        1.842910  0.001481         0.070979   \n",
      "21   0.023868  5.715548e-04        0.409264  0.003401         0.023907   \n",
      "22   0.002548  6.517336e-06        0.057967  0.001936         0.002553   \n",
      "23  -0.011838  1.406867e-04       -0.158059  0.005600        -0.011861   \n",
      "24   0.000933  8.743150e-07        0.033513  0.000778         0.000935   \n",
      "25  -0.008961  8.061117e-05       -0.122157  0.005373        -0.008978   \n",
      "26  -0.003669  1.351233e-05       -0.073963  0.002464        -0.003676   \n",
      "27   0.003627  1.320889e-05        0.055172  0.004321         0.003634   \n",
      "28   0.011784  1.393327e-04        0.404346  0.000851         0.011804   \n",
      "29   0.038977  1.518105e-03        1.088234  0.001280         0.038963   \n",
      "30  -0.039176  1.539007e-03       -0.557017  0.004936        -0.039230   \n",
      "31  -0.000357  1.278826e-07       -0.007632  0.002191        -0.000358   \n",
      "32  -0.019116  3.667693e-04       -0.271922  0.004936        -0.019151   \n",
      "33  -0.041991  1.769136e-03       -0.398617  0.011011        -0.042061   \n",
      "34  -0.002929  8.610879e-06       -0.088573  0.001096        -0.002934   \n",
      "35   0.130324  1.666551e-02        2.389583  0.002910         0.129095   \n",
      "36  -0.052586  2.768901e-03       -0.817489  0.004126        -0.052620   \n",
      "37  -0.011838  1.406867e-04       -0.158059  0.005600        -0.011861   \n",
      "38  -0.063179  3.999553e-03       -0.708868  0.007897        -0.063242   \n",
      "39   0.018667  3.495042e-04        0.503169  0.001379         0.018695   \n",
      "40   0.005057  2.567563e-05        0.122807  0.001700         0.005067   \n",
      "41  -0.023908  5.735199e-04       -0.380919  0.003937        -0.023948   \n",
      "42   0.093630  8.769240e-03        0.962470  0.009378         0.093644   \n",
      "43   0.069999  4.850848e-03        1.874547  0.001379         0.069648   \n",
      "44   0.121135  1.453624e-02        1.830270  0.004321         0.120566   \n",
      "45   0.043238  1.873572e-03        0.672456  0.004126         0.043285   \n",
      "46  -0.007399  5.495528e-05       -0.141002  0.002757        -0.007413   \n",
      "47   0.023771  5.670395e-04        0.353379  0.004520         0.023813   \n",
      "48   0.242454  5.744364e-02        2.593022  0.008471         0.239674   \n",
      "49  -0.031087  9.689624e-04       -0.576191  0.002910        -0.031128   \n",
      "50  -0.065770  4.331576e-03       -0.809715  0.006563        -0.065815   \n",
      "51   0.219589  4.674873e-02        2.941760  0.005373         0.216215   \n",
      "52  -0.079875  6.358049e-03       -1.365013  0.003401        -0.079737   \n",
      "53  -0.009424  8.915792e-05       -0.174780  0.002910        -0.009442   \n",
      "54  -0.083851  7.033406e-03       -0.957183  0.007618        -0.083865   \n",
      "55   0.017747  3.161371e-04        0.247083  0.005152         0.017780   \n",
      "56  -0.033810  1.145995e-03       -0.610170  0.003069        -0.033853   \n",
      "57  -0.079128  6.265014e-03       -0.920113  0.007346        -0.079152   \n",
      "58   0.201510  3.908932e-02        3.221196  0.003753         0.197710   \n",
      "59  -0.025191  6.368121e-04       -0.343343  0.005373        -0.025235   \n",
      "60   0.032779  1.077420e-03        0.561911  0.003401         0.032824   \n",
      "61   0.040540  1.647689e-03        0.602381  0.004520         0.040592   \n",
      "62   0.004296  1.852762e-05        0.058564  0.005373         0.004304   \n",
      "63   0.038142  1.452926e-03        1.150535  0.001096         0.038117   \n",
      "64  -0.028476  8.131443e-04       -0.542382  0.002757        -0.028516   \n",
      "65   0.025806  6.661089e-04        0.969556  0.000708         0.025809   \n",
      "66   0.074678  5.370402e-03        3.208077  0.000522         0.073283   \n",
      "67   0.006773  4.605044e-05        0.094302  0.005152         0.006786   \n",
      "68   0.044421  1.977192e-03        0.707267  0.003937         0.044466   \n",
      "69  -0.008406  7.094536e-05       -0.130855  0.004126        -0.008423   \n",
      "70   0.168057  2.796029e-02        1.874262  0.007897         0.167213   \n",
      "71   0.033495  1.122474e-03        0.935750  0.001280         0.033503   \n",
      "72   0.038331  1.472854e-03        0.625270  0.003753         0.038378   \n",
      "73   0.219589  4.674873e-02        2.941760  0.005373         0.216215   \n",
      "74   0.040183  1.605032e-03        1.580433  0.000642         0.040063   \n",
      "75  -0.014838  2.210235e-04       -0.194102  0.005832        -0.014867   \n",
      "76   0.002486  6.206476e-06        0.030650  0.006563         0.002491   \n",
      "77   0.025382  6.458792e-04        0.595923  0.001815         0.025414   \n",
      "78   0.017399  3.038376e-04        0.270800  0.004126         0.017431   \n",
      "79  -0.013525  1.836149e-04       -0.201089  0.004520        -0.013550   \n",
      "80   0.034920  1.222327e-03        0.630164  0.003069         0.034962   \n",
      "81  -0.017284  2.998808e-04       -0.190674  0.008181        -0.017317   \n",
      "82   0.025329  6.415393e-04        0.999185  0.000642         0.025329   \n",
      "83   0.010334  1.071686e-04        0.312473  0.001096         0.010352   \n",
      "84  -0.009801  9.642583e-05       -0.246210  0.001588        -0.009820   \n",
      "85   0.030215  9.156939e-04        0.493018  0.003753         0.030260   \n",
      "86  -0.011838  1.406867e-04       -0.158059  0.005600        -0.011861   \n",
      "87  -0.097062  9.373684e-03       -1.504124  0.004126        -0.096818   \n",
      "88   0.027023  7.314921e-04        0.755399  0.001280         0.027046   \n",
      "89  -0.001020  1.043780e-06       -0.013339  0.005832        -0.001022   \n",
      "91  -0.097062  9.373684e-03       -1.504124  0.004126        -0.096818   \n",
      "92   0.031749  1.010153e-03        0.678336  0.002191         0.031783   \n",
      "93   0.033321  1.110586e-03        0.967016  0.001186         0.033325   \n",
      "94  -0.063179  3.999553e-03       -0.708868  0.007897        -0.063242   \n",
      "95   0.040506  1.644158e-03        0.694140  0.003401         0.040548   \n",
      "96  -0.018627  3.482064e-04       -0.311560  0.003574        -0.018660   \n",
      "97   0.026871  7.234288e-04        0.723911  0.001379         0.026897   \n",
      "98  -0.080048  6.404208e-03       -1.066412  0.005600        -0.080026   \n",
      "99   0.129021  1.651808e-02        1.712664  0.005600         0.128523   \n",
      "100 -0.003570  1.279328e-05       -0.050785  0.004936        -0.003577   \n",
      "101 -0.006205  3.865514e-05       -0.086399  0.005152        -0.006217   \n",
      "102  0.001699  2.897535e-06        0.022683  0.005600         0.001702   \n",
      "103 -0.011838  1.406867e-04       -0.158059  0.005600        -0.011861   \n",
      "104  0.038142  1.452926e-03        1.150535  0.001096         0.038117   \n",
      "105 -0.039600  1.571502e-03       -0.678629  0.003401        -0.039642   \n",
      "106 -0.061584  3.798617e-03       -0.773191  0.006314        -0.061633   \n",
      "107  0.002548  6.517336e-06        0.057967  0.001936         0.002553   \n",
      "109 -0.070088  4.917890e-03       -0.846378  0.006818        -0.070128   \n",
      "110 -0.025191  6.368121e-04       -0.343343  0.005373        -0.025235   \n",
      "111  0.002355  5.568174e-06        0.093087  0.000642         0.002360   \n",
      "112 -0.028094  7.920560e-04       -0.339667  0.006818        -0.028143   \n",
      "113 -0.038833  1.512554e-03       -0.487899  0.006314        -0.038892   \n",
      "114  0.053951  2.914879e-03        0.801206  0.004520         0.053990   \n",
      "115  0.038869  1.515438e-03        0.478937  0.006563         0.038929   \n",
      "116 -0.006768  4.598830e-05       -0.182520  0.001379        -0.006781   \n",
      "117  0.074678  5.370402e-03        3.208077  0.000522         0.073283   \n",
      "118  0.012223  1.497470e-04        0.638146  0.000368         0.012237   \n",
      "119  0.027074  7.339457e-04        0.817730  0.001096         0.027091   \n",
      "120  0.012103  1.469605e-04        0.434495  0.000778         0.012123   \n",
      "121  0.041944  1.763489e-03        0.637493  0.004321         0.041994   \n",
      "122  0.031809  1.001564e-03        1.884041  0.000282         0.031647   \n",
      "123 -0.018627  3.482064e-04       -0.311560  0.003574        -0.018660   \n",
      "124 -0.124854  1.552934e-02       -1.396805  0.007897        -0.124617   \n",
      "125  0.005794  3.370372e-05        0.090192  0.004126         0.005805   \n",
      "126 -0.016158  2.620509e-04       -0.277120  0.003401        -0.016188   \n",
      "127  0.009131  8.369475e-05        0.129896  0.004936         0.009148   \n",
      "128 -0.018627  3.482064e-04       -0.311560  0.003574        -0.018660   \n",
      "129 -0.018170  3.308912e-04       -0.651970  0.000778        -0.018190   \n",
      "130 -0.017963  3.238828e-04       -0.230286  0.006070        -0.017997   \n",
      "131  0.014129  1.995343e-04        1.058806  0.000178         0.014126   \n",
      "132 -0.019116  3.667693e-04       -0.271922  0.004936        -0.019151   \n",
      "133  0.113113  1.198344e-02        4.112360  0.000708         0.109469   \n",
      "134 -0.143382  2.036719e-02       -1.826160  0.006070        -0.142714   \n",
      "135 -0.005481  3.015646e-05       -0.107396  0.002608        -0.005491   \n",
      "136  0.008106  6.595598e-05        0.218582  0.001379         0.008121   \n",
      "137 -0.017963  3.238828e-04       -0.230286  0.006070        -0.017997   \n",
      "138  0.100590  1.006517e-02        1.522999  0.004321         0.100325   \n",
      "139  0.017399  3.038376e-04        0.270800  0.004126         0.017431   \n",
      "140 -0.028413  8.100483e-04       -0.379270  0.005600        -0.028461   \n",
      "141 -0.029656  8.822422e-04       -0.450903  0.004321        -0.029703   \n",
      "142  0.024166  5.837130e-04        1.057648  0.000522         0.024160   \n",
      "143  0.044421  1.977192e-03        0.707267  0.003937         0.044466   \n",
      "144  0.020089  4.043952e-04        0.688857  0.000851         0.020110   \n",
      "145  0.006167  3.818352e-05        0.154934  0.001588         0.006179   \n",
      "146 -0.028094  7.920560e-04       -0.339667  0.006818        -0.028143   \n",
      "147  0.155355  2.368179e-02        2.390758  0.004126         0.153889   \n",
      "148 -0.006022  3.640245e-05       -0.095968  0.003937        -0.006033   \n",
      "149 -0.052586  2.768901e-03       -0.817489  0.004126        -0.052620   \n",
      "150 -0.151661  2.291005e-02       -1.412230  0.011357        -0.151361   \n",
      "151  0.009131  8.369475e-05        0.129896  0.004936         0.009148   \n",
      "152  0.010323  1.067344e-04        0.774390  0.000178         0.010331   \n",
      "153 -0.089054  7.921181e-03       -1.138854  0.006070        -0.089001   \n",
      "154 -0.046138  2.133863e-03       -0.628500  0.005373        -0.046194   \n",
      "155 -0.016538  2.741718e-04       -0.622030  0.000708        -0.016558   \n",
      "156  0.104446  1.089506e-02        1.149299  0.008181         0.104379   \n",
      "157  0.012958  1.685300e-04        0.277070  0.002191         0.012982   \n",
      "158  0.009787  9.616463e-05        0.159770  0.003753         0.009806   \n",
      "159 -0.024589  6.068268e-04       -0.303069  0.006563        -0.024634   \n",
      "160  0.038488  1.483442e-03        0.797871  0.002325         0.038515   \n",
      "161  0.031749  1.010153e-03        0.678336  0.002191         0.031783   \n",
      "162  0.015504  2.412704e-04        0.235799  0.004321         0.015533   \n",
      "163  0.139979  1.929131e-02        2.209224  0.003937         0.138893   \n",
      "164 -0.056317  3.179712e-03       -0.599586  0.008767        -0.056389   \n",
      "165 -0.028413  8.100483e-04       -0.379270  0.005600        -0.028461   \n",
      "166 -0.022092  4.898329e-04       -0.307560  0.005152        -0.022132   \n",
      "167 -0.061149  3.732838e-03       -1.194857  0.002608        -0.061097   \n",
      "168 -0.016279  2.660388e-04       -0.170492  0.009069        -0.016311   \n",
      "169  0.050601  2.558731e-03        1.079601  0.002191         0.050584   \n",
      "170 -0.033810  1.145995e-03       -0.610170  0.003069        -0.033853   \n",
      "171  0.019478  3.804034e-04        0.565952  0.001186         0.019504   \n",
      "172 -0.006205  3.865514e-05       -0.086399  0.005152        -0.006217   \n",
      "173  0.049754  2.476484e-03        0.946540  0.002757         0.049764   \n",
      "174 -0.042499  1.806198e-03       -0.996546  0.001815        -0.042499   \n",
      "175 -0.061149  3.732838e-03       -1.194857  0.002608        -0.061097   \n",
      "176  0.011784  1.393327e-04        0.404346  0.000851         0.011804   \n",
      "177 -0.124854  1.552934e-02       -1.396805  0.007897        -0.124617   \n",
      "178  0.027589  7.634056e-04        0.511435  0.002910         0.027630   \n",
      "179  0.023569  5.575211e-04        0.274480  0.007346         0.023612   \n",
      "180  0.011161  1.237812e-04        1.609803  0.000048         0.011126   \n",
      "181 -0.063598  4.047143e-03       -0.923272  0.004725        -0.063617   \n",
      "182  0.087980  7.574648e-03        2.525450  0.001186         0.087032   \n",
      "183 -0.063598  4.047143e-03       -0.923272  0.004725        -0.063617   \n",
      "184 -0.049160  2.420425e-03       -0.782537  0.003937        -0.049198   \n",
      "185 -0.108679  1.178050e-02       -1.285429  0.007079        -0.108538   \n",
      "186 -0.061149  3.732838e-03       -1.194857  0.002608        -0.061097   \n",
      "187  0.002548  6.517336e-06        0.057967  0.001936         0.002553   \n",
      "188 -0.012176  1.486820e-04       -0.533790  0.000522        -0.012194   \n",
      "189 -0.006205  3.865514e-05       -0.086399  0.005152        -0.006217   \n",
      "190 -0.018170  3.308912e-04       -0.651970  0.000778        -0.018190   \n",
      "191 -0.023908  5.735199e-04       -0.380919  0.003937        -0.023948   \n",
      "192 -0.025191  6.368121e-04       -0.343343  0.005373        -0.025235   \n",
      "193  0.002387  5.722610e-06        0.042009  0.003232         0.002392   \n",
      "194 -0.039176  1.539007e-03       -0.557017  0.004936        -0.039230   \n",
      "195 -0.026723  7.164456e-04       -0.415834  0.004126        -0.026767   \n",
      "196  0.033081  1.096112e-03        0.776323  0.001815         0.033108   \n",
      "197  0.014060  1.983866e-04        0.309944  0.002061         0.014085   \n",
      "198 -0.225797  5.039821e-02       -1.971381  0.012802        -0.224495   \n",
      "199 -0.036647  1.346165e-03       -0.644317  0.003232        -0.036690   \n",
      "200  0.113888  1.290366e-02        1.513732  0.005600         0.113594   \n",
      "201  0.008106  6.595598e-05        0.218582  0.001379         0.008121   \n",
      "202 -0.018627  3.482064e-04       -0.311560  0.003574        -0.018660   \n",
      "203 -0.006205  3.865514e-05       -0.086399  0.005152        -0.006217   \n",
      "204 -0.106421  1.125873e-02       -1.574629  0.004520        -0.106107   \n",
      "205  0.044130  1.949441e-03        0.863478  0.002608         0.044152   \n",
      "206  0.011757  1.387504e-04        0.244014  0.002325         0.011779   \n",
      "207 -0.016261  2.653987e-04       -0.236431  0.004725        -0.016291   \n",
      "208 -0.003570  1.279328e-05       -0.050785  0.004936        -0.003577   \n",
      "209  0.117230  1.336768e-02        2.802150  0.001700         0.115619   \n",
      "210 -0.003570  1.279328e-05       -0.050785  0.004936        -0.003577   \n",
      "211 -0.075743  5.735527e-03       -1.030407  0.005373        -0.075733   \n",
      "212  0.027090  7.349774e-04        0.786673  0.001186         0.027110   \n",
      "213 -0.025191  6.368121e-04       -0.343343  0.005373        -0.025235   \n",
      "214 -0.085883  7.385114e-03       -0.827412  0.010672        -0.085937   \n",
      "215  0.035834  1.286970e-03        0.664044  0.002910         0.035874   \n",
      "216  0.020853  4.363773e-04        0.340345  0.003753         0.020890   \n",
      "217  0.020330  4.146754e-04        0.398245  0.002608         0.020364   \n",
      "218 -0.057529  3.315586e-03       -0.736806  0.006070        -0.057581   \n",
      "219  0.031820  1.008718e-03        1.390357  0.000522         0.031760   \n",
      "220 -0.068281  4.651281e-03       -1.262406  0.002910        -0.068200   \n",
      "221 -0.029937  8.973008e-04       -0.836644  0.001280        -0.029955   \n",
      "222  0.003851  1.489048e-05        0.090483  0.001815         0.003859   \n",
      "223  0.112277  1.255707e-02        1.405783  0.006314         0.112058   \n",
      "224 -0.013664  1.874381e-04       -0.153458  0.007897        -0.013691   \n",
      "225 -0.126725  1.593436e-02       -1.717472  0.005373        -0.126231   \n",
      "226 -0.042561  1.816708e-03       -0.524387  0.006563        -0.042623   \n",
      "227 -0.014838  2.210235e-04       -0.194102  0.005832        -0.014867   \n",
      "228  0.045302  2.051799e-03        1.028513  0.001936         0.045297   \n",
      "229 -0.111297  1.230840e-02       -1.610113  0.004725        -0.110943   \n",
      "230 -0.006022  3.640245e-05       -0.095968  0.003937        -0.006033   \n",
      "231  0.020058  4.032181e-04        0.658477  0.000929         0.020080   \n",
      "232 -0.017057  2.919264e-04       -0.375979  0.002061        -0.017086   \n",
      "233 -0.046138  2.133863e-03       -0.628500  0.005373        -0.046194   \n",
      "234 -0.022092  4.898329e-04       -0.307560  0.005152        -0.022132   \n",
      "235  0.007847  6.181699e-05        0.125058  0.003937         0.007862   \n",
      "236 -0.008961  8.061117e-05       -0.122157  0.005373        -0.008978   \n",
      "237  0.003892  1.520318e-05        0.180446  0.000467         0.003899   \n",
      "238 -0.009424  8.915792e-05       -0.174780  0.002910        -0.009442   \n",
      "239  0.020058  4.032181e-04        0.658477  0.000929         0.020080   \n",
      "240  0.064366  4.130197e-03        1.331321  0.002325         0.064267   \n",
      "241 -0.083984  7.026324e-03       -1.399549  0.003574        -0.083823   \n",
      "242 -0.010907  1.194246e-04       -0.165896  0.004321        -0.010928   \n",
      "243 -0.029656  8.822422e-04       -0.450903  0.004321        -0.029703   \n",
      "244 -0.019116  3.667693e-04       -0.271922  0.004936        -0.019151   \n",
      "245  0.119874  1.406037e-02        2.530751  0.002191         0.118576   \n",
      "246  0.009131  8.369475e-05        0.129896  0.004936         0.009148   \n",
      "247 -0.035233  1.245268e-03       -0.451549  0.006070        -0.035288   \n",
      "248 -0.025191  6.368121e-04       -0.343343  0.005373        -0.025235   \n",
      "249 -0.074540  5.561131e-03       -0.883177  0.007079        -0.074573   \n",
      "250  0.033495  1.122474e-03        0.935750  0.001280         0.033503   \n",
      "251 -0.051692  2.680286e-03       -0.475644  0.011709        -0.051771   \n",
      "252  0.019918  3.974044e-04        0.748888  0.000708         0.019935   \n",
      "253  0.039462  1.558479e-03        0.896382  0.001936         0.039478   \n",
      "254  0.059662  3.549381e-03        1.311002  0.002061         0.059577   \n",
      "\n",
      "     student_resid    dffits  \n",
      "0         0.464137  0.022405  \n",
      "1         0.175161  0.013145  \n",
      "2        -1.367367 -0.079875  \n",
      "3        -0.899646 -0.034649  \n",
      "4        -0.415151 -0.026723  \n",
      "5        -0.816950 -0.052586  \n",
      "6         0.484944  0.032678  \n",
      "7         0.165025  0.011371  \n",
      "8         0.522669  0.012591  \n",
      "9         0.200264  0.013495  \n",
      "10       -0.724728 -0.093682  \n",
      "11        0.800635  0.053951  \n",
      "12       -0.575426 -0.031087  \n",
      "13       -0.050685 -0.003570  \n",
      "14       -0.575426 -0.031087  \n",
      "15       -1.402229 -0.083984  \n",
      "16       -0.957023 -0.083851  \n",
      "17        0.403674  0.011784  \n",
      "18        0.449696  0.030986  \n",
      "19        0.688137  0.020089  \n",
      "20        1.851771  0.071320  \n",
      "21        0.408587  0.023868  \n",
      "22        0.057852  0.002548  \n",
      "23       -0.157753 -0.011838  \n",
      "24        0.033447  0.000933  \n",
      "25       -0.121918 -0.008961  \n",
      "26       -0.073817 -0.003669  \n",
      "27        0.055063  0.003627  \n",
      "28        0.403674  0.011784  \n",
      "29        1.088634  0.038977  \n",
      "30       -0.556253 -0.039176  \n",
      "31       -0.007617 -0.000357  \n",
      "32       -0.271422 -0.019116  \n",
      "33       -0.397951 -0.041991  \n",
      "34       -0.088399 -0.002929  \n",
      "35        2.412324  0.130324  \n",
      "36       -0.816950 -0.052586  \n",
      "37       -0.157753 -0.011838  \n",
      "38       -0.708166 -0.063179  \n",
      "39        0.502422  0.018667  \n",
      "40        0.122567  0.005057  \n",
      "41       -0.380272 -0.023908  \n",
      "42        0.962329  0.093630  \n",
      "43        1.884005  0.069999  \n",
      "44        1.838898  0.121135  \n",
      "45        0.671723  0.043238  \n",
      "46       -0.140728 -0.007399  \n",
      "47        0.352764  0.023771  \n",
      "48        2.623103  0.242454  \n",
      "49       -0.575426 -0.031087  \n",
      "50       -0.809161 -0.065770  \n",
      "51        2.987665  0.219589  \n",
      "52       -1.367367 -0.079875  \n",
      "53       -0.174444 -0.009424  \n",
      "54       -0.957023 -0.083851  \n",
      "55        0.246622  0.017747  \n",
      "56       -0.609408 -0.033810  \n",
      "57       -0.919832 -0.079128  \n",
      "58        3.283099  0.201510  \n",
      "59       -0.342741 -0.025191  \n",
      "60        0.561147  0.032779  \n",
      "61        0.601618  0.040540  \n",
      "62        0.058448  0.004296  \n",
      "63        1.151278  0.038142  \n",
      "64       -0.541621 -0.028476  \n",
      "65        0.969440  0.025806  \n",
      "66        3.269158  0.074678  \n",
      "67        0.094117  0.006773  \n",
      "68        0.706564  0.044421  \n",
      "69       -0.130600 -0.008406  \n",
      "70        1.883715  0.168057  \n",
      "71        0.935518  0.033495  \n",
      "72        0.624513  0.038331  \n",
      "73        2.987665  0.219589  \n",
      "74        1.585169  0.040183  \n",
      "75       -0.193731 -0.014838  \n",
      "76        0.030589  0.002486  \n",
      "77        0.595159  0.025382  \n",
      "78        0.270302  0.017399  \n",
      "79       -0.200705 -0.013525  \n",
      "80        0.629408  0.034920  \n",
      "81       -0.190309 -0.017284  \n",
      "82        0.999182  0.025329  \n",
      "83        0.311912  0.010334  \n",
      "84       -0.245751 -0.009801  \n",
      "85        0.492277  0.030215  \n",
      "86       -0.157753 -0.011838  \n",
      "87       -1.507920 -0.097062  \n",
      "88        0.754753  0.027023  \n",
      "89       -0.013312 -0.001020  \n",
      "91       -1.507920 -0.097062  \n",
      "92        0.677607  0.031749  \n",
      "93        0.966891  0.033321  \n",
      "94       -0.708166 -0.063179  \n",
      "95        0.693424  0.040506  \n",
      "96       -0.311002 -0.018627  \n",
      "97        0.723226  0.026871  \n",
      "98       -1.066704 -0.080048  \n",
      "99        1.719298  0.129021  \n",
      "100      -0.050685 -0.003570  \n",
      "101      -0.086229 -0.006205  \n",
      "102       0.022638  0.001699  \n",
      "103      -0.157753 -0.011838  \n",
      "104       1.151278  0.038142  \n",
      "105      -0.677901 -0.039600  \n",
      "106      -0.772572 -0.061584  \n",
      "107       0.057852  0.002548  \n",
      "109      -0.845900 -0.070088  \n",
      "110      -0.342741 -0.025191  \n",
      "111       0.092904  0.002355  \n",
      "112      -0.339070 -0.028094  \n",
      "113      -0.487160 -0.038833  \n",
      "114       0.800635  0.053951  \n",
      "115       0.478204  0.038869  \n",
      "116      -0.182170 -0.006768  \n",
      "117       3.269158  0.074678  \n",
      "118       0.637394  0.012223  \n",
      "119       0.817191  0.027074  \n",
      "120       0.433795  0.012103  \n",
      "121       0.636741  0.041944  \n",
      "122       1.893683  0.031809  \n",
      "123      -0.311002 -0.018627  \n",
      "124      -1.399459 -0.124854  \n",
      "125       0.090014  0.005794  \n",
      "126      -0.276612 -0.016158  \n",
      "127       0.129643  0.009131  \n",
      "128      -0.311002 -0.018627  \n",
      "129      -0.651224 -0.018170  \n",
      "130      -0.229853 -0.017963  \n",
      "131       1.059061  0.014129  \n",
      "132      -0.271422 -0.019116  \n",
      "133       4.249250  0.113113  \n",
      "134      -1.834713 -0.143382  \n",
      "135      -0.107185 -0.005481  \n",
      "136       0.218169  0.008106  \n",
      "137      -0.229853 -0.017963  \n",
      "138       1.527018  0.100590  \n",
      "139       0.270302  0.017399  \n",
      "140      -0.378624 -0.028413  \n",
      "141      -0.450189 -0.029656  \n",
      "142       1.057898  0.024166  \n",
      "143       0.706564  0.044421  \n",
      "144       0.688137  0.020089  \n",
      "145       0.154634  0.006167  \n",
      "146      -0.339070 -0.028094  \n",
      "147       2.413538  0.155355  \n",
      "148      -0.095779 -0.006022  \n",
      "149      -0.816950 -0.052586  \n",
      "150      -1.415035 -0.151661  \n",
      "151       0.129643  0.009131  \n",
      "152       0.773773  0.010323  \n",
      "153      -1.139529 -0.089054  \n",
      "154      -0.627744 -0.046138  \n",
      "155      -0.621272 -0.016538  \n",
      "156       1.150034  0.104446  \n",
      "157       0.276562  0.012958  \n",
      "158       0.159461  0.009787  \n",
      "159      -0.302522 -0.024589  \n",
      "160       0.797294  0.038488  \n",
      "161       0.677607  0.031749  \n",
      "162       0.235356  0.015504  \n",
      "163       2.226503  0.139979  \n",
      "164      -0.598822 -0.056317  \n",
      "165      -0.378624 -0.028413  \n",
      "166      -0.307007 -0.022092  \n",
      "167      -1.195876 -0.061149  \n",
      "168      -0.170163 -0.016279  \n",
      "169       1.079957  0.050601  \n",
      "170      -0.609408 -0.033810  \n",
      "171       0.565187  0.019478  \n",
      "172      -0.086229 -0.006205  \n",
      "173       0.946344  0.049754  \n",
      "174      -0.996532 -0.042499  \n",
      "175      -1.195876 -0.061149  \n",
      "176       0.403674  0.011784  \n",
      "177      -1.399459 -0.124854  \n",
      "178       0.510684  0.027589  \n",
      "179       0.273976  0.023569  \n",
      "180       1.614931  0.011161  \n",
      "181      -0.923001 -0.063598  \n",
      "182       2.552947  0.087980  \n",
      "183      -0.923001 -0.063598  \n",
      "184      -0.781933 -0.049160  \n",
      "185      -1.287103 -0.108679  \n",
      "186      -1.195876 -0.061149  \n",
      "187       0.057852  0.002548  \n",
      "188      -0.533031 -0.012176  \n",
      "189      -0.086229 -0.006205  \n",
      "190      -0.651224 -0.018170  \n",
      "191      -0.380272 -0.023908  \n",
      "192      -0.342741 -0.025191  \n",
      "193       0.041926  0.002387  \n",
      "194      -0.556253 -0.039176  \n",
      "195      -0.415151 -0.026723  \n",
      "196       0.775709  0.033081  \n",
      "197       0.309388  0.014060  \n",
      "198      -1.982814 -0.225797  \n",
      "199      -0.643567 -0.036647  \n",
      "200       1.517641  0.113888  \n",
      "201       0.218169  0.008106  \n",
      "202      -0.311002 -0.018627  \n",
      "203      -0.086229 -0.006205  \n",
      "204      -1.579290 -0.106421  \n",
      "205       0.863041  0.044130  \n",
      "206       0.243558  0.011757  \n",
      "207      -0.235988 -0.016261  \n",
      "208      -0.050685 -0.003570  \n",
      "209       2.841199  0.117230  \n",
      "210      -0.050685 -0.003570  \n",
      "211      -1.030534 -0.075743  \n",
      "212       0.786077  0.027090  \n",
      "213      -0.342741 -0.025191  \n",
      "214      -0.826893 -0.085883  \n",
      "215       0.663306  0.035834  \n",
      "216       0.339747  0.020853  \n",
      "217       0.397579  0.020330  \n",
      "218      -0.736136 -0.057529  \n",
      "219       1.392949  0.031820  \n",
      "220      -1.263902 -0.068281  \n",
      "221      -0.836144 -0.029937  \n",
      "222       0.090305  0.003851  \n",
      "223       1.408525  0.112277  \n",
      "224      -0.153160 -0.013664  \n",
      "225      -1.724181 -0.126725  \n",
      "226      -0.523631 -0.042561  \n",
      "227      -0.193731 -0.014838  \n",
      "228       1.028632  0.045302  \n",
      "229      -1.615245 -0.111297  \n",
      "230      -0.095779 -0.006022  \n",
      "231       0.657736  0.020058  \n",
      "232      -0.375338 -0.017057  \n",
      "233      -0.627744 -0.046138  \n",
      "234      -0.307007 -0.022092  \n",
      "235       0.124814  0.007847  \n",
      "236      -0.121918 -0.008961  \n",
      "237       0.180100  0.003892  \n",
      "238      -0.174444 -0.009424  \n",
      "239       0.657736  0.020058  \n",
      "240       1.333374  0.064366  \n",
      "241      -1.402229 -0.083984  \n",
      "242      -0.165576 -0.010907  \n",
      "243      -0.450189 -0.029656  \n",
      "244      -0.271422 -0.019116  \n",
      "245       2.558446  0.119874  \n",
      "246       0.129643  0.009131  \n",
      "247      -0.450834 -0.035233  \n",
      "248      -0.342741 -0.025191  \n",
      "249      -0.882791 -0.074540  \n",
      "250       0.935518  0.033495  \n",
      "251      -0.474913 -0.051692  \n",
      "252       0.748233  0.019918  \n",
      "253       0.896031  0.039462  \n",
      "254       1.312884  0.059662  \n"
     ]
    }
   ],
   "source": [
    "infl = model1.get_influence()\n",
    "print(infl.summary_frame())"
   ]
  },
  {
   "cell_type": "code",
   "execution_count": null,
   "metadata": {},
   "outputs": [],
   "source": []
  }
 ],
 "metadata": {
  "kernelspec": {
   "display_name": "Python 3",
   "language": "python",
   "name": "python3"
  },
  "language_info": {
   "codemirror_mode": {
    "name": "ipython",
    "version": 3
   },
   "file_extension": ".py",
   "mimetype": "text/x-python",
   "name": "python",
   "nbconvert_exporter": "python",
   "pygments_lexer": "ipython3",
   "version": "3.8.3"
  }
 },
 "nbformat": 4,
 "nbformat_minor": 4
}
