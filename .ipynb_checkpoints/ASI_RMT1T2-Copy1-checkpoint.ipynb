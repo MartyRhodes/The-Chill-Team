{
 "cells": [
  {
   "cell_type": "code",
   "execution_count": 6,
   "metadata": {},
   "outputs": [],
   "source": [
    "import pandas as pd\n",
    "import seaborn as sns\n",
    "import numpy as np\n",
    "from scipy import stats\n",
    "from scipy.stats import boxcox"
   ]
  },
  {
   "cell_type": "code",
   "execution_count": 17,
   "metadata": {},
   "outputs": [],
   "source": [
    "ASI_RMT1T2 = pd.read_csv('C:/Users/matth/Documents/Final project week 2/ASI_RMT1T2.csv')"
   ]
  },
  {
   "cell_type": "code",
   "execution_count": 18,
   "metadata": {},
   "outputs": [
    {
     "data": {
      "text/html": [
       "<div>\n",
       "<style scoped>\n",
       "    .dataframe tbody tr th:only-of-type {\n",
       "        vertical-align: middle;\n",
       "    }\n",
       "\n",
       "    .dataframe tbody tr th {\n",
       "        vertical-align: top;\n",
       "    }\n",
       "\n",
       "    .dataframe thead th {\n",
       "        text-align: right;\n",
       "    }\n",
       "</style>\n",
       "<table border=\"1\" class=\"dataframe\">\n",
       "  <thead>\n",
       "    <tr style=\"text-align: right;\">\n",
       "      <th></th>\n",
       "      <th>ID1</th>\n",
       "      <th>ID2</th>\n",
       "      <th>ID</th>\n",
       "      <th>FirstN</th>\n",
       "      <th>LastN</th>\n",
       "      <th>CDate</th>\n",
       "      <th>Time</th>\n",
       "      <th>Age</th>\n",
       "      <th>Sex</th>\n",
       "      <th>C1</th>\n",
       "      <th>C2</th>\n",
       "      <th>C3</th>\n",
       "      <th>C4</th>\n",
       "      <th>Ctotal</th>\n",
       "      <th>DHEA</th>\n",
       "      <th>I1</th>\n",
       "      <th>I2</th>\n",
       "      <th>P17</th>\n",
       "      <th>TIgA</th>\n",
       "      <th>GIgA</th>\n",
       "    </tr>\n",
       "  </thead>\n",
       "  <tbody>\n",
       "    <tr>\n",
       "      <th>0</th>\n",
       "      <td>10</td>\n",
       "      <td>78255</td>\n",
       "      <td>10-78255</td>\n",
       "      <td>Mark</td>\n",
       "      <td>Anderson</td>\n",
       "      <td>8/2/2010</td>\n",
       "      <td>T1</td>\n",
       "      <td>55</td>\n",
       "      <td>M</td>\n",
       "      <td>19</td>\n",
       "      <td>8</td>\n",
       "      <td>12</td>\n",
       "      <td>8</td>\n",
       "      <td>47</td>\n",
       "      <td>4</td>\n",
       "      <td>3.0</td>\n",
       "      <td>23.0</td>\n",
       "      <td>28</td>\n",
       "      <td>9</td>\n",
       "      <td>5</td>\n",
       "    </tr>\n",
       "    <tr>\n",
       "      <th>1</th>\n",
       "      <td>10</td>\n",
       "      <td>124893</td>\n",
       "      <td>10-124893</td>\n",
       "      <td>Mark</td>\n",
       "      <td>Anderson</td>\n",
       "      <td>12/5/2010</td>\n",
       "      <td>T2</td>\n",
       "      <td>55</td>\n",
       "      <td>M</td>\n",
       "      <td>9</td>\n",
       "      <td>6</td>\n",
       "      <td>7</td>\n",
       "      <td>3</td>\n",
       "      <td>25</td>\n",
       "      <td>4</td>\n",
       "      <td>3.0</td>\n",
       "      <td>20.0</td>\n",
       "      <td>26</td>\n",
       "      <td>5</td>\n",
       "      <td>3</td>\n",
       "    </tr>\n",
       "    <tr>\n",
       "      <th>2</th>\n",
       "      <td>13</td>\n",
       "      <td>41439</td>\n",
       "      <td>13-41439</td>\n",
       "      <td>Diane</td>\n",
       "      <td>Asmuth</td>\n",
       "      <td>5/13/2013</td>\n",
       "      <td>T1</td>\n",
       "      <td>55</td>\n",
       "      <td>F</td>\n",
       "      <td>7</td>\n",
       "      <td>3</td>\n",
       "      <td>3</td>\n",
       "      <td>11</td>\n",
       "      <td>24</td>\n",
       "      <td>2</td>\n",
       "      <td>3.0</td>\n",
       "      <td>3.0</td>\n",
       "      <td>16</td>\n",
       "      <td>6</td>\n",
       "      <td>12</td>\n",
       "    </tr>\n",
       "    <tr>\n",
       "      <th>3</th>\n",
       "      <td>14</td>\n",
       "      <td>52939</td>\n",
       "      <td>14-52939</td>\n",
       "      <td>Diane</td>\n",
       "      <td>Asmuth</td>\n",
       "      <td>6/24/2014</td>\n",
       "      <td>T2</td>\n",
       "      <td>56</td>\n",
       "      <td>F</td>\n",
       "      <td>10</td>\n",
       "      <td>4</td>\n",
       "      <td>5</td>\n",
       "      <td>2</td>\n",
       "      <td>21</td>\n",
       "      <td>4</td>\n",
       "      <td>3.0</td>\n",
       "      <td>3.0</td>\n",
       "      <td>25</td>\n",
       "      <td>9</td>\n",
       "      <td>2</td>\n",
       "    </tr>\n",
       "    <tr>\n",
       "      <th>4</th>\n",
       "      <td>14</td>\n",
       "      <td>97689</td>\n",
       "      <td>14-97689</td>\n",
       "      <td>Deborah</td>\n",
       "      <td>Baimas</td>\n",
       "      <td>12/1/2014</td>\n",
       "      <td>T1</td>\n",
       "      <td>50</td>\n",
       "      <td>F</td>\n",
       "      <td>5</td>\n",
       "      <td>3</td>\n",
       "      <td>2</td>\n",
       "      <td>1</td>\n",
       "      <td>11</td>\n",
       "      <td>2</td>\n",
       "      <td>3.0</td>\n",
       "      <td>5.0</td>\n",
       "      <td>43</td>\n",
       "      <td>11</td>\n",
       "      <td>21</td>\n",
       "    </tr>\n",
       "  </tbody>\n",
       "</table>\n",
       "</div>"
      ],
      "text/plain": [
       "   ID1     ID2         ID   FirstN     LastN      CDate Time  Age Sex  C1  C2  \\\n",
       "0   10   78255   10-78255     Mark  Anderson   8/2/2010   T1   55   M  19   8   \n",
       "1   10  124893  10-124893     Mark  Anderson  12/5/2010   T2   55   M   9   6   \n",
       "2   13   41439   13-41439    Diane    Asmuth  5/13/2013   T1   55   F   7   3   \n",
       "3   14   52939   14-52939    Diane    Asmuth  6/24/2014   T2   56   F  10   4   \n",
       "4   14   97689   14-97689  Deborah    Baimas  12/1/2014   T1   50   F   5   3   \n",
       "\n",
       "   C3  C4  Ctotal  DHEA   I1    I2  P17  TIgA  GIgA  \n",
       "0  12   8      47     4  3.0  23.0   28     9     5  \n",
       "1   7   3      25     4  3.0  20.0   26     5     3  \n",
       "2   3  11      24     2  3.0   3.0   16     6    12  \n",
       "3   5   2      21     4  3.0   3.0   25     9     2  \n",
       "4   2   1      11     2  3.0   5.0   43    11    21  "
      ]
     },
     "execution_count": 18,
     "metadata": {},
     "output_type": "execute_result"
    }
   ],
   "source": [
    "ASI_RMT1T2.head()"
   ]
  },
  {
   "cell_type": "code",
   "execution_count": 19,
   "metadata": {},
   "outputs": [
    {
     "name": "stdout",
     "output_type": "stream",
     "text": [
      "<class 'pandas.core.frame.DataFrame'>\n",
      "RangeIndex: 42 entries, 0 to 41\n",
      "Data columns (total 20 columns):\n",
      " #   Column  Non-Null Count  Dtype  \n",
      "---  ------  --------------  -----  \n",
      " 0   ID1     42 non-null     int64  \n",
      " 1   ID2     42 non-null     int64  \n",
      " 2   ID      42 non-null     object \n",
      " 3   FirstN  42 non-null     object \n",
      " 4   LastN   42 non-null     object \n",
      " 5   CDate   42 non-null     object \n",
      " 6   Time    42 non-null     object \n",
      " 7   Age     42 non-null     int64  \n",
      " 8   Sex     42 non-null     object \n",
      " 9   C1      42 non-null     int64  \n",
      " 10  C2      42 non-null     int64  \n",
      " 11  C3      42 non-null     int64  \n",
      " 12  C4      42 non-null     int64  \n",
      " 13  Ctotal  42 non-null     int64  \n",
      " 14  DHEA    42 non-null     int64  \n",
      " 15  I1      40 non-null     float64\n",
      " 16  I2      40 non-null     float64\n",
      " 17  P17     42 non-null     int64  \n",
      " 18  TIgA    42 non-null     int64  \n",
      " 19  GIgA    42 non-null     int64  \n",
      "dtypes: float64(2), int64(12), object(6)\n",
      "memory usage: 5.6+ KB\n"
     ]
    }
   ],
   "source": [
    "ASI_RMT1T2.info()"
   ]
  },
  {
   "cell_type": "code",
   "execution_count": 21,
   "metadata": {},
   "outputs": [
    {
     "data": {
      "text/plain": [
       "<matplotlib.axes._subplots.AxesSubplot at 0x789ccd0>"
      ]
     },
     "execution_count": 21,
     "metadata": {},
     "output_type": "execute_result"
    },
    {
     "data": {
      "image/png": "[encoded data removed]",
      "text/plain": [
       "<Figure size 432x288 with 1 Axes>"
      ]
     },
     "metadata": {
      "needs_background": "light"
     },
     "output_type": "display_data"
    }
   ],
   "source": [
    "sns.distplot(ASI_RMT1T2['Age'])"
   ]
  },
  {
   "cell_type": "code",
   "execution_count": 22,
   "metadata": {},
   "outputs": [],
   "source": [
    "ASI_RMT1T2['AgeSQ'] = ASI_RMT1T2['Age']**2"
   ]
  },
  {
   "cell_type": "code",
   "execution_count": 23,
   "metadata": {},
   "outputs": [
    {
     "data": {
      "text/html": [
       "<div>\n",
       "<style scoped>\n",
       "    .dataframe tbody tr th:only-of-type {\n",
       "        vertical-align: middle;\n",
       "    }\n",
       "\n",
       "    .dataframe tbody tr th {\n",
       "        vertical-align: top;\n",
       "    }\n",
       "\n",
       "    .dataframe thead th {\n",
       "        text-align: right;\n",
       "    }\n",
       "</style>\n",
       "<table border=\"1\" class=\"dataframe\">\n",
       "  <thead>\n",
       "    <tr style=\"text-align: right;\">\n",
       "      <th></th>\n",
       "      <th>ID1</th>\n",
       "      <th>ID2</th>\n",
       "      <th>ID</th>\n",
       "      <th>FirstN</th>\n",
       "      <th>LastN</th>\n",
       "      <th>CDate</th>\n",
       "      <th>Time</th>\n",
       "      <th>Age</th>\n",
       "      <th>Sex</th>\n",
       "      <th>C1</th>\n",
       "      <th>...</th>\n",
       "      <th>C3</th>\n",
       "      <th>C4</th>\n",
       "      <th>Ctotal</th>\n",
       "      <th>DHEA</th>\n",
       "      <th>I1</th>\n",
       "      <th>I2</th>\n",
       "      <th>P17</th>\n",
       "      <th>TIgA</th>\n",
       "      <th>GIgA</th>\n",
       "      <th>AgeSQ</th>\n",
       "    </tr>\n",
       "  </thead>\n",
       "  <tbody>\n",
       "    <tr>\n",
       "      <th>0</th>\n",
       "      <td>10</td>\n",
       "      <td>78255</td>\n",
       "      <td>10-78255</td>\n",
       "      <td>Mark</td>\n",
       "      <td>Anderson</td>\n",
       "      <td>8/2/2010</td>\n",
       "      <td>T1</td>\n",
       "      <td>55</td>\n",
       "      <td>M</td>\n",
       "      <td>19</td>\n",
       "      <td>...</td>\n",
       "      <td>12</td>\n",
       "      <td>8</td>\n",
       "      <td>47</td>\n",
       "      <td>4</td>\n",
       "      <td>3.0</td>\n",
       "      <td>23.0</td>\n",
       "      <td>28</td>\n",
       "      <td>9</td>\n",
       "      <td>5</td>\n",
       "      <td>3025</td>\n",
       "    </tr>\n",
       "    <tr>\n",
       "      <th>1</th>\n",
       "      <td>10</td>\n",
       "      <td>124893</td>\n",
       "      <td>10-124893</td>\n",
       "      <td>Mark</td>\n",
       "      <td>Anderson</td>\n",
       "      <td>12/5/2010</td>\n",
       "      <td>T2</td>\n",
       "      <td>55</td>\n",
       "      <td>M</td>\n",
       "      <td>9</td>\n",
       "      <td>...</td>\n",
       "      <td>7</td>\n",
       "      <td>3</td>\n",
       "      <td>25</td>\n",
       "      <td>4</td>\n",
       "      <td>3.0</td>\n",
       "      <td>20.0</td>\n",
       "      <td>26</td>\n",
       "      <td>5</td>\n",
       "      <td>3</td>\n",
       "      <td>3025</td>\n",
       "    </tr>\n",
       "    <tr>\n",
       "      <th>2</th>\n",
       "      <td>13</td>\n",
       "      <td>41439</td>\n",
       "      <td>13-41439</td>\n",
       "      <td>Diane</td>\n",
       "      <td>Asmuth</td>\n",
       "      <td>5/13/2013</td>\n",
       "      <td>T1</td>\n",
       "      <td>55</td>\n",
       "      <td>F</td>\n",
       "      <td>7</td>\n",
       "      <td>...</td>\n",
       "      <td>3</td>\n",
       "      <td>11</td>\n",
       "      <td>24</td>\n",
       "      <td>2</td>\n",
       "      <td>3.0</td>\n",
       "      <td>3.0</td>\n",
       "      <td>16</td>\n",
       "      <td>6</td>\n",
       "      <td>12</td>\n",
       "      <td>3025</td>\n",
       "    </tr>\n",
       "    <tr>\n",
       "      <th>3</th>\n",
       "      <td>14</td>\n",
       "      <td>52939</td>\n",
       "      <td>14-52939</td>\n",
       "      <td>Diane</td>\n",
       "      <td>Asmuth</td>\n",
       "      <td>6/24/2014</td>\n",
       "      <td>T2</td>\n",
       "      <td>56</td>\n",
       "      <td>F</td>\n",
       "      <td>10</td>\n",
       "      <td>...</td>\n",
       "      <td>5</td>\n",
       "      <td>2</td>\n",
       "      <td>21</td>\n",
       "      <td>4</td>\n",
       "      <td>3.0</td>\n",
       "      <td>3.0</td>\n",
       "      <td>25</td>\n",
       "      <td>9</td>\n",
       "      <td>2</td>\n",
       "      <td>3136</td>\n",
       "    </tr>\n",
       "    <tr>\n",
       "      <th>4</th>\n",
       "      <td>14</td>\n",
       "      <td>97689</td>\n",
       "      <td>14-97689</td>\n",
       "      <td>Deborah</td>\n",
       "      <td>Baimas</td>\n",
       "      <td>12/1/2014</td>\n",
       "      <td>T1</td>\n",
       "      <td>50</td>\n",
       "      <td>F</td>\n",
       "      <td>5</td>\n",
       "      <td>...</td>\n",
       "      <td>2</td>\n",
       "      <td>1</td>\n",
       "      <td>11</td>\n",
       "      <td>2</td>\n",
       "      <td>3.0</td>\n",
       "      <td>5.0</td>\n",
       "      <td>43</td>\n",
       "      <td>11</td>\n",
       "      <td>21</td>\n",
       "      <td>2500</td>\n",
       "    </tr>\n",
       "  </tbody>\n",
       "</table>\n",
       "<p>5 rows × 21 columns</p>\n",
       "</div>"
      ],
      "text/plain": [
       "   ID1     ID2         ID   FirstN     LastN      CDate Time  Age Sex  C1  \\\n",
       "0   10   78255   10-78255     Mark  Anderson   8/2/2010   T1   55   M  19   \n",
       "1   10  124893  10-124893     Mark  Anderson  12/5/2010   T2   55   M   9   \n",
       "2   13   41439   13-41439    Diane    Asmuth  5/13/2013   T1   55   F   7   \n",
       "3   14   52939   14-52939    Diane    Asmuth  6/24/2014   T2   56   F  10   \n",
       "4   14   97689   14-97689  Deborah    Baimas  12/1/2014   T1   50   F   5   \n",
       "\n",
       "   ...  C3  C4  Ctotal  DHEA   I1    I2  P17  TIgA  GIgA  AgeSQ  \n",
       "0  ...  12   8      47     4  3.0  23.0   28     9     5   3025  \n",
       "1  ...   7   3      25     4  3.0  20.0   26     5     3   3025  \n",
       "2  ...   3  11      24     2  3.0   3.0   16     6    12   3025  \n",
       "3  ...   5   2      21     4  3.0   3.0   25     9     2   3136  \n",
       "4  ...   2   1      11     2  3.0   5.0   43    11    21   2500  \n",
       "\n",
       "[5 rows x 21 columns]"
      ]
     },
     "execution_count": 23,
     "metadata": {},
     "output_type": "execute_result"
    }
   ],
   "source": [
    "ASI_RMT1T2.head()"
   ]
  },
  {
   "cell_type": "code",
   "execution_count": 24,
   "metadata": {},
   "outputs": [
    {
     "data": {
      "text/plain": [
       "<matplotlib.axes._subplots.AxesSubplot at 0x7903640>"
      ]
     },
     "execution_count": 24,
     "metadata": {},
     "output_type": "execute_result"
    },
    {
     "data": {
      "image/png": "[encoded data removed]",
      "text/plain": [
       "<Figure size 432x288 with 1 Axes>"
      ]
     },
     "metadata": {
      "needs_background": "light"
     },
     "output_type": "display_data"
    }
   ],
   "source": [
    "sns.distplot(ASI_RMT1T2['AgeSQ'])"
   ]
  },
  {
   "cell_type": "code",
   "execution_count": 25,
   "metadata": {},
   "outputs": [
    {
     "data": {
      "text/plain": [
       "T2    21\n",
       "T1    21\n",
       "Name: Time, dtype: int64"
      ]
     },
     "execution_count": 25,
     "metadata": {},
     "output_type": "execute_result"
    }
   ],
   "source": [
    "ASI_RMT1T2['Time'].value_counts()"
   ]
  },
  {
   "cell_type": "code",
   "execution_count": 26,
   "metadata": {},
   "outputs": [],
   "source": [
    "## Double checked and made sure we have the same amount of tests."
   ]
  },
  {
   "cell_type": "code",
   "execution_count": 27,
   "metadata": {},
   "outputs": [
    {
     "data": {
      "text/plain": [
       "Time\n",
       "T1    55.095238\n",
       "T2    55.714286\n",
       "Name: Age, dtype: float64"
      ]
     },
     "execution_count": 27,
     "metadata": {},
     "output_type": "execute_result"
    }
   ],
   "source": [
    "ASI_RMT1T2.groupby('Time')['Age'].mean()"
   ]
  },
  {
   "cell_type": "code",
   "execution_count": 28,
   "metadata": {},
   "outputs": [],
   "source": [
    "#I would have thought that they would have been the same. Now I am thinking that the T2 is older because it is later and the people could have had birthdays."
   ]
  },
  {
   "cell_type": "code",
   "execution_count": 30,
   "metadata": {},
   "outputs": [
    {
     "data": {
      "text/plain": [
       "count     42.000000\n",
       "mean      16.761905\n",
       "std       17.238371\n",
       "min        5.000000\n",
       "25%        9.000000\n",
       "50%       13.500000\n",
       "75%       18.000000\n",
       "max      110.000000\n",
       "Name: C1, dtype: float64"
      ]
     },
     "execution_count": 30,
     "metadata": {},
     "output_type": "execute_result"
    }
   ],
   "source": [
    "ASI_RMT1T2.C1.describe()"
   ]
  },
  {
   "cell_type": "code",
   "execution_count": 32,
   "metadata": {},
   "outputs": [
    {
     "data": {
      "text/plain": [
       "Time\n",
       "T1    14.00000\n",
       "T2    19.52381\n",
       "Name: C1, dtype: float64"
      ]
     },
     "execution_count": 32,
     "metadata": {},
     "output_type": "execute_result"
    }
   ],
   "source": [
    "ASI_RMT1T2.groupby('Time')['C1'].mean()"
   ]
  },
  {
   "cell_type": "code",
   "execution_count": null,
   "metadata": {},
   "outputs": [],
   "source": [
    "# It seems as though the T2 had a higher amount of C1 than the first testing"
   ]
  }
 ],
 "metadata": {
  "kernelspec": {
   "display_name": "Python 3",
   "language": "python",
   "name": "python3"
  },
  "language_info": {
   "codemirror_mode": {
    "name": "ipython",
    "version": 3
   },
   "file_extension": ".py",
   "mimetype": "text/x-python",
   "name": "python",
   "nbconvert_exporter": "python",
   "pygments_lexer": "ipython3",
   "version": "3.8.3"
  }
 },
 "nbformat": 4,
 "nbformat_minor": 4
}
