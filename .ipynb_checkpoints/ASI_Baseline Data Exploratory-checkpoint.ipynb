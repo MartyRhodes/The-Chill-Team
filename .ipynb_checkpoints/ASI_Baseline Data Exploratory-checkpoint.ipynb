{
 "cells": [
  {
   "cell_type": "markdown",
   "metadata": {},
   "source": [
    "# ASI_Baseline Data Exploratory"
   ]
  },
  {
   "cell_type": "markdown",
   "metadata": {},
   "source": [
    "## Import data and packages"
   ]
  },
  {
   "cell_type": "code",
   "execution_count": 473,
   "metadata": {},
   "outputs": [],
   "source": [
    "import pandas as pd\n",
    "import seaborn as sns\n",
    "import matplotlib.mlab as mlab\n",
    "import matplotlib.pyplot as plt"
   ]
  },
  {
   "cell_type": "code",
   "execution_count": 474,
   "metadata": {},
   "outputs": [],
   "source": [
    "ASI_Baseline = pd.read_csv('ASI_Baseline.csv')"
   ]
  },
  {
   "cell_type": "markdown",
   "metadata": {},
   "source": [
    "## View data"
   ]
  },
  {
   "cell_type": "code",
   "execution_count": 475,
   "metadata": {},
   "outputs": [
    {
     "data": {
      "text/html": [
       "<div>\n",
       "<style scoped>\n",
       "    .dataframe tbody tr th:only-of-type {\n",
       "        vertical-align: middle;\n",
       "    }\n",
       "\n",
       "    .dataframe tbody tr th {\n",
       "        vertical-align: top;\n",
       "    }\n",
       "\n",
       "    .dataframe thead th {\n",
       "        text-align: right;\n",
       "    }\n",
       "</style>\n",
       "<table border=\"1\" class=\"dataframe\">\n",
       "  <thead>\n",
       "    <tr style=\"text-align: right;\">\n",
       "      <th></th>\n",
       "      <th>ID1</th>\n",
       "      <th>ID2</th>\n",
       "      <th>ID</th>\n",
       "      <th>FirstN</th>\n",
       "      <th>LastN</th>\n",
       "      <th>CDate</th>\n",
       "      <th>Age</th>\n",
       "      <th>Sex</th>\n",
       "      <th>C1</th>\n",
       "      <th>C2</th>\n",
       "      <th>C3</th>\n",
       "      <th>C4</th>\n",
       "      <th>Ctotal</th>\n",
       "      <th>DHEA</th>\n",
       "      <th>I1</th>\n",
       "      <th>I2</th>\n",
       "      <th>P17</th>\n",
       "      <th>TIgA</th>\n",
       "      <th>GIgA</th>\n",
       "    </tr>\n",
       "  </thead>\n",
       "  <tbody>\n",
       "    <tr>\n",
       "      <th>0</th>\n",
       "      <td>10</td>\n",
       "      <td>114793</td>\n",
       "      <td>10-114793</td>\n",
       "      <td>Michele</td>\n",
       "      <td>Adams</td>\n",
       "      <td>11/07/10</td>\n",
       "      <td>42</td>\n",
       "      <td>F</td>\n",
       "      <td>19.0</td>\n",
       "      <td>6</td>\n",
       "      <td>4.0</td>\n",
       "      <td>5.0</td>\n",
       "      <td>34</td>\n",
       "      <td>1.0</td>\n",
       "      <td>3.0</td>\n",
       "      <td>3.0</td>\n",
       "      <td>49.0</td>\n",
       "      <td>5.0</td>\n",
       "      <td>23.0</td>\n",
       "    </tr>\n",
       "    <tr>\n",
       "      <th>1</th>\n",
       "      <td>11</td>\n",
       "      <td>28518</td>\n",
       "      <td>11-28518</td>\n",
       "      <td>Janet</td>\n",
       "      <td>Aitchison</td>\n",
       "      <td>03/09/11</td>\n",
       "      <td>60</td>\n",
       "      <td>F</td>\n",
       "      <td>12.0</td>\n",
       "      <td>7</td>\n",
       "      <td>4.0</td>\n",
       "      <td>7.0</td>\n",
       "      <td>30</td>\n",
       "      <td>2.0</td>\n",
       "      <td>3.0</td>\n",
       "      <td>22.0</td>\n",
       "      <td>15.0</td>\n",
       "      <td>7.0</td>\n",
       "      <td>5.0</td>\n",
       "    </tr>\n",
       "    <tr>\n",
       "      <th>2</th>\n",
       "      <td>14</td>\n",
       "      <td>79812</td>\n",
       "      <td>14-79812</td>\n",
       "      <td>Rita</td>\n",
       "      <td>Alarcon</td>\n",
       "      <td>09/30/14</td>\n",
       "      <td>49</td>\n",
       "      <td>F</td>\n",
       "      <td>11.0</td>\n",
       "      <td>1</td>\n",
       "      <td>1.0</td>\n",
       "      <td>1.0</td>\n",
       "      <td>14</td>\n",
       "      <td>3.0</td>\n",
       "      <td>3.0</td>\n",
       "      <td>3.0</td>\n",
       "      <td>30.0</td>\n",
       "      <td>5.0</td>\n",
       "      <td>1.0</td>\n",
       "    </tr>\n",
       "    <tr>\n",
       "      <th>3</th>\n",
       "      <td>14</td>\n",
       "      <td>27662</td>\n",
       "      <td>14-27662</td>\n",
       "      <td>Yadira</td>\n",
       "      <td>Alcaruz</td>\n",
       "      <td>04/04/14</td>\n",
       "      <td>35</td>\n",
       "      <td>F</td>\n",
       "      <td>12.0</td>\n",
       "      <td>3</td>\n",
       "      <td>6.0</td>\n",
       "      <td>1.0</td>\n",
       "      <td>22</td>\n",
       "      <td>6.0</td>\n",
       "      <td>15.0</td>\n",
       "      <td>18.0</td>\n",
       "      <td>33.0</td>\n",
       "      <td>16.0</td>\n",
       "      <td>4.0</td>\n",
       "    </tr>\n",
       "    <tr>\n",
       "      <th>4</th>\n",
       "      <td>13</td>\n",
       "      <td>6194</td>\n",
       "      <td>13-6194</td>\n",
       "      <td>JC</td>\n",
       "      <td>Allen</td>\n",
       "      <td>01/25/13</td>\n",
       "      <td>53</td>\n",
       "      <td>F</td>\n",
       "      <td>20.0</td>\n",
       "      <td>7</td>\n",
       "      <td>4.0</td>\n",
       "      <td>3.0</td>\n",
       "      <td>34</td>\n",
       "      <td>5.0</td>\n",
       "      <td>3.0</td>\n",
       "      <td>7.0</td>\n",
       "      <td>9.0</td>\n",
       "      <td>5.0</td>\n",
       "      <td>13.0</td>\n",
       "    </tr>\n",
       "  </tbody>\n",
       "</table>\n",
       "</div>"
      ],
      "text/plain": [
       "   ID1     ID2         ID   FirstN      LastN     CDate  Age Sex    C1  C2  \\\n",
       "0   10  114793  10-114793  Michele      Adams  11/07/10   42   F  19.0   6   \n",
       "1   11   28518   11-28518    Janet  Aitchison  03/09/11   60   F  12.0   7   \n",
       "2   14   79812   14-79812     Rita    Alarcon  09/30/14   49   F  11.0   1   \n",
       "3   14   27662   14-27662   Yadira    Alcaruz  04/04/14   35   F  12.0   3   \n",
       "4   13    6194    13-6194       JC      Allen  01/25/13   53   F  20.0   7   \n",
       "\n",
       "    C3   C4  Ctotal  DHEA    I1    I2   P17  TIgA  GIgA  \n",
       "0  4.0  5.0      34   1.0   3.0   3.0  49.0   5.0  23.0  \n",
       "1  4.0  7.0      30   2.0   3.0  22.0  15.0   7.0   5.0  \n",
       "2  1.0  1.0      14   3.0   3.0   3.0  30.0   5.0   1.0  \n",
       "3  6.0  1.0      22   6.0  15.0  18.0  33.0  16.0   4.0  \n",
       "4  4.0  3.0      34   5.0   3.0   7.0   9.0   5.0  13.0  "
      ]
     },
     "execution_count": 475,
     "metadata": {},
     "output_type": "execute_result"
    }
   ],
   "source": [
    "# ASI_Baseline.head()"
   ]
  },
  {
   "cell_type": "code",
   "execution_count": 476,
   "metadata": {},
   "outputs": [
    {
     "data": {
      "text/plain": [
       "255"
      ]
     },
     "execution_count": 476,
     "metadata": {},
     "output_type": "execute_result"
    }
   ],
   "source": [
    "len(ASI_Baseline)"
   ]
  },
  {
   "cell_type": "code",
   "execution_count": 477,
   "metadata": {},
   "outputs": [
    {
     "name": "stdout",
     "output_type": "stream",
     "text": [
      "<class 'pandas.core.frame.DataFrame'>\n",
      "RangeIndex: 255 entries, 0 to 254\n",
      "Data columns (total 19 columns):\n",
      " #   Column  Non-Null Count  Dtype  \n",
      "---  ------  --------------  -----  \n",
      " 0   ID1     255 non-null    int64  \n",
      " 1   ID2     255 non-null    int64  \n",
      " 2   ID      255 non-null    object \n",
      " 3   FirstN  255 non-null    object \n",
      " 4   LastN   255 non-null    object \n",
      " 5   CDate   255 non-null    object \n",
      " 6   Age     255 non-null    int64  \n",
      " 7   Sex     255 non-null    object \n",
      " 8   C1      252 non-null    float64\n",
      " 9   C2      255 non-null    int64  \n",
      " 10  C3      253 non-null    float64\n",
      " 11  C4      253 non-null    float64\n",
      " 12  Ctotal  255 non-null    int64  \n",
      " 13  DHEA    250 non-null    float64\n",
      " 14  I1      237 non-null    float64\n",
      " 15  I2      243 non-null    float64\n",
      " 16  P17     246 non-null    float64\n",
      " 17  TIgA    248 non-null    float64\n",
      " 18  GIgA    245 non-null    float64\n",
      "dtypes: float64(9), int64(5), object(5)\n",
      "memory usage: 38.0+ KB\n"
     ]
    }
   ],
   "source": [
    "ASI_Baseline.info()"
   ]
  },
  {
   "cell_type": "markdown",
   "metadata": {},
   "source": [
    "#### All variables are correct type"
   ]
  },
  {
   "cell_type": "markdown",
   "metadata": {},
   "source": [
    "## Create categorical variables for Age, and for others based on reference values\n"
   ]
  },
  {
   "cell_type": "code",
   "execution_count": 478,
   "metadata": {},
   "outputs": [
    {
     "data": {
      "text/html": [
       "<div>\n",
       "<style scoped>\n",
       "    .dataframe tbody tr th:only-of-type {\n",
       "        vertical-align: middle;\n",
       "    }\n",
       "\n",
       "    .dataframe tbody tr th {\n",
       "        vertical-align: top;\n",
       "    }\n",
       "\n",
       "    .dataframe thead th {\n",
       "        text-align: right;\n",
       "    }\n",
       "</style>\n",
       "<table border=\"1\" class=\"dataframe\">\n",
       "  <thead>\n",
       "    <tr style=\"text-align: right;\">\n",
       "      <th></th>\n",
       "      <th>ID1</th>\n",
       "      <th>ID2</th>\n",
       "      <th>ID</th>\n",
       "      <th>FirstN</th>\n",
       "      <th>LastN</th>\n",
       "      <th>CDate</th>\n",
       "      <th>Age</th>\n",
       "      <th>Sex</th>\n",
       "      <th>C1</th>\n",
       "      <th>C2</th>\n",
       "      <th>...</th>\n",
       "      <th>AgeCat</th>\n",
       "      <th>C1RV</th>\n",
       "      <th>C2RV</th>\n",
       "      <th>C3RV</th>\n",
       "      <th>C4RV</th>\n",
       "      <th>CtotalRV</th>\n",
       "      <th>DHEARV</th>\n",
       "      <th>P17RV</th>\n",
       "      <th>TIgARV</th>\n",
       "      <th>GIgARV</th>\n",
       "    </tr>\n",
       "  </thead>\n",
       "  <tbody>\n",
       "    <tr>\n",
       "      <th>0</th>\n",
       "      <td>10</td>\n",
       "      <td>114793</td>\n",
       "      <td>10-114793</td>\n",
       "      <td>Michele</td>\n",
       "      <td>Adams</td>\n",
       "      <td>11/07/10</td>\n",
       "      <td>42</td>\n",
       "      <td>F</td>\n",
       "      <td>19.0</td>\n",
       "      <td>6</td>\n",
       "      <td>...</td>\n",
       "      <td>40-60</td>\n",
       "      <td>Normal</td>\n",
       "      <td>Normal</td>\n",
       "      <td>Normal</td>\n",
       "      <td>Elevated</td>\n",
       "      <td>Normal</td>\n",
       "      <td>Depressed</td>\n",
       "      <td>Optimal</td>\n",
       "      <td>Borderline Low</td>\n",
       "      <td>Positive</td>\n",
       "    </tr>\n",
       "    <tr>\n",
       "      <th>1</th>\n",
       "      <td>11</td>\n",
       "      <td>28518</td>\n",
       "      <td>11-28518</td>\n",
       "      <td>Janet</td>\n",
       "      <td>Aitchison</td>\n",
       "      <td>03/09/11</td>\n",
       "      <td>60</td>\n",
       "      <td>F</td>\n",
       "      <td>12.0</td>\n",
       "      <td>7</td>\n",
       "      <td>...</td>\n",
       "      <td>40-60</td>\n",
       "      <td>Depressed</td>\n",
       "      <td>Normal</td>\n",
       "      <td>Normal</td>\n",
       "      <td>Elevated</td>\n",
       "      <td>Normal</td>\n",
       "      <td>Depressed</td>\n",
       "      <td>Depressed</td>\n",
       "      <td>Borderline Low</td>\n",
       "      <td>Negative</td>\n",
       "    </tr>\n",
       "    <tr>\n",
       "      <th>2</th>\n",
       "      <td>14</td>\n",
       "      <td>79812</td>\n",
       "      <td>14-79812</td>\n",
       "      <td>Rita</td>\n",
       "      <td>Alarcon</td>\n",
       "      <td>09/30/14</td>\n",
       "      <td>49</td>\n",
       "      <td>F</td>\n",
       "      <td>11.0</td>\n",
       "      <td>1</td>\n",
       "      <td>...</td>\n",
       "      <td>40-60</td>\n",
       "      <td>Depressed</td>\n",
       "      <td>Depressed</td>\n",
       "      <td>Depressed</td>\n",
       "      <td>Normal</td>\n",
       "      <td>Depressed</td>\n",
       "      <td>Normal</td>\n",
       "      <td>Optimal</td>\n",
       "      <td>Borderline Low</td>\n",
       "      <td>Negative</td>\n",
       "    </tr>\n",
       "    <tr>\n",
       "      <th>3</th>\n",
       "      <td>14</td>\n",
       "      <td>27662</td>\n",
       "      <td>14-27662</td>\n",
       "      <td>Yadira</td>\n",
       "      <td>Alcaruz</td>\n",
       "      <td>04/04/14</td>\n",
       "      <td>35</td>\n",
       "      <td>F</td>\n",
       "      <td>12.0</td>\n",
       "      <td>3</td>\n",
       "      <td>...</td>\n",
       "      <td>Under 40</td>\n",
       "      <td>Depressed</td>\n",
       "      <td>Depressed</td>\n",
       "      <td>Normal</td>\n",
       "      <td>Normal</td>\n",
       "      <td>Normal</td>\n",
       "      <td>Normal</td>\n",
       "      <td>Optimal</td>\n",
       "      <td>Normal</td>\n",
       "      <td>Negative</td>\n",
       "    </tr>\n",
       "    <tr>\n",
       "      <th>4</th>\n",
       "      <td>13</td>\n",
       "      <td>6194</td>\n",
       "      <td>13-6194</td>\n",
       "      <td>JC</td>\n",
       "      <td>Allen</td>\n",
       "      <td>01/25/13</td>\n",
       "      <td>53</td>\n",
       "      <td>F</td>\n",
       "      <td>20.0</td>\n",
       "      <td>7</td>\n",
       "      <td>...</td>\n",
       "      <td>40-60</td>\n",
       "      <td>Normal</td>\n",
       "      <td>Normal</td>\n",
       "      <td>Normal</td>\n",
       "      <td>Normal</td>\n",
       "      <td>Normal</td>\n",
       "      <td>Normal</td>\n",
       "      <td>Depressed</td>\n",
       "      <td>Borderline Low</td>\n",
       "      <td>Borderline</td>\n",
       "    </tr>\n",
       "  </tbody>\n",
       "</table>\n",
       "<p>5 rows × 29 columns</p>\n",
       "</div>"
      ],
      "text/plain": [
       "   ID1     ID2         ID   FirstN      LastN     CDate  Age Sex    C1  C2  \\\n",
       "0   10  114793  10-114793  Michele      Adams  11/07/10   42   F  19.0   6   \n",
       "1   11   28518   11-28518    Janet  Aitchison  03/09/11   60   F  12.0   7   \n",
       "2   14   79812   14-79812     Rita    Alarcon  09/30/14   49   F  11.0   1   \n",
       "3   14   27662   14-27662   Yadira    Alcaruz  04/04/14   35   F  12.0   3   \n",
       "4   13    6194    13-6194       JC      Allen  01/25/13   53   F  20.0   7   \n",
       "\n",
       "   ...    AgeCat       C1RV       C2RV       C3RV      C4RV   CtotalRV  \\\n",
       "0  ...     40-60     Normal     Normal     Normal  Elevated     Normal   \n",
       "1  ...     40-60  Depressed     Normal     Normal  Elevated     Normal   \n",
       "2  ...     40-60  Depressed  Depressed  Depressed    Normal  Depressed   \n",
       "3  ...  Under 40  Depressed  Depressed     Normal    Normal     Normal   \n",
       "4  ...     40-60     Normal     Normal     Normal    Normal     Normal   \n",
       "\n",
       "      DHEARV      P17RV          TIgARV      GIgARV  \n",
       "0  Depressed    Optimal  Borderline Low    Positive  \n",
       "1  Depressed  Depressed  Borderline Low    Negative  \n",
       "2     Normal    Optimal  Borderline Low    Negative  \n",
       "3     Normal    Optimal          Normal    Negative  \n",
       "4     Normal  Depressed  Borderline Low  Borderline  \n",
       "\n",
       "[5 rows x 29 columns]"
      ]
     },
     "execution_count": 478,
     "metadata": {},
     "output_type": "execute_result"
    }
   ],
   "source": [
    "def ag (series):\n",
    "    if series < 40:\n",
    "        return \"Under 40\"\n",
    "    if series >= 40 and series <= 60:\n",
    "        return \"40-60\"\n",
    "    if series > 60:\n",
    "        return \"Over 60\"\n",
    "ASI_Baseline['AgeCat'] = ASI_Baseline['Age'].apply(ag)\n",
    "\n",
    "\n",
    "def c1 (series):\n",
    "    if series < 13:\n",
    "        return \"Depressed\"\n",
    "    if series >= 13 and series <=24:\n",
    "        return \"Normal\"\n",
    "    if series >24:\n",
    "        return \"Elevated\"\n",
    "ASI_Baseline['C1RV'] = ASI_Baseline['C1'].apply(c1)\n",
    "\n",
    "\n",
    "def c2 (series):\n",
    "    if series < 5:\n",
    "        return \"Depressed\"\n",
    "    if series >= 5 and series <=10:\n",
    "        return \"Normal\"\n",
    "    if series >10:\n",
    "        return \"Elevated\"\n",
    "ASI_Baseline['C2RV'] = ASI_Baseline['C2'].apply(c2)\n",
    "\n",
    "\n",
    "def c3 (series):\n",
    "    if series < 3:\n",
    "        return \"Depressed\"\n",
    "    if series >= 3 and series <=8:\n",
    "        return \"Normal\"\n",
    "    if series >8:\n",
    "        return \"Elevated\"\n",
    "ASI_Baseline['C3RV'] = ASI_Baseline['C3'].apply(c3)\n",
    "\n",
    "\n",
    "def c4 (series):\n",
    "    if series < 1:\n",
    "        return \"Depressed\"\n",
    "    if series >= 1 and series <=4:\n",
    "        return \"Normal\"\n",
    "    if series >4:\n",
    "        return \"Elevated\"\n",
    "ASI_Baseline['C4RV'] = ASI_Baseline['C4'].apply(c4)\n",
    "\n",
    "\n",
    "def tc1 (series):\n",
    "    if series < 22:\n",
    "        return \"Depressed\"\n",
    "    if series >= 22 and series <= 46:\n",
    "        return \"Normal\"\n",
    "    if series > 46:\n",
    "        return \"Elevated\"\n",
    "ASI_Baseline['CtotalRV'] = ASI_Baseline['Ctotal'].apply(tc1)\n",
    "\n",
    "\n",
    "def d (series):\n",
    "    if series < 3:\n",
    "        return \"Depressed\"\n",
    "    if series >= 3 and series <=10:\n",
    "        return \"Normal\"\n",
    "    if series >10:\n",
    "        return \"Elevated\"\n",
    "ASI_Baseline['DHEARV'] = ASI_Baseline['DHEA'].apply(d)\n",
    "\n",
    "\n",
    "def p (series):\n",
    "    if series < 22:\n",
    "        return \"Depressed\"\n",
    "    if series >= 22 and series <= 100:\n",
    "        return \"Optimal\"\n",
    "    if series >= 101 and series <= 130:\n",
    "        return \"Borderline Elevated\"\n",
    "    if series > 130:\n",
    "        return \"Elevated\"\n",
    "ASI_Baseline['P17RV'] = ASI_Baseline['P17'].apply(p)\n",
    "\n",
    "\n",
    "def ti (series):\n",
    "    if series < 5:\n",
    "        return \"Depressed\"\n",
    "    if series >= 5 and series <= 9:\n",
    "        return \"Borderline Low\"\n",
    "    if series >= 10 and series <= 20:\n",
    "        return \"Normal\"\n",
    "    if series >= 21 and series <= 25:\n",
    "        return \"Borderline High\"\n",
    "    if series > 25:\n",
    "        return \"Elevated\"\n",
    "ASI_Baseline['TIgARV'] = ASI_Baseline['TIgA'].apply(ti)\n",
    "\n",
    "\n",
    "def gi (series):\n",
    "    if series < 13:\n",
    "        return \"Negative\"\n",
    "    if series >= 13and series <= 15:\n",
    "        return \"Borderline\"\n",
    "    if series >= 15:\n",
    "        return \"Positive\"\n",
    "ASI_Baseline['GIgARV'] = ASI_Baseline['GIgA'].apply(gi)\n",
    "\n",
    "\n",
    "# ASI_Baseline.head()\n",
    "\n"
   ]
  },
  {
   "cell_type": "markdown",
   "metadata": {},
   "source": [
    "## Categorical variable frequencies"
   ]
  },
  {
   "cell_type": "code",
   "execution_count": 479,
   "metadata": {},
   "outputs": [
    {
     "data": {
      "text/plain": [
       "F    210\n",
       "M     45\n",
       "Name: Sex, dtype: int64"
      ]
     },
     "execution_count": 479,
     "metadata": {},
     "output_type": "execute_result"
    }
   ],
   "source": [
    "ASI_Baseline['Sex'].value_counts()"
   ]
  },
  {
   "cell_type": "markdown",
   "metadata": {},
   "source": [
    "#### 210 Females, 45 males"
   ]
  },
  {
   "cell_type": "code",
   "execution_count": 480,
   "metadata": {},
   "outputs": [
    {
     "data": {
      "text/plain": [
       "11    99\n",
       "10    68\n",
       "13    28\n",
       "14    23\n",
       "12    15\n",
       "15     7\n",
       "17     5\n",
       "16     4\n",
       "18     3\n",
       "9      2\n",
       "8      1\n",
       "Name: ID1, dtype: int64"
      ]
     },
     "execution_count": 480,
     "metadata": {},
     "output_type": "execute_result"
    }
   ],
   "source": [
    "ASI_Baseline['ID1'].value_counts()"
   ]
  },
  {
   "cell_type": "markdown",
   "metadata": {},
   "source": [
    "#### These counts present the number of records for each year 20**. The year with the most records was 2011 followed by 2010."
   ]
  },
  {
   "cell_type": "code",
   "execution_count": 481,
   "metadata": {},
   "outputs": [
    {
     "data": {
      "text/plain": [
       "40-60       145\n",
       "Under 40     66\n",
       "Over 60      44\n",
       "Name: AgeCat, dtype: int64"
      ]
     },
     "execution_count": 481,
     "metadata": {},
     "output_type": "execute_result"
    }
   ],
   "source": [
    "ASI_Baseline['AgeCat'].value_counts()"
   ]
  },
  {
   "cell_type": "code",
   "execution_count": 482,
   "metadata": {},
   "outputs": [
    {
     "data": {
      "text/plain": [
       "Normal       104\n",
       "Depressed     99\n",
       "Elevated      49\n",
       "Name: C1RV, dtype: int64"
      ]
     },
     "execution_count": 482,
     "metadata": {},
     "output_type": "execute_result"
    }
   ],
   "source": [
    "ASI_Baseline['C1RV'].value_counts()"
   ]
  },
  {
   "cell_type": "code",
   "execution_count": 483,
   "metadata": {},
   "outputs": [
    {
     "data": {
      "text/plain": [
       "Normal       142\n",
       "Elevated      59\n",
       "Depressed     54\n",
       "Name: C2RV, dtype: int64"
      ]
     },
     "execution_count": 483,
     "metadata": {},
     "output_type": "execute_result"
    }
   ],
   "source": [
    "ASI_Baseline['C2RV'].value_counts()"
   ]
  },
  {
   "cell_type": "code",
   "execution_count": 484,
   "metadata": {},
   "outputs": [
    {
     "data": {
      "text/plain": [
       "Normal       183\n",
       "Elevated      52\n",
       "Depressed     18\n",
       "Name: C3RV, dtype: int64"
      ]
     },
     "execution_count": 484,
     "metadata": {},
     "output_type": "execute_result"
    }
   ],
   "source": [
    "ASI_Baseline['C3RV'].value_counts()"
   ]
  },
  {
   "cell_type": "code",
   "execution_count": 485,
   "metadata": {},
   "outputs": [
    {
     "data": {
      "text/plain": [
       "Normal      130\n",
       "Elevated    123\n",
       "Name: C4RV, dtype: int64"
      ]
     },
     "execution_count": 485,
     "metadata": {},
     "output_type": "execute_result"
    }
   ],
   "source": [
    "ASI_Baseline['C4RV'].value_counts()"
   ]
  },
  {
   "cell_type": "code",
   "execution_count": 486,
   "metadata": {},
   "outputs": [
    {
     "data": {
      "text/plain": [
       "Normal       163\n",
       "Elevated      54\n",
       "Depressed     38\n",
       "Name: CtotalRV, dtype: int64"
      ]
     },
     "execution_count": 486,
     "metadata": {},
     "output_type": "execute_result"
    }
   ],
   "source": [
    "ASI_Baseline['CtotalRV'].value_counts()"
   ]
  },
  {
   "cell_type": "code",
   "execution_count": 487,
   "metadata": {},
   "outputs": [
    {
     "data": {
      "text/plain": [
       "Normal       186\n",
       "Depressed     52\n",
       "Elevated      12\n",
       "Name: DHEARV, dtype: int64"
      ]
     },
     "execution_count": 487,
     "metadata": {},
     "output_type": "execute_result"
    }
   ],
   "source": [
    "ASI_Baseline['DHEARV'].value_counts()"
   ]
  },
  {
   "cell_type": "code",
   "execution_count": 488,
   "metadata": {},
   "outputs": [
    {
     "data": {
      "text/plain": [
       "Optimal                154\n",
       "Depressed               86\n",
       "Elevated                 4\n",
       "Borderline Elevated      2\n",
       "Name: P17RV, dtype: int64"
      ]
     },
     "execution_count": 488,
     "metadata": {},
     "output_type": "execute_result"
    }
   ],
   "source": [
    "ASI_Baseline['P17RV'].value_counts()"
   ]
  },
  {
   "cell_type": "code",
   "execution_count": 489,
   "metadata": {},
   "outputs": [
    {
     "data": {
      "text/plain": [
       "Borderline Low     159\n",
       "Normal              76\n",
       "Elevated             8\n",
       "Borderline High      5\n",
       "Name: TIgARV, dtype: int64"
      ]
     },
     "execution_count": 489,
     "metadata": {},
     "output_type": "execute_result"
    }
   ],
   "source": [
    "ASI_Baseline['TIgARV'].value_counts()"
   ]
  },
  {
   "cell_type": "code",
   "execution_count": 490,
   "metadata": {},
   "outputs": [
    {
     "data": {
      "text/plain": [
       "Negative      186\n",
       "Positive       40\n",
       "Borderline     19\n",
       "Name: GIgARV, dtype: int64"
      ]
     },
     "execution_count": 490,
     "metadata": {},
     "output_type": "execute_result"
    }
   ],
   "source": [
    "ASI_Baseline['GIgARV'].value_counts()"
   ]
  },
  {
   "cell_type": "markdown",
   "metadata": {},
   "source": [
    "## Continuous variable summary statistics and histograms ungrouped and grouped by sex"
   ]
  },
  {
   "cell_type": "code",
   "execution_count": 491,
   "metadata": {},
   "outputs": [
    {
     "data": {
      "text/plain": [
       "count    255.000000\n",
       "mean      49.188235\n",
       "std       14.230245\n",
       "min        9.000000\n",
       "25%       39.000000\n",
       "50%       52.000000\n",
       "75%       59.000000\n",
       "max       93.000000\n",
       "Name: Age, dtype: float64"
      ]
     },
     "execution_count": 491,
     "metadata": {},
     "output_type": "execute_result"
    }
   ],
   "source": [
    "ASI_Baseline.Age.describe()"
   ]
  },
  {
   "cell_type": "code",
   "execution_count": 547,
   "metadata": {},
   "outputs": [
    {
     "data": {
      "text/plain": [
       "Sex\n",
       "F    48.880952\n",
       "M    50.622222\n",
       "Name: Age, dtype: float64"
      ]
     },
     "execution_count": 547,
     "metadata": {},
     "output_type": "execute_result"
    }
   ],
   "source": [
    "ASI_Baseline.groupby('Sex')['Age'].mean()"
   ]
  },
  {
   "cell_type": "markdown",
   "metadata": {},
   "source": [
    "#### Similar mean age for the genders"
   ]
  },
  {
   "cell_type": "code",
   "execution_count": 492,
   "metadata": {},
   "outputs": [
    {
     "data": {
      "text/plain": [
       "<matplotlib.axes._subplots.AxesSubplot at 0x2752911eb20>"
      ]
     },
     "execution_count": 492,
     "metadata": {},
     "output_type": "execute_result"
    },
    {
     "data": {
      "image/png": "[encoded data removed]",
      "text/plain": [
       "<Figure size 432x288 with 1 Axes>"
      ]
     },
     "metadata": {
      "needs_background": "light"
     },
     "output_type": "display_data"
    }
   ],
   "source": [
    "sns.distplot(ASI_Baseline['Age'])"
   ]
  },
  {
   "cell_type": "code",
   "execution_count": 493,
   "metadata": {},
   "outputs": [
    {
     "data": {
      "text/plain": [
       "count    252.000000\n",
       "mean      20.031746\n",
       "std       19.763920\n",
       "min        2.000000\n",
       "25%       10.000000\n",
       "50%       14.000000\n",
       "75%       21.250000\n",
       "max      110.000000\n",
       "Name: C1, dtype: float64"
      ]
     },
     "execution_count": 493,
     "metadata": {},
     "output_type": "execute_result"
    }
   ],
   "source": [
    "ASI_Baseline.C1.describe()"
   ]
  },
  {
   "cell_type": "code",
   "execution_count": 494,
   "metadata": {},
   "outputs": [
    {
     "data": {
      "text/plain": [
       "Sex\n",
       "F    20.560386\n",
       "M    17.600000\n",
       "Name: C1, dtype: float64"
      ]
     },
     "execution_count": 494,
     "metadata": {},
     "output_type": "execute_result"
    }
   ],
   "source": [
    "ASI_Baseline.groupby('Sex')['C1'].mean()"
   ]
  },
  {
   "cell_type": "markdown",
   "metadata": {},
   "source": [
    "#### C1 higher for females...significantly?"
   ]
  },
  {
   "cell_type": "code",
   "execution_count": 495,
   "metadata": {},
   "outputs": [
    {
     "data": {
      "text/plain": [
       "<matplotlib.axes._subplots.AxesSubplot at 0x275291fe220>"
      ]
     },
     "execution_count": 495,
     "metadata": {},
     "output_type": "execute_result"
    },
    {
     "data": {
      "image/png": "[encoded data removed]",
      "text/plain": [
       "<Figure size 432x288 with 1 Axes>"
      ]
     },
     "metadata": {
      "needs_background": "light"
     },
     "output_type": "display_data"
    }
   ],
   "source": [
    "sns.distplot(ASI_Baseline['C1'])"
   ]
  },
  {
   "cell_type": "code",
   "execution_count": 496,
   "metadata": {},
   "outputs": [
    {
     "data": {
      "text/plain": [
       "count    255.000000\n",
       "mean      10.819608\n",
       "std       16.186378\n",
       "min        1.000000\n",
       "25%        5.000000\n",
       "50%        7.000000\n",
       "75%       10.000000\n",
       "max      120.000000\n",
       "Name: C2, dtype: float64"
      ]
     },
     "execution_count": 496,
     "metadata": {},
     "output_type": "execute_result"
    }
   ],
   "source": [
    "ASI_Baseline.C2.describe()"
   ]
  },
  {
   "cell_type": "code",
   "execution_count": 497,
   "metadata": {},
   "outputs": [
    {
     "data": {
      "text/plain": [
       "Sex\n",
       "F    10.542857\n",
       "M    12.111111\n",
       "Name: C2, dtype: float64"
      ]
     },
     "execution_count": 497,
     "metadata": {},
     "output_type": "execute_result"
    }
   ],
   "source": [
    "ASI_Baseline.groupby('Sex')['C2'].mean()"
   ]
  },
  {
   "cell_type": "markdown",
   "metadata": {},
   "source": [
    "#### C2 higher for males...."
   ]
  },
  {
   "cell_type": "code",
   "execution_count": 498,
   "metadata": {},
   "outputs": [
    {
     "data": {
      "text/plain": [
       "<matplotlib.axes._subplots.AxesSubplot at 0x2752929b1c0>"
      ]
     },
     "execution_count": 498,
     "metadata": {},
     "output_type": "execute_result"
    },
    {
     "data": {
      "image/png": "[encoded data removed]",
      "text/plain": [
       "<Figure size 432x288 with 1 Axes>"
      ]
     },
     "metadata": {
      "needs_background": "light"
     },
     "output_type": "display_data"
    }
   ],
   "source": [
    "sns.distplot(ASI_Baseline['C2'])"
   ]
  },
  {
   "cell_type": "code",
   "execution_count": 499,
   "metadata": {},
   "outputs": [
    {
     "data": {
      "text/plain": [
       "count    253.000000\n",
       "mean       8.509881\n",
       "std       14.688461\n",
       "min        1.000000\n",
       "25%        3.000000\n",
       "50%        5.000000\n",
       "75%        8.000000\n",
       "max      120.000000\n",
       "Name: C3, dtype: float64"
      ]
     },
     "execution_count": 499,
     "metadata": {},
     "output_type": "execute_result"
    }
   ],
   "source": [
    "ASI_Baseline.C3.describe()"
   ]
  },
  {
   "cell_type": "code",
   "execution_count": 500,
   "metadata": {},
   "outputs": [
    {
     "data": {
      "text/plain": [
       "Sex\n",
       "F     7.677885\n",
       "M    12.355556\n",
       "Name: C3, dtype: float64"
      ]
     },
     "execution_count": 500,
     "metadata": {},
     "output_type": "execute_result"
    }
   ],
   "source": [
    "ASI_Baseline.groupby('Sex')['C3'].mean()"
   ]
  },
  {
   "cell_type": "markdown",
   "metadata": {},
   "source": [
    "#### C3 much higher for males"
   ]
  },
  {
   "cell_type": "code",
   "execution_count": 501,
   "metadata": {},
   "outputs": [
    {
     "data": {
      "text/plain": [
       "<matplotlib.axes._subplots.AxesSubplot at 0x2752935d0a0>"
      ]
     },
     "execution_count": 501,
     "metadata": {},
     "output_type": "execute_result"
    },
    {
     "data": {
      "image/png": "[encoded data removed]",
      "text/plain": [
       "<Figure size 432x288 with 1 Axes>"
      ]
     },
     "metadata": {
      "needs_background": "light"
     },
     "output_type": "display_data"
    }
   ],
   "source": [
    "sns.distplot(ASI_Baseline['C3'])"
   ]
  },
  {
   "cell_type": "code",
   "execution_count": 502,
   "metadata": {},
   "outputs": [
    {
     "data": {
      "text/plain": [
       "count    253.000000\n",
       "mean       8.675889\n",
       "std       17.219570\n",
       "min        1.000000\n",
       "25%        3.000000\n",
       "50%        4.000000\n",
       "75%        7.000000\n",
       "max      120.000000\n",
       "Name: C4, dtype: float64"
      ]
     },
     "execution_count": 502,
     "metadata": {},
     "output_type": "execute_result"
    }
   ],
   "source": [
    "ASI_Baseline.C4.describe()"
   ]
  },
  {
   "cell_type": "code",
   "execution_count": 503,
   "metadata": {},
   "outputs": [
    {
     "data": {
      "text/plain": [
       "Sex\n",
       "F    8.612440\n",
       "M    8.977273\n",
       "Name: C4, dtype: float64"
      ]
     },
     "execution_count": 503,
     "metadata": {},
     "output_type": "execute_result"
    }
   ],
   "source": [
    "ASI_Baseline.groupby('Sex')['C4'].mean()"
   ]
  },
  {
   "cell_type": "markdown",
   "metadata": {},
   "source": [
    "#### C4 similar for both genders"
   ]
  },
  {
   "cell_type": "code",
   "execution_count": 504,
   "metadata": {},
   "outputs": [
    {
     "data": {
      "text/plain": [
       "<matplotlib.axes._subplots.AxesSubplot at 0x2752a3fb8e0>"
      ]
     },
     "execution_count": 504,
     "metadata": {},
     "output_type": "execute_result"
    },
    {
     "data": {
      "image/png": "[encoded data removed]",
      "text/plain": [
       "<Figure size 432x288 with 1 Axes>"
      ]
     },
     "metadata": {
      "needs_background": "light"
     },
     "output_type": "display_data"
    }
   ],
   "source": [
    "sns.distplot(ASI_Baseline['C4'])"
   ]
  },
  {
   "cell_type": "code",
   "execution_count": 505,
   "metadata": {},
   "outputs": [
    {
     "data": {
      "text/plain": [
       "count    255.000000\n",
       "mean      47.666667\n",
       "std       56.439106\n",
       "min       11.000000\n",
       "25%       25.000000\n",
       "50%       32.000000\n",
       "75%       44.000000\n",
       "max      440.000000\n",
       "Name: Ctotal, dtype: float64"
      ]
     },
     "execution_count": 505,
     "metadata": {},
     "output_type": "execute_result"
    }
   ],
   "source": [
    "ASI_Baseline.Ctotal.describe()"
   ]
  },
  {
   "cell_type": "code",
   "execution_count": 506,
   "metadata": {},
   "outputs": [
    {
     "data": {
      "text/plain": [
       "Sex\n",
       "F    46.985714\n",
       "M    50.844444\n",
       "Name: Ctotal, dtype: float64"
      ]
     },
     "execution_count": 506,
     "metadata": {},
     "output_type": "execute_result"
    }
   ],
   "source": [
    "ASI_Baseline.groupby('Sex')['Ctotal'].mean()"
   ]
  },
  {
   "cell_type": "markdown",
   "metadata": {},
   "source": [
    "#### Ctotal higher for males"
   ]
  },
  {
   "cell_type": "code",
   "execution_count": 507,
   "metadata": {},
   "outputs": [
    {
     "data": {
      "text/plain": [
       "<matplotlib.axes._subplots.AxesSubplot at 0x2752a3fbdc0>"
      ]
     },
     "execution_count": 507,
     "metadata": {},
     "output_type": "execute_result"
    },
    {
     "data": {
      "image/png": "[encoded data removed]",
      "text/plain": [
       "<Figure size 432x288 with 1 Axes>"
      ]
     },
     "metadata": {
      "needs_background": "light"
     },
     "output_type": "display_data"
    }
   ],
   "source": [
    "sns.distplot(ASI_Baseline['Ctotal'])"
   ]
  },
  {
   "cell_type": "code",
   "execution_count": 508,
   "metadata": {},
   "outputs": [
    {
     "data": {
      "text/plain": [
       "count    250.000000\n",
       "mean       4.796000\n",
       "std        3.101105\n",
       "min        1.000000\n",
       "25%        3.000000\n",
       "50%        4.000000\n",
       "75%        6.000000\n",
       "max       18.000000\n",
       "Name: DHEA, dtype: float64"
      ]
     },
     "execution_count": 508,
     "metadata": {},
     "output_type": "execute_result"
    }
   ],
   "source": [
    "ASI_Baseline.DHEA.describe()"
   ]
  },
  {
   "cell_type": "code",
   "execution_count": 509,
   "metadata": {},
   "outputs": [
    {
     "data": {
      "text/plain": [
       "Sex\n",
       "F    4.626214\n",
       "M    5.590909\n",
       "Name: DHEA, dtype: float64"
      ]
     },
     "execution_count": 509,
     "metadata": {},
     "output_type": "execute_result"
    }
   ],
   "source": [
    "ASI_Baseline.groupby('Sex')['DHEA'].mean()"
   ]
  },
  {
   "cell_type": "markdown",
   "metadata": {},
   "source": [
    "#### DHEA higher for males"
   ]
  },
  {
   "cell_type": "code",
   "execution_count": 510,
   "metadata": {},
   "outputs": [
    {
     "data": {
      "text/plain": [
       "<matplotlib.axes._subplots.AxesSubplot at 0x2752a5c2f10>"
      ]
     },
     "execution_count": 510,
     "metadata": {},
     "output_type": "execute_result"
    },
    {
     "data": {
      "image/png": "[encoded data removed]",
      "text/plain": [
       "<Figure size 432x288 with 1 Axes>"
      ]
     },
     "metadata": {
      "needs_background": "light"
     },
     "output_type": "display_data"
    }
   ],
   "source": [
    "sns.distplot(ASI_Baseline['DHEA'])"
   ]
  },
  {
   "cell_type": "code",
   "execution_count": 511,
   "metadata": {},
   "outputs": [
    {
     "data": {
      "text/plain": [
       "count    237.000000\n",
       "mean       4.084388\n",
       "std        4.361966\n",
       "min        3.000000\n",
       "25%        3.000000\n",
       "50%        3.000000\n",
       "75%        3.000000\n",
       "max       50.000000\n",
       "Name: I1, dtype: float64"
      ]
     },
     "execution_count": 511,
     "metadata": {},
     "output_type": "execute_result"
    }
   ],
   "source": [
    "ASI_Baseline.I1.describe()"
   ]
  },
  {
   "cell_type": "code",
   "execution_count": 512,
   "metadata": {},
   "outputs": [
    {
     "data": {
      "text/plain": [
       "Sex\n",
       "F    4.076923\n",
       "M    4.119048\n",
       "Name: I1, dtype: float64"
      ]
     },
     "execution_count": 512,
     "metadata": {},
     "output_type": "execute_result"
    }
   ],
   "source": [
    "ASI_Baseline.groupby('Sex')['I1'].mean()"
   ]
  },
  {
   "cell_type": "markdown",
   "metadata": {},
   "source": [
    "#### I1 lower for females"
   ]
  },
  {
   "cell_type": "code",
   "execution_count": 513,
   "metadata": {},
   "outputs": [
    {
     "name": "stderr",
     "output_type": "stream",
     "text": [
      "C:\\Users\\Marty\\anaconda3\\lib\\site-packages\\seaborn\\distributions.py:369: UserWarning: Default bandwidth for data is 0; skipping density estimation.\n",
      "  warnings.warn(msg, UserWarning)\n"
     ]
    },
    {
     "data": {
      "text/plain": [
       "<matplotlib.axes._subplots.AxesSubplot at 0x2752a63e880>"
      ]
     },
     "execution_count": 513,
     "metadata": {},
     "output_type": "execute_result"
    },
    {
     "data": {
      "image/png": "[encoded data removed]",
      "text/plain": [
       "<Figure size 432x288 with 1 Axes>"
      ]
     },
     "metadata": {
      "needs_background": "light"
     },
     "output_type": "display_data"
    }
   ],
   "source": [
    "sns.distplot(ASI_Baseline['I1'])"
   ]
  },
  {
   "cell_type": "code",
   "execution_count": 514,
   "metadata": {},
   "outputs": [
    {
     "data": {
      "text/plain": [
       "count    243.000000\n",
       "mean       8.320988\n",
       "std       11.226254\n",
       "min        2.000000\n",
       "25%        3.000000\n",
       "50%        3.000000\n",
       "75%        7.000000\n",
       "max       50.000000\n",
       "Name: I2, dtype: float64"
      ]
     },
     "execution_count": 514,
     "metadata": {},
     "output_type": "execute_result"
    }
   ],
   "source": [
    "ASI_Baseline.I2.describe()"
   ]
  },
  {
   "cell_type": "code",
   "execution_count": 515,
   "metadata": {},
   "outputs": [
    {
     "data": {
      "text/plain": [
       "Sex\n",
       "F    8.110000\n",
       "M    9.302326\n",
       "Name: I2, dtype: float64"
      ]
     },
     "execution_count": 515,
     "metadata": {},
     "output_type": "execute_result"
    }
   ],
   "source": [
    "ASI_Baseline.groupby('Sex')['I2'].mean()"
   ]
  },
  {
   "cell_type": "markdown",
   "metadata": {},
   "source": [
    "#### I2 (Non-fasting) higher for men. Why?"
   ]
  },
  {
   "cell_type": "code",
   "execution_count": 516,
   "metadata": {},
   "outputs": [
    {
     "data": {
      "text/plain": [
       "<matplotlib.axes._subplots.AxesSubplot at 0x2752a6b7340>"
      ]
     },
     "execution_count": 516,
     "metadata": {},
     "output_type": "execute_result"
    },
    {
     "data": {
      "image/png": "[encoded data removed]",
      "text/plain": [
       "<Figure size 432x288 with 1 Axes>"
      ]
     },
     "metadata": {
      "needs_background": "light"
     },
     "output_type": "display_data"
    }
   ],
   "source": [
    "sns.distplot(ASI_Baseline['I2'])"
   ]
  },
  {
   "cell_type": "code",
   "execution_count": 517,
   "metadata": {},
   "outputs": [
    {
     "data": {
      "text/plain": [
       "count    246.000000\n",
       "mean      36.963415\n",
       "std       45.873414\n",
       "min        1.000000\n",
       "25%       18.000000\n",
       "50%       28.000000\n",
       "75%       40.000000\n",
       "max      500.000000\n",
       "Name: P17, dtype: float64"
      ]
     },
     "execution_count": 517,
     "metadata": {},
     "output_type": "execute_result"
    }
   ],
   "source": [
    "ASI_Baseline.P17.describe()"
   ]
  },
  {
   "cell_type": "code",
   "execution_count": 518,
   "metadata": {},
   "outputs": [
    {
     "data": {
      "text/plain": [
       "<matplotlib.axes._subplots.AxesSubplot at 0x2752a76b8b0>"
      ]
     },
     "execution_count": 518,
     "metadata": {},
     "output_type": "execute_result"
    },
    {
     "data": {
      "image/png": "[encoded data removed]",
      "text/plain": [
       "<Figure size 432x288 with 1 Axes>"
      ]
     },
     "metadata": {
      "needs_background": "light"
     },
     "output_type": "display_data"
    }
   ],
   "source": [
    "sns.distplot(ASI_Baseline['P17'])"
   ]
  },
  {
   "cell_type": "code",
   "execution_count": 519,
   "metadata": {},
   "outputs": [
    {
     "data": {
      "text/plain": [
       "Sex\n",
       "F    37.683168\n",
       "M    33.659091\n",
       "Name: P17, dtype: float64"
      ]
     },
     "execution_count": 519,
     "metadata": {},
     "output_type": "execute_result"
    }
   ],
   "source": [
    "ASI_Baseline.groupby('Sex')['P17'].mean()"
   ]
  },
  {
   "cell_type": "markdown",
   "metadata": {},
   "source": [
    "#### P17 higher for females. What does this mean?"
   ]
  },
  {
   "cell_type": "code",
   "execution_count": 520,
   "metadata": {},
   "outputs": [
    {
     "data": {
      "text/plain": [
       "count    248.000000\n",
       "mean       9.471774\n",
       "std        6.725323\n",
       "min        5.000000\n",
       "25%        5.000000\n",
       "50%        7.000000\n",
       "75%       11.000000\n",
       "max       60.000000\n",
       "Name: TIgA, dtype: float64"
      ]
     },
     "execution_count": 520,
     "metadata": {},
     "output_type": "execute_result"
    }
   ],
   "source": [
    "ASI_Baseline.TIgA.describe()"
   ]
  },
  {
   "cell_type": "code",
   "execution_count": 521,
   "metadata": {},
   "outputs": [
    {
     "data": {
      "text/plain": [
       "Sex\n",
       "F     9.214634\n",
       "M    10.697674\n",
       "Name: TIgA, dtype: float64"
      ]
     },
     "execution_count": 521,
     "metadata": {},
     "output_type": "execute_result"
    }
   ],
   "source": [
    "ASI_Baseline.groupby('Sex')['TIgA'].mean()"
   ]
  },
  {
   "cell_type": "markdown",
   "metadata": {},
   "source": [
    "#### TIgA higher for men. What does this mean?"
   ]
  },
  {
   "cell_type": "code",
   "execution_count": 522,
   "metadata": {},
   "outputs": [
    {
     "data": {
      "text/plain": [
       "<matplotlib.axes._subplots.AxesSubplot at 0x2752a820490>"
      ]
     },
     "execution_count": 522,
     "metadata": {},
     "output_type": "execute_result"
    },
    {
     "data": {
      "image/png": "[encoded data removed]",
      "text/plain": [
       "<Figure size 432x288 with 1 Axes>"
      ]
     },
     "metadata": {
      "needs_background": "light"
     },
     "output_type": "display_data"
    }
   ],
   "source": [
    "sns.distplot(ASI_Baseline['TIgA'])"
   ]
  },
  {
   "cell_type": "code",
   "execution_count": 523,
   "metadata": {},
   "outputs": [
    {
     "data": {
      "text/plain": [
       "count    245.000000\n",
       "mean      10.526531\n",
       "std       10.833516\n",
       "min        1.000000\n",
       "25%        4.000000\n",
       "50%        8.000000\n",
       "75%       12.000000\n",
       "max       60.000000\n",
       "Name: GIgA, dtype: float64"
      ]
     },
     "execution_count": 523,
     "metadata": {},
     "output_type": "execute_result"
    }
   ],
   "source": [
    "ASI_Baseline.GIgA.describe()"
   ]
  },
  {
   "cell_type": "code",
   "execution_count": 524,
   "metadata": {},
   "outputs": [
    {
     "data": {
      "text/plain": [
       "Sex\n",
       "F    10.376238\n",
       "M    11.232558\n",
       "Name: GIgA, dtype: float64"
      ]
     },
     "execution_count": 524,
     "metadata": {},
     "output_type": "execute_result"
    }
   ],
   "source": [
    "ASI_Baseline.groupby('Sex')['GIgA'].mean()"
   ]
  },
  {
   "cell_type": "markdown",
   "metadata": {},
   "source": [
    "#### GIgA possibly higher for men. Why?"
   ]
  },
  {
   "cell_type": "code",
   "execution_count": 525,
   "metadata": {},
   "outputs": [
    {
     "data": {
      "text/plain": [
       "<matplotlib.axes._subplots.AxesSubplot at 0x2752a8da730>"
      ]
     },
     "execution_count": 525,
     "metadata": {},
     "output_type": "execute_result"
    },
    {
     "data": {
      "image/png": "[encoded data removed]",
      "text/plain": [
       "<Figure size 432x288 with 1 Axes>"
      ]
     },
     "metadata": {
      "needs_background": "light"
     },
     "output_type": "display_data"
    }
   ],
   "source": [
    "sns.distplot(ASI_Baseline['GIgA'])"
   ]
  },
  {
   "cell_type": "markdown",
   "metadata": {},
   "source": [
    "## Correlation matrix"
   ]
  },
  {
   "cell_type": "code",
   "execution_count": 526,
   "metadata": {},
   "outputs": [
    {
     "data": {
      "text/html": [
       "<div>\n",
       "<style scoped>\n",
       "    .dataframe tbody tr th:only-of-type {\n",
       "        vertical-align: middle;\n",
       "    }\n",
       "\n",
       "    .dataframe tbody tr th {\n",
       "        vertical-align: top;\n",
       "    }\n",
       "\n",
       "    .dataframe thead th {\n",
       "        text-align: right;\n",
       "    }\n",
       "</style>\n",
       "<table border=\"1\" class=\"dataframe\">\n",
       "  <thead>\n",
       "    <tr style=\"text-align: right;\">\n",
       "      <th></th>\n",
       "      <th>Age</th>\n",
       "      <th>C1</th>\n",
       "      <th>C2</th>\n",
       "      <th>C3</th>\n",
       "      <th>C4</th>\n",
       "      <th>Ctotal</th>\n",
       "      <th>DHEA</th>\n",
       "      <th>P17</th>\n",
       "      <th>TIgA</th>\n",
       "      <th>GIgA</th>\n",
       "    </tr>\n",
       "  </thead>\n",
       "  <tbody>\n",
       "    <tr>\n",
       "      <th>Age</th>\n",
       "      <td>1.000000</td>\n",
       "      <td>0.025566</td>\n",
       "      <td>0.045956</td>\n",
       "      <td>0.072324</td>\n",
       "      <td>0.041601</td>\n",
       "      <td>0.053564</td>\n",
       "      <td>-0.386766</td>\n",
       "      <td>-0.093196</td>\n",
       "      <td>0.171756</td>\n",
       "      <td>0.196258</td>\n",
       "    </tr>\n",
       "    <tr>\n",
       "      <th>C1</th>\n",
       "      <td>0.025566</td>\n",
       "      <td>1.000000</td>\n",
       "      <td>0.483485</td>\n",
       "      <td>0.599820</td>\n",
       "      <td>0.616121</td>\n",
       "      <td>0.830141</td>\n",
       "      <td>0.125835</td>\n",
       "      <td>0.274706</td>\n",
       "      <td>0.031209</td>\n",
       "      <td>0.047263</td>\n",
       "    </tr>\n",
       "    <tr>\n",
       "      <th>C2</th>\n",
       "      <td>0.045956</td>\n",
       "      <td>0.483485</td>\n",
       "      <td>1.000000</td>\n",
       "      <td>0.695265</td>\n",
       "      <td>0.563436</td>\n",
       "      <td>0.806931</td>\n",
       "      <td>0.047779</td>\n",
       "      <td>0.141973</td>\n",
       "      <td>0.105718</td>\n",
       "      <td>0.110106</td>\n",
       "    </tr>\n",
       "    <tr>\n",
       "      <th>C3</th>\n",
       "      <td>0.072324</td>\n",
       "      <td>0.599820</td>\n",
       "      <td>0.695265</td>\n",
       "      <td>1.000000</td>\n",
       "      <td>0.622429</td>\n",
       "      <td>0.857741</td>\n",
       "      <td>0.098761</td>\n",
       "      <td>0.110452</td>\n",
       "      <td>0.200982</td>\n",
       "      <td>0.095232</td>\n",
       "    </tr>\n",
       "    <tr>\n",
       "      <th>C4</th>\n",
       "      <td>0.041601</td>\n",
       "      <td>0.616121</td>\n",
       "      <td>0.563436</td>\n",
       "      <td>0.622429</td>\n",
       "      <td>1.000000</td>\n",
       "      <td>0.841685</td>\n",
       "      <td>0.018278</td>\n",
       "      <td>0.249511</td>\n",
       "      <td>0.080988</td>\n",
       "      <td>0.094610</td>\n",
       "    </tr>\n",
       "    <tr>\n",
       "      <th>Ctotal</th>\n",
       "      <td>0.053564</td>\n",
       "      <td>0.830141</td>\n",
       "      <td>0.806931</td>\n",
       "      <td>0.857741</td>\n",
       "      <td>0.841685</td>\n",
       "      <td>1.000000</td>\n",
       "      <td>0.086116</td>\n",
       "      <td>0.242108</td>\n",
       "      <td>0.117440</td>\n",
       "      <td>0.101999</td>\n",
       "    </tr>\n",
       "    <tr>\n",
       "      <th>DHEA</th>\n",
       "      <td>-0.386766</td>\n",
       "      <td>0.125835</td>\n",
       "      <td>0.047779</td>\n",
       "      <td>0.098761</td>\n",
       "      <td>0.018278</td>\n",
       "      <td>0.086116</td>\n",
       "      <td>1.000000</td>\n",
       "      <td>0.035795</td>\n",
       "      <td>0.075867</td>\n",
       "      <td>-0.075669</td>\n",
       "    </tr>\n",
       "    <tr>\n",
       "      <th>P17</th>\n",
       "      <td>-0.093196</td>\n",
       "      <td>0.274706</td>\n",
       "      <td>0.141973</td>\n",
       "      <td>0.110452</td>\n",
       "      <td>0.249511</td>\n",
       "      <td>0.242108</td>\n",
       "      <td>0.035795</td>\n",
       "      <td>1.000000</td>\n",
       "      <td>0.007202</td>\n",
       "      <td>-0.043416</td>\n",
       "    </tr>\n",
       "    <tr>\n",
       "      <th>TIgA</th>\n",
       "      <td>0.171756</td>\n",
       "      <td>0.031209</td>\n",
       "      <td>0.105718</td>\n",
       "      <td>0.200982</td>\n",
       "      <td>0.080988</td>\n",
       "      <td>0.117440</td>\n",
       "      <td>0.075867</td>\n",
       "      <td>0.007202</td>\n",
       "      <td>1.000000</td>\n",
       "      <td>0.336182</td>\n",
       "    </tr>\n",
       "    <tr>\n",
       "      <th>GIgA</th>\n",
       "      <td>0.196258</td>\n",
       "      <td>0.047263</td>\n",
       "      <td>0.110106</td>\n",
       "      <td>0.095232</td>\n",
       "      <td>0.094610</td>\n",
       "      <td>0.101999</td>\n",
       "      <td>-0.075669</td>\n",
       "      <td>-0.043416</td>\n",
       "      <td>0.336182</td>\n",
       "      <td>1.000000</td>\n",
       "    </tr>\n",
       "  </tbody>\n",
       "</table>\n",
       "</div>"
      ],
      "text/plain": [
       "             Age        C1        C2        C3        C4    Ctotal      DHEA  \\\n",
       "Age     1.000000  0.025566  0.045956  0.072324  0.041601  0.053564 -0.386766   \n",
       "C1      0.025566  1.000000  0.483485  0.599820  0.616121  0.830141  0.125835   \n",
       "C2      0.045956  0.483485  1.000000  0.695265  0.563436  0.806931  0.047779   \n",
       "C3      0.072324  0.599820  0.695265  1.000000  0.622429  0.857741  0.098761   \n",
       "C4      0.041601  0.616121  0.563436  0.622429  1.000000  0.841685  0.018278   \n",
       "Ctotal  0.053564  0.830141  0.806931  0.857741  0.841685  1.000000  0.086116   \n",
       "DHEA   -0.386766  0.125835  0.047779  0.098761  0.018278  0.086116  1.000000   \n",
       "P17    -0.093196  0.274706  0.141973  0.110452  0.249511  0.242108  0.035795   \n",
       "TIgA    0.171756  0.031209  0.105718  0.200982  0.080988  0.117440  0.075867   \n",
       "GIgA    0.196258  0.047263  0.110106  0.095232  0.094610  0.101999 -0.075669   \n",
       "\n",
       "             P17      TIgA      GIgA  \n",
       "Age    -0.093196  0.171756  0.196258  \n",
       "C1      0.274706  0.031209  0.047263  \n",
       "C2      0.141973  0.105718  0.110106  \n",
       "C3      0.110452  0.200982  0.095232  \n",
       "C4      0.249511  0.080988  0.094610  \n",
       "Ctotal  0.242108  0.117440  0.101999  \n",
       "DHEA    0.035795  0.075867 -0.075669  \n",
       "P17     1.000000  0.007202 -0.043416  \n",
       "TIgA    0.007202  1.000000  0.336182  \n",
       "GIgA   -0.043416  0.336182  1.000000  "
      ]
     },
     "execution_count": 526,
     "metadata": {},
     "output_type": "execute_result"
    }
   ],
   "source": [
    "ASI_Baseline[['Age', 'C1', 'C2', 'C3', 'C4', 'Ctotal', 'DHEA', 'P17', 'TIgA', 'GIgA']].corr()"
   ]
  },
  {
   "cell_type": "code",
   "execution_count": 527,
   "metadata": {},
   "outputs": [
    {
     "data": {
      "image/png": "[encoded data removed]",
      "text/plain": [
       "<Figure size 432x288 with 1 Axes>"
      ]
     },
     "metadata": {
      "needs_background": "light"
     },
     "output_type": "display_data"
    }
   ],
   "source": [
    "PlotAgeDHEA = ASI_Baseline.plot.scatter( x = 'Age', y = 'DHEA')"
   ]
  },
  {
   "cell_type": "code",
   "execution_count": 528,
   "metadata": {},
   "outputs": [
    {
     "data": {
      "image/png": "[encoded data removed]",
      "text/plain": [
       "<Figure size 432x288 with 1 Axes>"
      ]
     },
     "metadata": {
      "needs_background": "light"
     },
     "output_type": "display_data"
    }
   ],
   "source": [
    "PlotC1Ctotal = ASI_Baseline.plot.scatter( x = 'C1', y = 'Ctotal')"
   ]
  },
  {
   "cell_type": "code",
   "execution_count": 529,
   "metadata": {},
   "outputs": [
    {
     "data": {
      "image/png": "[encoded data removed]",
      "text/plain": [
       "<Figure size 432x288 with 1 Axes>"
      ]
     },
     "metadata": {
      "needs_background": "light"
     },
     "output_type": "display_data"
    }
   ],
   "source": [
    "PlotC2Ctotal = ASI_Baseline.plot.scatter( x = 'C2', y = 'Ctotal')"
   ]
  },
  {
   "cell_type": "code",
   "execution_count": 530,
   "metadata": {},
   "outputs": [
    {
     "data": {
      "image/png": "[encoded data removed]",
      "text/plain": [
       "<Figure size 432x288 with 1 Axes>"
      ]
     },
     "metadata": {
      "needs_background": "light"
     },
     "output_type": "display_data"
    }
   ],
   "source": [
    "PlotC3Ctotal = ASI_Baseline.plot.scatter( x = 'C3', y = 'Ctotal')"
   ]
  },
  {
   "cell_type": "code",
   "execution_count": 531,
   "metadata": {},
   "outputs": [
    {
     "data": {
      "image/png": "[encoded data removed]",
      "text/plain": [
       "<Figure size 432x288 with 1 Axes>"
      ]
     },
     "metadata": {
      "needs_background": "light"
     },
     "output_type": "display_data"
    }
   ],
   "source": [
    "PlotC4Ctotal = ASI_Baseline.plot.scatter( x = 'C4', y = 'Ctotal')"
   ]
  },
  {
   "cell_type": "code",
   "execution_count": 532,
   "metadata": {},
   "outputs": [
    {
     "data": {
      "image/png": "[encoded data removed]",
      "text/plain": [
       "<Figure size 432x288 with 1 Axes>"
      ]
     },
     "metadata": {
      "needs_background": "light"
     },
     "output_type": "display_data"
    }
   ],
   "source": [
    "PlotC1C3 = ASI_Baseline.plot.scatter( x = 'C1', y = 'C3')"
   ]
  },
  {
   "cell_type": "code",
   "execution_count": 533,
   "metadata": {},
   "outputs": [
    {
     "data": {
      "image/png": "[encoded data removed]",
      "text/plain": [
       "<Figure size 432x288 with 1 Axes>"
      ]
     },
     "metadata": {
      "needs_background": "light"
     },
     "output_type": "display_data"
    }
   ],
   "source": [
    "PlotC1C4 = ASI_Baseline.plot.scatter( x = 'C1', y = 'C4')"
   ]
  },
  {
   "cell_type": "code",
   "execution_count": 534,
   "metadata": {},
   "outputs": [
    {
     "data": {
      "image/png": "[encoded data removed]",
      "text/plain": [
       "<Figure size 432x288 with 1 Axes>"
      ]
     },
     "metadata": {
      "needs_background": "light"
     },
     "output_type": "display_data"
    }
   ],
   "source": [
    "PlotC2C3 = ASI_Baseline.plot.scatter( x = 'C2', y = 'C3')"
   ]
  },
  {
   "cell_type": "code",
   "execution_count": 535,
   "metadata": {},
   "outputs": [
    {
     "data": {
      "image/png": "[encoded data removed]",
      "text/plain": [
       "<Figure size 432x288 with 1 Axes>"
      ]
     },
     "metadata": {
      "needs_background": "light"
     },
     "output_type": "display_data"
    }
   ],
   "source": [
    "PlotC2C4 = ASI_Baseline.plot.scatter( x = 'C2', y = 'C4')"
   ]
  },
  {
   "cell_type": "code",
   "execution_count": 536,
   "metadata": {},
   "outputs": [
    {
     "data": {
      "image/png": "[encoded data removed]",
      "text/plain": [
       "<Figure size 432x288 with 1 Axes>"
      ]
     },
     "metadata": {
      "needs_background": "light"
     },
     "output_type": "display_data"
    }
   ],
   "source": [
    "PlotC3C4 = ASI_Baseline.plot.scatter( x = 'C3', y = 'C4')"
   ]
  },
  {
   "cell_type": "markdown",
   "metadata": {},
   "source": [
    "#### What to do with the outiers? Mark says some of these are patients in a diseased state such as adrenal or pituitary tumor and/or possible hormone overdose."
   ]
  },
  {
   "cell_type": "code",
   "execution_count": 537,
   "metadata": {},
   "outputs": [
    {
     "data": {
      "text/plain": [
       "Text(0, 0.5, 'Frequency')"
      ]
     },
     "execution_count": 537,
     "metadata": {},
     "output_type": "execute_result"
    },
    {
     "data": {
      "image/png": "[encoded data removed]",
      "text/plain": [
       "<Figure size 432x288 with 1 Axes>"
      ]
     },
     "metadata": {
      "needs_background": "light"
     },
     "output_type": "display_data"
    }
   ],
   "source": [
    "BarC1RV = ASI_Baseline['AgeCat'].value_counts().plot(kind = 'bar')\n",
    "BarC1RV.set_title(\"Frequencies of Age Categories\")\n",
    "BarC1RV.set_xlabel(\"Age Categories\")\n",
    "BarC1RV.set_ylabel(\"Frequency\")"
   ]
  },
  {
   "cell_type": "code",
   "execution_count": 538,
   "metadata": {},
   "outputs": [
    {
     "data": {
      "text/plain": [
       "Text(0, 0.5, 'Frequency')"
      ]
     },
     "execution_count": 538,
     "metadata": {},
     "output_type": "execute_result"
    },
    {
     "data": {
      "image/png": "[encoded data removed]",
      "text/plain": [
       "<Figure size 432x288 with 1 Axes>"
      ]
     },
     "metadata": {
      "needs_background": "light"
     },
     "output_type": "display_data"
    }
   ],
   "source": [
    "BarC1RV = ASI_Baseline['C1RV'].value_counts().plot(kind = 'bar')\n",
    "BarC1RV.set_title(\"Frequencies of C1 Levels\")\n",
    "BarC1RV.set_xlabel(\"C1 Levels\")\n",
    "BarC1RV.set_ylabel(\"Frequency\")"
   ]
  },
  {
   "cell_type": "markdown",
   "metadata": {},
   "source": [
    "#### Depressed C1 is common in the population"
   ]
  },
  {
   "cell_type": "code",
   "execution_count": 539,
   "metadata": {},
   "outputs": [
    {
     "data": {
      "text/plain": [
       "Text(0, 0.5, 'Frequency')"
      ]
     },
     "execution_count": 539,
     "metadata": {},
     "output_type": "execute_result"
    },
    {
     "data": {
      "image/png": "[encoded data removed]",
      "text/plain": [
       "<Figure size 432x288 with 1 Axes>"
      ]
     },
     "metadata": {
      "needs_background": "light"
     },
     "output_type": "display_data"
    }
   ],
   "source": [
    "BarC1RV = ASI_Baseline['C2RV'].value_counts().plot(kind = 'bar')\n",
    "BarC1RV.set_title(\"Frequencies of C2 Levels\")\n",
    "BarC1RV.set_xlabel(\"C2 Levels\")\n",
    "BarC1RV.set_ylabel(\"Frequency\")"
   ]
  },
  {
   "cell_type": "code",
   "execution_count": 540,
   "metadata": {},
   "outputs": [
    {
     "data": {
      "text/plain": [
       "Text(0, 0.5, 'Frequency')"
      ]
     },
     "execution_count": 540,
     "metadata": {},
     "output_type": "execute_result"
    },
    {
     "data": {
      "image/png": "[encoded data removed]",
      "text/plain": [
       "<Figure size 432x288 with 1 Axes>"
      ]
     },
     "metadata": {
      "needs_background": "light"
     },
     "output_type": "display_data"
    }
   ],
   "source": [
    "BarC1RV = ASI_Baseline['C3RV'].value_counts().plot(kind = 'bar')\n",
    "BarC1RV.set_title(\"Frequencies of C3 Levels\")\n",
    "BarC1RV.set_xlabel(\"C3 Levels\")\n",
    "BarC1RV.set_ylabel(\"Frequency\")"
   ]
  },
  {
   "cell_type": "code",
   "execution_count": 541,
   "metadata": {},
   "outputs": [
    {
     "data": {
      "text/plain": [
       "Text(0, 0.5, 'Frequency')"
      ]
     },
     "execution_count": 541,
     "metadata": {},
     "output_type": "execute_result"
    },
    {
     "data": {
      "image/png": "[encoded data removed]",
      "text/plain": [
       "<Figure size 432x288 with 1 Axes>"
      ]
     },
     "metadata": {
      "needs_background": "light"
     },
     "output_type": "display_data"
    }
   ],
   "source": [
    "BarC1RV = ASI_Baseline['C4RV'].value_counts().plot(kind = 'bar')\n",
    "BarC1RV.set_title(\"Frequencies of C4 Levels\")\n",
    "BarC1RV.set_xlabel(\"C4 Levels\")\n",
    "BarC1RV.set_ylabel(\"Frequency\")"
   ]
  },
  {
   "cell_type": "markdown",
   "metadata": {},
   "source": [
    "#### Elevated C4 is common"
   ]
  },
  {
   "cell_type": "code",
   "execution_count": 542,
   "metadata": {},
   "outputs": [
    {
     "data": {
      "text/plain": [
       "Text(0, 0.5, 'Frequency')"
      ]
     },
     "execution_count": 542,
     "metadata": {},
     "output_type": "execute_result"
    },
    {
     "data": {
      "image/png": "[encoded data removed]",
      "text/plain": [
       "<Figure size 432x288 with 1 Axes>"
      ]
     },
     "metadata": {
      "needs_background": "light"
     },
     "output_type": "display_data"
    }
   ],
   "source": [
    "BarC1RV = ASI_Baseline['CtotalRV'].value_counts().plot(kind = 'bar')\n",
    "BarC1RV.set_title(\"Frequencies of Ctotal Levels\")\n",
    "BarC1RV.set_xlabel(\"Ctotal Levels\")\n",
    "BarC1RV.set_ylabel(\"Frequency\")"
   ]
  },
  {
   "cell_type": "code",
   "execution_count": 543,
   "metadata": {},
   "outputs": [
    {
     "data": {
      "text/plain": [
       "Text(0, 0.5, 'Frequency')"
      ]
     },
     "execution_count": 543,
     "metadata": {},
     "output_type": "execute_result"
    },
    {
     "data": {
      "image/png": "[encoded data removed]",
      "text/plain": [
       "<Figure size 432x288 with 1 Axes>"
      ]
     },
     "metadata": {
      "needs_background": "light"
     },
     "output_type": "display_data"
    }
   ],
   "source": [
    "BarC1RV = ASI_Baseline['DHEARV'].value_counts().plot(kind = 'bar')\n",
    "BarC1RV.set_title(\"Frequencies of DHEA Levels\")\n",
    "BarC1RV.set_xlabel(\"DHEA Levels\")\n",
    "BarC1RV.set_ylabel(\"Frequency\")"
   ]
  },
  {
   "cell_type": "code",
   "execution_count": 544,
   "metadata": {},
   "outputs": [
    {
     "data": {
      "text/plain": [
       "Text(0, 0.5, 'Frequency')"
      ]
     },
     "execution_count": 544,
     "metadata": {},
     "output_type": "execute_result"
    },
    {
     "data": {
      "image/png": "[encoded data removed]",
      "text/plain": [
       "<Figure size 432x288 with 1 Axes>"
      ]
     },
     "metadata": {
      "needs_background": "light"
     },
     "output_type": "display_data"
    }
   ],
   "source": [
    "BarC1RV = ASI_Baseline['P17RV'].value_counts().plot(kind = 'bar')\n",
    "BarC1RV.set_title(\"Frequencies of P17 Levels\")\n",
    "BarC1RV.set_xlabel(\"P17Levels\")\n",
    "BarC1RV.set_ylabel(\"Frequency\")"
   ]
  },
  {
   "cell_type": "markdown",
   "metadata": {},
   "source": [
    "#### Depressed P17 is common in the population"
   ]
  },
  {
   "cell_type": "code",
   "execution_count": 545,
   "metadata": {},
   "outputs": [
    {
     "data": {
      "text/plain": [
       "Text(0, 0.5, 'Frequency')"
      ]
     },
     "execution_count": 545,
     "metadata": {},
     "output_type": "execute_result"
    },
    {
     "data": {
      "image/png": "[encoded data removed]",
      "text/plain": [
       "<Figure size 432x288 with 1 Axes>"
      ]
     },
     "metadata": {
      "needs_background": "light"
     },
     "output_type": "display_data"
    }
   ],
   "source": [
    "BarC1RV = ASI_Baseline['TIgARV'].value_counts().plot(kind = 'bar')\n",
    "BarC1RV.set_title(\"Frequencies of TIgA Levels\")\n",
    "BarC1RV.set_xlabel(\"TIgA Levels\")\n",
    "BarC1RV.set_ylabel(\"Frequency\")"
   ]
  },
  {
   "cell_type": "markdown",
   "metadata": {},
   "source": [
    "#### Borderline low TIgA is very common in the population--stressed people often have reduced immunity"
   ]
  },
  {
   "cell_type": "code",
   "execution_count": 546,
   "metadata": {},
   "outputs": [
    {
     "data": {
      "text/plain": [
       "Text(0, 0.5, 'Frequency')"
      ]
     },
     "execution_count": 546,
     "metadata": {},
     "output_type": "execute_result"
    },
    {
     "data": {
      "image/png": "[encoded data removed]",
      "text/plain": [
       "<Figure size 432x288 with 1 Axes>"
      ]
     },
     "metadata": {
      "needs_background": "light"
     },
     "output_type": "display_data"
    }
   ],
   "source": [
    "BarC1RV = ASI_Baseline['GIgARV'].value_counts().plot(kind = 'bar')\n",
    "BarC1RV.set_title(\"Frequencies of GIgA Levels\")\n",
    "BarC1RV.set_xlabel(\"GIgA Levels\")\n",
    "BarC1RV.set_ylabel(\"Frequency\")"
   ]
  },
  {
   "cell_type": "markdown",
   "metadata": {},
   "source": [
    "#### Looks like about one-fourth of this population are suspected of being gluten intolerant"
   ]
  },
  {
   "cell_type": "markdown",
   "metadata": {},
   "source": [
    "#### Create side-by-side bar charts for the CRV variables for males and females in Tableau"
   ]
  },
  {
   "cell_type": "code",
   "execution_count": null,
   "metadata": {},
   "outputs": [],
   "source": []
  }
 ],
 "metadata": {
  "kernelspec": {
   "display_name": "Python 3",
   "language": "python",
   "name": "python3"
  },
  "language_info": {
   "codemirror_mode": {
    "name": "ipython",
    "version": 3
   },
   "file_extension": ".py",
   "mimetype": "text/x-python",
   "name": "python",
   "nbconvert_exporter": "python",
   "pygments_lexer": "ipython3",
   "version": "3.8.3"
  }
 },
 "nbformat": 4,
 "nbformat_minor": 4
}
