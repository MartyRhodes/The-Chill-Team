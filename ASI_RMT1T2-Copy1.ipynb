{
 "cells": [
  {
   "cell_type": "code",
   "execution_count": 7,
   "metadata": {},
   "outputs": [],
   "source": [
    "import pandas as pd\n",
    "import seaborn as sns\n",
    "import numpy as np\n",
    "from scipy import stats\n",
    "from scipy.stats import boxcox"
   ]
  },
  {
   "cell_type": "code",
   "execution_count": 8,
   "metadata": {},
   "outputs": [],
   "source": [
    "ASI_RMT1T2 = pd.read_csv('C:/Users/matth/Desktop/Final/The-Chill-Team/ASI_RMT1T2.csv')"
   ]
  },
  {
   "cell_type": "code",
   "execution_count": 9,
   "metadata": {},
   "outputs": [
    {
     "data": {
      "text/html": [
       "<div>\n",
       "<style scoped>\n",
       "    .dataframe tbody tr th:only-of-type {\n",
       "        vertical-align: middle;\n",
       "    }\n",
       "\n",
       "    .dataframe tbody tr th {\n",
       "        vertical-align: top;\n",
       "    }\n",
       "\n",
       "    .dataframe thead th {\n",
       "        text-align: right;\n",
       "    }\n",
       "</style>\n",
       "<table border=\"1\" class=\"dataframe\">\n",
       "  <thead>\n",
       "    <tr style=\"text-align: right;\">\n",
       "      <th></th>\n",
       "      <th>ID1</th>\n",
       "      <th>ID2</th>\n",
       "      <th>ID</th>\n",
       "      <th>FirstN</th>\n",
       "      <th>LastN</th>\n",
       "      <th>CDate</th>\n",
       "      <th>Time</th>\n",
       "      <th>Age</th>\n",
       "      <th>Sex</th>\n",
       "      <th>C1</th>\n",
       "      <th>C2</th>\n",
       "      <th>C3</th>\n",
       "      <th>C4</th>\n",
       "      <th>Ctotal</th>\n",
       "      <th>DHEA</th>\n",
       "      <th>I1</th>\n",
       "      <th>I2</th>\n",
       "      <th>P17</th>\n",
       "      <th>TIgA</th>\n",
       "      <th>GIgA</th>\n",
       "    </tr>\n",
       "  </thead>\n",
       "  <tbody>\n",
       "    <tr>\n",
       "      <th>0</th>\n",
       "      <td>10</td>\n",
       "      <td>78255</td>\n",
       "      <td>10-78255</td>\n",
       "      <td>Mark</td>\n",
       "      <td>Anderson</td>\n",
       "      <td>8/2/2010</td>\n",
       "      <td>T1</td>\n",
       "      <td>55</td>\n",
       "      <td>M</td>\n",
       "      <td>19</td>\n",
       "      <td>8</td>\n",
       "      <td>12</td>\n",
       "      <td>8</td>\n",
       "      <td>47</td>\n",
       "      <td>4</td>\n",
       "      <td>3.0</td>\n",
       "      <td>23.0</td>\n",
       "      <td>28</td>\n",
       "      <td>9</td>\n",
       "      <td>5</td>\n",
       "    </tr>\n",
       "    <tr>\n",
       "      <th>1</th>\n",
       "      <td>10</td>\n",
       "      <td>124893</td>\n",
       "      <td>10-124893</td>\n",
       "      <td>Mark</td>\n",
       "      <td>Anderson</td>\n",
       "      <td>12/5/2010</td>\n",
       "      <td>T2</td>\n",
       "      <td>55</td>\n",
       "      <td>M</td>\n",
       "      <td>9</td>\n",
       "      <td>6</td>\n",
       "      <td>7</td>\n",
       "      <td>3</td>\n",
       "      <td>25</td>\n",
       "      <td>4</td>\n",
       "      <td>3.0</td>\n",
       "      <td>20.0</td>\n",
       "      <td>26</td>\n",
       "      <td>5</td>\n",
       "      <td>3</td>\n",
       "    </tr>\n",
       "    <tr>\n",
       "      <th>2</th>\n",
       "      <td>13</td>\n",
       "      <td>41439</td>\n",
       "      <td>13-41439</td>\n",
       "      <td>Diane</td>\n",
       "      <td>Asmuth</td>\n",
       "      <td>5/13/2013</td>\n",
       "      <td>T1</td>\n",
       "      <td>55</td>\n",
       "      <td>F</td>\n",
       "      <td>7</td>\n",
       "      <td>3</td>\n",
       "      <td>3</td>\n",
       "      <td>11</td>\n",
       "      <td>24</td>\n",
       "      <td>2</td>\n",
       "      <td>3.0</td>\n",
       "      <td>3.0</td>\n",
       "      <td>16</td>\n",
       "      <td>6</td>\n",
       "      <td>12</td>\n",
       "    </tr>\n",
       "    <tr>\n",
       "      <th>3</th>\n",
       "      <td>14</td>\n",
       "      <td>52939</td>\n",
       "      <td>14-52939</td>\n",
       "      <td>Diane</td>\n",
       "      <td>Asmuth</td>\n",
       "      <td>6/24/2014</td>\n",
       "      <td>T2</td>\n",
       "      <td>56</td>\n",
       "      <td>F</td>\n",
       "      <td>10</td>\n",
       "      <td>4</td>\n",
       "      <td>5</td>\n",
       "      <td>2</td>\n",
       "      <td>21</td>\n",
       "      <td>4</td>\n",
       "      <td>3.0</td>\n",
       "      <td>3.0</td>\n",
       "      <td>25</td>\n",
       "      <td>9</td>\n",
       "      <td>2</td>\n",
       "    </tr>\n",
       "    <tr>\n",
       "      <th>4</th>\n",
       "      <td>14</td>\n",
       "      <td>97689</td>\n",
       "      <td>14-97689</td>\n",
       "      <td>Deborah</td>\n",
       "      <td>Baimas</td>\n",
       "      <td>12/1/2014</td>\n",
       "      <td>T1</td>\n",
       "      <td>50</td>\n",
       "      <td>F</td>\n",
       "      <td>5</td>\n",
       "      <td>3</td>\n",
       "      <td>2</td>\n",
       "      <td>1</td>\n",
       "      <td>11</td>\n",
       "      <td>2</td>\n",
       "      <td>3.0</td>\n",
       "      <td>5.0</td>\n",
       "      <td>43</td>\n",
       "      <td>11</td>\n",
       "      <td>21</td>\n",
       "    </tr>\n",
       "  </tbody>\n",
       "</table>\n",
       "</div>"
      ],
      "text/plain": [
       "   ID1     ID2         ID   FirstN     LastN      CDate Time  Age Sex  C1  C2  \\\n",
       "0   10   78255   10-78255     Mark  Anderson   8/2/2010   T1   55   M  19   8   \n",
       "1   10  124893  10-124893     Mark  Anderson  12/5/2010   T2   55   M   9   6   \n",
       "2   13   41439   13-41439    Diane    Asmuth  5/13/2013   T1   55   F   7   3   \n",
       "3   14   52939   14-52939    Diane    Asmuth  6/24/2014   T2   56   F  10   4   \n",
       "4   14   97689   14-97689  Deborah    Baimas  12/1/2014   T1   50   F   5   3   \n",
       "\n",
       "   C3  C4  Ctotal  DHEA   I1    I2  P17  TIgA  GIgA  \n",
       "0  12   8      47     4  3.0  23.0   28     9     5  \n",
       "1   7   3      25     4  3.0  20.0   26     5     3  \n",
       "2   3  11      24     2  3.0   3.0   16     6    12  \n",
       "3   5   2      21     4  3.0   3.0   25     9     2  \n",
       "4   2   1      11     2  3.0   5.0   43    11    21  "
      ]
     },
     "execution_count": 9,
     "metadata": {},
     "output_type": "execute_result"
    }
   ],
   "source": [
    "ASI_RMT1T2.head()"
   ]
  },
  {
   "cell_type": "code",
   "execution_count": 10,
   "metadata": {},
   "outputs": [
    {
     "name": "stdout",
     "output_type": "stream",
     "text": [
      "<class 'pandas.core.frame.DataFrame'>\n",
      "RangeIndex: 42 entries, 0 to 41\n",
      "Data columns (total 20 columns):\n",
      " #   Column  Non-Null Count  Dtype  \n",
      "---  ------  --------------  -----  \n",
      " 0   ID1     42 non-null     int64  \n",
      " 1   ID2     42 non-null     int64  \n",
      " 2   ID      42 non-null     object \n",
      " 3   FirstN  42 non-null     object \n",
      " 4   LastN   42 non-null     object \n",
      " 5   CDate   42 non-null     object \n",
      " 6   Time    42 non-null     object \n",
      " 7   Age     42 non-null     int64  \n",
      " 8   Sex     42 non-null     object \n",
      " 9   C1      42 non-null     int64  \n",
      " 10  C2      42 non-null     int64  \n",
      " 11  C3      42 non-null     int64  \n",
      " 12  C4      42 non-null     int64  \n",
      " 13  Ctotal  42 non-null     int64  \n",
      " 14  DHEA    42 non-null     int64  \n",
      " 15  I1      40 non-null     float64\n",
      " 16  I2      40 non-null     float64\n",
      " 17  P17     42 non-null     int64  \n",
      " 18  TIgA    42 non-null     int64  \n",
      " 19  GIgA    42 non-null     int64  \n",
      "dtypes: float64(2), int64(12), object(6)\n",
      "memory usage: 5.6+ KB\n"
     ]
    }
   ],
   "source": [
    "ASI_RMT1T2.info()"
   ]
  },
  {
   "cell_type": "code",
   "execution_count": 11,
   "metadata": {},
   "outputs": [
    {
     "data": {
      "text/plain": [
       "<matplotlib.axes._subplots.AxesSubplot at 0x90fc970>"
      ]
     },
     "execution_count": 11,
     "metadata": {},
     "output_type": "execute_result"
    },
    {
     "data": {
      "image/png": "[encoded data removed]",
      "text/plain": [
       "<Figure size 432x288 with 1 Axes>"
      ]
     },
     "metadata": {
      "needs_background": "light"
     },
     "output_type": "display_data"
    }
   ],
   "source": [
    "sns.distplot(ASI_RMT1T2['Age'])"
   ]
  },
  {
   "cell_type": "code",
   "execution_count": 12,
   "metadata": {},
   "outputs": [],
   "source": [
    "ASI_RMT1T2['AgeSQ'] = ASI_RMT1T2['Age']**2"
   ]
  },
  {
   "cell_type": "code",
   "execution_count": 13,
   "metadata": {},
   "outputs": [
    {
     "data": {
      "text/html": [
       "<div>\n",
       "<style scoped>\n",
       "    .dataframe tbody tr th:only-of-type {\n",
       "        vertical-align: middle;\n",
       "    }\n",
       "\n",
       "    .dataframe tbody tr th {\n",
       "        vertical-align: top;\n",
       "    }\n",
       "\n",
       "    .dataframe thead th {\n",
       "        text-align: right;\n",
       "    }\n",
       "</style>\n",
       "<table border=\"1\" class=\"dataframe\">\n",
       "  <thead>\n",
       "    <tr style=\"text-align: right;\">\n",
       "      <th></th>\n",
       "      <th>ID1</th>\n",
       "      <th>ID2</th>\n",
       "      <th>ID</th>\n",
       "      <th>FirstN</th>\n",
       "      <th>LastN</th>\n",
       "      <th>CDate</th>\n",
       "      <th>Time</th>\n",
       "      <th>Age</th>\n",
       "      <th>Sex</th>\n",
       "      <th>C1</th>\n",
       "      <th>...</th>\n",
       "      <th>C3</th>\n",
       "      <th>C4</th>\n",
       "      <th>Ctotal</th>\n",
       "      <th>DHEA</th>\n",
       "      <th>I1</th>\n",
       "      <th>I2</th>\n",
       "      <th>P17</th>\n",
       "      <th>TIgA</th>\n",
       "      <th>GIgA</th>\n",
       "      <th>AgeSQ</th>\n",
       "    </tr>\n",
       "  </thead>\n",
       "  <tbody>\n",
       "    <tr>\n",
       "      <th>0</th>\n",
       "      <td>10</td>\n",
       "      <td>78255</td>\n",
       "      <td>10-78255</td>\n",
       "      <td>Mark</td>\n",
       "      <td>Anderson</td>\n",
       "      <td>8/2/2010</td>\n",
       "      <td>T1</td>\n",
       "      <td>55</td>\n",
       "      <td>M</td>\n",
       "      <td>19</td>\n",
       "      <td>...</td>\n",
       "      <td>12</td>\n",
       "      <td>8</td>\n",
       "      <td>47</td>\n",
       "      <td>4</td>\n",
       "      <td>3.0</td>\n",
       "      <td>23.0</td>\n",
       "      <td>28</td>\n",
       "      <td>9</td>\n",
       "      <td>5</td>\n",
       "      <td>3025</td>\n",
       "    </tr>\n",
       "    <tr>\n",
       "      <th>1</th>\n",
       "      <td>10</td>\n",
       "      <td>124893</td>\n",
       "      <td>10-124893</td>\n",
       "      <td>Mark</td>\n",
       "      <td>Anderson</td>\n",
       "      <td>12/5/2010</td>\n",
       "      <td>T2</td>\n",
       "      <td>55</td>\n",
       "      <td>M</td>\n",
       "      <td>9</td>\n",
       "      <td>...</td>\n",
       "      <td>7</td>\n",
       "      <td>3</td>\n",
       "      <td>25</td>\n",
       "      <td>4</td>\n",
       "      <td>3.0</td>\n",
       "      <td>20.0</td>\n",
       "      <td>26</td>\n",
       "      <td>5</td>\n",
       "      <td>3</td>\n",
       "      <td>3025</td>\n",
       "    </tr>\n",
       "    <tr>\n",
       "      <th>2</th>\n",
       "      <td>13</td>\n",
       "      <td>41439</td>\n",
       "      <td>13-41439</td>\n",
       "      <td>Diane</td>\n",
       "      <td>Asmuth</td>\n",
       "      <td>5/13/2013</td>\n",
       "      <td>T1</td>\n",
       "      <td>55</td>\n",
       "      <td>F</td>\n",
       "      <td>7</td>\n",
       "      <td>...</td>\n",
       "      <td>3</td>\n",
       "      <td>11</td>\n",
       "      <td>24</td>\n",
       "      <td>2</td>\n",
       "      <td>3.0</td>\n",
       "      <td>3.0</td>\n",
       "      <td>16</td>\n",
       "      <td>6</td>\n",
       "      <td>12</td>\n",
       "      <td>3025</td>\n",
       "    </tr>\n",
       "    <tr>\n",
       "      <th>3</th>\n",
       "      <td>14</td>\n",
       "      <td>52939</td>\n",
       "      <td>14-52939</td>\n",
       "      <td>Diane</td>\n",
       "      <td>Asmuth</td>\n",
       "      <td>6/24/2014</td>\n",
       "      <td>T2</td>\n",
       "      <td>56</td>\n",
       "      <td>F</td>\n",
       "      <td>10</td>\n",
       "      <td>...</td>\n",
       "      <td>5</td>\n",
       "      <td>2</td>\n",
       "      <td>21</td>\n",
       "      <td>4</td>\n",
       "      <td>3.0</td>\n",
       "      <td>3.0</td>\n",
       "      <td>25</td>\n",
       "      <td>9</td>\n",
       "      <td>2</td>\n",
       "      <td>3136</td>\n",
       "    </tr>\n",
       "    <tr>\n",
       "      <th>4</th>\n",
       "      <td>14</td>\n",
       "      <td>97689</td>\n",
       "      <td>14-97689</td>\n",
       "      <td>Deborah</td>\n",
       "      <td>Baimas</td>\n",
       "      <td>12/1/2014</td>\n",
       "      <td>T1</td>\n",
       "      <td>50</td>\n",
       "      <td>F</td>\n",
       "      <td>5</td>\n",
       "      <td>...</td>\n",
       "      <td>2</td>\n",
       "      <td>1</td>\n",
       "      <td>11</td>\n",
       "      <td>2</td>\n",
       "      <td>3.0</td>\n",
       "      <td>5.0</td>\n",
       "      <td>43</td>\n",
       "      <td>11</td>\n",
       "      <td>21</td>\n",
       "      <td>2500</td>\n",
       "    </tr>\n",
       "  </tbody>\n",
       "</table>\n",
       "<p>5 rows × 21 columns</p>\n",
       "</div>"
      ],
      "text/plain": [
       "   ID1     ID2         ID   FirstN     LastN      CDate Time  Age Sex  C1  \\\n",
       "0   10   78255   10-78255     Mark  Anderson   8/2/2010   T1   55   M  19   \n",
       "1   10  124893  10-124893     Mark  Anderson  12/5/2010   T2   55   M   9   \n",
       "2   13   41439   13-41439    Diane    Asmuth  5/13/2013   T1   55   F   7   \n",
       "3   14   52939   14-52939    Diane    Asmuth  6/24/2014   T2   56   F  10   \n",
       "4   14   97689   14-97689  Deborah    Baimas  12/1/2014   T1   50   F   5   \n",
       "\n",
       "   ...  C3  C4  Ctotal  DHEA   I1    I2  P17  TIgA  GIgA  AgeSQ  \n",
       "0  ...  12   8      47     4  3.0  23.0   28     9     5   3025  \n",
       "1  ...   7   3      25     4  3.0  20.0   26     5     3   3025  \n",
       "2  ...   3  11      24     2  3.0   3.0   16     6    12   3025  \n",
       "3  ...   5   2      21     4  3.0   3.0   25     9     2   3136  \n",
       "4  ...   2   1      11     2  3.0   5.0   43    11    21   2500  \n",
       "\n",
       "[5 rows x 21 columns]"
      ]
     },
     "execution_count": 13,
     "metadata": {},
     "output_type": "execute_result"
    }
   ],
   "source": [
    "ASI_RMT1T2.head()"
   ]
  },
  {
   "cell_type": "code",
   "execution_count": 14,
   "metadata": {},
   "outputs": [
    {
     "data": {
      "text/plain": [
       "<matplotlib.axes._subplots.AxesSubplot at 0x8c8c88>"
      ]
     },
     "execution_count": 14,
     "metadata": {},
     "output_type": "execute_result"
    },
    {
     "data": {
      "image/png": "[encoded data removed]",
      "text/plain": [
       "<Figure size 432x288 with 1 Axes>"
      ]
     },
     "metadata": {
      "needs_background": "light"
     },
     "output_type": "display_data"
    }
   ],
   "source": [
    "sns.distplot(ASI_RMT1T2['AgeSQ'])"
   ]
  },
  {
   "cell_type": "code",
   "execution_count": 15,
   "metadata": {},
   "outputs": [
    {
     "data": {
      "text/plain": [
       "T1    21\n",
       "T2    21\n",
       "Name: Time, dtype: int64"
      ]
     },
     "execution_count": 15,
     "metadata": {},
     "output_type": "execute_result"
    }
   ],
   "source": [
    "ASI_RMT1T2['Time'].value_counts()"
   ]
  },
  {
   "cell_type": "code",
   "execution_count": 16,
   "metadata": {},
   "outputs": [],
   "source": [
    "## Double checked and made sure we have the same amount of tests."
   ]
  },
  {
   "cell_type": "code",
   "execution_count": 17,
   "metadata": {},
   "outputs": [
    {
     "data": {
      "text/plain": [
       "Time\n",
       "T1    55.095238\n",
       "T2    55.714286\n",
       "Name: Age, dtype: float64"
      ]
     },
     "execution_count": 17,
     "metadata": {},
     "output_type": "execute_result"
    }
   ],
   "source": [
    "ASI_RMT1T2.groupby('Time')['Age'].mean()"
   ]
  },
  {
   "cell_type": "code",
   "execution_count": 18,
   "metadata": {},
   "outputs": [],
   "source": [
    "#I would have thought that they would have been the same. Now I am thinking that the T2 is older because it is later and the people could have had birthdays."
   ]
  },
  {
   "cell_type": "code",
   "execution_count": 19,
   "metadata": {},
   "outputs": [
    {
     "data": {
      "text/plain": [
       "count     42.000000\n",
       "mean      16.761905\n",
       "std       17.238371\n",
       "min        5.000000\n",
       "25%        9.000000\n",
       "50%       13.500000\n",
       "75%       18.000000\n",
       "max      110.000000\n",
       "Name: C1, dtype: float64"
      ]
     },
     "execution_count": 19,
     "metadata": {},
     "output_type": "execute_result"
    }
   ],
   "source": [
    "ASI_RMT1T2.C1.describe()"
   ]
  },
  {
   "cell_type": "code",
   "execution_count": 20,
   "metadata": {},
   "outputs": [
    {
     "data": {
      "text/plain": [
       "Time\n",
       "T1    14.00000\n",
       "T2    19.52381\n",
       "Name: C1, dtype: float64"
      ]
     },
     "execution_count": 20,
     "metadata": {},
     "output_type": "execute_result"
    }
   ],
   "source": [
    "ASI_RMT1T2.groupby('Time')['C1'].mean()"
   ]
  },
  {
   "cell_type": "code",
   "execution_count": 21,
   "metadata": {},
   "outputs": [],
   "source": [
    "# It seems as though the T2 had a higher amount of C1 than the first testing"
   ]
  },
  {
   "cell_type": "code",
   "execution_count": 22,
   "metadata": {},
   "outputs": [
    {
     "data": {
      "text/plain": [
       "count     42.000000\n",
       "mean      11.761905\n",
       "std       17.121958\n",
       "min        3.000000\n",
       "25%        5.250000\n",
       "50%        8.000000\n",
       "75%       10.000000\n",
       "max      103.000000\n",
       "Name: C2, dtype: float64"
      ]
     },
     "execution_count": 22,
     "metadata": {},
     "output_type": "execute_result"
    }
   ],
   "source": [
    "ASI_RMT1T2.C2.describe()"
   ]
  },
  {
   "cell_type": "code",
   "execution_count": 23,
   "metadata": {},
   "outputs": [
    {
     "data": {
      "text/plain": [
       "Time\n",
       "T1    13.380952\n",
       "T2    10.142857\n",
       "Name: C2, dtype: float64"
      ]
     },
     "execution_count": 23,
     "metadata": {},
     "output_type": "execute_result"
    }
   ],
   "source": [
    "ASI_RMT1T2.groupby('Time')['C2'].mean()"
   ]
  },
  {
   "cell_type": "code",
   "execution_count": 24,
   "metadata": {},
   "outputs": [],
   "source": [
    "#Here we have the T1 is higher in C2"
   ]
  },
  {
   "cell_type": "code",
   "execution_count": 25,
   "metadata": {},
   "outputs": [
    {
     "data": {
      "text/plain": [
       "count    42.000000\n",
       "mean      6.500000\n",
       "std       4.870268\n",
       "min       2.000000\n",
       "25%       4.000000\n",
       "50%       5.000000\n",
       "75%       7.000000\n",
       "max      28.000000\n",
       "Name: C3, dtype: float64"
      ]
     },
     "execution_count": 25,
     "metadata": {},
     "output_type": "execute_result"
    }
   ],
   "source": [
    "ASI_RMT1T2.C3.describe()"
   ]
  },
  {
   "cell_type": "code",
   "execution_count": 26,
   "metadata": {},
   "outputs": [
    {
     "data": {
      "text/plain": [
       "Time\n",
       "T1    6.761905\n",
       "T2    6.238095\n",
       "Name: C3, dtype: float64"
      ]
     },
     "execution_count": 26,
     "metadata": {},
     "output_type": "execute_result"
    }
   ],
   "source": [
    "ASI_RMT1T2.groupby('Time')['C3'].mean()"
   ]
  },
  {
   "cell_type": "code",
   "execution_count": 27,
   "metadata": {},
   "outputs": [],
   "source": [
    "#C3 had about the same amount. T1 had a little higher amount"
   ]
  },
  {
   "cell_type": "code",
   "execution_count": 28,
   "metadata": {},
   "outputs": [
    {
     "data": {
      "text/plain": [
       "count     42.000000\n",
       "mean      11.261905\n",
       "std       23.187528\n",
       "min        1.000000\n",
       "25%        3.000000\n",
       "50%        5.000000\n",
       "75%        7.000000\n",
       "max      110.000000\n",
       "Name: C4, dtype: float64"
      ]
     },
     "execution_count": 28,
     "metadata": {},
     "output_type": "execute_result"
    }
   ],
   "source": [
    "ASI_RMT1T2.C4.describe()"
   ]
  },
  {
   "cell_type": "code",
   "execution_count": 29,
   "metadata": {},
   "outputs": [
    {
     "data": {
      "text/plain": [
       "Time\n",
       "T1     7.809524\n",
       "T2    14.714286\n",
       "Name: C4, dtype: float64"
      ]
     },
     "execution_count": 29,
     "metadata": {},
     "output_type": "execute_result"
    }
   ],
   "source": [
    "ASI_RMT1T2.groupby('Time')['C4'].mean()"
   ]
  },
  {
   "cell_type": "code",
   "execution_count": 30,
   "metadata": {},
   "outputs": [],
   "source": [
    "#The second testing has a higher amount"
   ]
  },
  {
   "cell_type": "code",
   "execution_count": 31,
   "metadata": {},
   "outputs": [
    {
     "data": {
      "text/plain": [
       "count     42.000000\n",
       "mean      46.285714\n",
       "std       44.942937\n",
       "min       11.000000\n",
       "25%       24.250000\n",
       "50%       32.500000\n",
       "75%       45.000000\n",
       "max      239.000000\n",
       "Name: Ctotal, dtype: float64"
      ]
     },
     "execution_count": 31,
     "metadata": {},
     "output_type": "execute_result"
    }
   ],
   "source": [
    "ASI_RMT1T2.Ctotal.describe()"
   ]
  },
  {
   "cell_type": "code",
   "execution_count": 32,
   "metadata": {},
   "outputs": [
    {
     "data": {
      "text/plain": [
       "Time\n",
       "T1    41.952381\n",
       "T2    50.619048\n",
       "Name: Ctotal, dtype: float64"
      ]
     },
     "execution_count": 32,
     "metadata": {},
     "output_type": "execute_result"
    }
   ],
   "source": [
    "ASI_RMT1T2.groupby('Time')['Ctotal'].mean()"
   ]
  },
  {
   "cell_type": "code",
   "execution_count": 33,
   "metadata": {},
   "outputs": [],
   "source": [
    "#Higher in the second testing"
   ]
  },
  {
   "cell_type": "code",
   "execution_count": 34,
   "metadata": {},
   "outputs": [
    {
     "data": {
      "text/plain": [
       "count    42.000000\n",
       "mean      4.476190\n",
       "std       3.915187\n",
       "min       1.000000\n",
       "25%       2.250000\n",
       "50%       4.000000\n",
       "75%       4.750000\n",
       "max      25.000000\n",
       "Name: DHEA, dtype: float64"
      ]
     },
     "execution_count": 34,
     "metadata": {},
     "output_type": "execute_result"
    }
   ],
   "source": [
    "ASI_RMT1T2.DHEA.describe()"
   ]
  },
  {
   "cell_type": "code",
   "execution_count": 35,
   "metadata": {},
   "outputs": [
    {
     "data": {
      "text/plain": [
       "Time\n",
       "T1    3.571429\n",
       "T2    5.380952\n",
       "Name: DHEA, dtype: float64"
      ]
     },
     "execution_count": 35,
     "metadata": {},
     "output_type": "execute_result"
    }
   ],
   "source": [
    "ASI_RMT1T2.groupby('Time')['DHEA'].mean()"
   ]
  },
  {
   "cell_type": "code",
   "execution_count": 36,
   "metadata": {},
   "outputs": [],
   "source": [
    "#DHEA is higher for the 2nd testing"
   ]
  },
  {
   "cell_type": "code",
   "execution_count": 37,
   "metadata": {},
   "outputs": [
    {
     "data": {
      "text/plain": [
       "count     42.000000\n",
       "mean      70.142857\n",
       "std      118.500092\n",
       "min        1.000000\n",
       "25%       20.250000\n",
       "50%       28.500000\n",
       "75%       42.750000\n",
       "max      500.000000\n",
       "Name: P17, dtype: float64"
      ]
     },
     "execution_count": 37,
     "metadata": {},
     "output_type": "execute_result"
    }
   ],
   "source": [
    "ASI_RMT1T2.P17.describe()"
   ]
  },
  {
   "cell_type": "code",
   "execution_count": 38,
   "metadata": {},
   "outputs": [
    {
     "data": {
      "text/plain": [
       "Time\n",
       "T1    63.000000\n",
       "T2    77.285714\n",
       "Name: P17, dtype: float64"
      ]
     },
     "execution_count": 38,
     "metadata": {},
     "output_type": "execute_result"
    }
   ],
   "source": [
    "ASI_RMT1T2.groupby('Time')['P17'].mean()"
   ]
  },
  {
   "cell_type": "code",
   "execution_count": 39,
   "metadata": {},
   "outputs": [],
   "source": [
    "#P17 higher for the second testing"
   ]
  },
  {
   "cell_type": "code",
   "execution_count": 40,
   "metadata": {},
   "outputs": [
    {
     "data": {
      "text/plain": [
       "count    42.000000\n",
       "mean      8.904762\n",
       "std       4.041308\n",
       "min       5.000000\n",
       "25%       5.250000\n",
       "50%       8.500000\n",
       "75%      10.750000\n",
       "max      22.000000\n",
       "Name: TIgA, dtype: float64"
      ]
     },
     "execution_count": 40,
     "metadata": {},
     "output_type": "execute_result"
    }
   ],
   "source": [
    "ASI_RMT1T2.TIgA.describe()"
   ]
  },
  {
   "cell_type": "code",
   "execution_count": 41,
   "metadata": {},
   "outputs": [
    {
     "data": {
      "text/plain": [
       "Time\n",
       "T1    7.904762\n",
       "T2    9.904762\n",
       "Name: TIgA, dtype: float64"
      ]
     },
     "execution_count": 41,
     "metadata": {},
     "output_type": "execute_result"
    }
   ],
   "source": [
    "ASI_RMT1T2.groupby('Time')['TIgA'].mean()"
   ]
  },
  {
   "cell_type": "code",
   "execution_count": 42,
   "metadata": {},
   "outputs": [],
   "source": [
    "#The TIGA is higher for the second testing"
   ]
  },
  {
   "cell_type": "code",
   "execution_count": 43,
   "metadata": {},
   "outputs": [
    {
     "data": {
      "text/plain": [
       "count    42.000000\n",
       "mean      9.142857\n",
       "std       9.097229\n",
       "min       1.000000\n",
       "25%       3.250000\n",
       "50%       6.500000\n",
       "75%      11.000000\n",
       "max      45.000000\n",
       "Name: GIgA, dtype: float64"
      ]
     },
     "execution_count": 43,
     "metadata": {},
     "output_type": "execute_result"
    }
   ],
   "source": [
    "ASI_RMT1T2.GIgA.describe()"
   ]
  },
  {
   "cell_type": "code",
   "execution_count": 44,
   "metadata": {},
   "outputs": [
    {
     "data": {
      "text/plain": [
       "Time\n",
       "T1    9.333333\n",
       "T2    8.952381\n",
       "Name: GIgA, dtype: float64"
      ]
     },
     "execution_count": 44,
     "metadata": {},
     "output_type": "execute_result"
    }
   ],
   "source": [
    "ASI_RMT1T2.groupby('Time')['GIgA'].mean()"
   ]
  },
  {
   "cell_type": "code",
   "execution_count": 45,
   "metadata": {},
   "outputs": [],
   "source": [
    "#GIGA higher for the first testing"
   ]
  },
  {
   "cell_type": "code",
   "execution_count": 46,
   "metadata": {},
   "outputs": [
    {
     "data": {
      "text/html": [
       "<div>\n",
       "<style scoped>\n",
       "    .dataframe tbody tr th:only-of-type {\n",
       "        vertical-align: middle;\n",
       "    }\n",
       "\n",
       "    .dataframe tbody tr th {\n",
       "        vertical-align: top;\n",
       "    }\n",
       "\n",
       "    .dataframe thead th {\n",
       "        text-align: right;\n",
       "    }\n",
       "</style>\n",
       "<table border=\"1\" class=\"dataframe\">\n",
       "  <thead>\n",
       "    <tr style=\"text-align: right;\">\n",
       "      <th></th>\n",
       "      <th>C1</th>\n",
       "      <th>C2</th>\n",
       "      <th>C3</th>\n",
       "      <th>C4</th>\n",
       "      <th>Ctotal</th>\n",
       "      <th>DHEA</th>\n",
       "      <th>P17</th>\n",
       "      <th>TIgA</th>\n",
       "      <th>GIgA</th>\n",
       "    </tr>\n",
       "  </thead>\n",
       "  <tbody>\n",
       "    <tr>\n",
       "      <th>C1</th>\n",
       "      <td>1.000000</td>\n",
       "      <td>0.049467</td>\n",
       "      <td>0.133346</td>\n",
       "      <td>0.621517</td>\n",
       "      <td>0.737518</td>\n",
       "      <td>-0.008398</td>\n",
       "      <td>0.433806</td>\n",
       "      <td>0.106449</td>\n",
       "      <td>-0.049391</td>\n",
       "    </tr>\n",
       "    <tr>\n",
       "      <th>C2</th>\n",
       "      <td>0.049467</td>\n",
       "      <td>1.000000</td>\n",
       "      <td>0.298047</td>\n",
       "      <td>0.320232</td>\n",
       "      <td>0.597461</td>\n",
       "      <td>-0.035015</td>\n",
       "      <td>0.118786</td>\n",
       "      <td>-0.192440</td>\n",
       "      <td>-0.143679</td>\n",
       "    </tr>\n",
       "    <tr>\n",
       "      <th>C3</th>\n",
       "      <td>0.133346</td>\n",
       "      <td>0.298047</td>\n",
       "      <td>1.000000</td>\n",
       "      <td>0.069653</td>\n",
       "      <td>0.308995</td>\n",
       "      <td>0.260940</td>\n",
       "      <td>0.453761</td>\n",
       "      <td>0.022306</td>\n",
       "      <td>-0.227905</td>\n",
       "    </tr>\n",
       "    <tr>\n",
       "      <th>C4</th>\n",
       "      <td>0.621517</td>\n",
       "      <td>0.320232</td>\n",
       "      <td>0.069653</td>\n",
       "      <td>1.000000</td>\n",
       "      <td>0.883869</td>\n",
       "      <td>-0.057289</td>\n",
       "      <td>0.303865</td>\n",
       "      <td>0.012766</td>\n",
       "      <td>-0.096613</td>\n",
       "    </tr>\n",
       "    <tr>\n",
       "      <th>Ctotal</th>\n",
       "      <td>0.737518</td>\n",
       "      <td>0.597461</td>\n",
       "      <td>0.308995</td>\n",
       "      <td>0.883869</td>\n",
       "      <td>1.000000</td>\n",
       "      <td>-0.017841</td>\n",
       "      <td>0.417591</td>\n",
       "      <td>-0.023481</td>\n",
       "      <td>-0.148225</td>\n",
       "    </tr>\n",
       "    <tr>\n",
       "      <th>DHEA</th>\n",
       "      <td>-0.008398</td>\n",
       "      <td>-0.035015</td>\n",
       "      <td>0.260940</td>\n",
       "      <td>-0.057289</td>\n",
       "      <td>-0.017841</td>\n",
       "      <td>1.000000</td>\n",
       "      <td>-0.004303</td>\n",
       "      <td>0.496214</td>\n",
       "      <td>-0.125903</td>\n",
       "    </tr>\n",
       "    <tr>\n",
       "      <th>P17</th>\n",
       "      <td>0.433806</td>\n",
       "      <td>0.118786</td>\n",
       "      <td>0.453761</td>\n",
       "      <td>0.303865</td>\n",
       "      <td>0.417591</td>\n",
       "      <td>-0.004303</td>\n",
       "      <td>1.000000</td>\n",
       "      <td>-0.005522</td>\n",
       "      <td>-0.194617</td>\n",
       "    </tr>\n",
       "    <tr>\n",
       "      <th>TIgA</th>\n",
       "      <td>0.106449</td>\n",
       "      <td>-0.192440</td>\n",
       "      <td>0.022306</td>\n",
       "      <td>0.012766</td>\n",
       "      <td>-0.023481</td>\n",
       "      <td>0.496214</td>\n",
       "      <td>-0.005522</td>\n",
       "      <td>1.000000</td>\n",
       "      <td>0.304886</td>\n",
       "    </tr>\n",
       "    <tr>\n",
       "      <th>GIgA</th>\n",
       "      <td>-0.049391</td>\n",
       "      <td>-0.143679</td>\n",
       "      <td>-0.227905</td>\n",
       "      <td>-0.096613</td>\n",
       "      <td>-0.148225</td>\n",
       "      <td>-0.125903</td>\n",
       "      <td>-0.194617</td>\n",
       "      <td>0.304886</td>\n",
       "      <td>1.000000</td>\n",
       "    </tr>\n",
       "  </tbody>\n",
       "</table>\n",
       "</div>"
      ],
      "text/plain": [
       "              C1        C2        C3        C4    Ctotal      DHEA       P17  \\\n",
       "C1      1.000000  0.049467  0.133346  0.621517  0.737518 -0.008398  0.433806   \n",
       "C2      0.049467  1.000000  0.298047  0.320232  0.597461 -0.035015  0.118786   \n",
       "C3      0.133346  0.298047  1.000000  0.069653  0.308995  0.260940  0.453761   \n",
       "C4      0.621517  0.320232  0.069653  1.000000  0.883869 -0.057289  0.303865   \n",
       "Ctotal  0.737518  0.597461  0.308995  0.883869  1.000000 -0.017841  0.417591   \n",
       "DHEA   -0.008398 -0.035015  0.260940 -0.057289 -0.017841  1.000000 -0.004303   \n",
       "P17     0.433806  0.118786  0.453761  0.303865  0.417591 -0.004303  1.000000   \n",
       "TIgA    0.106449 -0.192440  0.022306  0.012766 -0.023481  0.496214 -0.005522   \n",
       "GIgA   -0.049391 -0.143679 -0.227905 -0.096613 -0.148225 -0.125903 -0.194617   \n",
       "\n",
       "            TIgA      GIgA  \n",
       "C1      0.106449 -0.049391  \n",
       "C2     -0.192440 -0.143679  \n",
       "C3      0.022306 -0.227905  \n",
       "C4      0.012766 -0.096613  \n",
       "Ctotal -0.023481 -0.148225  \n",
       "DHEA    0.496214 -0.125903  \n",
       "P17    -0.005522 -0.194617  \n",
       "TIgA    1.000000  0.304886  \n",
       "GIgA    0.304886  1.000000  "
      ]
     },
     "execution_count": 46,
     "metadata": {},
     "output_type": "execute_result"
    }
   ],
   "source": [
    "ASI_RMT1T2[['C1', 'C2', 'C3', 'C4', 'Ctotal', 'DHEA', 'P17', 'TIgA', 'GIgA', 'Time']].corr()"
   ]
  },
  {
   "cell_type": "code",
   "execution_count": 47,
   "metadata": {},
   "outputs": [
    {
     "data": {
      "image/png": "[encoded data removed]",
      "text/plain": [
       "<Figure size 432x288 with 1 Axes>"
      ]
     },
     "metadata": {
      "needs_background": "light"
     },
     "output_type": "display_data"
    }
   ],
   "source": [
    "PlotC1Ctotal = ASI_RMT1T2.plot.scatter( x = 'C1', y = 'Ctotal')"
   ]
  },
  {
   "cell_type": "code",
   "execution_count": 48,
   "metadata": {},
   "outputs": [
    {
     "data": {
      "image/png": "[encoded data removed]",
      "text/plain": [
       "<Figure size 432x288 with 1 Axes>"
      ]
     },
     "metadata": {
      "needs_background": "light"
     },
     "output_type": "display_data"
    }
   ],
   "source": [
    "PlotC2Ctotal = ASI_RMT1T2.plot.scatter( x = 'C2', y = 'Ctotal')"
   ]
  },
  {
   "cell_type": "code",
   "execution_count": 49,
   "metadata": {},
   "outputs": [
    {
     "data": {
      "image/png": "[encoded data removed]",
      "text/plain": [
       "<Figure size 432x288 with 1 Axes>"
      ]
     },
     "metadata": {
      "needs_background": "light"
     },
     "output_type": "display_data"
    }
   ],
   "source": [
    "PlotC3Ctotal = ASI_RMT1T2.plot.scatter( x = 'C3', y = 'Ctotal')"
   ]
  },
  {
   "cell_type": "code",
   "execution_count": 50,
   "metadata": {},
   "outputs": [
    {
     "data": {
      "image/png": "[encoded data removed]",
      "text/plain": [
       "<Figure size 432x288 with 1 Axes>"
      ]
     },
     "metadata": {
      "needs_background": "light"
     },
     "output_type": "display_data"
    }
   ],
   "source": [
    "PlotC4Ctotal = ASI_RMT1T2.plot.scatter( x = 'C4', y = 'Ctotal')"
   ]
  },
  {
   "cell_type": "code",
   "execution_count": 51,
   "metadata": {},
   "outputs": [
    {
     "data": {
      "image/png": "[encoded data removed]",
      "text/plain": [
       "<Figure size 432x288 with 1 Axes>"
      ]
     },
     "metadata": {
      "needs_background": "light"
     },
     "output_type": "display_data"
    }
   ],
   "source": [
    "PlotC1C2 = ASI_RMT1T2.plot.scatter( x = 'C1', y = 'C2')"
   ]
  },
  {
   "cell_type": "code",
   "execution_count": 52,
   "metadata": {},
   "outputs": [
    {
     "data": {
      "image/png": "[encoded data removed]",
      "text/plain": [
       "<Figure size 432x288 with 1 Axes>"
      ]
     },
     "metadata": {
      "needs_background": "light"
     },
     "output_type": "display_data"
    }
   ],
   "source": [
    "PlotC1C3 = ASI_RMT1T2.plot.scatter( x = 'C1', y = 'C3')"
   ]
  },
  {
   "cell_type": "code",
   "execution_count": 53,
   "metadata": {},
   "outputs": [
    {
     "data": {
      "image/png": "[encoded data removed]",
      "text/plain": [
       "<Figure size 432x288 with 1 Axes>"
      ]
     },
     "metadata": {
      "needs_background": "light"
     },
     "output_type": "display_data"
    }
   ],
   "source": [
    "PlotC1C4 = ASI_RMT1T2.plot.scatter( x = 'C1', y = 'C4')"
   ]
  },
  {
   "cell_type": "code",
   "execution_count": 54,
   "metadata": {},
   "outputs": [
    {
     "data": {
      "image/png": "[encoded data removed]",
      "text/plain": [
       "<Figure size 432x288 with 1 Axes>"
      ]
     },
     "metadata": {
      "needs_background": "light"
     },
     "output_type": "display_data"
    }
   ],
   "source": [
    "PlotC2C3 = ASI_RMT1T2.plot.scatter( x = 'C2', y = 'C3')"
   ]
  },
  {
   "cell_type": "code",
   "execution_count": 55,
   "metadata": {},
   "outputs": [
    {
     "data": {
      "image/png": "[encoded data removed]",
      "text/plain": [
       "<Figure size 432x288 with 1 Axes>"
      ]
     },
     "metadata": {
      "needs_background": "light"
     },
     "output_type": "display_data"
    }
   ],
   "source": [
    "PlotC2C4 = ASI_RMT1T2.plot.scatter( x = 'C2', y = 'C4')"
   ]
  },
  {
   "cell_type": "code",
   "execution_count": 56,
   "metadata": {},
   "outputs": [
    {
     "data": {
      "image/png": "[encoded data removed]",
      "text/plain": [
       "<Figure size 432x288 with 1 Axes>"
      ]
     },
     "metadata": {
      "needs_background": "light"
     },
     "output_type": "display_data"
    }
   ],
   "source": [
    "PlotC3C4 = ASI_RMT1T2.plot.scatter( x = 'C3', y = 'C4')"
   ]
  },
  {
   "cell_type": "code",
   "execution_count": 57,
   "metadata": {},
   "outputs": [
    {
     "data": {
      "text/plain": [
       "Text(0, 0.5, 'Frequency')"
      ]
     },
     "execution_count": 57,
     "metadata": {},
     "output_type": "execute_result"
    },
    {
     "data": {
      "image/png": "[encoded data removed]",
      "text/plain": [
       "<Figure size 432x288 with 1 Axes>"
      ]
     },
     "metadata": {
      "needs_background": "light"
     },
     "output_type": "display_data"
    }
   ],
   "source": [
    "BarC1RV = ASI_RMT1T2['Time'].value_counts().plot(kind = 'bar')\n",
    "BarC1RV.set_title(\"Frequencies of Age Categories\")\n",
    "BarC1RV.set_xlabel(\"Time Categories\")\n",
    "BarC1RV.set_ylabel(\"Frequency\")"
   ]
  },
  {
   "cell_type": "code",
   "execution_count": 58,
   "metadata": {},
   "outputs": [
    {
     "data": {
      "text/plain": [
       "Text(0, 0.5, 'Frequency')"
      ]
     },
     "execution_count": 58,
     "metadata": {},
     "output_type": "execute_result"
    },
    {
     "data": {
      "image/png": "[encoded data removed]",
      "text/plain": [
       "<Figure size 432x288 with 1 Axes>"
      ]
     },
     "metadata": {
      "needs_background": "light"
     },
     "output_type": "display_data"
    }
   ],
   "source": [
    "BarC1RV = ASI_RMT1T2['C1'].value_counts().plot(kind = 'bar')\n",
    "BarC1RV.set_title(\"Frequencies of C1 Levels\")\n",
    "BarC1RV.set_xlabel(\"C1 Levels\")\n",
    "BarC1RV.set_ylabel(\"Frequency\")"
   ]
  },
  {
   "cell_type": "code",
   "execution_count": 59,
   "metadata": {},
   "outputs": [],
   "source": [
    "def c1 (series):\n",
    "    if series < 13:\n",
    "        return \"Depressed\"\n",
    "    if series >= 13 and series <=24:\n",
    "        return \"Normal\"\n",
    "    if series >24:\n",
    "        return \"Elevated\"\n",
    "ASI_RMT1T2['C1RV'] = ASI_RMT1T2['C1'].apply(c1)"
   ]
  },
  {
   "cell_type": "code",
   "execution_count": 60,
   "metadata": {},
   "outputs": [],
   "source": [
    "def c2 (series):\n",
    "    if series < 5:\n",
    "        return \"Depressed\"\n",
    "    if series >= 5 and series <=10:\n",
    "        return \"Normal\"\n",
    "    if series >10:\n",
    "        return \"Elevated\"\n",
    "ASI_RMT1T2['C2RV'] = ASI_RMT1T2['C2'].apply(c2)"
   ]
  },
  {
   "cell_type": "code",
   "execution_count": 61,
   "metadata": {},
   "outputs": [],
   "source": [
    "def c3 (series):\n",
    "    if series < 3:\n",
    "        return \"Depressed\"\n",
    "    if series >= 3 and series <=8:\n",
    "        return \"Normal\"\n",
    "    if series >8:\n",
    "        return \"Elevated\"\n",
    "ASI_RMT1T2['C3RV'] = ASI_RMT1T2['C3'].apply(c3)"
   ]
  },
  {
   "cell_type": "code",
   "execution_count": 62,
   "metadata": {},
   "outputs": [],
   "source": [
    "def c4 (series):\n",
    "    if series < 1:\n",
    "        return \"Depressed\"\n",
    "    if series >= 1 and series <=4:\n",
    "        return \"Normal\"\n",
    "    if series >4:\n",
    "        return \"Elevated\"\n",
    "ASI_RMT1T2['C4RV'] = ASI_RMT1T2['C4'].apply(c4)"
   ]
  },
  {
   "cell_type": "code",
   "execution_count": 63,
   "metadata": {},
   "outputs": [],
   "source": [
    "def tc1 (series):\n",
    "    if series < 22:\n",
    "        return \"Depressed\"\n",
    "    if series >= 22 and series <= 46:\n",
    "        return \"Normal\"\n",
    "    if series > 46:\n",
    "        return \"Elevated\"\n",
    "ASI_RMT1T2['CtotalRV'] = ASI_RMT1T2['Ctotal'].apply(tc1)"
   ]
  },
  {
   "cell_type": "code",
   "execution_count": 64,
   "metadata": {},
   "outputs": [],
   "source": [
    "def d (series):\n",
    "    if series < 3:\n",
    "        return \"Depressed\"\n",
    "    if series >= 3 and series <=10:\n",
    "        return \"Normal\"\n",
    "    if series >10:\n",
    "        return \"Elevated\"\n",
    "ASI_RMT1T2['DHEARV'] = ASI_RMT1T2['DHEA'].apply(d)"
   ]
  },
  {
   "cell_type": "code",
   "execution_count": 65,
   "metadata": {},
   "outputs": [],
   "source": [
    "def p (series):\n",
    "    if series < 22:\n",
    "        return \"Depressed\"\n",
    "    if series >= 22 and series <= 100:\n",
    "        return \"Optimal\"\n",
    "    if series >= 101 and series <= 130:\n",
    "        return \"Borderline Elevated\"\n",
    "    if series > 130:\n",
    "        return \"Elevated\"\n",
    "ASI_RMT1T2['P17RV'] = ASI_RMT1T2['P17'].apply(p)"
   ]
  },
  {
   "cell_type": "code",
   "execution_count": 66,
   "metadata": {},
   "outputs": [],
   "source": [
    "def ti (series):\n",
    "    if series < 5:\n",
    "        return \"Depressed\"\n",
    "    if series >= 5 and series <= 9:\n",
    "        return \"Borderline Low\"\n",
    "    if series >= 10 and series <= 20:\n",
    "        return \"Normal\"\n",
    "    if series >= 21 and series <= 25:\n",
    "        return \"Borderline High\"\n",
    "    if series > 25:\n",
    "        return \"Elevated\"\n",
    "ASI_RMT1T2['TIgARV'] = ASI_RMT1T2['TIgA'].apply(ti)"
   ]
  },
  {
   "cell_type": "code",
   "execution_count": 67,
   "metadata": {},
   "outputs": [],
   "source": [
    "def gi (series):\n",
    "    if series < 13:\n",
    "        return \"Negative\"\n",
    "    if series >= 13and series <= 15:\n",
    "        return \"Borderline\"\n",
    "    if series >= 15:\n",
    "        return \"Positive\"\n",
    "ASI_RMT1T2['GIgARV'] = ASI_RMT1T2['GIgA'].apply(gi)\n"
   ]
  },
  {
   "cell_type": "code",
   "execution_count": 68,
   "metadata": {},
   "outputs": [
    {
     "data": {
      "text/plain": [
       "Text(0, 0.5, 'Frequency')"
      ]
     },
     "execution_count": 68,
     "metadata": {},
     "output_type": "execute_result"
    },
    {
     "data": {
      "image/png": "[encoded data removed]",
      "text/plain": [
       "<Figure size 432x288 with 1 Axes>"
      ]
     },
     "metadata": {
      "needs_background": "light"
     },
     "output_type": "display_data"
    }
   ],
   "source": [
    "BarC1RV = ASI_RMT1T2['C1RV'].value_counts().plot(kind = 'bar')\n",
    "BarC1RV.set_title(\"Frequencies of C1 Levels\")\n",
    "BarC1RV.set_xlabel(\"C1 Levels\")\n",
    "BarC1RV.set_ylabel(\"Frequency\")"
   ]
  },
  {
   "cell_type": "code",
   "execution_count": 69,
   "metadata": {},
   "outputs": [
    {
     "data": {
      "text/plain": [
       "Text(0, 0.5, 'Frequency')"
      ]
     },
     "execution_count": 69,
     "metadata": {},
     "output_type": "execute_result"
    },
    {
     "data": {
      "image/png": "[encoded data removed]",
      "text/plain": [
       "<Figure size 432x288 with 1 Axes>"
      ]
     },
     "metadata": {
      "needs_background": "light"
     },
     "output_type": "display_data"
    }
   ],
   "source": [
    "BarC2RV = ASI_RMT1T2['C2RV'].value_counts().plot(kind = 'bar')\n",
    "BarC2RV.set_title(\"Frequencies of C2 Levels\")\n",
    "BarC2RV.set_xlabel(\"C2 Levels\")\n",
    "BarC2RV.set_ylabel(\"Frequency\")"
   ]
  },
  {
   "cell_type": "code",
   "execution_count": 70,
   "metadata": {},
   "outputs": [
    {
     "data": {
      "text/plain": [
       "Text(0, 0.5, 'Frequency')"
      ]
     },
     "execution_count": 70,
     "metadata": {},
     "output_type": "execute_result"
    },
    {
     "data": {
      "image/png": "[encoded data removed]",
      "text/plain": [
       "<Figure size 432x288 with 1 Axes>"
      ]
     },
     "metadata": {
      "needs_background": "light"
     },
     "output_type": "display_data"
    }
   ],
   "source": [
    "BarC3RV = ASI_RMT1T2['C3RV'].value_counts().plot(kind = 'bar')\n",
    "BarC3RV.set_title(\"Frequencies of C3 Levels\")\n",
    "BarC3RV.set_xlabel(\"C3 Levels\")\n",
    "BarC3RV.set_ylabel(\"Frequency\")"
   ]
  },
  {
   "cell_type": "code",
   "execution_count": 71,
   "metadata": {},
   "outputs": [
    {
     "data": {
      "text/plain": [
       "Text(0, 0.5, 'Frequency')"
      ]
     },
     "execution_count": 71,
     "metadata": {},
     "output_type": "execute_result"
    },
    {
     "data": {
      "image/png": "[encoded data removed]",
      "text/plain": [
       "<Figure size 432x288 with 1 Axes>"
      ]
     },
     "metadata": {
      "needs_background": "light"
     },
     "output_type": "display_data"
    }
   ],
   "source": [
    "BarC4RV = ASI_RMT1T2['C4RV'].value_counts().plot(kind = 'bar')\n",
    "BarC4RV.set_title(\"Frequencies of C4 Levels\")\n",
    "BarC4RV.set_xlabel(\"C4 Levels\")\n",
    "BarC4RV.set_ylabel(\"Frequency\")"
   ]
  },
  {
   "cell_type": "code",
   "execution_count": 72,
   "metadata": {},
   "outputs": [
    {
     "data": {
      "text/plain": [
       "Text(0, 0.5, 'Frequency')"
      ]
     },
     "execution_count": 72,
     "metadata": {},
     "output_type": "execute_result"
    },
    {
     "data": {
      "image/png": "[encoded data removed]",
      "text/plain": [
       "<Figure size 432x288 with 1 Axes>"
      ]
     },
     "metadata": {
      "needs_background": "light"
     },
     "output_type": "display_data"
    }
   ],
   "source": [
    "BarCtotalRV = ASI_RMT1T2['CtotalRV'].value_counts().plot(kind = 'bar')\n",
    "BarCtotalRV.set_title(\"Frequencies of Ctotal Levels\")\n",
    "BarCtotalRV.set_xlabel(\"Ctotal Levels\")\n",
    "BarCtotalRV.set_ylabel(\"Frequency\")"
   ]
  },
  {
   "cell_type": "code",
   "execution_count": 73,
   "metadata": {},
   "outputs": [
    {
     "data": {
      "text/plain": [
       "Text(0, 0.5, 'Frequency')"
      ]
     },
     "execution_count": 73,
     "metadata": {},
     "output_type": "execute_result"
    },
    {
     "data": {
      "image/png": "[encoded data removed]",
      "text/plain": [
       "<Figure size 432x288 with 1 Axes>"
      ]
     },
     "metadata": {
      "needs_background": "light"
     },
     "output_type": "display_data"
    }
   ],
   "source": [
    "BarDHEARV = ASI_RMT1T2['DHEARV'].value_counts().plot(kind = 'bar')\n",
    "BarDHEARV.set_title(\"Frequencies of DHEA Levels\")\n",
    "BarDHEARV.set_xlabel(\"DHEA Levels\")\n",
    "BarDHEARV.set_ylabel(\"Frequency\")"
   ]
  },
  {
   "cell_type": "code",
   "execution_count": 74,
   "metadata": {},
   "outputs": [
    {
     "data": {
      "text/plain": [
       "Text(0, 0.5, 'Frequency')"
      ]
     },
     "execution_count": 74,
     "metadata": {},
     "output_type": "execute_result"
    },
    {
     "data": {
      "image/png": "[encoded data removed]",
      "text/plain": [
       "<Figure size 432x288 with 1 Axes>"
      ]
     },
     "metadata": {
      "needs_background": "light"
     },
     "output_type": "display_data"
    }
   ],
   "source": [
    "BarP17RV = ASI_RMT1T2['P17RV'].value_counts().plot(kind = 'bar')\n",
    "BarP17RV.set_title(\"Frequencies of P17 Levels\")\n",
    "BarP17RV.set_xlabel(\"P17Levels\")\n",
    "BarP17RV.set_ylabel(\"Frequency\")"
   ]
  },
  {
   "cell_type": "code",
   "execution_count": 75,
   "metadata": {},
   "outputs": [
    {
     "data": {
      "text/plain": [
       "Text(0, 0.5, 'Frequency')"
      ]
     },
     "execution_count": 75,
     "metadata": {},
     "output_type": "execute_result"
    },
    {
     "data": {
      "image/png": "[encoded data removed]",
      "text/plain": [
       "<Figure size 432x288 with 1 Axes>"
      ]
     },
     "metadata": {
      "needs_background": "light"
     },
     "output_type": "display_data"
    }
   ],
   "source": [
    "BarTIgARV = ASI_RMT1T2['TIgARV'].value_counts().plot(kind = 'bar')\n",
    "BarTIgARV.set_title(\"Frequencies of TIgA Levels\")\n",
    "BarTIgARV.set_xlabel(\"TIgA Levels\")\n",
    "BarTIgARV.set_ylabel(\"Frequency\")"
   ]
  },
  {
   "cell_type": "code",
   "execution_count": 78,
   "metadata": {},
   "outputs": [
    {
     "data": {
      "text/plain": [
       "Text(0, 0.5, 'Frequency')"
      ]
     },
     "execution_count": 78,
     "metadata": {},
     "output_type": "execute_result"
    },
    {
     "data": {
      "image/png": "[encoded data removed]",
      "text/plain": [
       "<Figure size 432x288 with 1 Axes>"
      ]
     },
     "metadata": {
      "needs_background": "light"
     },
     "output_type": "display_data"
    }
   ],
   "source": [
    "BarGIgARV = ASI_RMT1T2['GIgARV'].value_counts().plot(kind = 'bar')\n",
    "BarGIgARV.set_title(\"Frequencies of GIgA Levels\")\n",
    "BarGIgARV.set_xlabel(\"GIgA Levels\")\n",
    "BarGIgARV.set_ylabel(\"Frequency\")"
   ]
  },
  {
   "cell_type": "code",
   "execution_count": 81,
   "metadata": {},
   "outputs": [
    {
     "ename": "NameError",
     "evalue": "name 'df' is not defined",
     "output_type": "error",
     "traceback": [
      "\u001b[1;31m---------------------------------------------------------------------------\u001b[0m",
      "\u001b[1;31mNameError\u001b[0m                                 Traceback (most recent call last)",
      "\u001b[1;32m<ipython-input-81-33acdff6334a>\u001b[0m in \u001b[0;36m<module>\u001b[1;34m\u001b[0m\n\u001b[1;32m----> 1\u001b[1;33m \u001b[0mdf\u001b[0m\u001b[1;33m.\u001b[0m\u001b[0mto_csv\u001b[0m\u001b[1;33m(\u001b[0m\u001b[1;34mr'C:\\Users\\matth\\Desktop\\Final\\The-Chill-Team\\ASI_RMT1T2RV.csv'\u001b[0m\u001b[1;33m)\u001b[0m\u001b[1;33m\u001b[0m\u001b[1;33m\u001b[0m\u001b[0m\n\u001b[0m",
      "\u001b[1;31mNameError\u001b[0m: name 'df' is not defined"
     ]
    }
   ],
   "source": [
    "d.to_csv(r'C:\\Users\\matth\\Desktop\\Final\\The-Chill-Team\\ASI_RMT1T2RV.csv')"
   ]
  },
  {
   "cell_type": "code",
   "execution_count": null,
   "metadata": {},
   "outputs": [],
   "source": []
  }
 ],
 "metadata": {
  "kernelspec": {
   "display_name": "Python 3",
   "language": "python",
   "name": "python3"
  },
  "language_info": {
   "codemirror_mode": {
    "name": "ipython",
    "version": 3
   },
   "file_extension": ".py",
   "mimetype": "text/x-python",
   "name": "python",
   "nbconvert_exporter": "python",
   "pygments_lexer": "ipython3",
   "version": "3.8.3"
  }
 },
 "nbformat": 4,
 "nbformat_minor": 4
}
