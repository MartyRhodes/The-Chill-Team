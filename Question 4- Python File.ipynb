{
 "cells": [
  {
   "cell_type": "code",
   "execution_count": 122,
   "metadata": {},
   "outputs": [],
   "source": [
    "import pandas as pd\n",
    "import numpy as np\n",
    "import matplotlib.pyplot as plt\n",
    "from pylab import *\n",
    "import seaborn as sns\n",
    "%matplotlib inline\n",
    "import  statsmodels.api as sm\n",
    "import statsmodels.stats.api as sms\n",
    "from scipy import stats\n",
    "from scipy.stats import boxcox"
   ]
  },
  {
   "cell_type": "code",
   "execution_count": 123,
   "metadata": {},
   "outputs": [],
   "source": [
    "ASI_Base = pd.read_csv('ASI_Base.csv')"
   ]
  },
  {
   "cell_type": "code",
   "execution_count": 124,
   "metadata": {},
   "outputs": [
    {
     "data": {
      "text/html": [
       "<div>\n",
       "<style scoped>\n",
       "    .dataframe tbody tr th:only-of-type {\n",
       "        vertical-align: middle;\n",
       "    }\n",
       "\n",
       "    .dataframe tbody tr th {\n",
       "        vertical-align: top;\n",
       "    }\n",
       "\n",
       "    .dataframe thead th {\n",
       "        text-align: right;\n",
       "    }\n",
       "</style>\n",
       "<table border=\"1\" class=\"dataframe\">\n",
       "  <thead>\n",
       "    <tr style=\"text-align: right;\">\n",
       "      <th></th>\n",
       "      <th>Unnamed: 0</th>\n",
       "      <th>Year</th>\n",
       "      <th>Age</th>\n",
       "      <th>Gender</th>\n",
       "      <th>C1</th>\n",
       "      <th>C2</th>\n",
       "      <th>C3</th>\n",
       "      <th>C4</th>\n",
       "      <th>CTotal</th>\n",
       "      <th>DHEA</th>\n",
       "      <th>IF</th>\n",
       "      <th>INF</th>\n",
       "      <th>P17-OH</th>\n",
       "      <th>TotalIgA</th>\n",
       "      <th>GIgA</th>\n",
       "      <th>RandID</th>\n",
       "    </tr>\n",
       "  </thead>\n",
       "  <tbody>\n",
       "    <tr>\n",
       "      <th>0</th>\n",
       "      <td>0</td>\n",
       "      <td>10</td>\n",
       "      <td>42</td>\n",
       "      <td>F</td>\n",
       "      <td>19.0</td>\n",
       "      <td>6</td>\n",
       "      <td>4.0</td>\n",
       "      <td>5.0</td>\n",
       "      <td>34</td>\n",
       "      <td>1.0</td>\n",
       "      <td>3.0</td>\n",
       "      <td>3.0</td>\n",
       "      <td>49.0</td>\n",
       "      <td>5.0</td>\n",
       "      <td>23.0</td>\n",
       "      <td>9383480749</td>\n",
       "    </tr>\n",
       "    <tr>\n",
       "      <th>1</th>\n",
       "      <td>1</td>\n",
       "      <td>11</td>\n",
       "      <td>60</td>\n",
       "      <td>F</td>\n",
       "      <td>12.0</td>\n",
       "      <td>7</td>\n",
       "      <td>4.0</td>\n",
       "      <td>7.0</td>\n",
       "      <td>30</td>\n",
       "      <td>2.0</td>\n",
       "      <td>3.0</td>\n",
       "      <td>22.0</td>\n",
       "      <td>15.0</td>\n",
       "      <td>7.0</td>\n",
       "      <td>5.0</td>\n",
       "      <td>2705809722</td>\n",
       "    </tr>\n",
       "    <tr>\n",
       "      <th>2</th>\n",
       "      <td>2</td>\n",
       "      <td>14</td>\n",
       "      <td>49</td>\n",
       "      <td>F</td>\n",
       "      <td>11.0</td>\n",
       "      <td>1</td>\n",
       "      <td>1.0</td>\n",
       "      <td>1.0</td>\n",
       "      <td>14</td>\n",
       "      <td>3.0</td>\n",
       "      <td>3.0</td>\n",
       "      <td>3.0</td>\n",
       "      <td>30.0</td>\n",
       "      <td>5.0</td>\n",
       "      <td>1.0</td>\n",
       "      <td>517281238</td>\n",
       "    </tr>\n",
       "    <tr>\n",
       "      <th>3</th>\n",
       "      <td>3</td>\n",
       "      <td>14</td>\n",
       "      <td>35</td>\n",
       "      <td>F</td>\n",
       "      <td>12.0</td>\n",
       "      <td>3</td>\n",
       "      <td>6.0</td>\n",
       "      <td>1.0</td>\n",
       "      <td>22</td>\n",
       "      <td>6.0</td>\n",
       "      <td>15.0</td>\n",
       "      <td>18.0</td>\n",
       "      <td>33.0</td>\n",
       "      <td>16.0</td>\n",
       "      <td>4.0</td>\n",
       "      <td>2356075951</td>\n",
       "    </tr>\n",
       "    <tr>\n",
       "      <th>4</th>\n",
       "      <td>4</td>\n",
       "      <td>13</td>\n",
       "      <td>53</td>\n",
       "      <td>F</td>\n",
       "      <td>20.0</td>\n",
       "      <td>7</td>\n",
       "      <td>4.0</td>\n",
       "      <td>3.0</td>\n",
       "      <td>34</td>\n",
       "      <td>5.0</td>\n",
       "      <td>3.0</td>\n",
       "      <td>7.0</td>\n",
       "      <td>9.0</td>\n",
       "      <td>5.0</td>\n",
       "      <td>13.0</td>\n",
       "      <td>9137475714</td>\n",
       "    </tr>\n",
       "  </tbody>\n",
       "</table>\n",
       "</div>"
      ],
      "text/plain": [
       "   Unnamed: 0  Year  Age Gender    C1  C2   C3   C4  CTotal  DHEA    IF   INF  \\\n",
       "0           0    10   42      F  19.0   6  4.0  5.0      34   1.0   3.0   3.0   \n",
       "1           1    11   60      F  12.0   7  4.0  7.0      30   2.0   3.0  22.0   \n",
       "2           2    14   49      F  11.0   1  1.0  1.0      14   3.0   3.0   3.0   \n",
       "3           3    14   35      F  12.0   3  6.0  1.0      22   6.0  15.0  18.0   \n",
       "4           4    13   53      F  20.0   7  4.0  3.0      34   5.0   3.0   7.0   \n",
       "\n",
       "   P17-OH  TotalIgA  GIgA      RandID  \n",
       "0    49.0       5.0  23.0  9383480749  \n",
       "1    15.0       7.0   5.0  2705809722  \n",
       "2    30.0       5.0   1.0   517281238  \n",
       "3    33.0      16.0   4.0  2356075951  \n",
       "4     9.0       5.0  13.0  9137475714  "
      ]
     },
     "execution_count": 124,
     "metadata": {},
     "output_type": "execute_result"
    }
   ],
   "source": [
    "ASI_Base.head()"
   ]
  },
  {
   "cell_type": "code",
   "execution_count": 125,
   "metadata": {},
   "outputs": [],
   "source": [
    "ASI_Base1 = ASI_Base[['Age','C1','C2','C3','C4','CTotal','DHEA','P17-OH','TotalIgA','GIgA']]"
   ]
  },
  {
   "cell_type": "code",
   "execution_count": 126,
   "metadata": {},
   "outputs": [
    {
     "name": "stdout",
     "output_type": "stream",
     "text": [
      "<class 'pandas.core.frame.DataFrame'>\n",
      "RangeIndex: 255 entries, 0 to 254\n",
      "Data columns (total 10 columns):\n",
      " #   Column    Non-Null Count  Dtype  \n",
      "---  ------    --------------  -----  \n",
      " 0   Age       255 non-null    int64  \n",
      " 1   C1        252 non-null    float64\n",
      " 2   C2        255 non-null    int64  \n",
      " 3   C3        253 non-null    float64\n",
      " 4   C4        253 non-null    float64\n",
      " 5   CTotal    255 non-null    int64  \n",
      " 6   DHEA      250 non-null    float64\n",
      " 7   P17-OH    246 non-null    float64\n",
      " 8   TotalIgA  248 non-null    float64\n",
      " 9   GIgA      245 non-null    float64\n",
      "dtypes: float64(7), int64(3)\n",
      "memory usage: 20.0 KB\n"
     ]
    }
   ],
   "source": [
    "ASI_Base1.info()"
   ]
  },
  {
   "cell_type": "code",
   "execution_count": 127,
   "metadata": {},
   "outputs": [
    {
     "name": "stderr",
     "output_type": "stream",
     "text": [
      "<ipython-input-127-b376b54e3541>:1: SettingWithCopyWarning: \n",
      "A value is trying to be set on a copy of a slice from a DataFrame.\n",
      "Try using .loc[row_indexer,col_indexer] = value instead\n",
      "\n",
      "See the caveats in the documentation: https://pandas.pydata.org/pandas-docs/stable/user_guide/indexing.html#returning-a-view-versus-a-copy\n",
      "  ASI_Base1['Age'] = ASI_Base1['Age'].astype(int)\n"
     ]
    }
   ],
   "source": [
    "ASI_Base1['Age'] = ASI_Base1['Age'].astype(int)"
   ]
  },
  {
   "cell_type": "code",
   "execution_count": null,
   "metadata": {},
   "outputs": [],
   "source": []
  },
  {
   "cell_type": "code",
   "execution_count": 128,
   "metadata": {},
   "outputs": [
    {
     "name": "stderr",
     "output_type": "stream",
     "text": [
      "<ipython-input-128-a356c9faf015>:1: SettingWithCopyWarning: \n",
      "A value is trying to be set on a copy of a slice from a DataFrame\n",
      "\n",
      "See the caveats in the documentation: https://pandas.pydata.org/pandas-docs/stable/user_guide/indexing.html#returning-a-view-versus-a-copy\n",
      "  ASI_Base1.dropna(inplace=True)\n"
     ]
    }
   ],
   "source": [
    "ASI_Base1.dropna(inplace=True)"
   ]
  },
  {
   "cell_type": "code",
   "execution_count": 129,
   "metadata": {},
   "outputs": [
    {
     "name": "stderr",
     "output_type": "stream",
     "text": [
      "<ipython-input-129-a8058e978ca9>:1: SettingWithCopyWarning: \n",
      "A value is trying to be set on a copy of a slice from a DataFrame.\n",
      "Try using .loc[row_indexer,col_indexer] = value instead\n",
      "\n",
      "See the caveats in the documentation: https://pandas.pydata.org/pandas-docs/stable/user_guide/indexing.html#returning-a-view-versus-a-copy\n",
      "  ASI_Base1['C1'] = ASI_Base1['C1'].astype(int)\n"
     ]
    }
   ],
   "source": [
    "ASI_Base1['C1'] = ASI_Base1['C1'].astype(int)"
   ]
  },
  {
   "cell_type": "code",
   "execution_count": 130,
   "metadata": {},
   "outputs": [
    {
     "name": "stderr",
     "output_type": "stream",
     "text": [
      "<ipython-input-130-dc636da5e3d6>:1: SettingWithCopyWarning: \n",
      "A value is trying to be set on a copy of a slice from a DataFrame.\n",
      "Try using .loc[row_indexer,col_indexer] = value instead\n",
      "\n",
      "See the caveats in the documentation: https://pandas.pydata.org/pandas-docs/stable/user_guide/indexing.html#returning-a-view-versus-a-copy\n",
      "  ASI_Base1['C2'] = ASI_Base1['C2'].astype(int)\n"
     ]
    }
   ],
   "source": [
    "ASI_Base1['C2'] = ASI_Base1['C2'].astype(int)"
   ]
  },
  {
   "cell_type": "code",
   "execution_count": 131,
   "metadata": {},
   "outputs": [
    {
     "name": "stderr",
     "output_type": "stream",
     "text": [
      "<ipython-input-131-d6a77880bdf9>:1: SettingWithCopyWarning: \n",
      "A value is trying to be set on a copy of a slice from a DataFrame.\n",
      "Try using .loc[row_indexer,col_indexer] = value instead\n",
      "\n",
      "See the caveats in the documentation: https://pandas.pydata.org/pandas-docs/stable/user_guide/indexing.html#returning-a-view-versus-a-copy\n",
      "  ASI_Base1['C3'] = ASI_Base1['C3'].astype(int)\n"
     ]
    }
   ],
   "source": [
    "ASI_Base1['C3'] = ASI_Base1['C3'].astype(int)"
   ]
  },
  {
   "cell_type": "code",
   "execution_count": 132,
   "metadata": {},
   "outputs": [
    {
     "name": "stderr",
     "output_type": "stream",
     "text": [
      "<ipython-input-132-c06d5fb40014>:1: SettingWithCopyWarning: \n",
      "A value is trying to be set on a copy of a slice from a DataFrame.\n",
      "Try using .loc[row_indexer,col_indexer] = value instead\n",
      "\n",
      "See the caveats in the documentation: https://pandas.pydata.org/pandas-docs/stable/user_guide/indexing.html#returning-a-view-versus-a-copy\n",
      "  ASI_Base1['C4'] = ASI_Base1['C4'].astype(int)\n"
     ]
    }
   ],
   "source": [
    "ASI_Base1['C4'] = ASI_Base1['C4'].astype(int)"
   ]
  },
  {
   "cell_type": "code",
   "execution_count": 133,
   "metadata": {},
   "outputs": [
    {
     "name": "stderr",
     "output_type": "stream",
     "text": [
      "<ipython-input-133-ed5c79bf6909>:1: SettingWithCopyWarning: \n",
      "A value is trying to be set on a copy of a slice from a DataFrame.\n",
      "Try using .loc[row_indexer,col_indexer] = value instead\n",
      "\n",
      "See the caveats in the documentation: https://pandas.pydata.org/pandas-docs/stable/user_guide/indexing.html#returning-a-view-versus-a-copy\n",
      "  ASI_Base1['CTotal'] = ASI_Base1['CTotal'].astype(int)\n"
     ]
    }
   ],
   "source": [
    "ASI_Base1['CTotal'] = ASI_Base1['CTotal'].astype(int)"
   ]
  },
  {
   "cell_type": "code",
   "execution_count": 134,
   "metadata": {},
   "outputs": [
    {
     "name": "stderr",
     "output_type": "stream",
     "text": [
      "<ipython-input-134-2a892db57b1d>:1: SettingWithCopyWarning: \n",
      "A value is trying to be set on a copy of a slice from a DataFrame.\n",
      "Try using .loc[row_indexer,col_indexer] = value instead\n",
      "\n",
      "See the caveats in the documentation: https://pandas.pydata.org/pandas-docs/stable/user_guide/indexing.html#returning-a-view-versus-a-copy\n",
      "  ASI_Base1['DHEA'] = ASI_Base1['DHEA'].astype(int)\n"
     ]
    }
   ],
   "source": [
    "ASI_Base1['DHEA'] = ASI_Base1['DHEA'].astype(int)"
   ]
  },
  {
   "cell_type": "code",
   "execution_count": 135,
   "metadata": {},
   "outputs": [
    {
     "name": "stderr",
     "output_type": "stream",
     "text": [
      "<ipython-input-135-2b637e77653c>:1: SettingWithCopyWarning: \n",
      "A value is trying to be set on a copy of a slice from a DataFrame.\n",
      "Try using .loc[row_indexer,col_indexer] = value instead\n",
      "\n",
      "See the caveats in the documentation: https://pandas.pydata.org/pandas-docs/stable/user_guide/indexing.html#returning-a-view-versus-a-copy\n",
      "  ASI_Base1['TotalIgA'] = ASI_Base1['TotalIgA'].astype(int)\n"
     ]
    }
   ],
   "source": [
    "ASI_Base1['TotalIgA'] = ASI_Base1['TotalIgA'].astype(int)"
   ]
  },
  {
   "cell_type": "code",
   "execution_count": 136,
   "metadata": {},
   "outputs": [
    {
     "name": "stderr",
     "output_type": "stream",
     "text": [
      "<ipython-input-136-1a4f1f14f081>:1: SettingWithCopyWarning: \n",
      "A value is trying to be set on a copy of a slice from a DataFrame.\n",
      "Try using .loc[row_indexer,col_indexer] = value instead\n",
      "\n",
      "See the caveats in the documentation: https://pandas.pydata.org/pandas-docs/stable/user_guide/indexing.html#returning-a-view-versus-a-copy\n",
      "  ASI_Base1['GIgA'] = ASI_Base1['GIgA'].astype(int)\n"
     ]
    }
   ],
   "source": [
    "ASI_Base1['GIgA'] = ASI_Base1['GIgA'].astype(int)"
   ]
  },
  {
   "cell_type": "code",
   "execution_count": 137,
   "metadata": {},
   "outputs": [
    {
     "name": "stderr",
     "output_type": "stream",
     "text": [
      "<ipython-input-137-82eb4a2b5b96>:1: SettingWithCopyWarning: \n",
      "A value is trying to be set on a copy of a slice from a DataFrame.\n",
      "Try using .loc[row_indexer,col_indexer] = value instead\n",
      "\n",
      "See the caveats in the documentation: https://pandas.pydata.org/pandas-docs/stable/user_guide/indexing.html#returning-a-view-versus-a-copy\n",
      "  ASI_Base1['AgeLOG'] = np.log(ASI_Base1['Age'])\n"
     ]
    }
   ],
   "source": [
    "ASI_Base1['AgeLOG'] = np.log(ASI_Base1['Age'])"
   ]
  },
  {
   "cell_type": "code",
   "execution_count": null,
   "metadata": {},
   "outputs": [],
   "source": []
  },
  {
   "cell_type": "code",
   "execution_count": 138,
   "metadata": {},
   "outputs": [
    {
     "name": "stderr",
     "output_type": "stream",
     "text": [
      "<ipython-input-138-a356c9faf015>:1: SettingWithCopyWarning: \n",
      "A value is trying to be set on a copy of a slice from a DataFrame\n",
      "\n",
      "See the caveats in the documentation: https://pandas.pydata.org/pandas-docs/stable/user_guide/indexing.html#returning-a-view-versus-a-copy\n",
      "  ASI_Base1.dropna(inplace=True)\n"
     ]
    }
   ],
   "source": [
    "ASI_Base1.dropna(inplace=True)"
   ]
  },
  {
   "cell_type": "code",
   "execution_count": 139,
   "metadata": {},
   "outputs": [
    {
     "name": "stderr",
     "output_type": "stream",
     "text": [
      "<ipython-input-139-01212e7c04a5>:1: SettingWithCopyWarning: \n",
      "A value is trying to be set on a copy of a slice from a DataFrame.\n",
      "Try using .loc[row_indexer,col_indexer] = value instead\n",
      "\n",
      "See the caveats in the documentation: https://pandas.pydata.org/pandas-docs/stable/user_guide/indexing.html#returning-a-view-versus-a-copy\n",
      "  ASI_Base1['P17-OH'] = ASI_Base1['P17-OH'].astype(int)\n"
     ]
    }
   ],
   "source": [
    "ASI_Base1['P17-OH'] = ASI_Base1['P17-OH'].astype(int)"
   ]
  },
  {
   "cell_type": "code",
   "execution_count": 140,
   "metadata": {},
   "outputs": [
    {
     "name": "stderr",
     "output_type": "stream",
     "text": [
      "<ipython-input-140-65a2d0cb5955>:1: SettingWithCopyWarning: \n",
      "A value is trying to be set on a copy of a slice from a DataFrame.\n",
      "Try using .loc[row_indexer,col_indexer] = value instead\n",
      "\n",
      "See the caveats in the documentation: https://pandas.pydata.org/pandas-docs/stable/user_guide/indexing.html#returning-a-view-versus-a-copy\n",
      "  ASI_Base1['P17-OHLOG'] = np.log(ASI_Base1['P17-OH'])\n"
     ]
    }
   ],
   "source": [
    "ASI_Base1['P17-OHLOG'] = np.log(ASI_Base1['P17-OH'])"
   ]
  },
  {
   "cell_type": "code",
   "execution_count": 141,
   "metadata": {},
   "outputs": [
    {
     "name": "stderr",
     "output_type": "stream",
     "text": [
      "<ipython-input-141-f0e000572cef>:1: SettingWithCopyWarning: \n",
      "A value is trying to be set on a copy of a slice from a DataFrame.\n",
      "Try using .loc[row_indexer,col_indexer] = value instead\n",
      "\n",
      "See the caveats in the documentation: https://pandas.pydata.org/pandas-docs/stable/user_guide/indexing.html#returning-a-view-versus-a-copy\n",
      "  ASI_Base1['CTotalLOG'] = np.log(ASI_Base1['CTotal'])\n"
     ]
    }
   ],
   "source": [
    "ASI_Base1['CTotalLOG'] = np.log(ASI_Base1['CTotal'])"
   ]
  },
  {
   "cell_type": "code",
   "execution_count": 142,
   "metadata": {},
   "outputs": [
    {
     "name": "stderr",
     "output_type": "stream",
     "text": [
      "<ipython-input-142-dfba8c20e9b6>:1: SettingWithCopyWarning: \n",
      "A value is trying to be set on a copy of a slice from a DataFrame.\n",
      "Try using .loc[row_indexer,col_indexer] = value instead\n",
      "\n",
      "See the caveats in the documentation: https://pandas.pydata.org/pandas-docs/stable/user_guide/indexing.html#returning-a-view-versus-a-copy\n",
      "  ASI_Base1['C1LOG'] = np.log(ASI_Base1['C1'])\n"
     ]
    }
   ],
   "source": [
    "ASI_Base1['C1LOG'] = np.log(ASI_Base1['C1'])"
   ]
  },
  {
   "cell_type": "code",
   "execution_count": 143,
   "metadata": {},
   "outputs": [
    {
     "name": "stderr",
     "output_type": "stream",
     "text": [
      "<ipython-input-143-b737bbb80e3d>:1: SettingWithCopyWarning: \n",
      "A value is trying to be set on a copy of a slice from a DataFrame.\n",
      "Try using .loc[row_indexer,col_indexer] = value instead\n",
      "\n",
      "See the caveats in the documentation: https://pandas.pydata.org/pandas-docs/stable/user_guide/indexing.html#returning-a-view-versus-a-copy\n",
      "  ASI_Base1['C2LOG'] = np.log(ASI_Base1['C2'])\n"
     ]
    }
   ],
   "source": [
    "ASI_Base1['C2LOG'] = np.log(ASI_Base1['C2'])"
   ]
  },
  {
   "cell_type": "code",
   "execution_count": 144,
   "metadata": {},
   "outputs": [
    {
     "name": "stderr",
     "output_type": "stream",
     "text": [
      "<ipython-input-144-0b10d1238f9b>:1: SettingWithCopyWarning: \n",
      "A value is trying to be set on a copy of a slice from a DataFrame.\n",
      "Try using .loc[row_indexer,col_indexer] = value instead\n",
      "\n",
      "See the caveats in the documentation: https://pandas.pydata.org/pandas-docs/stable/user_guide/indexing.html#returning-a-view-versus-a-copy\n",
      "  ASI_Base1['C3LOG'] = np.log(ASI_Base1['C3'])\n"
     ]
    }
   ],
   "source": [
    "ASI_Base1['C3LOG'] = np.log(ASI_Base1['C3'])"
   ]
  },
  {
   "cell_type": "code",
   "execution_count": 145,
   "metadata": {},
   "outputs": [
    {
     "name": "stderr",
     "output_type": "stream",
     "text": [
      "<ipython-input-145-2b8eed9576de>:1: SettingWithCopyWarning: \n",
      "A value is trying to be set on a copy of a slice from a DataFrame.\n",
      "Try using .loc[row_indexer,col_indexer] = value instead\n",
      "\n",
      "See the caveats in the documentation: https://pandas.pydata.org/pandas-docs/stable/user_guide/indexing.html#returning-a-view-versus-a-copy\n",
      "  ASI_Base1['C4LOG'] = np.log(ASI_Base1['C4'])\n"
     ]
    }
   ],
   "source": [
    "ASI_Base1['C4LOG'] = np.log(ASI_Base1['C4'])"
   ]
  },
  {
   "cell_type": "code",
   "execution_count": 146,
   "metadata": {},
   "outputs": [
    {
     "name": "stderr",
     "output_type": "stream",
     "text": [
      "<ipython-input-146-bb71ae7ed462>:1: SettingWithCopyWarning: \n",
      "A value is trying to be set on a copy of a slice from a DataFrame.\n",
      "Try using .loc[row_indexer,col_indexer] = value instead\n",
      "\n",
      "See the caveats in the documentation: https://pandas.pydata.org/pandas-docs/stable/user_guide/indexing.html#returning-a-view-versus-a-copy\n",
      "  ASI_Base1['DHEALOG'] = np.log(ASI_Base1['DHEA'])\n"
     ]
    }
   ],
   "source": [
    "ASI_Base1['DHEALOG'] = np.log(ASI_Base1['DHEA'])"
   ]
  },
  {
   "cell_type": "code",
   "execution_count": 147,
   "metadata": {},
   "outputs": [
    {
     "name": "stderr",
     "output_type": "stream",
     "text": [
      "<ipython-input-147-e7d2545c3af0>:1: SettingWithCopyWarning: \n",
      "A value is trying to be set on a copy of a slice from a DataFrame.\n",
      "Try using .loc[row_indexer,col_indexer] = value instead\n",
      "\n",
      "See the caveats in the documentation: https://pandas.pydata.org/pandas-docs/stable/user_guide/indexing.html#returning-a-view-versus-a-copy\n",
      "  ASI_Base1['TotalIgALOG'] = np.log(ASI_Base1['TotalIgA'])\n"
     ]
    }
   ],
   "source": [
    "ASI_Base1['TotalIgALOG'] = np.log(ASI_Base1['TotalIgA'])"
   ]
  },
  {
   "cell_type": "code",
   "execution_count": 148,
   "metadata": {},
   "outputs": [
    {
     "name": "stderr",
     "output_type": "stream",
     "text": [
      "<ipython-input-148-2e424a379487>:1: SettingWithCopyWarning: \n",
      "A value is trying to be set on a copy of a slice from a DataFrame.\n",
      "Try using .loc[row_indexer,col_indexer] = value instead\n",
      "\n",
      "See the caveats in the documentation: https://pandas.pydata.org/pandas-docs/stable/user_guide/indexing.html#returning-a-view-versus-a-copy\n",
      "  ASI_Base1['GIgALOG'] = np.log(ASI_Base1['GIgA'])\n"
     ]
    }
   ],
   "source": [
    "ASI_Base1['GIgALOG'] = np.log(ASI_Base1['GIgA'])"
   ]
  },
  {
   "cell_type": "code",
   "execution_count": 149,
   "metadata": {},
   "outputs": [
    {
     "name": "stdout",
     "output_type": "stream",
     "text": [
      "<class 'pandas.core.frame.DataFrame'>\n",
      "Int64Index: 233 entries, 0 to 254\n",
      "Data columns (total 20 columns):\n",
      " #   Column       Non-Null Count  Dtype  \n",
      "---  ------       --------------  -----  \n",
      " 0   Age          233 non-null    int32  \n",
      " 1   C1           233 non-null    int32  \n",
      " 2   C2           233 non-null    int32  \n",
      " 3   C3           233 non-null    int32  \n",
      " 4   C4           233 non-null    int32  \n",
      " 5   CTotal       233 non-null    int32  \n",
      " 6   DHEA         233 non-null    int32  \n",
      " 7   P17-OH       233 non-null    int32  \n",
      " 8   TotalIgA     233 non-null    int32  \n",
      " 9   GIgA         233 non-null    int32  \n",
      " 10  AgeLOG       233 non-null    float64\n",
      " 11  P17-OHLOG    233 non-null    float64\n",
      " 12  CTotalLOG    233 non-null    float64\n",
      " 13  C1LOG        233 non-null    float64\n",
      " 14  C2LOG        233 non-null    float64\n",
      " 15  C3LOG        233 non-null    float64\n",
      " 16  C4LOG        233 non-null    float64\n",
      " 17  DHEALOG      233 non-null    float64\n",
      " 18  TotalIgALOG  233 non-null    float64\n",
      " 19  GIgALOG      233 non-null    float64\n",
      "dtypes: float64(10), int32(10)\n",
      "memory usage: 29.1 KB\n"
     ]
    }
   ],
   "source": [
    "ASI_Base1.info()"
   ]
  },
  {
   "cell_type": "code",
   "execution_count": null,
   "metadata": {},
   "outputs": [],
   "source": []
  },
  {
   "cell_type": "code",
   "execution_count": 150,
   "metadata": {},
   "outputs": [
    {
     "data": {
      "text/plain": [
       "<matplotlib.axes._subplots.AxesSubplot at 0x2bd2b130>"
      ]
     },
     "execution_count": 150,
     "metadata": {},
     "output_type": "execute_result"
    },
    {
     "data": {
      "image/png": "[encoded data removed]",
      "text/plain": [
       "<Figure size 432x288 with 1 Axes>"
      ]
     },
     "metadata": {
      "needs_background": "light"
     },
     "output_type": "display_data"
    }
   ],
   "source": [
    "sns.distplot(ASI_Base1['C1LOG'])"
   ]
  },
  {
   "cell_type": "code",
   "execution_count": 151,
   "metadata": {},
   "outputs": [
    {
     "data": {
      "text/plain": [
       "<matplotlib.axes._subplots.AxesSubplot at 0x2be83418>"
      ]
     },
     "execution_count": 151,
     "metadata": {},
     "output_type": "execute_result"
    },
    {
     "data": {
      "image/png": "[encoded data removed]",
      "text/plain": [
       "<Figure size 432x288 with 1 Axes>"
      ]
     },
     "metadata": {
      "needs_background": "light"
     },
     "output_type": "display_data"
    }
   ],
   "source": [
    "sns.distplot(ASI_Base1['C2LOG'])"
   ]
  },
  {
   "cell_type": "code",
   "execution_count": 152,
   "metadata": {},
   "outputs": [
    {
     "data": {
      "text/plain": [
       "<matplotlib.axes._subplots.AxesSubplot at 0x2bee7c40>"
      ]
     },
     "execution_count": 152,
     "metadata": {},
     "output_type": "execute_result"
    },
    {
     "data": {
      "image/png": "[encoded data removed]",
      "text/plain": [
       "<Figure size 432x288 with 1 Axes>"
      ]
     },
     "metadata": {
      "needs_background": "light"
     },
     "output_type": "display_data"
    }
   ],
   "source": [
    "sns.distplot(ASI_Base1['C3LOG'])"
   ]
  },
  {
   "cell_type": "code",
   "execution_count": 153,
   "metadata": {},
   "outputs": [
    {
     "data": {
      "text/plain": [
       "<matplotlib.axes._subplots.AxesSubplot at 0x2bf318e0>"
      ]
     },
     "execution_count": 153,
     "metadata": {},
     "output_type": "execute_result"
    },
    {
     "data": {
      "image/png": "[encoded data removed]",
      "text/plain": [
       "<Figure size 432x288 with 1 Axes>"
      ]
     },
     "metadata": {
      "needs_background": "light"
     },
     "output_type": "display_data"
    }
   ],
   "source": [
    "sns.distplot(ASI_Base1['C4LOG'])"
   ]
  },
  {
   "cell_type": "code",
   "execution_count": 154,
   "metadata": {},
   "outputs": [
    {
     "data": {
      "text/plain": [
       "<matplotlib.axes._subplots.AxesSubplot at 0x2bf74c58>"
      ]
     },
     "execution_count": 154,
     "metadata": {},
     "output_type": "execute_result"
    },
    {
     "data": {
      "image/png": "[encoded data removed]",
      "text/plain": [
       "<Figure size 432x288 with 1 Axes>"
      ]
     },
     "metadata": {
      "needs_background": "light"
     },
     "output_type": "display_data"
    }
   ],
   "source": [
    "sns.distplot(ASI_Base1['CTotalLOG'])"
   ]
  },
  {
   "cell_type": "code",
   "execution_count": 155,
   "metadata": {},
   "outputs": [
    {
     "data": {
      "text/plain": [
       "<matplotlib.axes._subplots.AxesSubplot at 0x2bfa1b80>"
      ]
     },
     "execution_count": 155,
     "metadata": {},
     "output_type": "execute_result"
    },
    {
     "data": {
      "image/png": "[encoded data removed]",
      "text/plain": [
       "<Figure size 432x288 with 1 Axes>"
      ]
     },
     "metadata": {
      "needs_background": "light"
     },
     "output_type": "display_data"
    }
   ],
   "source": [
    "sns.distplot(ASI_Base1['DHEALOG'])"
   ]
  },
  {
   "cell_type": "code",
   "execution_count": 156,
   "metadata": {},
   "outputs": [
    {
     "data": {
      "text/plain": [
       "<matplotlib.axes._subplots.AxesSubplot at 0x2c0054c0>"
      ]
     },
     "execution_count": 156,
     "metadata": {},
     "output_type": "execute_result"
    },
    {
     "data": {
      "image/png": "[encoded data removed]",
      "text/plain": [
       "<Figure size 432x288 with 1 Axes>"
      ]
     },
     "metadata": {
      "needs_background": "light"
     },
     "output_type": "display_data"
    }
   ],
   "source": [
    "sns.distplot(ASI_Base1['P17-OHLOG'])"
   ]
  },
  {
   "cell_type": "code",
   "execution_count": 157,
   "metadata": {},
   "outputs": [
    {
     "data": {
      "text/plain": [
       "<matplotlib.axes._subplots.AxesSubplot at 0x2c04eda8>"
      ]
     },
     "execution_count": 157,
     "metadata": {},
     "output_type": "execute_result"
    },
    {
     "data": {
      "image/png": "[encoded data removed]",
      "text/plain": [
       "<Figure size 432x288 with 1 Axes>"
      ]
     },
     "metadata": {
      "needs_background": "light"
     },
     "output_type": "display_data"
    }
   ],
   "source": [
    "sns.distplot(ASI_Base1['TotalIgALOG'])"
   ]
  },
  {
   "cell_type": "code",
   "execution_count": 158,
   "metadata": {},
   "outputs": [
    {
     "data": {
      "text/plain": [
       "<matplotlib.axes._subplots.AxesSubplot at 0x2c04ea30>"
      ]
     },
     "execution_count": 158,
     "metadata": {},
     "output_type": "execute_result"
    },
    {
     "data": {
      "image/png": "[encoded data removed]",
      "text/plain": [
       "<Figure size 432x288 with 1 Axes>"
      ]
     },
     "metadata": {
      "needs_background": "light"
     },
     "output_type": "display_data"
    }
   ],
   "source": [
    "sns.distplot(ASI_Base1['GIgALOG'])"
   ]
  },
  {
   "cell_type": "code",
   "execution_count": 159,
   "metadata": {},
   "outputs": [
    {
     "name": "stdout",
     "output_type": "stream",
     "text": [
      "     Age   C1   C2   C3   C4  CTotal  DHEA  P17-OH  TotalIgA  GIgA    AgeLOG  \\\n",
      "0     42   19    6    4    5      34     1      49         5    23  3.737670   \n",
      "1     60   12    7    4    7      30     2      15         7     5  4.094345   \n",
      "2     49   11    1    1    1      14     3      30         5     1  3.891820   \n",
      "3     35   12    3    6    1      22     6      33        16     4  3.555348   \n",
      "4     53   20    7    4    3      34     5       9         5    13  3.970292   \n",
      "5     53   21    6    7    2      36     2      29        16    10  3.970292   \n",
      "6     55   19    8   12    8      47     4      28         9     5  4.007333   \n",
      "7     56   13    5    3    6      27     4      18         6     3  4.025352   \n",
      "8     24   22    5    5    3      35     3      17        13     6  3.178054   \n",
      "9     55   11    7   13    6      37     7      15        10     6  4.007333   \n",
      "11    55    7    3    3   11      24     2      16         6    12  4.007333   \n",
      "12    46   14    4    3    2      23     3      26        11    12  3.828641   \n",
      "13    57   16    9    5    5      35     5      27         9     3  4.043051   \n",
      "14    46   12    5    3    2      22     2      15         5     2  3.828641   \n",
      "15    50    5    3    2    1      11     2      43        11    21  3.912023   \n",
      "16    68    9    6    9    3      27     4      16         8    30  4.219508   \n",
      "17    28   18    6    5    3      32     3      28         5     8  3.332205   \n",
      "18    56   26    5    9    8      48     2      87         7     5  4.025352   \n",
      "20    35   16    7    5   16      44     3      48         5     8  3.555348   \n",
      "21    49   14    7    5    6      32     4      24        18    17  3.891820   \n",
      "22    39   17    4    3    3      27     3      31         5     5  3.663562   \n",
      "23    60    7    4    5    5      21    14      36        12    10  4.094345   \n",
      "24    27    8    4    3    2      17     3      35         5     3  3.295837   \n",
      "25    59   23    8    5    5      41     5      46         5     8  4.077537   \n",
      "26    43   20    6    5    3      34     7      75         6     8  3.761200   \n",
      "27    54   11    5    8    5      29     3      20         5     6  3.988984   \n",
      "28    28   63   15   11    3      92     8      78        16     2  3.332205   \n",
      "29    33   38   13    9    7      67    10      99         7     5  3.496508   \n",
      "30    57    6    3    2    3      14     5      35        26    35  4.043051   \n",
      "31    41   19   10    6    3      38    11      28        15    53  3.713572   \n",
      "32    57   17    6    6    4      33     4      17         8    12  4.043051   \n",
      "33    79    4  110   30    8     152     1      15         5    15  4.369448   \n",
      "34    31   13    6    7    2      28     3      17         5     1  3.433987   \n",
      "35    46  110   45  110   40     305     7      46         6     3  3.828641   \n",
      "36    53    7    3    3    2      15     1      23         5     1  3.970292   \n",
      "37    60   17   11    7    5      40     2      30         7    12  4.094345   \n",
      "38    69   11    4    3    4      22     4      20         5    11  4.234107   \n",
      "39    34    7    7    5    4      23     6      15         5     6  3.526361   \n",
      "41    52   18    5    4    3      30     4      25         5     3  3.951244   \n",
      "43    34   19   12    8   16      55    10      35        15     4  3.526361   \n",
      "44    54    4    4    4   30      42     4      15         5    12  3.988984   \n",
      "45    53   13   11    8    9      41     4      15        10    21  3.970292   \n",
      "46    45   29    9    7    3      48     5      28         5     4  3.806662   \n",
      "47    55   54   13   14    7      88     3      14         5    24  4.007333   \n",
      "48    71   55  120  120  120     415     3      69        50    56  4.262680   \n",
      "49    46   10    4    3    2      19     2      17         5     3  3.828641   \n",
      "51    59  110   33   34  110     287     2      34         6     9  4.077537   \n",
      "52    49   13    6    3    1      23     5      40        60     2  3.891820   \n",
      "54    68   10    4    3    3      20     3      25        12    13  4.219508   \n",
      "55    58   36   29   16    7      88     7     167        11    15  4.060443   \n",
      "56    47   14    4    3    2      23     8      25         9     6  3.850148   \n",
      "57    67   11    5    4    3      23     3      10        14     3  4.204693   \n",
      "58    51  110  110  110  110     440     4      38         5     3  3.931826   \n",
      "59    59    4    5    3    4      16     5      11         6     6  4.077537   \n",
      "60    49   18   17    5    7      47     4      49         9     3  3.891820   \n",
      "61    55   13   11    9    9      42     6      31         5    15  4.007333   \n",
      "62    59   16    7    5    6      34     2      29         5     7  4.077537   \n",
      "63    31   15    5    3    7      30     4      31         5     1  3.433987   \n",
      "64    45   20    6    4    2      32     5      43        16     6  3.806662   \n",
      "66    23   41    7    4   44      96     4      43         5     2  3.135494   \n",
      "68    52    6    3    5    9      23     4      17         6     6  3.951244   \n",
      "69    53    9    7    7    4      27     4      15        12     7  3.970292   \n",
      "70    69   91   22   93   54     260     8      18        26    17  4.234107   \n",
      "71    33    8    5    2    6      21     4      27         5     1  3.496508   \n",
      "72    51   23   22   10    8      63    17      19        16     9  3.931826   \n",
      "73    59  110   27   10  110     257     6     436         5    14  4.077537   \n",
      "74    25   13   14   12    9      48     7      19         5     4  3.218876   \n",
      "75    61   45    5    3    5      58     1      64        18     6  4.110874   \n",
      "76    64   12    4    3    7      26     1      19         5    13  4.158883   \n",
      "77    38   14    5    6    5      30     4      38        11    23  3.637586   \n",
      "78    53    6   16   14    6      42     5      19        13    20  3.970292   \n",
      "79    55   18    4    5    4      31     1      20         5     5  4.007333   \n",
      "80    47   11    9    5    7      32     4      15        10     1  3.850148   \n",
      "81    70   21   13    5    7      46     7      41        33    10  4.248495   \n",
      "82    25   12    4    5    5      26     9      22         6    10  3.218876   \n",
      "83    31   20    9    3    3      35     7      27         6     2  3.433987   \n",
      "84    36   35    6    3    2      46     5      37        10     4  3.583519   \n",
      "85    51   13    5    3    7      28     2      32         8     8  3.931826   \n",
      "86    60   13    5    6    5      29     2      18         5     7  4.094345   \n",
      "87    53   17    5    4    1      27     5      94        10     1  3.970292   \n",
      "88    33   13    6    3    5      27     3      26        12    16  3.496508   \n",
      "89    61   10   12   12    6      40     2      16        14    14  4.110874   \n",
      "91    53   29    4    3    1      37     5      37        10     6  3.970292   \n",
      "92    41   19    8    8    6      41     4      25         5     5  3.713572   \n",
      "93    32   14   12    3    6      35     1      24         5     3  3.465736   \n",
      "94    69   15    4    3    4      26     4      39        11    40  4.234107   \n",
      "95    49   15  103   12    8     138     4      62         5     5  3.891820   \n",
      "96    50   18    5    6    3      32    10      30        18     4  3.912023   \n",
      "97    34   10    6    4    5      25     6      28        12    36  3.526361   \n",
      "98    60   15    5    4    2      26     3      32         5     3  4.094345   \n",
      "99    60  110   19    8   33     170     2      23        10    60  4.094345   \n",
      "100   57   33   10    7    5      55     8      48        14     9  4.043051   \n",
      "101   58   16    8   10    5      39     9      58         6     7  4.060443   \n",
      "102   60   19   14    9    6      48     3      35        10     9  4.094345   \n",
      "104   31   13    8    9    7      37     8      41         6     1  3.433987   \n",
      "105   49   12    4    7    2      25     5      22         7    18  3.891820   \n",
      "106   63    8    8    6    3      25     2      15         5    12  4.143135   \n",
      "107   39   20    7    6    3      36     4      50         9     8  3.663562   \n",
      "109   65   20    7    7    3      37     2     114         5     4  4.174387   \n",
      "110   59   17    5    3    4      29     3      21        10    28  4.077537   \n",
      "111   25   18    3    5    2      28     5      37         7    35  3.218876   \n",
      "112   65   12    7    6    5      30     5      18        11    37  4.174387   \n",
      "113   63   14    7    2    4      27     4      18        10    12  4.143135   \n",
      "114   55   24   10    8   11      53     4      68         5    10  4.007333   \n",
      "115   64   24   10    5   11      50     3      20         5     3  4.158883   \n",
      "116   34    6    5    4    2      17    10      21         8    13  3.526361   \n",
      "117   23  110  110   50   44     314    10      37         5     5  3.135494   \n",
      "118   20   14    3    3    3      23     6      34         8     3  2.995732   \n",
      "119   31   13    6    5    5      29    12      60         5    10  3.433987   \n",
      "120   27   10    3    4    3      20    10      27        22    11  3.295837   \n",
      "121   54   13    4    7    9      33     5      39        10     6  3.988984   \n",
      "122   18   58   14   25   10     107    14      39         5     4  2.890372   \n",
      "123   50   23    5    3    3      34    12      37         9     9  3.912023   \n",
      "124   69   10    5    3    2      20     2      22         8     7  4.234107   \n",
      "125   53   21    7    3    5      36     2      21         6     1  3.970292   \n",
      "126   49    9    5    5    3      22     3      22         6    16  3.891820   \n",
      "127   57   22   10    5    6      43     5      15         9     4  4.043051   \n",
      "128   50   13   10    3    3      29     3      23         5     3  3.912023   \n",
      "129   27    7    5    2    1      15     8      19         6     1  3.295837   \n",
      "130   62    9    4    6    5      24     3      15         9    15  4.127134   \n",
      "131   15    6    6    7    4      23     4      15         5     9  2.708050   \n",
      "132   57   26    4    4    4      38     4      85        10     7  4.043051   \n",
      "133   26    6   25   13  120     164     5      14         6     5  3.258097   \n",
      "134   62    5    5    3    1      14     3      11         6     5  4.127134   \n",
      "135   44   33    7    4    3      47     3      28        27     2  3.784190   \n",
      "136   34   26    7    4    3      40     3      63         8    13  3.526361   \n",
      "138   54   25   11    8   22      66     1     123         9     1  3.988984   \n",
      "139   53    9    6    3    6      24     4      17        15    51  3.970292   \n",
      "140   60   10   12    6    4      32     3      20         8     8  4.094345   \n",
      "141   54   11    6    4    3      24     4      17         6     6  3.988984   \n",
      "142   23    8   25    7    5      45     4      15         6     9  3.135494   \n",
      "143   52   12   11    8    9      40     8      40        11     8  3.951244   \n",
      "144   28   19    8    8    4      39     9      43         5     3  3.332205   \n",
      "145   36   15    9    3    3      30     2      42         5     9  3.583519   \n",
      "146   65   15    5    4    5      29     1      23         5     8  4.174387   \n",
      "147   53   89   50   26   51     216    10      35         5     3  3.970292   \n",
      "148   52    9    4    8    4      25     6      19         9    20  3.951244   \n",
      "149   53    6    4    3    2      15     4      22         7     5  3.970292   \n",
      "150   80    9    5    3    3      20     1      31         5    19  4.382027   \n",
      "151   57   15   13   10    6      44     8      60        11    13  4.043051   \n",
      "152   15    6   24   28    3      61     2     500         7     2  2.708050   \n",
      "153   62   19    5    2    2      28     3      28         9    32  4.127134   \n",
      "154   59    7    4    3    3      17     2      15         9     8  4.077537   \n",
      "155   26   13    3    2    1      19     1      19         7    15  3.258097   \n",
      "156   70   41   19   35   27     122     3      15        29    18  4.248495   \n",
      "157   41    4   13    5    4      26    10      20         8     7  3.713572   \n",
      "159   64    6    9   11    5      31     2      62        15    11  4.158883   \n",
      "160   42    6    6   21    7      40     5      15        12    11  3.737670   \n",
      "161   41    6    6    3    6      21     3      34         5     6  3.713572   \n",
      "162   54   12    6    4    6      28     3      28         8     8  3.988984   \n",
      "164   72   34    7    6    5      52     4      34         6     7  4.276666   \n",
      "166   58    5    4    3    4      16     6      15         5     9  4.060443   \n",
      "167   44   14    3    1    1      19     5      45        10     1  3.784190   \n",
      "168   73    5    7    6    8      26     4      15        10     8  4.290459   \n",
      "169   41   25   16    7    9      57     6      41        10     5  3.713572   \n",
      "170   47   13   13    3    2      31     3      15        10    12  3.850148   \n",
      "171   32   20    6    4    4      34    10      29         5     2  3.465736   \n",
      "172   58    6    7    7    5      25     4      15         5     7  4.060443   \n",
      "173   45  107   25   18    9     159     8      58         6    10  3.806662   \n",
      "174   38   30   10    3    1      44     4      68        12     2  3.637586   \n",
      "175   44   12   10    6    1      29     5      53         5     8  3.784190   \n",
      "176   28    9    4    3    3      19     2      24         5     7  3.332205   \n",
      "177   69   22    8    3    2      35     1      28         7    11  4.234107   \n",
      "178   46   14    5    7    6      32     7      30         8     8  3.828641   \n",
      "179   67   40   34   75   10     159     3      30         9     6  4.204693   \n",
      "180    9   25   21   23    6      75    18      28         5     2  2.197225   \n",
      "181   56   12    4    4    2      22     2      41        14     8  4.025352   \n",
      "182   32   70   41   34   29     174     8      77         5     7  3.465736   \n",
      "183   56   24    3    4    2      33     3      36        24     3  4.025352   \n",
      "184   52    9    3    3    2      17     3      32         5     9  3.951244   \n",
      "185   66    8    9    2    2      21     2      47        25     8  4.189655   \n",
      "186   44    8    8    4    1      21     4      38        16    15  3.784190   \n",
      "187   39   13    7    6    3      29     4      21        16    21  3.663562   \n",
      "188   23   18    2    8    1      29    12      42        10     1  3.135494   \n",
      "189   58   27    5    7    5      44     6      17        11     4  4.060443   \n",
      "190   27   10    4    3    1      18     4      14         7     5  3.295837   \n",
      "191   52   12    4    3    3      22     5      21         8    16  3.951244   \n",
      "192   59   13    3    2    4      22     3      83        12    15  4.077537   \n",
      "193   48   36    4    2    4      46     3      23         5     3  3.871201   \n",
      "194   57    9    6   11    3      29     6      15        11    16  4.043051   \n",
      "195   53   22    5    2    3      32     3      15         5    14  3.970292   \n",
      "196   38   19    9    4    6      38     9      28        10     5  3.637586   \n",
      "197   40    9    9   13    4      35     9      24         7    10  3.688879   \n",
      "198   84    9    4    5    2      20     2      29        15     5  4.430817   \n",
      "199   48    8    5    5    2      20     2      16        19    24  3.871201   \n",
      "200   60   17   16   10   27      70     3      30         7    13  4.094345   \n",
      "201   34   29   15    7    3      54     5      54        11     9  3.526361   \n",
      "202   50   39    6    9    3      57     5      67         6     5  3.912023   \n",
      "204   55   26    2    2    1      31     2      33         5     1  4.007333   \n",
      "206   42   13   15    3    4      35     2      15         6     9  3.737670   \n",
      "207   56   14    8    5    4      31     5      21         5     7  4.025352   \n",
      "208   57   11    7    7    5      30     5      23        13    16  4.043051   \n",
      "209   37   37   16   12   45     110     8      90         5    12  3.610918   \n",
      "210   57   32   10    7    5      54     8      67        36    56  4.043051   \n",
      "212   32    2    7    4    5      18     3      15         5     7  3.465736   \n",
      "213   59    7   11    7    4      29     5      22         6     7  4.077537   \n",
      "214   78   10   15    7    5      37     3      19         9    15  4.356709   \n",
      "215   46   21    6    4    7      38     3      18         5     5  3.828641   \n",
      "216   51   10    9    5    6      30    11      37        20    10  3.931826   \n",
      "217   44    5    5    5    5      20     4      15         5     8  3.784190   \n",
      "218   62   15   11    6    3      35     3      28        12     9  4.127134   \n",
      "219   23    3    3   11    7      24    13      39         6     5  3.135494   \n",
      "220   46    5   72   10    1      88     2      30        14    34  3.828641   \n",
      "221   33   10    4    3    1      18     3      15         8     8  3.496508   \n",
      "222   38   12    7    8    3      30     6      38        11    44  3.637586   \n",
      "223   63   51   21   13   27     112     2     212         5     4  4.143135   \n",
      "224   69   29    5    5    7      46     3      60        14    26  4.234107   \n",
      "225   59   22    4    2    1      29     7      50        15     7  4.077537   \n",
      "226   64   20   12    5    4      41     2      44         9     7  4.158883   \n",
      "227   61   15    4    3    5      27     2      22         5     2  4.110874   \n",
      "229   56   30    5    4    1      40     5      55        15     2  4.025352   \n",
      "230   52    8    6    4    4      22     7      15         5     4  3.951244   \n",
      "231   29   19    7    8    4      38     9      39         9    12  3.367296   \n",
      "232   40   17    3    4    2      26     4      41         5     5  3.688879   \n",
      "234   58   17    7    5    4      33     5      15        11    58  4.060443   \n",
      "235   52   13    6    4    5      28     2      29        19    51  3.951244   \n",
      "236   59   19    7    3    5      34     2      36        19    10  4.077537   \n",
      "237   22   16    2    1    2      21     7      60         5    10  3.091042   \n",
      "238   46    7    6    3    3      19     4      38         8     3  3.828641   \n",
      "239   29   32    9    8    4      53     8      41         7     6  3.367296   \n",
      "240   42   15    6    5   12      38     1      18         5     2  3.737670   \n",
      "242   54   14    5    5    4      28     5      23         5    10  3.988984   \n",
      "243   54    8    7    7    3      25     2      15         5     8  3.988984   \n",
      "244   57   24    6   11    4      45     4      26         5    11  4.043051   \n",
      "245   41    9   10    5   39      63     4      41         6     6  3.713572   \n",
      "247   62   22    7    4    4      37     2      16         9     3  4.127134   \n",
      "248   59   10    6    5    4      25     3      18         5     7  4.077537   \n",
      "249   66   12    8    4    3      27     5      32        10     5  4.189655   \n",
      "250   33   11    5    4    6      26     4      16         5    11  3.496508   \n",
      "251   81   11    7    9    8      35     7      20        17     9  4.394449   \n",
      "252   26    9    7    6    4      26     7      26        23    14  3.258097   \n",
      "253   39   19    9    9    7      44     3      20        11     6  3.663562   \n",
      "254   40   25   20   10   11      66     6      24        10     4  3.688879   \n",
      "\n",
      "     P17-OHLOG  CTotalLOG     C1LOG     C2LOG     C3LOG     C4LOG   DHEALOG  \\\n",
      "0     3.891820   3.526361  2.944439  1.791759  1.386294  1.609438  0.000000   \n",
      "1     2.708050   3.401197  2.484907  1.945910  1.386294  1.945910  0.693147   \n",
      "2     3.401197   2.639057  2.397895  0.000000  0.000000  0.000000  1.098612   \n",
      "3     3.496508   3.091042  2.484907  1.098612  1.791759  0.000000  1.791759   \n",
      "4     2.197225   3.526361  2.995732  1.945910  1.386294  1.098612  1.609438   \n",
      "5     3.367296   3.583519  3.044522  1.791759  1.945910  0.693147  0.693147   \n",
      "6     3.332205   3.850148  2.944439  2.079442  2.484907  2.079442  1.386294   \n",
      "7     2.890372   3.295837  2.564949  1.609438  1.098612  1.791759  1.386294   \n",
      "8     2.833213   3.555348  3.091042  1.609438  1.609438  1.098612  1.098612   \n",
      "9     2.708050   3.610918  2.397895  1.945910  2.564949  1.791759  1.945910   \n",
      "11    2.772589   3.178054  1.945910  1.098612  1.098612  2.397895  0.693147   \n",
      "12    3.258097   3.135494  2.639057  1.386294  1.098612  0.693147  1.098612   \n",
      "13    3.295837   3.555348  2.772589  2.197225  1.609438  1.609438  1.609438   \n",
      "14    2.708050   3.091042  2.484907  1.609438  1.098612  0.693147  0.693147   \n",
      "15    3.761200   2.397895  1.609438  1.098612  0.693147  0.000000  0.693147   \n",
      "16    2.772589   3.295837  2.197225  1.791759  2.197225  1.098612  1.386294   \n",
      "17    3.332205   3.465736  2.890372  1.791759  1.609438  1.098612  1.098612   \n",
      "18    4.465908   3.871201  3.258097  1.609438  2.197225  2.079442  0.693147   \n",
      "20    3.871201   3.784190  2.772589  1.945910  1.609438  2.772589  1.098612   \n",
      "21    3.178054   3.465736  2.639057  1.945910  1.609438  1.791759  1.386294   \n",
      "22    3.433987   3.295837  2.833213  1.386294  1.098612  1.098612  1.098612   \n",
      "23    3.583519   3.044522  1.945910  1.386294  1.609438  1.609438  2.639057   \n",
      "24    3.555348   2.833213  2.079442  1.386294  1.098612  0.693147  1.098612   \n",
      "25    3.828641   3.713572  3.135494  2.079442  1.609438  1.609438  1.609438   \n",
      "26    4.317488   3.526361  2.995732  1.791759  1.609438  1.098612  1.945910   \n",
      "27    2.995732   3.367296  2.397895  1.609438  2.079442  1.609438  1.098612   \n",
      "28    4.356709   4.521789  4.143135  2.708050  2.397895  1.098612  2.079442   \n",
      "29    4.595120   4.204693  3.637586  2.564949  2.197225  1.945910  2.302585   \n",
      "30    3.555348   2.639057  1.791759  1.098612  0.693147  1.098612  1.609438   \n",
      "31    3.332205   3.637586  2.944439  2.302585  1.791759  1.098612  2.397895   \n",
      "32    2.833213   3.496508  2.833213  1.791759  1.791759  1.386294  1.386294   \n",
      "33    2.708050   5.023881  1.386294  4.700480  3.401197  2.079442  0.000000   \n",
      "34    2.833213   3.332205  2.564949  1.791759  1.945910  0.693147  1.098612   \n",
      "35    3.828641   5.720312  4.700480  3.806662  4.700480  3.688879  1.945910   \n",
      "36    3.135494   2.708050  1.945910  1.098612  1.098612  0.693147  0.000000   \n",
      "37    3.401197   3.688879  2.833213  2.397895  1.945910  1.609438  0.693147   \n",
      "38    2.995732   3.091042  2.397895  1.386294  1.098612  1.386294  1.386294   \n",
      "39    2.708050   3.135494  1.945910  1.945910  1.609438  1.386294  1.791759   \n",
      "41    3.218876   3.401197  2.890372  1.609438  1.386294  1.098612  1.386294   \n",
      "43    3.555348   4.007333  2.944439  2.484907  2.079442  2.772589  2.302585   \n",
      "44    2.708050   3.737670  1.386294  1.386294  1.386294  3.401197  1.386294   \n",
      "45    2.708050   3.713572  2.564949  2.397895  2.079442  2.197225  1.386294   \n",
      "46    3.332205   3.871201  3.367296  2.197225  1.945910  1.098612  1.609438   \n",
      "47    2.639057   4.477337  3.988984  2.564949  2.639057  1.945910  1.098612   \n",
      "48    4.234107   6.028279  4.007333  4.787492  4.787492  4.787492  1.098612   \n",
      "49    2.833213   2.944439  2.302585  1.386294  1.098612  0.693147  0.693147   \n",
      "51    3.526361   5.659482  4.700480  3.496508  3.526361  4.700480  0.693147   \n",
      "52    3.688879   3.135494  2.564949  1.791759  1.098612  0.000000  1.609438   \n",
      "54    3.218876   2.995732  2.302585  1.386294  1.098612  1.098612  1.098612   \n",
      "55    5.117994   4.477337  3.583519  3.367296  2.772589  1.945910  1.945910   \n",
      "56    3.218876   3.135494  2.639057  1.386294  1.098612  0.693147  2.079442   \n",
      "57    2.302585   3.135494  2.397895  1.609438  1.386294  1.098612  1.098612   \n",
      "58    3.637586   6.086775  4.700480  4.700480  4.700480  4.700480  1.386294   \n",
      "59    2.397895   2.772589  1.386294  1.609438  1.098612  1.386294  1.609438   \n",
      "60    3.891820   3.850148  2.890372  2.833213  1.609438  1.945910  1.386294   \n",
      "61    3.433987   3.737670  2.564949  2.397895  2.197225  2.197225  1.791759   \n",
      "62    3.367296   3.526361  2.772589  1.945910  1.609438  1.791759  0.693147   \n",
      "63    3.433987   3.401197  2.708050  1.609438  1.098612  1.945910  1.386294   \n",
      "64    3.761200   3.465736  2.995732  1.791759  1.386294  0.693147  1.609438   \n",
      "66    3.761200   4.564348  3.713572  1.945910  1.386294  3.784190  1.386294   \n",
      "68    2.833213   3.135494  1.791759  1.098612  1.609438  2.197225  1.386294   \n",
      "69    2.708050   3.295837  2.197225  1.945910  1.945910  1.386294  1.386294   \n",
      "70    2.890372   5.560682  4.510860  3.091042  4.532599  3.988984  2.079442   \n",
      "71    3.295837   3.044522  2.079442  1.609438  0.693147  1.791759  1.386294   \n",
      "72    2.944439   4.143135  3.135494  3.091042  2.302585  2.079442  2.833213   \n",
      "73    6.077642   5.549076  4.700480  3.295837  2.302585  4.700480  1.791759   \n",
      "74    2.944439   3.871201  2.564949  2.639057  2.484907  2.197225  1.945910   \n",
      "75    4.158883   4.060443  3.806662  1.609438  1.098612  1.609438  0.000000   \n",
      "76    2.944439   3.258097  2.484907  1.386294  1.098612  1.945910  0.000000   \n",
      "77    3.637586   3.401197  2.639057  1.609438  1.791759  1.609438  1.386294   \n",
      "78    2.944439   3.737670  1.791759  2.772589  2.639057  1.791759  1.609438   \n",
      "79    2.995732   3.433987  2.890372  1.386294  1.609438  1.386294  0.000000   \n",
      "80    2.708050   3.465736  2.397895  2.197225  1.609438  1.945910  1.386294   \n",
      "81    3.713572   3.828641  3.044522  2.564949  1.609438  1.945910  1.945910   \n",
      "82    3.091042   3.258097  2.484907  1.386294  1.609438  1.609438  2.197225   \n",
      "83    3.295837   3.555348  2.995732  2.197225  1.098612  1.098612  1.945910   \n",
      "84    3.610918   3.828641  3.555348  1.791759  1.098612  0.693147  1.609438   \n",
      "85    3.465736   3.332205  2.564949  1.609438  1.098612  1.945910  0.693147   \n",
      "86    2.890372   3.367296  2.564949  1.609438  1.791759  1.609438  0.693147   \n",
      "87    4.543295   3.295837  2.833213  1.609438  1.386294  0.000000  1.609438   \n",
      "88    3.258097   3.295837  2.564949  1.791759  1.098612  1.609438  1.098612   \n",
      "89    2.772589   3.688879  2.302585  2.484907  2.484907  1.791759  0.693147   \n",
      "91    3.610918   3.610918  3.367296  1.386294  1.098612  0.000000  1.609438   \n",
      "92    3.218876   3.713572  2.944439  2.079442  2.079442  1.791759  1.386294   \n",
      "93    3.178054   3.555348  2.639057  2.484907  1.098612  1.791759  0.000000   \n",
      "94    3.663562   3.258097  2.708050  1.386294  1.098612  1.386294  1.386294   \n",
      "95    4.127134   4.927254  2.708050  4.634729  2.484907  2.079442  1.386294   \n",
      "96    3.401197   3.465736  2.890372  1.609438  1.791759  1.098612  2.302585   \n",
      "97    3.332205   3.218876  2.302585  1.791759  1.386294  1.609438  1.791759   \n",
      "98    3.465736   3.258097  2.708050  1.609438  1.386294  0.693147  1.098612   \n",
      "99    3.135494   5.135798  4.700480  2.944439  2.079442  3.496508  0.693147   \n",
      "100   3.871201   4.007333  3.496508  2.302585  1.945910  1.609438  2.079442   \n",
      "101   4.060443   3.663562  2.772589  2.079442  2.302585  1.609438  2.197225   \n",
      "102   3.555348   3.871201  2.944439  2.639057  2.197225  1.791759  1.098612   \n",
      "104   3.713572   3.610918  2.564949  2.079442  2.197225  1.945910  2.079442   \n",
      "105   3.091042   3.218876  2.484907  1.386294  1.945910  0.693147  1.609438   \n",
      "106   2.708050   3.218876  2.079442  2.079442  1.791759  1.098612  0.693147   \n",
      "107   3.912023   3.583519  2.995732  1.945910  1.791759  1.098612  1.386294   \n",
      "109   4.736198   3.610918  2.995732  1.945910  1.945910  1.098612  0.693147   \n",
      "110   3.044522   3.367296  2.833213  1.609438  1.098612  1.386294  1.098612   \n",
      "111   3.610918   3.332205  2.890372  1.098612  1.609438  0.693147  1.609438   \n",
      "112   2.890372   3.401197  2.484907  1.945910  1.791759  1.609438  1.609438   \n",
      "113   2.890372   3.295837  2.639057  1.945910  0.693147  1.386294  1.386294   \n",
      "114   4.219508   3.970292  3.178054  2.302585  2.079442  2.397895  1.386294   \n",
      "115   2.995732   3.912023  3.178054  2.302585  1.609438  2.397895  1.098612   \n",
      "116   3.044522   2.833213  1.791759  1.609438  1.386294  0.693147  2.302585   \n",
      "117   3.610918   5.749393  4.700480  4.700480  3.912023  3.784190  2.302585   \n",
      "118   3.526361   3.135494  2.639057  1.098612  1.098612  1.098612  1.791759   \n",
      "119   4.094345   3.367296  2.564949  1.791759  1.609438  1.609438  2.484907   \n",
      "120   3.295837   2.995732  2.302585  1.098612  1.386294  1.098612  2.302585   \n",
      "121   3.663562   3.496508  2.564949  1.386294  1.945910  2.197225  1.609438   \n",
      "122   3.663562   4.672829  4.060443  2.639057  3.218876  2.302585  2.639057   \n",
      "123   3.610918   3.526361  3.135494  1.609438  1.098612  1.098612  2.484907   \n",
      "124   3.091042   2.995732  2.302585  1.609438  1.098612  0.693147  0.693147   \n",
      "125   3.044522   3.583519  3.044522  1.945910  1.098612  1.609438  0.693147   \n",
      "126   3.091042   3.091042  2.197225  1.609438  1.609438  1.098612  1.098612   \n",
      "127   2.708050   3.761200  3.091042  2.302585  1.609438  1.791759  1.609438   \n",
      "128   3.135494   3.367296  2.564949  2.302585  1.098612  1.098612  1.098612   \n",
      "129   2.944439   2.708050  1.945910  1.609438  0.693147  0.000000  2.079442   \n",
      "130   2.708050   3.178054  2.197225  1.386294  1.791759  1.609438  1.098612   \n",
      "131   2.708050   3.135494  1.791759  1.791759  1.945910  1.386294  1.386294   \n",
      "132   4.442651   3.637586  3.258097  1.386294  1.386294  1.386294  1.386294   \n",
      "133   2.639057   5.099866  1.791759  3.218876  2.564949  4.787492  1.609438   \n",
      "134   2.397895   2.639057  1.609438  1.609438  1.098612  0.000000  1.098612   \n",
      "135   3.332205   3.850148  3.496508  1.945910  1.386294  1.098612  1.098612   \n",
      "136   4.143135   3.688879  3.258097  1.945910  1.386294  1.098612  1.098612   \n",
      "138   4.812184   4.189655  3.218876  2.397895  2.079442  3.091042  0.000000   \n",
      "139   2.833213   3.178054  2.197225  1.791759  1.098612  1.791759  1.386294   \n",
      "140   2.995732   3.465736  2.302585  2.484907  1.791759  1.386294  1.098612   \n",
      "141   2.833213   3.178054  2.397895  1.791759  1.386294  1.098612  1.386294   \n",
      "142   2.708050   3.806662  2.079442  3.218876  1.945910  1.609438  1.386294   \n",
      "143   3.688879   3.688879  2.484907  2.397895  2.079442  2.197225  2.079442   \n",
      "144   3.761200   3.663562  2.944439  2.079442  2.079442  1.386294  2.197225   \n",
      "145   3.737670   3.401197  2.708050  2.197225  1.098612  1.098612  0.693147   \n",
      "146   3.135494   3.367296  2.708050  1.609438  1.386294  1.609438  0.000000   \n",
      "147   3.555348   5.375278  4.488636  3.912023  3.258097  3.931826  2.302585   \n",
      "148   2.944439   3.218876  2.197225  1.386294  2.079442  1.386294  1.791759   \n",
      "149   3.091042   2.708050  1.791759  1.386294  1.098612  0.693147  1.386294   \n",
      "150   3.433987   2.995732  2.197225  1.609438  1.098612  1.098612  0.000000   \n",
      "151   4.094345   3.784190  2.708050  2.564949  2.302585  1.791759  2.079442   \n",
      "152   6.214608   4.110874  1.791759  3.178054  3.332205  1.098612  0.693147   \n",
      "153   3.332205   3.332205  2.944439  1.609438  0.693147  0.693147  1.098612   \n",
      "154   2.708050   2.833213  1.945910  1.386294  1.098612  1.098612  0.693147   \n",
      "155   2.944439   2.944439  2.564949  1.098612  0.693147  0.000000  0.000000   \n",
      "156   2.708050   4.804021  3.713572  2.944439  3.555348  3.295837  1.098612   \n",
      "157   2.995732   3.258097  1.386294  2.564949  1.609438  1.386294  2.302585   \n",
      "159   4.127134   3.433987  1.791759  2.197225  2.397895  1.609438  0.693147   \n",
      "160   2.708050   3.688879  1.791759  1.791759  3.044522  1.945910  1.609438   \n",
      "161   3.526361   3.044522  1.791759  1.791759  1.098612  1.791759  1.098612   \n",
      "162   3.332205   3.332205  2.484907  1.791759  1.386294  1.791759  1.098612   \n",
      "164   3.526361   3.951244  3.526361  1.945910  1.791759  1.609438  1.386294   \n",
      "166   2.708050   2.772589  1.609438  1.386294  1.098612  1.386294  1.791759   \n",
      "167   3.806662   2.944439  2.639057  1.098612  0.000000  0.000000  1.609438   \n",
      "168   2.708050   3.258097  1.609438  1.945910  1.791759  2.079442  1.386294   \n",
      "169   3.713572   4.043051  3.218876  2.772589  1.945910  2.197225  1.791759   \n",
      "170   2.708050   3.433987  2.564949  2.564949  1.098612  0.693147  1.098612   \n",
      "171   3.367296   3.526361  2.995732  1.791759  1.386294  1.386294  2.302585   \n",
      "172   2.708050   3.218876  1.791759  1.945910  1.945910  1.609438  1.386294   \n",
      "173   4.060443   5.068904  4.672829  3.218876  2.890372  2.197225  2.079442   \n",
      "174   4.219508   3.784190  3.401197  2.302585  1.098612  0.000000  1.386294   \n",
      "175   3.970292   3.367296  2.484907  2.302585  1.791759  0.000000  1.609438   \n",
      "176   3.178054   2.944439  2.197225  1.386294  1.098612  1.098612  0.693147   \n",
      "177   3.332205   3.555348  3.091042  2.079442  1.098612  0.693147  0.000000   \n",
      "178   3.401197   3.465736  2.639057  1.609438  1.945910  1.791759  1.945910   \n",
      "179   3.401197   5.068904  3.688879  3.526361  4.317488  2.302585  1.098612   \n",
      "180   3.332205   4.317488  3.218876  3.044522  3.135494  1.791759  2.890372   \n",
      "181   3.713572   3.091042  2.484907  1.386294  1.386294  0.693147  0.693147   \n",
      "182   4.343805   5.159055  4.248495  3.713572  3.526361  3.367296  2.079442   \n",
      "183   3.583519   3.496508  3.178054  1.098612  1.386294  0.693147  1.098612   \n",
      "184   3.465736   2.833213  2.197225  1.098612  1.098612  0.693147  1.098612   \n",
      "185   3.850148   3.044522  2.079442  2.197225  0.693147  0.693147  0.693147   \n",
      "186   3.637586   3.044522  2.079442  2.079442  1.386294  0.000000  1.386294   \n",
      "187   3.044522   3.367296  2.564949  1.945910  1.791759  1.098612  1.386294   \n",
      "188   3.737670   3.367296  2.890372  0.693147  2.079442  0.000000  2.484907   \n",
      "189   2.833213   3.784190  3.295837  1.609438  1.945910  1.609438  1.791759   \n",
      "190   2.639057   2.890372  2.302585  1.386294  1.098612  0.000000  1.386294   \n",
      "191   3.044522   3.091042  2.484907  1.386294  1.098612  1.098612  1.609438   \n",
      "192   4.418841   3.091042  2.564949  1.098612  0.693147  1.386294  1.098612   \n",
      "193   3.135494   3.828641  3.583519  1.386294  0.693147  1.386294  1.098612   \n",
      "194   2.708050   3.367296  2.197225  1.791759  2.397895  1.098612  1.791759   \n",
      "195   2.708050   3.465736  3.091042  1.609438  0.693147  1.098612  1.098612   \n",
      "196   3.332205   3.637586  2.944439  2.197225  1.386294  1.791759  2.197225   \n",
      "197   3.178054   3.555348  2.197225  2.197225  2.564949  1.386294  2.197225   \n",
      "198   3.367296   2.995732  2.197225  1.386294  1.609438  0.693147  0.693147   \n",
      "199   2.772589   2.995732  2.079442  1.609438  1.609438  0.693147  0.693147   \n",
      "200   3.401197   4.248495  2.833213  2.772589  2.302585  3.295837  1.098612   \n",
      "201   3.988984   3.988984  3.367296  2.708050  1.945910  1.098612  1.609438   \n",
      "202   4.204693   4.043051  3.663562  1.791759  2.197225  1.098612  1.609438   \n",
      "204   3.496508   3.433987  3.258097  0.693147  0.693147  0.000000  0.693147   \n",
      "206   2.708050   3.555348  2.564949  2.708050  1.098612  1.386294  0.693147   \n",
      "207   3.044522   3.433987  2.639057  2.079442  1.609438  1.386294  1.609438   \n",
      "208   3.135494   3.401197  2.397895  1.945910  1.945910  1.609438  1.609438   \n",
      "209   4.499810   4.700480  3.610918  2.772589  2.484907  3.806662  2.079442   \n",
      "210   4.204693   3.988984  3.465736  2.302585  1.945910  1.609438  2.079442   \n",
      "212   2.708050   2.890372  0.693147  1.945910  1.386294  1.609438  1.098612   \n",
      "213   3.091042   3.367296  1.945910  2.397895  1.945910  1.386294  1.609438   \n",
      "214   2.944439   3.610918  2.302585  2.708050  1.945910  1.609438  1.098612   \n",
      "215   2.890372   3.637586  3.044522  1.791759  1.386294  1.945910  1.098612   \n",
      "216   3.610918   3.401197  2.302585  2.197225  1.609438  1.791759  2.397895   \n",
      "217   2.708050   2.995732  1.609438  1.609438  1.609438  1.609438  1.386294   \n",
      "218   3.332205   3.555348  2.708050  2.397895  1.791759  1.098612  1.098612   \n",
      "219   3.663562   3.178054  1.098612  1.098612  2.397895  1.945910  2.564949   \n",
      "220   3.401197   4.477337  1.609438  4.276666  2.302585  0.000000  0.693147   \n",
      "221   2.708050   2.890372  2.302585  1.386294  1.098612  0.000000  1.098612   \n",
      "222   3.637586   3.401197  2.484907  1.945910  2.079442  1.098612  1.791759   \n",
      "223   5.356586   4.718499  3.931826  3.044522  2.564949  3.295837  0.693147   \n",
      "224   4.094345   3.828641  3.367296  1.609438  1.609438  1.945910  1.098612   \n",
      "225   3.912023   3.367296  3.091042  1.386294  0.693147  0.000000  1.945910   \n",
      "226   3.784190   3.713572  2.995732  2.484907  1.609438  1.386294  0.693147   \n",
      "227   3.091042   3.295837  2.708050  1.386294  1.098612  1.609438  0.693147   \n",
      "229   4.007333   3.688879  3.401197  1.609438  1.386294  0.000000  1.609438   \n",
      "230   2.708050   3.091042  2.079442  1.791759  1.386294  1.386294  1.945910   \n",
      "231   3.663562   3.637586  2.944439  1.945910  2.079442  1.386294  2.197225   \n",
      "232   3.713572   3.258097  2.833213  1.098612  1.386294  0.693147  1.386294   \n",
      "234   2.708050   3.496508  2.833213  1.945910  1.609438  1.386294  1.609438   \n",
      "235   3.367296   3.332205  2.564949  1.791759  1.386294  1.609438  0.693147   \n",
      "236   3.583519   3.526361  2.944439  1.945910  1.098612  1.609438  0.693147   \n",
      "237   4.094345   3.044522  2.772589  0.693147  0.000000  0.693147  1.945910   \n",
      "238   3.637586   2.944439  1.945910  1.791759  1.098612  1.098612  1.386294   \n",
      "239   3.713572   3.970292  3.465736  2.197225  2.079442  1.386294  2.079442   \n",
      "240   2.890372   3.637586  2.708050  1.791759  1.609438  2.484907  0.000000   \n",
      "242   3.135494   3.332205  2.639057  1.609438  1.609438  1.386294  1.609438   \n",
      "243   2.708050   3.218876  2.079442  1.945910  1.945910  1.098612  0.693147   \n",
      "244   3.258097   3.806662  3.178054  1.791759  2.397895  1.386294  1.386294   \n",
      "245   3.713572   4.143135  2.197225  2.302585  1.609438  3.663562  1.386294   \n",
      "247   2.772589   3.610918  3.091042  1.945910  1.386294  1.386294  0.693147   \n",
      "248   2.890372   3.218876  2.302585  1.791759  1.609438  1.386294  1.098612   \n",
      "249   3.465736   3.295837  2.484907  2.079442  1.386294  1.098612  1.609438   \n",
      "250   2.772589   3.258097  2.397895  1.609438  1.386294  1.791759  1.386294   \n",
      "251   2.995732   3.555348  2.397895  1.945910  2.197225  2.079442  1.945910   \n",
      "252   3.258097   3.258097  2.197225  1.945910  1.791759  1.386294  1.945910   \n",
      "253   2.995732   3.784190  2.944439  2.197225  2.197225  1.945910  1.098612   \n",
      "254   3.178054   4.189655  3.218876  2.995732  2.302585  2.397895  1.791759   \n",
      "\n",
      "     TotalIgALOG   GIgALOG  \n",
      "0       1.609438  3.135494  \n",
      "1       1.945910  1.609438  \n",
      "2       1.609438  0.000000  \n",
      "3       2.772589  1.386294  \n",
      "4       1.609438  2.564949  \n",
      "5       2.772589  2.302585  \n",
      "6       2.197225  1.609438  \n",
      "7       1.791759  1.098612  \n",
      "8       2.564949  1.791759  \n",
      "9       2.302585  1.791759  \n",
      "11      1.791759  2.484907  \n",
      "12      2.397895  2.484907  \n",
      "13      2.197225  1.098612  \n",
      "14      1.609438  0.693147  \n",
      "15      2.397895  3.044522  \n",
      "16      2.079442  3.401197  \n",
      "17      1.609438  2.079442  \n",
      "18      1.945910  1.609438  \n",
      "20      1.609438  2.079442  \n",
      "21      2.890372  2.833213  \n",
      "22      1.609438  1.609438  \n",
      "23      2.484907  2.302585  \n",
      "24      1.609438  1.098612  \n",
      "25      1.609438  2.079442  \n",
      "26      1.791759  2.079442  \n",
      "27      1.609438  1.791759  \n",
      "28      2.772589  0.693147  \n",
      "29      1.945910  1.609438  \n",
      "30      3.258097  3.555348  \n",
      "31      2.708050  3.970292  \n",
      "32      2.079442  2.484907  \n",
      "33      1.609438  2.708050  \n",
      "34      1.609438  0.000000  \n",
      "35      1.791759  1.098612  \n",
      "36      1.609438  0.000000  \n",
      "37      1.945910  2.484907  \n",
      "38      1.609438  2.397895  \n",
      "39      1.609438  1.791759  \n",
      "41      1.609438  1.098612  \n",
      "43      2.708050  1.386294  \n",
      "44      1.609438  2.484907  \n",
      "45      2.302585  3.044522  \n",
      "46      1.609438  1.386294  \n",
      "47      1.609438  3.178054  \n",
      "48      3.912023  4.025352  \n",
      "49      1.609438  1.098612  \n",
      "51      1.791759  2.197225  \n",
      "52      4.094345  0.693147  \n",
      "54      2.484907  2.564949  \n",
      "55      2.397895  2.708050  \n",
      "56      2.197225  1.791759  \n",
      "57      2.639057  1.098612  \n",
      "58      1.609438  1.098612  \n",
      "59      1.791759  1.791759  \n",
      "60      2.197225  1.098612  \n",
      "61      1.609438  2.708050  \n",
      "62      1.609438  1.945910  \n",
      "63      1.609438  0.000000  \n",
      "64      2.772589  1.791759  \n",
      "66      1.609438  0.693147  \n",
      "68      1.791759  1.791759  \n",
      "69      2.484907  1.945910  \n",
      "70      3.258097  2.833213  \n",
      "71      1.609438  0.000000  \n",
      "72      2.772589  2.197225  \n",
      "73      1.609438  2.639057  \n",
      "74      1.609438  1.386294  \n",
      "75      2.890372  1.791759  \n",
      "76      1.609438  2.564949  \n",
      "77      2.397895  3.135494  \n",
      "78      2.564949  2.995732  \n",
      "79      1.609438  1.609438  \n",
      "80      2.302585  0.000000  \n",
      "81      3.496508  2.302585  \n",
      "82      1.791759  2.302585  \n",
      "83      1.791759  0.693147  \n",
      "84      2.302585  1.386294  \n",
      "85      2.079442  2.079442  \n",
      "86      1.609438  1.945910  \n",
      "87      2.302585  0.000000  \n",
      "88      2.484907  2.772589  \n",
      "89      2.639057  2.639057  \n",
      "91      2.302585  1.791759  \n",
      "92      1.609438  1.609438  \n",
      "93      1.609438  1.098612  \n",
      "94      2.397895  3.688879  \n",
      "95      1.609438  1.609438  \n",
      "96      2.890372  1.386294  \n",
      "97      2.484907  3.583519  \n",
      "98      1.609438  1.098612  \n",
      "99      2.302585  4.094345  \n",
      "100     2.639057  2.197225  \n",
      "101     1.791759  1.945910  \n",
      "102     2.302585  2.197225  \n",
      "104     1.791759  0.000000  \n",
      "105     1.945910  2.890372  \n",
      "106     1.609438  2.484907  \n",
      "107     2.197225  2.079442  \n",
      "109     1.609438  1.386294  \n",
      "110     2.302585  3.332205  \n",
      "111     1.945910  3.555348  \n",
      "112     2.397895  3.610918  \n",
      "113     2.302585  2.484907  \n",
      "114     1.609438  2.302585  \n",
      "115     1.609438  1.098612  \n",
      "116     2.079442  2.564949  \n",
      "117     1.609438  1.609438  \n",
      "118     2.079442  1.098612  \n",
      "119     1.609438  2.302585  \n",
      "120     3.091042  2.397895  \n",
      "121     2.302585  1.791759  \n",
      "122     1.609438  1.386294  \n",
      "123     2.197225  2.197225  \n",
      "124     2.079442  1.945910  \n",
      "125     1.791759  0.000000  \n",
      "126     1.791759  2.772589  \n",
      "127     2.197225  1.386294  \n",
      "128     1.609438  1.098612  \n",
      "129     1.791759  0.000000  \n",
      "130     2.197225  2.708050  \n",
      "131     1.609438  2.197225  \n",
      "132     2.302585  1.945910  \n",
      "133     1.791759  1.609438  \n",
      "134     1.791759  1.609438  \n",
      "135     3.295837  0.693147  \n",
      "136     2.079442  2.564949  \n",
      "138     2.197225  0.000000  \n",
      "139     2.708050  3.931826  \n",
      "140     2.079442  2.079442  \n",
      "141     1.791759  1.791759  \n",
      "142     1.791759  2.197225  \n",
      "143     2.397895  2.079442  \n",
      "144     1.609438  1.098612  \n",
      "145     1.609438  2.197225  \n",
      "146     1.609438  2.079442  \n",
      "147     1.609438  1.098612  \n",
      "148     2.197225  2.995732  \n",
      "149     1.945910  1.609438  \n",
      "150     1.609438  2.944439  \n",
      "151     2.397895  2.564949  \n",
      "152     1.945910  0.693147  \n",
      "153     2.197225  3.465736  \n",
      "154     2.197225  2.079442  \n",
      "155     1.945910  2.708050  \n",
      "156     3.367296  2.890372  \n",
      "157     2.079442  1.945910  \n",
      "159     2.708050  2.397895  \n",
      "160     2.484907  2.397895  \n",
      "161     1.609438  1.791759  \n",
      "162     2.079442  2.079442  \n",
      "164     1.791759  1.945910  \n",
      "166     1.609438  2.197225  \n",
      "167     2.302585  0.000000  \n",
      "168     2.302585  2.079442  \n",
      "169     2.302585  1.609438  \n",
      "170     2.302585  2.484907  \n",
      "171     1.609438  0.693147  \n",
      "172     1.609438  1.945910  \n",
      "173     1.791759  2.302585  \n",
      "174     2.484907  0.693147  \n",
      "175     1.609438  2.079442  \n",
      "176     1.609438  1.945910  \n",
      "177     1.945910  2.397895  \n",
      "178     2.079442  2.079442  \n",
      "179     2.197225  1.791759  \n",
      "180     1.609438  0.693147  \n",
      "181     2.639057  2.079442  \n",
      "182     1.609438  1.945910  \n",
      "183     3.178054  1.098612  \n",
      "184     1.609438  2.197225  \n",
      "185     3.218876  2.079442  \n",
      "186     2.772589  2.708050  \n",
      "187     2.772589  3.044522  \n",
      "188     2.302585  0.000000  \n",
      "189     2.397895  1.386294  \n",
      "190     1.945910  1.609438  \n",
      "191     2.079442  2.772589  \n",
      "192     2.484907  2.708050  \n",
      "193     1.609438  1.098612  \n",
      "194     2.397895  2.772589  \n",
      "195     1.609438  2.639057  \n",
      "196     2.302585  1.609438  \n",
      "197     1.945910  2.302585  \n",
      "198     2.708050  1.609438  \n",
      "199     2.944439  3.178054  \n",
      "200     1.945910  2.564949  \n",
      "201     2.397895  2.197225  \n",
      "202     1.791759  1.609438  \n",
      "204     1.609438  0.000000  \n",
      "206     1.791759  2.197225  \n",
      "207     1.609438  1.945910  \n",
      "208     2.564949  2.772589  \n",
      "209     1.609438  2.484907  \n",
      "210     3.583519  4.025352  \n",
      "212     1.609438  1.945910  \n",
      "213     1.791759  1.945910  \n",
      "214     2.197225  2.708050  \n",
      "215     1.609438  1.609438  \n",
      "216     2.995732  2.302585  \n",
      "217     1.609438  2.079442  \n",
      "218     2.484907  2.197225  \n",
      "219     1.791759  1.609438  \n",
      "220     2.639057  3.526361  \n",
      "221     2.079442  2.079442  \n",
      "222     2.397895  3.784190  \n",
      "223     1.609438  1.386294  \n",
      "224     2.639057  3.258097  \n",
      "225     2.708050  1.945910  \n",
      "226     2.197225  1.945910  \n",
      "227     1.609438  0.693147  \n",
      "229     2.708050  0.693147  \n",
      "230     1.609438  1.386294  \n",
      "231     2.197225  2.484907  \n",
      "232     1.609438  1.609438  \n",
      "234     2.397895  4.060443  \n",
      "235     2.944439  3.931826  \n",
      "236     2.944439  2.302585  \n",
      "237     1.609438  2.302585  \n",
      "238     2.079442  1.098612  \n",
      "239     1.945910  1.791759  \n",
      "240     1.609438  0.693147  \n",
      "242     1.609438  2.302585  \n",
      "243     1.609438  2.079442  \n",
      "244     1.609438  2.397895  \n",
      "245     1.791759  1.791759  \n",
      "247     2.197225  1.098612  \n",
      "248     1.609438  1.945910  \n",
      "249     2.302585  1.609438  \n",
      "250     1.609438  2.397895  \n",
      "251     2.833213  2.197225  \n",
      "252     3.135494  2.639057  \n",
      "253     2.397895  1.791759  \n",
      "254     2.302585  1.386294  \n"
     ]
    }
   ],
   "source": [
    "pd.set_option('display.max_rows', None)\n",
    "pd.set_option('display.max_columns', None)\n",
    "print(ASI_Base1)"
   ]
  },
  {
   "cell_type": "code",
   "execution_count": 160,
   "metadata": {},
   "outputs": [
    {
     "data": {
      "image/png": "[encoded data removed]",
      "text/plain": [
       "<Figure size 432x288 with 1 Axes>"
      ]
     },
     "metadata": {
      "needs_background": "light"
     },
     "output_type": "display_data"
    }
   ],
   "source": [
    "Plot = ASI_Base1.plot.scatter( x = 'Age', y = 'C1')"
   ]
  },
  {
   "cell_type": "code",
   "execution_count": 161,
   "metadata": {},
   "outputs": [
    {
     "data": {
      "image/png": "[encoded data removed]",
      "text/plain": [
       "<Figure size 432x288 with 1 Axes>"
      ]
     },
     "metadata": {
      "needs_background": "light"
     },
     "output_type": "display_data"
    }
   ],
   "source": [
    "Plot = ASI_Base1.plot.scatter( x = 'AgeLOG', y = 'C1LOG')"
   ]
  },
  {
   "cell_type": "code",
   "execution_count": 163,
   "metadata": {},
   "outputs": [],
   "source": [
    "x = ASI_Base1['AgeLOG']\n",
    "y = ASI_Base1['C1LOG']"
   ]
  },
  {
   "cell_type": "code",
   "execution_count": 164,
   "metadata": {},
   "outputs": [],
   "source": [
    "model = sm.OLS(y,x).fit()"
   ]
  },
  {
   "cell_type": "code",
   "execution_count": 170,
   "metadata": {},
   "outputs": [],
   "source": [
    "pred_val = model.fittedvalues.copy()\n",
    "true_val = ASI_Base1['C1LOG'].values.copy()\n",
    "residual = true_val - pred_val"
   ]
  },
  {
   "cell_type": "code",
   "execution_count": 171,
   "metadata": {},
   "outputs": [
    {
     "data": {
      "image/png": "[encoded data removed]",
      "text/plain": [
       "<Figure size 432x180 with 1 Axes>"
      ]
     },
     "metadata": {
      "needs_background": "light"
     },
     "output_type": "display_data"
    }
   ],
   "source": [
    "fig, ax = plt.subplots(figsize=(6, 2.5))\n",
    "_ = ax.scatter(residual, pred_val)"
   ]
  },
  {
   "cell_type": "code",
   "execution_count": 172,
   "metadata": {},
   "outputs": [
    {
     "data": {
      "text/plain": [
       "(58.07517428692776, nan, 77.02417526868152, 3.736541076148828e-16)"
      ]
     },
     "execution_count": 172,
     "metadata": {},
     "output_type": "execute_result"
    }
   ],
   "source": [
    "sms.diagnostic.het_breuschpagan(residual, ASI_Base1[['AgeLOG']])"
   ]
  },
  {
   "cell_type": "code",
   "execution_count": 173,
   "metadata": {},
   "outputs": [
    {
     "data": {
      "text/plain": [
       "Ttest_1sampResult(statistic=0.1469476238792065, pvalue=0.883302648333063)"
      ]
     },
     "execution_count": 173,
     "metadata": {},
     "output_type": "execute_result"
    }
   ],
   "source": [
    "sms.linear_harvey_collier(model)"
   ]
  },
  {
   "cell_type": "code",
   "execution_count": 174,
   "metadata": {},
   "outputs": [],
   "source": [
    "transformed, _ = boxcox(ASI_Base1['Age'])"
   ]
  },
  {
   "cell_type": "code",
   "execution_count": 175,
   "metadata": {},
   "outputs": [
    {
     "data": {
      "text/plain": [
       "(array([ 2.,  2., 33., 30., 37., 46., 50., 22.,  7.,  4.]),\n",
       " array([1.25102756, 1.29581466, 1.34060177, 1.38538887, 1.43017597,\n",
       "        1.47496308, 1.51975018, 1.56453729, 1.60932439, 1.6541115 ,\n",
       "        1.6988986 ]),\n",
       " <a list of 10 Patch objects>)"
      ]
     },
     "execution_count": 175,
     "metadata": {},
     "output_type": "execute_result"
    },
    {
     "data": {
      "image/png": "[encoded data removed]",
      "text/plain": [
       "<Figure size 432x288 with 1 Axes>"
      ]
     },
     "metadata": {
      "needs_background": "light"
     },
     "output_type": "display_data"
    }
   ],
   "source": [
    "plt.hist(transformed)"
   ]
  },
  {
   "cell_type": "code",
   "execution_count": 176,
   "metadata": {},
   "outputs": [
    {
     "data": {
      "text/html": [
       "<table class=\"simpletable\">\n",
       "<caption>OLS Regression Results</caption>\n",
       "<tr>\n",
       "  <th>Dep. Variable:</th>          <td>C1LOG</td>      <th>  R-squared (uncentered):</th>      <td>   0.947</td> \n",
       "</tr>\n",
       "<tr>\n",
       "  <th>Model:</th>                   <td>OLS</td>       <th>  Adj. R-squared (uncentered):</th> <td>   0.947</td> \n",
       "</tr>\n",
       "<tr>\n",
       "  <th>Method:</th>             <td>Least Squares</td>  <th>  F-statistic:       </th>          <td>   4124.</td> \n",
       "</tr>\n",
       "<tr>\n",
       "  <th>Date:</th>             <td>Thu, 25 Feb 2021</td> <th>  Prob (F-statistic):</th>          <td>9.79e-150</td>\n",
       "</tr>\n",
       "<tr>\n",
       "  <th>Time:</th>                 <td>21:16:52</td>     <th>  Log-Likelihood:    </th>          <td> -229.45</td> \n",
       "</tr>\n",
       "<tr>\n",
       "  <th>No. Observations:</th>      <td>   233</td>      <th>  AIC:               </th>          <td>   460.9</td> \n",
       "</tr>\n",
       "<tr>\n",
       "  <th>Df Residuals:</th>          <td>   232</td>      <th>  BIC:               </th>          <td>   464.3</td> \n",
       "</tr>\n",
       "<tr>\n",
       "  <th>Df Model:</th>              <td>     1</td>      <th>                     </th>              <td> </td>    \n",
       "</tr>\n",
       "<tr>\n",
       "  <th>Covariance Type:</th>      <td>nonrobust</td>    <th>                     </th>              <td> </td>    \n",
       "</tr>\n",
       "</table>\n",
       "<table class=\"simpletable\">\n",
       "<tr>\n",
       "   <td></td>     <th>coef</th>     <th>std err</th>      <th>t</th>      <th>P>|t|</th>  <th>[0.025</th>    <th>0.975]</th>  \n",
       "</tr>\n",
       "<tr>\n",
       "  <th>x1</th> <td>    1.8411</td> <td>    0.029</td> <td>   64.220</td> <td> 0.000</td> <td>    1.785</td> <td>    1.898</td>\n",
       "</tr>\n",
       "</table>\n",
       "<table class=\"simpletable\">\n",
       "<tr>\n",
       "  <th>Omnibus:</th>       <td>22.357</td> <th>  Durbin-Watson:     </th> <td>   2.019</td>\n",
       "</tr>\n",
       "<tr>\n",
       "  <th>Prob(Omnibus):</th> <td> 0.000</td> <th>  Jarque-Bera (JB):  </th> <td>  31.523</td>\n",
       "</tr>\n",
       "<tr>\n",
       "  <th>Skew:</th>          <td> 0.620</td> <th>  Prob(JB):          </th> <td>1.43e-07</td>\n",
       "</tr>\n",
       "<tr>\n",
       "  <th>Kurtosis:</th>      <td> 4.307</td> <th>  Cond. No.          </th> <td>    1.00</td>\n",
       "</tr>\n",
       "</table><br/><br/>Warnings:<br/>[1] Standard Errors assume that the covariance matrix of the errors is correctly specified."
      ],
      "text/plain": [
       "<class 'statsmodels.iolib.summary.Summary'>\n",
       "\"\"\"\n",
       "                                 OLS Regression Results                                \n",
       "=======================================================================================\n",
       "Dep. Variable:                  C1LOG   R-squared (uncentered):                   0.947\n",
       "Model:                            OLS   Adj. R-squared (uncentered):              0.947\n",
       "Method:                 Least Squares   F-statistic:                              4124.\n",
       "Date:                Thu, 25 Feb 2021   Prob (F-statistic):                   9.79e-150\n",
       "Time:                        21:16:52   Log-Likelihood:                         -229.45\n",
       "No. Observations:                 233   AIC:                                      460.9\n",
       "Df Residuals:                     232   BIC:                                      464.3\n",
       "Df Model:                           1                                                  \n",
       "Covariance Type:            nonrobust                                                  \n",
       "==============================================================================\n",
       "                 coef    std err          t      P>|t|      [0.025      0.975]\n",
       "------------------------------------------------------------------------------\n",
       "x1             1.8411      0.029     64.220      0.000       1.785       1.898\n",
       "==============================================================================\n",
       "Omnibus:                       22.357   Durbin-Watson:                   2.019\n",
       "Prob(Omnibus):                  0.000   Jarque-Bera (JB):               31.523\n",
       "Skew:                           0.620   Prob(JB):                     1.43e-07\n",
       "Kurtosis:                       4.307   Cond. No.                         1.00\n",
       "==============================================================================\n",
       "\n",
       "Warnings:\n",
       "[1] Standard Errors assume that the covariance matrix of the errors is correctly specified.\n",
       "\"\"\""
      ]
     },
     "execution_count": 176,
     "metadata": {},
     "output_type": "execute_result"
    }
   ],
   "source": [
    "x = transformed\n",
    "model1 = sm.OLS(y,x).fit()\n",
    "model1.summary()"
   ]
  },
  {
   "cell_type": "code",
   "execution_count": 179,
   "metadata": {},
   "outputs": [],
   "source": [
    "pred_val1 = model1.fittedvalues.copy()\n",
    "true_val1 = ASI_Base1['C1LOG'].values.copy()\n",
    "residual1 = true_val1 - pred_val1"
   ]
  },
  {
   "cell_type": "code",
   "execution_count": 180,
   "metadata": {},
   "outputs": [
    {
     "data": {
      "image/png": "[encoded data removed]",
      "text/plain": [
       "<Figure size 432x180 with 1 Axes>"
      ]
     },
     "metadata": {
      "needs_background": "light"
     },
     "output_type": "display_data"
    }
   ],
   "source": [
    "fig, ax = plt.subplots(figsize=(6, 2.5))\n",
    "_ = ax.scatter(residual, pred_val1)"
   ]
  },
  {
   "cell_type": "code",
   "execution_count": 182,
   "metadata": {},
   "outputs": [
    {
     "data": {
      "text/plain": [
       "(43.716567743860764, nan, 53.58231090638281, 4.037948580177709e-12)"
      ]
     },
     "execution_count": 182,
     "metadata": {},
     "output_type": "execute_result"
    }
   ],
   "source": [
    "sms.diagnostic.het_breuschpagan(residual1, ASI_Base1[['Age']])"
   ]
  },
  {
   "cell_type": "code",
   "execution_count": 183,
   "metadata": {},
   "outputs": [
    {
     "data": {
      "text/plain": [
       "Ttest_1sampResult(statistic=-0.8959891338491406, pvalue=0.37119943996801685)"
      ]
     },
     "execution_count": 183,
     "metadata": {},
     "output_type": "execute_result"
    }
   ],
   "source": [
    "sms.linear_harvey_collier(model1)"
   ]
  },
  {
   "cell_type": "code",
   "execution_count": 184,
   "metadata": {},
   "outputs": [
    {
     "data": {
      "image/png": "[encoded data removed]",
      "text/plain": [
       "<Figure size 864x576 with 1 Axes>"
      ]
     },
     "metadata": {
      "needs_background": "light"
     },
     "output_type": "display_data"
    }
   ],
   "source": [
    "fig, ax = plt.subplots(figsize=(12,8))\n",
    "fig = sm.graphics.influence_plot(model1, alpha = .05, ax = ax, criterion=\"cooks\")"
   ]
  },
  {
   "cell_type": "code",
   "execution_count": 185,
   "metadata": {},
   "outputs": [
    {
     "name": "stdout",
     "output_type": "stream",
     "text": [
      "       dfb_x1       cooks_d  standard_resid  hat_diag  dffits_internal  \\\n",
      "0    0.007695  5.946607e-05        0.111671  0.004746         0.007711   \n",
      "1   -0.004743  2.259748e-05       -0.078021  0.003699        -0.004754   \n",
      "2   -0.036970  1.370867e-03       -0.558165  0.004381        -0.037025   \n",
      "3   -0.030837  9.541781e-04       -0.461567  0.004459        -0.030890   \n",
      "4    0.059128  3.493959e-03        1.068302  0.003052         0.059110   \n",
      "5    0.029964  9.009490e-04        0.453986  0.004352         0.030016   \n",
      "6    0.020659  4.284694e-04        0.314170  0.004322         0.020700   \n",
      "7   -0.003689  1.366424e-05       -0.059084  0.003899        -0.003697   \n",
      "8    0.048652  2.370919e-03        0.784484  0.003838         0.048692   \n",
      "9   -0.012908  1.673169e-04       -0.212300  0.003699        -0.012935   \n",
      "11  -0.058322  3.402988e-03       -0.948128  0.003771        -0.058335   \n",
      "12  -0.008171  6.705678e-05       -0.125239  0.004257        -0.008189   \n",
      "13   0.004220  1.788213e-05        0.064420  0.004291         0.004229   \n",
      "14  -0.004743  2.259748e-05       -0.078021  0.003699        -0.004754   \n",
      "15  -0.131258  1.703175e-02       -1.907895  0.004657        -0.130506   \n",
      "16  -0.034421  1.188312e-03       -0.560276  0.003771        -0.034472   \n",
      "17   0.015169  2.310496e-04        0.230705  0.004322         0.015200   \n",
      "18   0.031774  1.013062e-03        0.445736  0.005073         0.031829   \n",
      "20  -0.010136  1.031694e-04       -0.147302  0.004732        -0.010157   \n",
      "21  -0.005763  3.335891e-05       -0.089103  0.004184        -0.005776   \n",
      "22   0.006684  4.486234e-05        0.100660  0.004408         0.006698   \n",
      "23  -0.089593  8.000598e-03       -1.326408  0.004527        -0.089446   \n",
      "24  -0.074699  5.574268e-03       -1.109837  0.004505        -0.074661   \n",
      "25   0.029263  8.593410e-04        0.426421  0.004704         0.029315   \n",
      "26   0.005292  2.812644e-05        0.074833  0.004998         0.005303   \n",
      "27  -0.023591  5.585912e-04       -0.372589  0.004008        -0.023635   \n",
      "28   0.131161  1.702633e-02        1.837381  0.005018         0.130485   \n",
      "29   0.072145  5.204774e-03        1.004257  0.005134         0.072144   \n",
      "30  -0.104861  1.092847e-02       -1.553978  0.004505        -0.104539   \n",
      "31   0.020659  4.284694e-04        0.314170  0.004322         0.020700   \n",
      "32   0.023950  5.756962e-04        0.386565  0.003838         0.023994   \n",
      "33  -0.108558  1.167544e-02       -1.773440  0.003699        -0.108053   \n",
      "34  -0.001701  2.904762e-06       -0.027459  0.003838        -0.001704   \n",
      "35   0.198495  3.819239e-02        2.842785  0.004704         0.195429   \n",
      "36  -0.073533  5.400092e-03       -1.139136  0.004144        -0.073485   \n",
      "37   0.007537  5.704855e-05        0.113864  0.004381         0.007553   \n",
      "38  -0.023591  5.585912e-04       -0.372589  0.004008        -0.023635   \n",
      "39  -0.055413  3.072921e-03       -0.909820  0.003699        -0.055434   \n",
      "41   0.018208  3.328622e-04        0.280201  0.004222         0.018245   \n",
      "43   0.015146  2.303287e-04        0.225600  0.004505         0.015177   \n",
      "44  -0.108558  1.167544e-02       -1.773440  0.003699        -0.108053   \n",
      "45   0.002767  7.686751e-06        0.045504  0.003699         0.002772   \n",
      "46   0.063699  4.058755e-03        0.966942  0.004322         0.063708   \n",
      "47   0.139013  1.897128e-02        2.285543  0.003619         0.137736   \n",
      "48   0.117381  1.367406e-02        1.657521  0.004952         0.116936   \n",
      "49  -0.026790  7.202346e-04       -0.432377  0.003838        -0.026837   \n",
      "51   0.201161  3.911892e-02        2.947534  0.004482         0.197785   \n",
      "52  -0.027713  7.707948e-04       -0.408158  0.004606        -0.027763   \n",
      "54  -0.040780  1.667406e-03       -0.627131  0.004222        -0.040834   \n",
      "55   0.060643  3.682542e-03        0.827974  0.005343         0.060684   \n",
      "56  -0.007000  4.921136e-05       -0.107738  0.004222        -0.007015   \n",
      "57   0.003577  1.285269e-05        0.063316  0.003196         0.003585   \n",
      "58   0.200165  3.877400e-02        2.906873  0.004568         0.196911   \n",
      "59  -0.090810  8.194422e-03       -1.568160  0.003321        -0.090523   \n",
      "60   0.001942  3.789143e-06        0.028189  0.004746         0.001947   \n",
      "61  -0.020819  4.351086e-04       -0.313483  0.004408        -0.020859   \n",
      "62   0.002256  5.109893e-06        0.034190  0.004352         0.002261   \n",
      "63  -0.006146  3.793751e-05       -0.092566  0.004408        -0.006159   \n",
      "64   0.015872  2.529618e-04        0.232516  0.004657         0.015905   \n",
      "66   0.091877  8.412170e-03        1.340846  0.004657         0.091718   \n",
      "68  -0.075852  5.741256e-03       -1.220758  0.003838        -0.075771   \n",
      "69  -0.031754  1.011468e-03       -0.521982  0.003699        -0.031804   \n",
      "70   0.187336  3.392959e-02        2.944219  0.003899         0.184200   \n",
      "71  -0.066012  4.357354e-03       -1.005589  0.004291        -0.066010   \n",
      "72   0.049902  2.494259e-03        0.792534  0.003955         0.049943   \n",
      "73   0.185198  3.356226e-02        2.440889  0.005602         0.183200   \n",
      "74  -0.005538  3.079735e-05       -0.088065  0.003955        -0.005550   \n",
      "75   0.096208  9.221168e-03        1.367028  0.004910         0.096027   \n",
      "76  -0.013307  1.778120e-04       -0.211606  0.003955        -0.013335   \n",
      "77  -0.018644  3.489931e-04       -0.275781  0.004568        -0.018681   \n",
      "78  -0.080864  6.520758e-03       -1.281434  0.003955        -0.080751   \n",
      "79   0.024538  6.043132e-04        0.387537  0.004008         0.024583   \n",
      "80  -0.012908  1.673169e-04       -0.212300  0.003699        -0.012935   \n",
      "81   0.022027  4.870552e-04        0.323820  0.004623         0.022069   \n",
      "82  -0.018308  3.365146e-04       -0.285841  0.004102        -0.018344   \n",
      "83   0.026792  7.204193e-04        0.408886  0.004291         0.026841   \n",
      "84   0.077676  6.025263e-03        1.148423  0.004548         0.077623   \n",
      "85  -0.021717  4.734468e-04       -0.326040  0.004434        -0.021759   \n",
      "86  -0.003689  1.366424e-05       -0.059084  0.003899        -0.003697   \n",
      "87  -0.016247  2.650608e-04       -0.227165  0.005110        -0.016281   \n",
      "88  -0.015637  2.455126e-04       -0.239637  0.004257        -0.015669   \n",
      "89  -0.024423  5.986601e-04       -0.397674  0.003771        -0.024468   \n",
      "91   0.057966  3.363861e-03        0.858090  0.004548         0.057999   \n",
      "92   0.023634  5.606857e-04        0.363662  0.004222         0.023679   \n",
      "93  -0.005763  3.335891e-05       -0.089103  0.004184        -0.005776   \n",
      "94  -0.012086  1.466954e-04       -0.178421  0.004587        -0.012112   \n",
      "95  -0.022461  5.064427e-04       -0.320972  0.004892        -0.022504   \n",
      "96   0.013379  1.797287e-04        0.202103  0.004381         0.013406   \n",
      "97  -0.044531  1.987696e-03       -0.676674  0.004322        -0.044584   \n",
      "98  -0.007000  4.921516e-05       -0.105120  0.004434        -0.007015   \n",
      "99   0.204691  4.032220e-02        3.112771  0.004144         0.200804   \n",
      "100  0.066909  4.477993e-03        0.970456  0.004732         0.066918   \n",
      "101 -0.014150  2.010434e-04       -0.203058  0.004852        -0.014179   \n",
      "102  0.015146  2.303287e-04        0.225600  0.004505         0.015177   \n",
      "104 -0.028343  8.062083e-04       -0.416619  0.004623        -0.028394   \n",
      "105 -0.018308  3.365146e-04       -0.285841  0.004102        -0.018344   \n",
      "106 -0.042832  1.838554e-03       -0.703750  0.003699        -0.042878   \n",
      "107  0.012746  1.631341e-04        0.184702  0.004759         0.012772   \n",
      "109 -0.001070  1.150708e-06       -0.014842  0.005196        -0.001073   \n",
      "110  0.017494  3.072524e-04        0.274662  0.004056         0.017529   \n",
      "111  0.008213  6.774043e-05        0.121769  0.004548         0.008230   \n",
      "112 -0.011402  1.305400e-04       -0.182622  0.003899        -0.011425   \n",
      "113  0.003452  1.196691e-05        0.055293  0.003899         0.003459   \n",
      "114  0.026782  7.199406e-04        0.380641  0.004944         0.026832   \n",
      "115  0.052714  2.782469e-03        0.831568  0.004008         0.052749   \n",
      "116 -0.085203  7.235229e-03       -1.332837  0.004056        -0.085060   \n",
      "117  0.200403  3.885641e-02        2.916388  0.004548         0.197120   \n",
      "118 -0.015736  2.486251e-04       -0.234984  0.004482        -0.015768   \n",
      "119 -0.037242  1.391259e-03       -0.533051  0.004872        -0.037300   \n",
      "120 -0.043346  1.883417e-03       -0.661123  0.004291        -0.043398   \n",
      "121 -0.027061  7.349351e-04       -0.399358  0.004587        -0.027110   \n",
      "122  0.130377  1.680336e-02        1.909573  0.004587         0.129628   \n",
      "123  0.033755  1.143093e-03        0.500213  0.004548         0.033810   \n",
      "124 -0.036352  1.325329e-03       -0.567264  0.004102        -0.036405   \n",
      "125  0.038291  1.470239e-03        0.600821  0.004056         0.038344   \n",
      "126 -0.046795  2.194178e-03       -0.729893  0.004102        -0.046842   \n",
      "127  0.052210  2.728963e-03        0.857391  0.003699         0.052239   \n",
      "128 -0.011819  1.402767e-04       -0.183598  0.004144        -0.011844   \n",
      "129 -0.065771  4.324150e-03       -1.043513  0.003955        -0.065758   \n",
      "130 -0.031754  1.011468e-03       -0.521982  0.003699        -0.031804   \n",
      "131 -0.069976  4.889962e-03       -1.147711  0.003699        -0.069928   \n",
      "132  0.032106  1.034379e-03        0.450913  0.005062         0.032162   \n",
      "133 -0.066633  4.435761e-03       -1.105160  0.003619        -0.066602   \n",
      "134 -0.070724  4.991170e-03       -1.223862  0.003321        -0.070648   \n",
      "135  0.076911  5.906001e-03        1.166409  0.004322         0.076851   \n",
      "136  0.036725  1.352931e-03        0.524114  0.004901         0.036782   \n",
      "138  0.022841  5.237620e-04        0.315689  0.005228         0.022886   \n",
      "139 -0.036879  1.363830e-03       -0.594985  0.003838        -0.036930   \n",
      "140 -0.032914  1.086767e-03       -0.519698  0.004008        -0.032966   \n",
      "141 -0.017672  3.135403e-04       -0.285281  0.003838        -0.017707   \n",
      "142 -0.042832  1.838554e-03       -0.703750  0.003699        -0.042878   \n",
      "143 -0.036113  1.308216e-03       -0.531739  0.004606        -0.036169   \n",
      "144  0.010465  1.099885e-04        0.153320  0.004657         0.010488   \n",
      "145 -0.013888  1.936763e-04       -0.203818  0.004641        -0.013917   \n",
      "146  0.002400  5.786776e-06        0.037290  0.004144         0.002406   \n",
      "147  0.177805  3.081959e-02        2.609628  0.004505         0.175555   \n",
      "148 -0.041264  1.706932e-03       -0.655625  0.003955        -0.041315   \n",
      "149 -0.087166  7.570278e-03       -1.355749  0.004102        -0.087007   \n",
      "150 -0.058605  3.437885e-03       -0.881172  0.004408        -0.058633   \n",
      "151 -0.021795  4.768795e-04       -0.312082  0.004872        -0.021838   \n",
      "152 -0.156386  2.411148e-02       -2.063880  0.005629        -0.155279   \n",
      "153  0.020659  4.284694e-04        0.314170  0.004322         0.020700   \n",
      "154 -0.055413  3.072921e-03       -0.909820  0.003699        -0.055434   \n",
      "155 -0.005538  3.079735e-05       -0.088065  0.003955        -0.005550   \n",
      "156  0.111331  1.227090e-02        1.818102  0.003699         0.110774   \n",
      "157 -0.123412  1.504994e-02       -1.933971  0.004008        -0.122678   \n",
      "159 -0.122241  1.481260e-02       -1.735874  0.004892        -0.121707   \n",
      "160 -0.069976  4.889962e-03       -1.147711  0.003699        -0.069928   \n",
      "161 -0.103854  1.072127e-02       -1.543080  0.004482        -0.103544   \n",
      "162 -0.025992  6.780621e-04       -0.395220  0.004322        -0.026040   \n",
      "164  0.076200  5.799160e-03        1.134875  0.004482         0.076152   \n",
      "166 -0.087269  7.581433e-03       -1.429077  0.003699        -0.087071   \n",
      "167 -0.022814  5.225036e-04       -0.333040  0.004689        -0.022858   \n",
      "168 -0.087269  7.581433e-03       -1.429077  0.003699        -0.087071   \n",
      "169  0.040359  1.633427e-03        0.593014  0.004623         0.040416   \n",
      "170  0.002767  7.686751e-06        0.045504  0.003699         0.002772   \n",
      "171  0.024990  6.268000e-04        0.378666  0.004352         0.025036   \n",
      "172 -0.069976  4.889962e-03       -1.147711  0.003699        -0.069928   \n",
      "173  0.193433  3.637011e-02        2.731163  0.004852         0.190709   \n",
      "174  0.051069  2.613395e-03        0.725220  0.004944         0.051121   \n",
      "175 -0.043086  1.861362e-03       -0.621454  0.004796        -0.043144   \n",
      "176 -0.049941  2.498473e-03       -0.771122  0.004184        -0.049985   \n",
      "177  0.035556  1.268113e-03        0.540484  0.004322         0.035611   \n",
      "178 -0.012304  1.520113e-04       -0.185867  0.004381        -0.012329   \n",
      "179  0.095395  9.058585e-03        1.434813  0.004381         0.095177   \n",
      "180  0.048565  2.363178e-03        0.737823  0.004322         0.048613   \n",
      "181 -0.036760  1.355441e-03       -0.540201  0.004623        -0.036816   \n",
      "182  0.143096  2.020953e-02        2.003128  0.005011         0.142160   \n",
      "183  0.038778  1.508069e-03        0.575873  0.004527         0.038834   \n",
      "184 -0.059619  3.557526e-03       -0.893736  0.004434        -0.059645   \n",
      "185 -0.083461  6.951696e-03       -1.210957  0.004718        -0.083377   \n",
      "186 -0.077258  5.961135e-03       -1.139778  0.004568        -0.077208   \n",
      "187 -0.008878  7.915336e-05       -0.139407  0.004056        -0.008897   \n",
      "188  0.005293  2.813298e-05        0.077681  0.004641         0.005304   \n",
      "189  0.068341  4.666270e-03        1.100553  0.003838         0.068310   \n",
      "190 -0.019059  3.646451e-04       -0.316866  0.003619        -0.019096   \n",
      "191 -0.016748  2.816171e-04       -0.262954  0.004056        -0.016781   \n",
      "192 -0.043693  1.914225e-03       -0.614132  0.005050        -0.043752   \n",
      "193  0.089762  8.024807e-03        1.388648  0.004144         0.089581   \n",
      "194 -0.031754  1.011468e-03       -0.521982  0.003699        -0.031804   \n",
      "195  0.052210  2.728963e-03        0.857391  0.003699         0.052239   \n",
      "196  0.020659  4.284694e-04        0.314170  0.004322         0.020700   \n",
      "197 -0.049941  2.498473e-03       -0.771122  0.004184        -0.049985   \n",
      "198 -0.056432  3.188281e-03       -0.854025  0.004352        -0.056465   \n",
      "199 -0.045611  2.084455e-03       -0.742050  0.003771        -0.045656   \n",
      "200  0.007537  5.704855e-05        0.113864  0.004381         0.007553   \n",
      "201  0.051078  2.614185e-03        0.735577  0.004808         0.051129   \n",
      "202  0.079929  6.380789e-03        1.134148  0.004936         0.079880   \n",
      "204  0.048946  2.400513e-03        0.732104  0.004459         0.048995   \n",
      "206  0.002767  7.686751e-06        0.045504  0.003699         0.002772   \n",
      "207 -0.001593  2.549728e-06       -0.025021  0.004056        -0.001597   \n",
      "208 -0.028429  8.110210e-04       -0.441460  0.004144        -0.028478   \n",
      "209  0.070315  4.944921e-03        0.983179  0.005090         0.070320   \n",
      "210  0.058325  3.406388e-03        0.828666  0.004936         0.058364   \n",
      "212 -0.175946  3.000778e-02       -2.843131  0.003699        -0.173228   \n",
      "213 -0.071776  5.146228e-03       -1.117809  0.004102        -0.071737   \n",
      "214 -0.031017  9.651896e-04       -0.493008  0.003955        -0.031068   \n",
      "215  0.042562  1.815688e-03        0.681085  0.003899         0.042611   \n",
      "216 -0.053063  2.820322e-03       -0.785712  0.004548        -0.053107   \n",
      "217 -0.087269  7.581433e-03       -1.429077  0.003699        -0.087071   \n",
      "218 -0.003336  1.117999e-05       -0.050749  0.004322        -0.003344   \n",
      "219 -0.183224  3.268551e-02       -2.663274  0.004587        -0.180791   \n",
      "220 -0.118319  1.386891e-02       -1.775359  0.004381        -0.117766   \n",
      "221 -0.021856  4.794715e-04       -0.359386  0.003699        -0.021897   \n",
      "222 -0.034748  1.211256e-03       -0.513776  0.004568        -0.034803   \n",
      "223  0.098499  9.669543e-03        1.331998  0.005420         0.098334   \n",
      "224  0.049340  2.439745e-03        0.705890  0.004872         0.049394   \n",
      "225  0.022905  5.266567e-04        0.331867  0.004759         0.022949   \n",
      "226  0.015383  2.376059e-04        0.224959  0.004673         0.015414   \n",
      "227  0.003752  1.413923e-05        0.058592  0.004102         0.003760   \n",
      "229  0.054419  2.966362e-03        0.782625  0.004820         0.054464   \n",
      "230 -0.042832  1.838554e-03       -0.703750  0.003699        -0.042878   \n",
      "231  0.012637  1.603589e-04        0.186546  0.004587         0.012663   \n",
      "232 -0.000165  2.745570e-08       -0.002431  0.004623        -0.000166   \n",
      "234  0.027949  7.838079e-04        0.459499  0.003699         0.027997   \n",
      "235 -0.018895  3.584397e-04       -0.286352  0.004352        -0.018933   \n",
      "236  0.014482  2.105966e-04        0.215200  0.004527         0.014512   \n",
      "237 -0.014834  2.209444e-04       -0.212425  0.004872        -0.014864   \n",
      "238 -0.091334  8.312640e-03       -1.345938  0.004568        -0.091174   \n",
      "239  0.066384  4.407839e-03        0.974155  0.004623         0.066392   \n",
      "240  0.010100  1.024397e-04        0.161776  0.003899         0.010121   \n",
      "242 -0.004455  1.993145e-05       -0.069206  0.004144        -0.004464   \n",
      "243 -0.042832  1.838554e-03       -0.703750  0.003699        -0.042878   \n",
      "244  0.046164  2.135762e-03        0.706794  0.004257         0.046214   \n",
      "245 -0.067083  4.500758e-03       -0.984369  0.004623        -0.067088   \n",
      "247  0.050364  2.540101e-03        0.819148  0.003771         0.050399   \n",
      "248 -0.028981  8.427593e-04       -0.464016  0.003899        -0.029030   \n",
      "249 -0.029954  9.003313e-04       -0.449610  0.004434        -0.030006   \n",
      "250 -0.015386  2.376986e-04       -0.250582  0.003771        -0.015417   \n",
      "251 -0.023591  5.585912e-04       -0.372589  0.004008        -0.023635   \n",
      "252 -0.052745  2.786236e-03       -0.807283  0.004257        -0.052785   \n",
      "253  0.029826  8.925986e-04        0.470989  0.004008         0.029876   \n",
      "254  0.052200  2.729008e-03        0.805913  0.004184         0.052240   \n",
      "\n",
      "     student_resid    dffits  \n",
      "0         0.111433  0.007695  \n",
      "1        -0.077853 -0.004743  \n",
      "2        -0.557335 -0.036970  \n",
      "3        -0.460783 -0.030837  \n",
      "4         1.068628  0.059128  \n",
      "5         0.453208  0.029964  \n",
      "6         0.313558  0.020659  \n",
      "7        -0.058957 -0.003689  \n",
      "8         0.783832  0.048652  \n",
      "9        -0.211862 -0.012908  \n",
      "11       -0.947921 -0.058322  \n",
      "12       -0.124973 -0.008171  \n",
      "13        0.064281  0.004220  \n",
      "14       -0.077853 -0.004743  \n",
      "15       -1.918892 -0.131258  \n",
      "16       -0.559446 -0.034421  \n",
      "17        0.230234  0.015169  \n",
      "18        0.444965  0.031774  \n",
      "20       -0.146991 -0.010136  \n",
      "21       -0.088912 -0.005763  \n",
      "22        0.100445  0.006684  \n",
      "23       -1.328594 -0.089593  \n",
      "24       -1.110394 -0.074699  \n",
      "25        0.425668  0.029263  \n",
      "26        0.074672  0.005292  \n",
      "27       -0.371896 -0.023591  \n",
      "28        1.846904  0.131161  \n",
      "29        1.004276  0.072145  \n",
      "30       -1.558759 -0.104861  \n",
      "31        0.313558  0.020659  \n",
      "32        0.385855  0.023950  \n",
      "33       -1.781732 -0.108558  \n",
      "34       -0.027400 -0.001701  \n",
      "35        2.887387  0.198495  \n",
      "36       -1.139871 -0.073533  \n",
      "37        0.113622  0.007537  \n",
      "38       -0.371896 -0.023591  \n",
      "39       -0.909481 -0.055413  \n",
      "41        0.279644  0.018208  \n",
      "43        0.225138  0.015146  \n",
      "44       -1.781732 -0.108558  \n",
      "45        0.045406  0.002767  \n",
      "46        0.966806  0.063699  \n",
      "47        2.306729  0.139013  \n",
      "48        1.663826  0.117381  \n",
      "49       -0.431618 -0.026790  \n",
      "51        2.997842  0.201161  \n",
      "52       -0.407424 -0.027713  \n",
      "54       -0.626309 -0.040780  \n",
      "55        0.827411  0.060643  \n",
      "56       -0.107509 -0.007000  \n",
      "57        0.063180  0.003577  \n",
      "58        2.954912  0.200165  \n",
      "59       -1.573137 -0.090810  \n",
      "60        0.028128  0.001942  \n",
      "61       -0.312873 -0.020819  \n",
      "62        0.034116  0.002256  \n",
      "63       -0.092368 -0.006146  \n",
      "64        0.232041  0.015872  \n",
      "66        1.343168  0.091877  \n",
      "68       -1.222055 -0.075852  \n",
      "69       -0.521162 -0.031754  \n",
      "70        2.994339  0.187336  \n",
      "71       -1.005613 -0.066012  \n",
      "72        0.791897  0.049902  \n",
      "73        2.467512  0.185198  \n",
      "74       -0.087877 -0.005538  \n",
      "75        1.369606  0.096208  \n",
      "76       -0.211170 -0.013307  \n",
      "77       -0.275231 -0.018644  \n",
      "78       -1.283219 -0.080864  \n",
      "79        0.386826  0.024538  \n",
      "80       -0.211862 -0.012908  \n",
      "81        0.323195  0.022027  \n",
      "82       -0.285275 -0.018308  \n",
      "83        0.408150  0.026792  \n",
      "84        1.149217  0.077676  \n",
      "85       -0.325411 -0.021717  \n",
      "86       -0.058957 -0.003689  \n",
      "87       -0.226700 -0.016247  \n",
      "88       -0.239149 -0.015637  \n",
      "89       -0.396951 -0.024423  \n",
      "91        0.857601  0.057966  \n",
      "92        0.362981  0.023634  \n",
      "93       -0.088912 -0.005763  \n",
      "94       -0.178048 -0.012086  \n",
      "95       -0.320351 -0.022461  \n",
      "96        0.201685  0.013379  \n",
      "97       -0.675881 -0.044531  \n",
      "98       -0.104896 -0.007000  \n",
      "99        3.173021  0.204691  \n",
      "100       0.970334  0.066909  \n",
      "101      -0.202638 -0.014150  \n",
      "102       0.225138  0.015146  \n",
      "104      -0.415875 -0.028343  \n",
      "105      -0.285275 -0.018308  \n",
      "106      -0.702982 -0.042832  \n",
      "107       0.184317  0.012746  \n",
      "109      -0.014810 -0.001070  \n",
      "110       0.274114  0.017494  \n",
      "111       0.121510  0.008213  \n",
      "112      -0.182241 -0.011402  \n",
      "113       0.055174  0.003452  \n",
      "114       0.379938  0.026782  \n",
      "115       0.831013  0.052714  \n",
      "116      -1.335083 -0.085203  \n",
      "117       2.964952  0.200403  \n",
      "118      -0.234505 -0.015736  \n",
      "119      -0.532227 -0.037242  \n",
      "120      -0.660319 -0.043346  \n",
      "121      -0.398634 -0.027061  \n",
      "122       1.920606  0.130377  \n",
      "123       0.499403  0.033755  \n",
      "124      -0.566433 -0.036352  \n",
      "125       0.599991  0.038291  \n",
      "126      -0.729156 -0.046795  \n",
      "127       0.856900  0.052210  \n",
      "128      -0.183215 -0.011819  \n",
      "129      -1.043714 -0.065771  \n",
      "130      -0.521162 -0.031754  \n",
      "131      -1.148500 -0.069976  \n",
      "132       0.450137  0.032106  \n",
      "133      -1.105690 -0.066633  \n",
      "134      -1.225183 -0.070724  \n",
      "135       1.167320  0.076911  \n",
      "136       0.523293  0.036725  \n",
      "138       0.315076  0.022841  \n",
      "139      -0.594155 -0.036879  \n",
      "140      -0.518879 -0.032914  \n",
      "141      -0.284715 -0.017672  \n",
      "142      -0.702982 -0.042832  \n",
      "143      -0.530915 -0.036113  \n",
      "144       0.152997  0.010465  \n",
      "145      -0.203396 -0.013888  \n",
      "146       0.037210  0.002400  \n",
      "147       2.643080  0.177805  \n",
      "148      -0.654817 -0.041264  \n",
      "149      -1.358215 -0.087166  \n",
      "150      -0.880746 -0.058605  \n",
      "151      -0.311474 -0.021795  \n",
      "152      -2.078597 -0.156386  \n",
      "153       0.313558  0.020659  \n",
      "154      -0.909481 -0.055413  \n",
      "155      -0.087877 -0.005538  \n",
      "156       1.827243  0.111331  \n",
      "157      -1.945545 -0.123412  \n",
      "159      -1.743488 -0.122241  \n",
      "160      -1.148500 -0.069976  \n",
      "161      -1.547714 -0.103854  \n",
      "162      -0.394500 -0.025992  \n",
      "164       1.135583  0.076200  \n",
      "166      -1.432312 -0.087269  \n",
      "167      -0.332401 -0.022814  \n",
      "168      -1.432312 -0.087269  \n",
      "169       0.592183  0.040359  \n",
      "170       0.045406  0.002767  \n",
      "171       0.377966  0.024990  \n",
      "172      -1.148500 -0.069976  \n",
      "173       2.770167  0.193433  \n",
      "174       0.724477  0.051069  \n",
      "175      -0.620630 -0.043086  \n",
      "176      -0.770446 -0.049941  \n",
      "177       0.539658  0.035556  \n",
      "178      -0.185480 -0.012304  \n",
      "179       1.438112  0.095395  \n",
      "180       0.737097  0.048565  \n",
      "181      -0.539375 -0.036760  \n",
      "182       2.016319  0.143096  \n",
      "183       0.575041  0.038778  \n",
      "184      -0.893347 -0.059619  \n",
      "185      -1.212182 -0.083461  \n",
      "186      -1.140516 -0.077258  \n",
      "187      -0.139112 -0.008878  \n",
      "188       0.077514  0.005293  \n",
      "189       1.101056  0.068341  \n",
      "190      -0.316251 -0.019059  \n",
      "191      -0.262426 -0.016748  \n",
      "192      -0.613306 -0.043693  \n",
      "193       1.391447  0.089762  \n",
      "194      -0.521162 -0.031754  \n",
      "195       0.856900  0.052210  \n",
      "196       0.313558  0.020659  \n",
      "197      -0.770446 -0.049941  \n",
      "198      -0.853525 -0.056432  \n",
      "199      -0.741329 -0.045611  \n",
      "200       0.113622  0.007537  \n",
      "201       0.734847  0.051078  \n",
      "202       1.134852  0.079929  \n",
      "204       0.731369  0.048946  \n",
      "206       0.045406  0.002767  \n",
      "207      -0.024967 -0.001593  \n",
      "208      -0.440692 -0.028429  \n",
      "209       0.983108  0.070315  \n",
      "210       0.828105  0.058325  \n",
      "212      -2.887751 -0.175946  \n",
      "213      -1.118413 -0.071776  \n",
      "214      -0.492202 -0.031017  \n",
      "215       0.680296  0.042562  \n",
      "216      -0.785062 -0.053063  \n",
      "217      -1.432312 -0.087269  \n",
      "218      -0.050639 -0.003336  \n",
      "219      -2.699109 -0.183224  \n",
      "220      -1.783686 -0.118319  \n",
      "221      -0.358711 -0.021856  \n",
      "222      -0.512959 -0.034748  \n",
      "223       1.334236  0.098499  \n",
      "224       0.705125  0.049340  \n",
      "225       0.331230  0.022905  \n",
      "226       0.224498  0.015383  \n",
      "227       0.058466  0.003752  \n",
      "229       0.781969  0.054419  \n",
      "230      -0.702982 -0.042832  \n",
      "231       0.186157  0.012637  \n",
      "232      -0.002426 -0.000165  \n",
      "234       0.458717  0.027949  \n",
      "235      -0.285785 -0.018895  \n",
      "236       0.214757  0.014482  \n",
      "237      -0.211988 -0.014834  \n",
      "238      -1.348309 -0.091334  \n",
      "239       0.974047  0.066384  \n",
      "240       0.161436  0.010100  \n",
      "242      -0.069058 -0.004455  \n",
      "243      -0.702982 -0.042832  \n",
      "244       0.706030  0.046164  \n",
      "245      -0.984303 -0.067083  \n",
      "247       0.818565  0.050364  \n",
      "248      -0.463229 -0.028981  \n",
      "249      -0.448836 -0.029954  \n",
      "250      -0.250075 -0.015386  \n",
      "251      -0.371896 -0.023591  \n",
      "252      -0.806675 -0.052745  \n",
      "253       0.470198  0.029826  \n",
      "254       0.805302  0.052200  \n"
     ]
    }
   ],
   "source": [
    "infl = model1.get_influence()\n",
    "print(infl.summary_frame())"
   ]
  },
  {
   "cell_type": "code",
   "execution_count": null,
   "metadata": {},
   "outputs": [],
   "source": []
  }
 ],
 "metadata": {
  "kernelspec": {
   "display_name": "Python 3",
   "language": "python",
   "name": "python3"
  },
  "language_info": {
   "codemirror_mode": {
    "name": "ipython",
    "version": 3
   },
   "file_extension": ".py",
   "mimetype": "text/x-python",
   "name": "python",
   "nbconvert_exporter": "python",
   "pygments_lexer": "ipython3",
   "version": "3.8.3"
  }
 },
 "nbformat": 4,
 "nbformat_minor": 4
}
