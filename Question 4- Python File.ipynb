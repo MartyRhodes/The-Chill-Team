{
 "cells": [
  {
   "cell_type": "code",
   "execution_count": 5,
   "metadata": {},
   "outputs": [],
   "source": [
    "import pandas as pd\n",
    "import numpy as np\n",
    "import matplotlib.pyplot as plt\n",
    "from pylab import *\n",
    "import seaborn as sns\n",
    "%matplotlib inline\n",
    "import  statsmodels.api as sm\n",
    "import statsmodels.stats.api as sms\n",
    "from scipy import stats\n",
    "from scipy.stats import boxcox"
   ]
  },
  {
   "cell_type": "code",
   "execution_count": 6,
   "metadata": {},
   "outputs": [],
   "source": [
    "ASI_Base = pd.read_csv('C:/Users/matth/Desktop/Week-4-Analysis/ASI_Base.csv')"
   ]
  },
  {
   "cell_type": "code",
   "execution_count": 7,
   "metadata": {},
   "outputs": [
    {
     "data": {
      "text/html": [
       "<div>\n",
       "<style scoped>\n",
       "    .dataframe tbody tr th:only-of-type {\n",
       "        vertical-align: middle;\n",
       "    }\n",
       "\n",
       "    .dataframe tbody tr th {\n",
       "        vertical-align: top;\n",
       "    }\n",
       "\n",
       "    .dataframe thead th {\n",
       "        text-align: right;\n",
       "    }\n",
       "</style>\n",
       "<table border=\"1\" class=\"dataframe\">\n",
       "  <thead>\n",
       "    <tr style=\"text-align: right;\">\n",
       "      <th></th>\n",
       "      <th>Unnamed: 0</th>\n",
       "      <th>Year</th>\n",
       "      <th>Age</th>\n",
       "      <th>Gender</th>\n",
       "      <th>C1</th>\n",
       "      <th>C2</th>\n",
       "      <th>C3</th>\n",
       "      <th>C4</th>\n",
       "      <th>CTotal</th>\n",
       "      <th>DHEA</th>\n",
       "      <th>IF</th>\n",
       "      <th>INF</th>\n",
       "      <th>P17-OH</th>\n",
       "      <th>TotalIgA</th>\n",
       "      <th>GIgA</th>\n",
       "      <th>RandID</th>\n",
       "    </tr>\n",
       "  </thead>\n",
       "  <tbody>\n",
       "    <tr>\n",
       "      <th>0</th>\n",
       "      <td>0</td>\n",
       "      <td>10</td>\n",
       "      <td>42</td>\n",
       "      <td>F</td>\n",
       "      <td>19.0</td>\n",
       "      <td>6</td>\n",
       "      <td>4.0</td>\n",
       "      <td>5.0</td>\n",
       "      <td>34</td>\n",
       "      <td>1.0</td>\n",
       "      <td>3.0</td>\n",
       "      <td>3.0</td>\n",
       "      <td>49.0</td>\n",
       "      <td>5.0</td>\n",
       "      <td>23.0</td>\n",
       "      <td>9383480749</td>\n",
       "    </tr>\n",
       "    <tr>\n",
       "      <th>1</th>\n",
       "      <td>1</td>\n",
       "      <td>11</td>\n",
       "      <td>60</td>\n",
       "      <td>F</td>\n",
       "      <td>12.0</td>\n",
       "      <td>7</td>\n",
       "      <td>4.0</td>\n",
       "      <td>7.0</td>\n",
       "      <td>30</td>\n",
       "      <td>2.0</td>\n",
       "      <td>3.0</td>\n",
       "      <td>22.0</td>\n",
       "      <td>15.0</td>\n",
       "      <td>7.0</td>\n",
       "      <td>5.0</td>\n",
       "      <td>2705809722</td>\n",
       "    </tr>\n",
       "    <tr>\n",
       "      <th>2</th>\n",
       "      <td>2</td>\n",
       "      <td>14</td>\n",
       "      <td>49</td>\n",
       "      <td>F</td>\n",
       "      <td>11.0</td>\n",
       "      <td>1</td>\n",
       "      <td>1.0</td>\n",
       "      <td>1.0</td>\n",
       "      <td>14</td>\n",
       "      <td>3.0</td>\n",
       "      <td>3.0</td>\n",
       "      <td>3.0</td>\n",
       "      <td>30.0</td>\n",
       "      <td>5.0</td>\n",
       "      <td>1.0</td>\n",
       "      <td>517281238</td>\n",
       "    </tr>\n",
       "    <tr>\n",
       "      <th>3</th>\n",
       "      <td>3</td>\n",
       "      <td>14</td>\n",
       "      <td>35</td>\n",
       "      <td>F</td>\n",
       "      <td>12.0</td>\n",
       "      <td>3</td>\n",
       "      <td>6.0</td>\n",
       "      <td>1.0</td>\n",
       "      <td>22</td>\n",
       "      <td>6.0</td>\n",
       "      <td>15.0</td>\n",
       "      <td>18.0</td>\n",
       "      <td>33.0</td>\n",
       "      <td>16.0</td>\n",
       "      <td>4.0</td>\n",
       "      <td>2356075951</td>\n",
       "    </tr>\n",
       "    <tr>\n",
       "      <th>4</th>\n",
       "      <td>4</td>\n",
       "      <td>13</td>\n",
       "      <td>53</td>\n",
       "      <td>F</td>\n",
       "      <td>20.0</td>\n",
       "      <td>7</td>\n",
       "      <td>4.0</td>\n",
       "      <td>3.0</td>\n",
       "      <td>34</td>\n",
       "      <td>5.0</td>\n",
       "      <td>3.0</td>\n",
       "      <td>7.0</td>\n",
       "      <td>9.0</td>\n",
       "      <td>5.0</td>\n",
       "      <td>13.0</td>\n",
       "      <td>9137475714</td>\n",
       "    </tr>\n",
       "  </tbody>\n",
       "</table>\n",
       "</div>"
      ],
      "text/plain": [
       "   Unnamed: 0  Year  Age Gender    C1  C2   C3   C4  CTotal  DHEA    IF   INF  \\\n",
       "0           0    10   42      F  19.0   6  4.0  5.0      34   1.0   3.0   3.0   \n",
       "1           1    11   60      F  12.0   7  4.0  7.0      30   2.0   3.0  22.0   \n",
       "2           2    14   49      F  11.0   1  1.0  1.0      14   3.0   3.0   3.0   \n",
       "3           3    14   35      F  12.0   3  6.0  1.0      22   6.0  15.0  18.0   \n",
       "4           4    13   53      F  20.0   7  4.0  3.0      34   5.0   3.0   7.0   \n",
       "\n",
       "   P17-OH  TotalIgA  GIgA      RandID  \n",
       "0    49.0       5.0  23.0  9383480749  \n",
       "1    15.0       7.0   5.0  2705809722  \n",
       "2    30.0       5.0   1.0   517281238  \n",
       "3    33.0      16.0   4.0  2356075951  \n",
       "4     9.0       5.0  13.0  9137475714  "
      ]
     },
     "execution_count": 7,
     "metadata": {},
     "output_type": "execute_result"
    }
   ],
   "source": [
    "ASI_Base.head()"
   ]
  },
  {
   "cell_type": "code",
   "execution_count": 8,
   "metadata": {},
   "outputs": [],
   "source": [
    "ASI_Base1 = ASI_Base[['Age','C1','C2','C3','C4','CTotal','DHEA','P17-OH','TotalIgA','GIgA']]"
   ]
  },
  {
   "cell_type": "code",
   "execution_count": 9,
   "metadata": {},
   "outputs": [
    {
     "name": "stdout",
     "output_type": "stream",
     "text": [
      "<class 'pandas.core.frame.DataFrame'>\n",
      "RangeIndex: 255 entries, 0 to 254\n",
      "Data columns (total 10 columns):\n",
      " #   Column    Non-Null Count  Dtype  \n",
      "---  ------    --------------  -----  \n",
      " 0   Age       255 non-null    int64  \n",
      " 1   C1        252 non-null    float64\n",
      " 2   C2        255 non-null    int64  \n",
      " 3   C3        253 non-null    float64\n",
      " 4   C4        253 non-null    float64\n",
      " 5   CTotal    255 non-null    int64  \n",
      " 6   DHEA      250 non-null    float64\n",
      " 7   P17-OH    246 non-null    float64\n",
      " 8   TotalIgA  248 non-null    float64\n",
      " 9   GIgA      245 non-null    float64\n",
      "dtypes: float64(7), int64(3)\n",
      "memory usage: 20.0 KB\n"
     ]
    }
   ],
   "source": [
    "ASI_Base1.info()"
   ]
  },
  {
   "cell_type": "code",
   "execution_count": 10,
   "metadata": {},
   "outputs": [
    {
     "name": "stderr",
     "output_type": "stream",
     "text": [
      "<ipython-input-10-b376b54e3541>:1: SettingWithCopyWarning: \n",
      "A value is trying to be set on a copy of a slice from a DataFrame.\n",
      "Try using .loc[row_indexer,col_indexer] = value instead\n",
      "\n",
      "See the caveats in the documentation: https://pandas.pydata.org/pandas-docs/stable/user_guide/indexing.html#returning-a-view-versus-a-copy\n",
      "  ASI_Base1['Age'] = ASI_Base1['Age'].astype(int)\n"
     ]
    }
   ],
   "source": [
    "ASI_Base1['Age'] = ASI_Base1['Age'].astype(int)"
   ]
  },
  {
   "cell_type": "code",
   "execution_count": null,
   "metadata": {},
   "outputs": [],
   "source": []
  },
  {
   "cell_type": "code",
   "execution_count": 11,
   "metadata": {},
   "outputs": [
    {
     "name": "stderr",
     "output_type": "stream",
     "text": [
      "<ipython-input-11-a356c9faf015>:1: SettingWithCopyWarning: \n",
      "A value is trying to be set on a copy of a slice from a DataFrame\n",
      "\n",
      "See the caveats in the documentation: https://pandas.pydata.org/pandas-docs/stable/user_guide/indexing.html#returning-a-view-versus-a-copy\n",
      "  ASI_Base1.dropna(inplace=True)\n"
     ]
    }
   ],
   "source": [
    "ASI_Base1.dropna(inplace=True)"
   ]
  },
  {
   "cell_type": "code",
   "execution_count": 12,
   "metadata": {},
   "outputs": [
    {
     "name": "stderr",
     "output_type": "stream",
     "text": [
      "<ipython-input-12-a8058e978ca9>:1: SettingWithCopyWarning: \n",
      "A value is trying to be set on a copy of a slice from a DataFrame.\n",
      "Try using .loc[row_indexer,col_indexer] = value instead\n",
      "\n",
      "See the caveats in the documentation: https://pandas.pydata.org/pandas-docs/stable/user_guide/indexing.html#returning-a-view-versus-a-copy\n",
      "  ASI_Base1['C1'] = ASI_Base1['C1'].astype(int)\n"
     ]
    }
   ],
   "source": [
    "ASI_Base1['C1'] = ASI_Base1['C1'].astype(int)"
   ]
  },
  {
   "cell_type": "code",
   "execution_count": 13,
   "metadata": {},
   "outputs": [
    {
     "name": "stderr",
     "output_type": "stream",
     "text": [
      "<ipython-input-13-dc636da5e3d6>:1: SettingWithCopyWarning: \n",
      "A value is trying to be set on a copy of a slice from a DataFrame.\n",
      "Try using .loc[row_indexer,col_indexer] = value instead\n",
      "\n",
      "See the caveats in the documentation: https://pandas.pydata.org/pandas-docs/stable/user_guide/indexing.html#returning-a-view-versus-a-copy\n",
      "  ASI_Base1['C2'] = ASI_Base1['C2'].astype(int)\n"
     ]
    }
   ],
   "source": [
    "ASI_Base1['C2'] = ASI_Base1['C2'].astype(int)"
   ]
  },
  {
   "cell_type": "code",
   "execution_count": 14,
   "metadata": {},
   "outputs": [
    {
     "name": "stderr",
     "output_type": "stream",
     "text": [
      "<ipython-input-14-d6a77880bdf9>:1: SettingWithCopyWarning: \n",
      "A value is trying to be set on a copy of a slice from a DataFrame.\n",
      "Try using .loc[row_indexer,col_indexer] = value instead\n",
      "\n",
      "See the caveats in the documentation: https://pandas.pydata.org/pandas-docs/stable/user_guide/indexing.html#returning-a-view-versus-a-copy\n",
      "  ASI_Base1['C3'] = ASI_Base1['C3'].astype(int)\n"
     ]
    }
   ],
   "source": [
    "ASI_Base1['C3'] = ASI_Base1['C3'].astype(int)"
   ]
  },
  {
   "cell_type": "code",
   "execution_count": 15,
   "metadata": {},
   "outputs": [
    {
     "name": "stderr",
     "output_type": "stream",
     "text": [
      "<ipython-input-15-c06d5fb40014>:1: SettingWithCopyWarning: \n",
      "A value is trying to be set on a copy of a slice from a DataFrame.\n",
      "Try using .loc[row_indexer,col_indexer] = value instead\n",
      "\n",
      "See the caveats in the documentation: https://pandas.pydata.org/pandas-docs/stable/user_guide/indexing.html#returning-a-view-versus-a-copy\n",
      "  ASI_Base1['C4'] = ASI_Base1['C4'].astype(int)\n"
     ]
    }
   ],
   "source": [
    "ASI_Base1['C4'] = ASI_Base1['C4'].astype(int)"
   ]
  },
  {
   "cell_type": "code",
   "execution_count": 16,
   "metadata": {},
   "outputs": [
    {
     "name": "stderr",
     "output_type": "stream",
     "text": [
      "<ipython-input-16-ed5c79bf6909>:1: SettingWithCopyWarning: \n",
      "A value is trying to be set on a copy of a slice from a DataFrame.\n",
      "Try using .loc[row_indexer,col_indexer] = value instead\n",
      "\n",
      "See the caveats in the documentation: https://pandas.pydata.org/pandas-docs/stable/user_guide/indexing.html#returning-a-view-versus-a-copy\n",
      "  ASI_Base1['CTotal'] = ASI_Base1['CTotal'].astype(int)\n"
     ]
    }
   ],
   "source": [
    "ASI_Base1['CTotal'] = ASI_Base1['CTotal'].astype(int)"
   ]
  },
  {
   "cell_type": "code",
   "execution_count": 17,
   "metadata": {},
   "outputs": [
    {
     "name": "stderr",
     "output_type": "stream",
     "text": [
      "<ipython-input-17-2a892db57b1d>:1: SettingWithCopyWarning: \n",
      "A value is trying to be set on a copy of a slice from a DataFrame.\n",
      "Try using .loc[row_indexer,col_indexer] = value instead\n",
      "\n",
      "See the caveats in the documentation: https://pandas.pydata.org/pandas-docs/stable/user_guide/indexing.html#returning-a-view-versus-a-copy\n",
      "  ASI_Base1['DHEA'] = ASI_Base1['DHEA'].astype(int)\n"
     ]
    }
   ],
   "source": [
    "ASI_Base1['DHEA'] = ASI_Base1['DHEA'].astype(int)"
   ]
  },
  {
   "cell_type": "code",
   "execution_count": 18,
   "metadata": {},
   "outputs": [
    {
     "name": "stderr",
     "output_type": "stream",
     "text": [
      "<ipython-input-18-2b637e77653c>:1: SettingWithCopyWarning: \n",
      "A value is trying to be set on a copy of a slice from a DataFrame.\n",
      "Try using .loc[row_indexer,col_indexer] = value instead\n",
      "\n",
      "See the caveats in the documentation: https://pandas.pydata.org/pandas-docs/stable/user_guide/indexing.html#returning-a-view-versus-a-copy\n",
      "  ASI_Base1['TotalIgA'] = ASI_Base1['TotalIgA'].astype(int)\n"
     ]
    }
   ],
   "source": [
    "ASI_Base1['TotalIgA'] = ASI_Base1['TotalIgA'].astype(int)"
   ]
  },
  {
   "cell_type": "code",
   "execution_count": 19,
   "metadata": {},
   "outputs": [
    {
     "name": "stderr",
     "output_type": "stream",
     "text": [
      "<ipython-input-19-1a4f1f14f081>:1: SettingWithCopyWarning: \n",
      "A value is trying to be set on a copy of a slice from a DataFrame.\n",
      "Try using .loc[row_indexer,col_indexer] = value instead\n",
      "\n",
      "See the caveats in the documentation: https://pandas.pydata.org/pandas-docs/stable/user_guide/indexing.html#returning-a-view-versus-a-copy\n",
      "  ASI_Base1['GIgA'] = ASI_Base1['GIgA'].astype(int)\n"
     ]
    }
   ],
   "source": [
    "ASI_Base1['GIgA'] = ASI_Base1['GIgA'].astype(int)"
   ]
  },
  {
   "cell_type": "code",
   "execution_count": 20,
   "metadata": {},
   "outputs": [
    {
     "name": "stderr",
     "output_type": "stream",
     "text": [
      "<ipython-input-20-82eb4a2b5b96>:1: SettingWithCopyWarning: \n",
      "A value is trying to be set on a copy of a slice from a DataFrame.\n",
      "Try using .loc[row_indexer,col_indexer] = value instead\n",
      "\n",
      "See the caveats in the documentation: https://pandas.pydata.org/pandas-docs/stable/user_guide/indexing.html#returning-a-view-versus-a-copy\n",
      "  ASI_Base1['AgeLOG'] = np.log(ASI_Base1['Age'])\n"
     ]
    }
   ],
   "source": [
    "ASI_Base1['AgeLOG'] = np.log(ASI_Base1['Age'])"
   ]
  },
  {
   "cell_type": "code",
   "execution_count": null,
   "metadata": {},
   "outputs": [],
   "source": []
  },
  {
   "cell_type": "code",
   "execution_count": 21,
   "metadata": {},
   "outputs": [
    {
     "name": "stderr",
     "output_type": "stream",
     "text": [
      "<ipython-input-21-a356c9faf015>:1: SettingWithCopyWarning: \n",
      "A value is trying to be set on a copy of a slice from a DataFrame\n",
      "\n",
      "See the caveats in the documentation: https://pandas.pydata.org/pandas-docs/stable/user_guide/indexing.html#returning-a-view-versus-a-copy\n",
      "  ASI_Base1.dropna(inplace=True)\n"
     ]
    }
   ],
   "source": [
    "ASI_Base1.dropna(inplace=True)"
   ]
  },
  {
   "cell_type": "code",
   "execution_count": 22,
   "metadata": {},
   "outputs": [
    {
     "name": "stderr",
     "output_type": "stream",
     "text": [
      "<ipython-input-22-01212e7c04a5>:1: SettingWithCopyWarning: \n",
      "A value is trying to be set on a copy of a slice from a DataFrame.\n",
      "Try using .loc[row_indexer,col_indexer] = value instead\n",
      "\n",
      "See the caveats in the documentation: https://pandas.pydata.org/pandas-docs/stable/user_guide/indexing.html#returning-a-view-versus-a-copy\n",
      "  ASI_Base1['P17-OH'] = ASI_Base1['P17-OH'].astype(int)\n"
     ]
    }
   ],
   "source": [
    "ASI_Base1['P17-OH'] = ASI_Base1['P17-OH'].astype(int)"
   ]
  },
  {
   "cell_type": "code",
   "execution_count": 23,
   "metadata": {},
   "outputs": [
    {
     "name": "stderr",
     "output_type": "stream",
     "text": [
      "<ipython-input-23-65a2d0cb5955>:1: SettingWithCopyWarning: \n",
      "A value is trying to be set on a copy of a slice from a DataFrame.\n",
      "Try using .loc[row_indexer,col_indexer] = value instead\n",
      "\n",
      "See the caveats in the documentation: https://pandas.pydata.org/pandas-docs/stable/user_guide/indexing.html#returning-a-view-versus-a-copy\n",
      "  ASI_Base1['P17-OHLOG'] = np.log(ASI_Base1['P17-OH'])\n"
     ]
    }
   ],
   "source": [
    "ASI_Base1['P17-OHLOG'] = np.log(ASI_Base1['P17-OH'])"
   ]
  },
  {
   "cell_type": "code",
   "execution_count": 24,
   "metadata": {},
   "outputs": [
    {
     "name": "stderr",
     "output_type": "stream",
     "text": [
      "<ipython-input-24-f0e000572cef>:1: SettingWithCopyWarning: \n",
      "A value is trying to be set on a copy of a slice from a DataFrame.\n",
      "Try using .loc[row_indexer,col_indexer] = value instead\n",
      "\n",
      "See the caveats in the documentation: https://pandas.pydata.org/pandas-docs/stable/user_guide/indexing.html#returning-a-view-versus-a-copy\n",
      "  ASI_Base1['CTotalLOG'] = np.log(ASI_Base1['CTotal'])\n"
     ]
    }
   ],
   "source": [
    "ASI_Base1['CTotalLOG'] = np.log(ASI_Base1['CTotal'])"
   ]
  },
  {
   "cell_type": "code",
   "execution_count": 25,
   "metadata": {},
   "outputs": [
    {
     "name": "stderr",
     "output_type": "stream",
     "text": [
      "<ipython-input-25-dfba8c20e9b6>:1: SettingWithCopyWarning: \n",
      "A value is trying to be set on a copy of a slice from a DataFrame.\n",
      "Try using .loc[row_indexer,col_indexer] = value instead\n",
      "\n",
      "See the caveats in the documentation: https://pandas.pydata.org/pandas-docs/stable/user_guide/indexing.html#returning-a-view-versus-a-copy\n",
      "  ASI_Base1['C1LOG'] = np.log(ASI_Base1['C1'])\n"
     ]
    }
   ],
   "source": [
    "ASI_Base1['C1LOG'] = np.log(ASI_Base1['C1'])"
   ]
  },
  {
   "cell_type": "code",
   "execution_count": 26,
   "metadata": {},
   "outputs": [
    {
     "name": "stderr",
     "output_type": "stream",
     "text": [
      "<ipython-input-26-b737bbb80e3d>:1: SettingWithCopyWarning: \n",
      "A value is trying to be set on a copy of a slice from a DataFrame.\n",
      "Try using .loc[row_indexer,col_indexer] = value instead\n",
      "\n",
      "See the caveats in the documentation: https://pandas.pydata.org/pandas-docs/stable/user_guide/indexing.html#returning-a-view-versus-a-copy\n",
      "  ASI_Base1['C2LOG'] = np.log(ASI_Base1['C2'])\n"
     ]
    }
   ],
   "source": [
    "ASI_Base1['C2LOG'] = np.log(ASI_Base1['C2'])"
   ]
  },
  {
   "cell_type": "code",
   "execution_count": 27,
   "metadata": {},
   "outputs": [
    {
     "name": "stderr",
     "output_type": "stream",
     "text": [
      "<ipython-input-27-0b10d1238f9b>:1: SettingWithCopyWarning: \n",
      "A value is trying to be set on a copy of a slice from a DataFrame.\n",
      "Try using .loc[row_indexer,col_indexer] = value instead\n",
      "\n",
      "See the caveats in the documentation: https://pandas.pydata.org/pandas-docs/stable/user_guide/indexing.html#returning-a-view-versus-a-copy\n",
      "  ASI_Base1['C3LOG'] = np.log(ASI_Base1['C3'])\n"
     ]
    }
   ],
   "source": [
    "ASI_Base1['C3LOG'] = np.log(ASI_Base1['C3'])"
   ]
  },
  {
   "cell_type": "code",
   "execution_count": 28,
   "metadata": {},
   "outputs": [
    {
     "name": "stderr",
     "output_type": "stream",
     "text": [
      "<ipython-input-28-2b8eed9576de>:1: SettingWithCopyWarning: \n",
      "A value is trying to be set on a copy of a slice from a DataFrame.\n",
      "Try using .loc[row_indexer,col_indexer] = value instead\n",
      "\n",
      "See the caveats in the documentation: https://pandas.pydata.org/pandas-docs/stable/user_guide/indexing.html#returning-a-view-versus-a-copy\n",
      "  ASI_Base1['C4LOG'] = np.log(ASI_Base1['C4'])\n"
     ]
    }
   ],
   "source": [
    "ASI_Base1['C4LOG'] = np.log(ASI_Base1['C4'])"
   ]
  },
  {
   "cell_type": "code",
   "execution_count": 29,
   "metadata": {},
   "outputs": [
    {
     "name": "stderr",
     "output_type": "stream",
     "text": [
      "<ipython-input-29-bb71ae7ed462>:1: SettingWithCopyWarning: \n",
      "A value is trying to be set on a copy of a slice from a DataFrame.\n",
      "Try using .loc[row_indexer,col_indexer] = value instead\n",
      "\n",
      "See the caveats in the documentation: https://pandas.pydata.org/pandas-docs/stable/user_guide/indexing.html#returning-a-view-versus-a-copy\n",
      "  ASI_Base1['DHEALOG'] = np.log(ASI_Base1['DHEA'])\n"
     ]
    }
   ],
   "source": [
    "ASI_Base1['DHEALOG'] = np.log(ASI_Base1['DHEA'])"
   ]
  },
  {
   "cell_type": "code",
   "execution_count": 30,
   "metadata": {},
   "outputs": [
    {
     "name": "stderr",
     "output_type": "stream",
     "text": [
      "<ipython-input-30-e7d2545c3af0>:1: SettingWithCopyWarning: \n",
      "A value is trying to be set on a copy of a slice from a DataFrame.\n",
      "Try using .loc[row_indexer,col_indexer] = value instead\n",
      "\n",
      "See the caveats in the documentation: https://pandas.pydata.org/pandas-docs/stable/user_guide/indexing.html#returning-a-view-versus-a-copy\n",
      "  ASI_Base1['TotalIgALOG'] = np.log(ASI_Base1['TotalIgA'])\n"
     ]
    }
   ],
   "source": [
    "ASI_Base1['TotalIgALOG'] = np.log(ASI_Base1['TotalIgA'])"
   ]
  },
  {
   "cell_type": "code",
   "execution_count": 31,
   "metadata": {},
   "outputs": [
    {
     "name": "stderr",
     "output_type": "stream",
     "text": [
      "<ipython-input-31-2e424a379487>:1: SettingWithCopyWarning: \n",
      "A value is trying to be set on a copy of a slice from a DataFrame.\n",
      "Try using .loc[row_indexer,col_indexer] = value instead\n",
      "\n",
      "See the caveats in the documentation: https://pandas.pydata.org/pandas-docs/stable/user_guide/indexing.html#returning-a-view-versus-a-copy\n",
      "  ASI_Base1['GIgALOG'] = np.log(ASI_Base1['GIgA'])\n"
     ]
    }
   ],
   "source": [
    "ASI_Base1['GIgALOG'] = np.log(ASI_Base1['GIgA'])"
   ]
  },
  {
   "cell_type": "code",
   "execution_count": 32,
   "metadata": {},
   "outputs": [
    {
     "name": "stdout",
     "output_type": "stream",
     "text": [
      "<class 'pandas.core.frame.DataFrame'>\n",
      "Int64Index: 233 entries, 0 to 254\n",
      "Data columns (total 20 columns):\n",
      " #   Column       Non-Null Count  Dtype  \n",
      "---  ------       --------------  -----  \n",
      " 0   Age          233 non-null    int32  \n",
      " 1   C1           233 non-null    int32  \n",
      " 2   C2           233 non-null    int32  \n",
      " 3   C3           233 non-null    int32  \n",
      " 4   C4           233 non-null    int32  \n",
      " 5   CTotal       233 non-null    int32  \n",
      " 6   DHEA         233 non-null    int32  \n",
      " 7   P17-OH       233 non-null    int32  \n",
      " 8   TotalIgA     233 non-null    int32  \n",
      " 9   GIgA         233 non-null    int32  \n",
      " 10  AgeLOG       233 non-null    float64\n",
      " 11  P17-OHLOG    233 non-null    float64\n",
      " 12  CTotalLOG    233 non-null    float64\n",
      " 13  C1LOG        233 non-null    float64\n",
      " 14  C2LOG        233 non-null    float64\n",
      " 15  C3LOG        233 non-null    float64\n",
      " 16  C4LOG        233 non-null    float64\n",
      " 17  DHEALOG      233 non-null    float64\n",
      " 18  TotalIgALOG  233 non-null    float64\n",
      " 19  GIgALOG      233 non-null    float64\n",
      "dtypes: float64(10), int32(10)\n",
      "memory usage: 29.1 KB\n"
     ]
    }
   ],
   "source": [
    "ASI_Base1.info()"
   ]
  },
  {
   "cell_type": "code",
   "execution_count": null,
   "metadata": {},
   "outputs": [],
   "source": []
  },
  {
   "cell_type": "code",
   "execution_count": 33,
   "metadata": {},
   "outputs": [
    {
     "data": {
      "text/plain": [
       "<matplotlib.axes._subplots.AxesSubplot at 0xa114250>"
      ]
     },
     "execution_count": 33,
     "metadata": {},
     "output_type": "execute_result"
    },
    {
     "data": {
      "image/png": "[encoded data removed]",
      "text/plain": [
       "<Figure size 432x288 with 1 Axes>"
      ]
     },
     "metadata": {
      "needs_background": "light"
     },
     "output_type": "display_data"
    }
   ],
   "source": [
    "sns.distplot(ASI_Base1['C1LOG'])"
   ]
  },
  {
   "cell_type": "code",
   "execution_count": 34,
   "metadata": {},
   "outputs": [
    {
     "data": {
      "text/plain": [
       "<matplotlib.axes._subplots.AxesSubplot at 0x52abe20>"
      ]
     },
     "execution_count": 34,
     "metadata": {},
     "output_type": "execute_result"
    },
    {
     "data": {
      "image/png": "[encoded data removed]",
      "text/plain": [
       "<Figure size 432x288 with 1 Axes>"
      ]
     },
     "metadata": {
      "needs_background": "light"
     },
     "output_type": "display_data"
    }
   ],
   "source": [
    "sns.distplot(ASI_Base1['C2LOG'])"
   ]
  },
  {
   "cell_type": "code",
   "execution_count": 35,
   "metadata": {},
   "outputs": [
    {
     "data": {
      "text/plain": [
       "<matplotlib.axes._subplots.AxesSubplot at 0x7577d48>"
      ]
     },
     "execution_count": 35,
     "metadata": {},
     "output_type": "execute_result"
    },
    {
     "data": {
      "image/png": "[encoded data removed]",
      "text/plain": [
       "<Figure size 432x288 with 1 Axes>"
      ]
     },
     "metadata": {
      "needs_background": "light"
     },
     "output_type": "display_data"
    }
   ],
   "source": [
    "sns.distplot(ASI_Base1['C3LOG'])"
   ]
  },
  {
   "cell_type": "code",
   "execution_count": 36,
   "metadata": {},
   "outputs": [
    {
     "data": {
      "text/plain": [
       "<matplotlib.axes._subplots.AxesSubplot at 0x75ba7f0>"
      ]
     },
     "execution_count": 36,
     "metadata": {},
     "output_type": "execute_result"
    },
    {
     "data": {
      "image/png": "[encoded data removed]",
      "text/plain": [
       "<Figure size 432x288 with 1 Axes>"
      ]
     },
     "metadata": {
      "needs_background": "light"
     },
     "output_type": "display_data"
    }
   ],
   "source": [
    "sns.distplot(ASI_Base1['C4LOG'])"
   ]
  },
  {
   "cell_type": "code",
   "execution_count": 37,
   "metadata": {},
   "outputs": [
    {
     "data": {
      "text/plain": [
       "<matplotlib.axes._subplots.AxesSubplot at 0x7610bf8>"
      ]
     },
     "execution_count": 37,
     "metadata": {},
     "output_type": "execute_result"
    },
    {
     "data": {
      "image/png": "[encoded data removed]",
      "text/plain": [
       "<Figure size 432x288 with 1 Axes>"
      ]
     },
     "metadata": {
      "needs_background": "light"
     },
     "output_type": "display_data"
    }
   ],
   "source": [
    "sns.distplot(ASI_Base1['CTotalLOG'])"
   ]
  },
  {
   "cell_type": "code",
   "execution_count": 38,
   "metadata": {},
   "outputs": [
    {
     "data": {
      "text/plain": [
       "<matplotlib.axes._subplots.AxesSubplot at 0x761c280>"
      ]
     },
     "execution_count": 38,
     "metadata": {},
     "output_type": "execute_result"
    },
    {
     "data": {
      "image/png": "[encoded data removed]",
      "text/plain": [
       "<Figure size 432x288 with 1 Axes>"
      ]
     },
     "metadata": {
      "needs_background": "light"
     },
     "output_type": "display_data"
    }
   ],
   "source": [
    "sns.distplot(ASI_Base1['DHEALOG'])"
   ]
  },
  {
   "cell_type": "code",
   "execution_count": 39,
   "metadata": {},
   "outputs": [
    {
     "data": {
      "text/plain": [
       "<matplotlib.axes._subplots.AxesSubplot at 0xa19b220>"
      ]
     },
     "execution_count": 39,
     "metadata": {},
     "output_type": "execute_result"
    },
    {
     "data": {
      "image/png": "[encoded data removed]",
      "text/plain": [
       "<Figure size 432x288 with 1 Axes>"
      ]
     },
     "metadata": {
      "needs_background": "light"
     },
     "output_type": "display_data"
    }
   ],
   "source": [
    "sns.distplot(ASI_Base1['P17-OHLOG'])"
   ]
  },
  {
   "cell_type": "code",
   "execution_count": 40,
   "metadata": {},
   "outputs": [
    {
     "data": {
      "text/plain": [
       "<matplotlib.axes._subplots.AxesSubplot at 0xa1e6ad8>"
      ]
     },
     "execution_count": 40,
     "metadata": {},
     "output_type": "execute_result"
    },
    {
     "data": {
      "image/png": "[encoded data removed]",
      "text/plain": [
       "<Figure size 432x288 with 1 Axes>"
      ]
     },
     "metadata": {
      "needs_background": "light"
     },
     "output_type": "display_data"
    }
   ],
   "source": [
    "sns.distplot(ASI_Base1['TotalIgALOG'])"
   ]
  },
  {
   "cell_type": "code",
   "execution_count": 41,
   "metadata": {},
   "outputs": [
    {
     "data": {
      "text/plain": [
       "<matplotlib.axes._subplots.AxesSubplot at 0xa22dc70>"
      ]
     },
     "execution_count": 41,
     "metadata": {},
     "output_type": "execute_result"
    },
    {
     "data": {
      "image/png": "[encoded data removed]",
      "text/plain": [
       "<Figure size 432x288 with 1 Axes>"
      ]
     },
     "metadata": {
      "needs_background": "light"
     },
     "output_type": "display_data"
    }
   ],
   "source": [
    "sns.distplot(ASI_Base1['GIgALOG'])"
   ]
  },
  {
   "cell_type": "code",
   "execution_count": 64,
   "metadata": {},
   "outputs": [
    {
     "data": {
      "text/plain": [
       "<matplotlib.axes._subplots.AxesSubplot at 0x5c79598>"
      ]
     },
     "execution_count": 64,
     "metadata": {},
     "output_type": "execute_result"
    },
    {
     "data": {
      "image/png": "[encoded data removed]",
      "text/plain": [
       "<Figure size 432x288 with 1 Axes>"
      ]
     },
     "metadata": {
      "needs_background": "light"
     },
     "output_type": "display_data"
    }
   ],
   "source": [
    "sns.distplot(ASI_Base1['Age'])"
   ]
  },
  {
   "cell_type": "code",
   "execution_count": null,
   "metadata": {},
   "outputs": [],
   "source": []
  },
  {
   "cell_type": "code",
   "execution_count": 42,
   "metadata": {},
   "outputs": [
    {
     "name": "stdout",
     "output_type": "stream",
     "text": [
      "     Age   C1   C2   C3   C4  CTotal  DHEA  P17-OH  TotalIgA  GIgA    AgeLOG  \\\n",
      "0     42   19    6    4    5      34     1      49         5    23  3.737670   \n",
      "1     60   12    7    4    7      30     2      15         7     5  4.094345   \n",
      "2     49   11    1    1    1      14     3      30         5     1  3.891820   \n",
      "3     35   12    3    6    1      22     6      33        16     4  3.555348   \n",
      "4     53   20    7    4    3      34     5       9         5    13  3.970292   \n",
      "5     53   21    6    7    2      36     2      29        16    10  3.970292   \n",
      "6     55   19    8   12    8      47     4      28         9     5  4.007333   \n",
      "7     56   13    5    3    6      27     4      18         6     3  4.025352   \n",
      "8     24   22    5    5    3      35     3      17        13     6  3.178054   \n",
      "9     55   11    7   13    6      37     7      15        10     6  4.007333   \n",
      "11    55    7    3    3   11      24     2      16         6    12  4.007333   \n",
      "12    46   14    4    3    2      23     3      26        11    12  3.828641   \n",
      "13    57   16    9    5    5      35     5      27         9     3  4.043051   \n",
      "14    46   12    5    3    2      22     2      15         5     2  3.828641   \n",
      "15    50    5    3    2    1      11     2      43        11    21  3.912023   \n",
      "16    68    9    6    9    3      27     4      16         8    30  4.219508   \n",
      "17    28   18    6    5    3      32     3      28         5     8  3.332205   \n",
      "18    56   26    5    9    8      48     2      87         7     5  4.025352   \n",
      "20    35   16    7    5   16      44     3      48         5     8  3.555348   \n",
      "21    49   14    7    5    6      32     4      24        18    17  3.891820   \n",
      "22    39   17    4    3    3      27     3      31         5     5  3.663562   \n",
      "23    60    7    4    5    5      21    14      36        12    10  4.094345   \n",
      "24    27    8    4    3    2      17     3      35         5     3  3.295837   \n",
      "25    59   23    8    5    5      41     5      46         5     8  4.077537   \n",
      "26    43   20    6    5    3      34     7      75         6     8  3.761200   \n",
      "27    54   11    5    8    5      29     3      20         5     6  3.988984   \n",
      "28    28   63   15   11    3      92     8      78        16     2  3.332205   \n",
      "29    33   38   13    9    7      67    10      99         7     5  3.496508   \n",
      "30    57    6    3    2    3      14     5      35        26    35  4.043051   \n",
      "31    41   19   10    6    3      38    11      28        15    53  3.713572   \n",
      "32    57   17    6    6    4      33     4      17         8    12  4.043051   \n",
      "33    79    4  110   30    8     152     1      15         5    15  4.369448   \n",
      "34    31   13    6    7    2      28     3      17         5     1  3.433987   \n",
      "35    46  110   45  110   40     305     7      46         6     3  3.828641   \n",
      "36    53    7    3    3    2      15     1      23         5     1  3.970292   \n",
      "37    60   17   11    7    5      40     2      30         7    12  4.094345   \n",
      "38    69   11    4    3    4      22     4      20         5    11  4.234107   \n",
      "39    34    7    7    5    4      23     6      15         5     6  3.526361   \n",
      "41    52   18    5    4    3      30     4      25         5     3  3.951244   \n",
      "43    34   19   12    8   16      55    10      35        15     4  3.526361   \n",
      "44    54    4    4    4   30      42     4      15         5    12  3.988984   \n",
      "45    53   13   11    8    9      41     4      15        10    21  3.970292   \n",
      "46    45   29    9    7    3      48     5      28         5     4  3.806662   \n",
      "47    55   54   13   14    7      88     3      14         5    24  4.007333   \n",
      "48    71   55  120  120  120     415     3      69        50    56  4.262680   \n",
      "49    46   10    4    3    2      19     2      17         5     3  3.828641   \n",
      "51    59  110   33   34  110     287     2      34         6     9  4.077537   \n",
      "52    49   13    6    3    1      23     5      40        60     2  3.891820   \n",
      "54    68   10    4    3    3      20     3      25        12    13  4.219508   \n",
      "55    58   36   29   16    7      88     7     167        11    15  4.060443   \n",
      "56    47   14    4    3    2      23     8      25         9     6  3.850148   \n",
      "57    67   11    5    4    3      23     3      10        14     3  4.204693   \n",
      "58    51  110  110  110  110     440     4      38         5     3  3.931826   \n",
      "59    59    4    5    3    4      16     5      11         6     6  4.077537   \n",
      "60    49   18   17    5    7      47     4      49         9     3  3.891820   \n",
      "61    55   13   11    9    9      42     6      31         5    15  4.007333   \n",
      "62    59   16    7    5    6      34     2      29         5     7  4.077537   \n",
      "63    31   15    5    3    7      30     4      31         5     1  3.433987   \n",
      "64    45   20    6    4    2      32     5      43        16     6  3.806662   \n",
      "66    23   41    7    4   44      96     4      43         5     2  3.135494   \n",
      "68    52    6    3    5    9      23     4      17         6     6  3.951244   \n",
      "69    53    9    7    7    4      27     4      15        12     7  3.970292   \n",
      "70    69   91   22   93   54     260     8      18        26    17  4.234107   \n",
      "71    33    8    5    2    6      21     4      27         5     1  3.496508   \n",
      "72    51   23   22   10    8      63    17      19        16     9  3.931826   \n",
      "73    59  110   27   10  110     257     6     436         5    14  4.077537   \n",
      "74    25   13   14   12    9      48     7      19         5     4  3.218876   \n",
      "75    61   45    5    3    5      58     1      64        18     6  4.110874   \n",
      "76    64   12    4    3    7      26     1      19         5    13  4.158883   \n",
      "77    38   14    5    6    5      30     4      38        11    23  3.637586   \n",
      "78    53    6   16   14    6      42     5      19        13    20  3.970292   \n",
      "79    55   18    4    5    4      31     1      20         5     5  4.007333   \n",
      "80    47   11    9    5    7      32     4      15        10     1  3.850148   \n",
      "81    70   21   13    5    7      46     7      41        33    10  4.248495   \n",
      "82    25   12    4    5    5      26     9      22         6    10  3.218876   \n",
      "83    31   20    9    3    3      35     7      27         6     2  3.433987   \n",
      "84    36   35    6    3    2      46     5      37        10     4  3.583519   \n",
      "85    51   13    5    3    7      28     2      32         8     8  3.931826   \n",
      "86    60   13    5    6    5      29     2      18         5     7  4.094345   \n",
      "87    53   17    5    4    1      27     5      94        10     1  3.970292   \n",
      "88    33   13    6    3    5      27     3      26        12    16  3.496508   \n",
      "89    61   10   12   12    6      40     2      16        14    14  4.110874   \n",
      "91    53   29    4    3    1      37     5      37        10     6  3.970292   \n",
      "92    41   19    8    8    6      41     4      25         5     5  3.713572   \n",
      "93    32   14   12    3    6      35     1      24         5     3  3.465736   \n",
      "94    69   15    4    3    4      26     4      39        11    40  4.234107   \n",
      "95    49   15  103   12    8     138     4      62         5     5  3.891820   \n",
      "96    50   18    5    6    3      32    10      30        18     4  3.912023   \n",
      "97    34   10    6    4    5      25     6      28        12    36  3.526361   \n",
      "98    60   15    5    4    2      26     3      32         5     3  4.094345   \n",
      "99    60  110   19    8   33     170     2      23        10    60  4.094345   \n",
      "100   57   33   10    7    5      55     8      48        14     9  4.043051   \n",
      "101   58   16    8   10    5      39     9      58         6     7  4.060443   \n",
      "102   60   19   14    9    6      48     3      35        10     9  4.094345   \n",
      "104   31   13    8    9    7      37     8      41         6     1  3.433987   \n",
      "105   49   12    4    7    2      25     5      22         7    18  3.891820   \n",
      "106   63    8    8    6    3      25     2      15         5    12  4.143135   \n",
      "107   39   20    7    6    3      36     4      50         9     8  3.663562   \n",
      "109   65   20    7    7    3      37     2     114         5     4  4.174387   \n",
      "110   59   17    5    3    4      29     3      21        10    28  4.077537   \n",
      "111   25   18    3    5    2      28     5      37         7    35  3.218876   \n",
      "112   65   12    7    6    5      30     5      18        11    37  4.174387   \n",
      "113   63   14    7    2    4      27     4      18        10    12  4.143135   \n",
      "114   55   24   10    8   11      53     4      68         5    10  4.007333   \n",
      "115   64   24   10    5   11      50     3      20         5     3  4.158883   \n",
      "116   34    6    5    4    2      17    10      21         8    13  3.526361   \n",
      "117   23  110  110   50   44     314    10      37         5     5  3.135494   \n",
      "118   20   14    3    3    3      23     6      34         8     3  2.995732   \n",
      "119   31   13    6    5    5      29    12      60         5    10  3.433987   \n",
      "120   27   10    3    4    3      20    10      27        22    11  3.295837   \n",
      "121   54   13    4    7    9      33     5      39        10     6  3.988984   \n",
      "122   18   58   14   25   10     107    14      39         5     4  2.890372   \n",
      "123   50   23    5    3    3      34    12      37         9     9  3.912023   \n",
      "124   69   10    5    3    2      20     2      22         8     7  4.234107   \n",
      "125   53   21    7    3    5      36     2      21         6     1  3.970292   \n",
      "126   49    9    5    5    3      22     3      22         6    16  3.891820   \n",
      "127   57   22   10    5    6      43     5      15         9     4  4.043051   \n",
      "128   50   13   10    3    3      29     3      23         5     3  3.912023   \n",
      "129   27    7    5    2    1      15     8      19         6     1  3.295837   \n",
      "130   62    9    4    6    5      24     3      15         9    15  4.127134   \n",
      "131   15    6    6    7    4      23     4      15         5     9  2.708050   \n",
      "132   57   26    4    4    4      38     4      85        10     7  4.043051   \n",
      "133   26    6   25   13  120     164     5      14         6     5  3.258097   \n",
      "134   62    5    5    3    1      14     3      11         6     5  4.127134   \n",
      "135   44   33    7    4    3      47     3      28        27     2  3.784190   \n",
      "136   34   26    7    4    3      40     3      63         8    13  3.526361   \n",
      "138   54   25   11    8   22      66     1     123         9     1  3.988984   \n",
      "139   53    9    6    3    6      24     4      17        15    51  3.970292   \n",
      "140   60   10   12    6    4      32     3      20         8     8  4.094345   \n",
      "141   54   11    6    4    3      24     4      17         6     6  3.988984   \n",
      "142   23    8   25    7    5      45     4      15         6     9  3.135494   \n",
      "143   52   12   11    8    9      40     8      40        11     8  3.951244   \n",
      "144   28   19    8    8    4      39     9      43         5     3  3.332205   \n",
      "145   36   15    9    3    3      30     2      42         5     9  3.583519   \n",
      "146   65   15    5    4    5      29     1      23         5     8  4.174387   \n",
      "147   53   89   50   26   51     216    10      35         5     3  3.970292   \n",
      "148   52    9    4    8    4      25     6      19         9    20  3.951244   \n",
      "149   53    6    4    3    2      15     4      22         7     5  3.970292   \n",
      "150   80    9    5    3    3      20     1      31         5    19  4.382027   \n",
      "151   57   15   13   10    6      44     8      60        11    13  4.043051   \n",
      "152   15    6   24   28    3      61     2     500         7     2  2.708050   \n",
      "153   62   19    5    2    2      28     3      28         9    32  4.127134   \n",
      "154   59    7    4    3    3      17     2      15         9     8  4.077537   \n",
      "155   26   13    3    2    1      19     1      19         7    15  3.258097   \n",
      "156   70   41   19   35   27     122     3      15        29    18  4.248495   \n",
      "157   41    4   13    5    4      26    10      20         8     7  3.713572   \n",
      "159   64    6    9   11    5      31     2      62        15    11  4.158883   \n",
      "160   42    6    6   21    7      40     5      15        12    11  3.737670   \n",
      "161   41    6    6    3    6      21     3      34         5     6  3.713572   \n",
      "162   54   12    6    4    6      28     3      28         8     8  3.988984   \n",
      "164   72   34    7    6    5      52     4      34         6     7  4.276666   \n",
      "166   58    5    4    3    4      16     6      15         5     9  4.060443   \n",
      "167   44   14    3    1    1      19     5      45        10     1  3.784190   \n",
      "168   73    5    7    6    8      26     4      15        10     8  4.290459   \n",
      "169   41   25   16    7    9      57     6      41        10     5  3.713572   \n",
      "170   47   13   13    3    2      31     3      15        10    12  3.850148   \n",
      "171   32   20    6    4    4      34    10      29         5     2  3.465736   \n",
      "172   58    6    7    7    5      25     4      15         5     7  4.060443   \n",
      "173   45  107   25   18    9     159     8      58         6    10  3.806662   \n",
      "174   38   30   10    3    1      44     4      68        12     2  3.637586   \n",
      "175   44   12   10    6    1      29     5      53         5     8  3.784190   \n",
      "176   28    9    4    3    3      19     2      24         5     7  3.332205   \n",
      "177   69   22    8    3    2      35     1      28         7    11  4.234107   \n",
      "178   46   14    5    7    6      32     7      30         8     8  3.828641   \n",
      "179   67   40   34   75   10     159     3      30         9     6  4.204693   \n",
      "180    9   25   21   23    6      75    18      28         5     2  2.197225   \n",
      "181   56   12    4    4    2      22     2      41        14     8  4.025352   \n",
      "182   32   70   41   34   29     174     8      77         5     7  3.465736   \n",
      "183   56   24    3    4    2      33     3      36        24     3  4.025352   \n",
      "184   52    9    3    3    2      17     3      32         5     9  3.951244   \n",
      "185   66    8    9    2    2      21     2      47        25     8  4.189655   \n",
      "186   44    8    8    4    1      21     4      38        16    15  3.784190   \n",
      "187   39   13    7    6    3      29     4      21        16    21  3.663562   \n",
      "188   23   18    2    8    1      29    12      42        10     1  3.135494   \n",
      "189   58   27    5    7    5      44     6      17        11     4  4.060443   \n",
      "190   27   10    4    3    1      18     4      14         7     5  3.295837   \n",
      "191   52   12    4    3    3      22     5      21         8    16  3.951244   \n",
      "192   59   13    3    2    4      22     3      83        12    15  4.077537   \n",
      "193   48   36    4    2    4      46     3      23         5     3  3.871201   \n",
      "194   57    9    6   11    3      29     6      15        11    16  4.043051   \n",
      "195   53   22    5    2    3      32     3      15         5    14  3.970292   \n",
      "196   38   19    9    4    6      38     9      28        10     5  3.637586   \n",
      "197   40    9    9   13    4      35     9      24         7    10  3.688879   \n",
      "198   84    9    4    5    2      20     2      29        15     5  4.430817   \n",
      "199   48    8    5    5    2      20     2      16        19    24  3.871201   \n",
      "200   60   17   16   10   27      70     3      30         7    13  4.094345   \n",
      "201   34   29   15    7    3      54     5      54        11     9  3.526361   \n",
      "202   50   39    6    9    3      57     5      67         6     5  3.912023   \n",
      "204   55   26    2    2    1      31     2      33         5     1  4.007333   \n",
      "206   42   13   15    3    4      35     2      15         6     9  3.737670   \n",
      "207   56   14    8    5    4      31     5      21         5     7  4.025352   \n",
      "208   57   11    7    7    5      30     5      23        13    16  4.043051   \n",
      "209   37   37   16   12   45     110     8      90         5    12  3.610918   \n",
      "210   57   32   10    7    5      54     8      67        36    56  4.043051   \n",
      "212   32    2    7    4    5      18     3      15         5     7  3.465736   \n",
      "213   59    7   11    7    4      29     5      22         6     7  4.077537   \n",
      "214   78   10   15    7    5      37     3      19         9    15  4.356709   \n",
      "215   46   21    6    4    7      38     3      18         5     5  3.828641   \n",
      "216   51   10    9    5    6      30    11      37        20    10  3.931826   \n",
      "217   44    5    5    5    5      20     4      15         5     8  3.784190   \n",
      "218   62   15   11    6    3      35     3      28        12     9  4.127134   \n",
      "219   23    3    3   11    7      24    13      39         6     5  3.135494   \n",
      "220   46    5   72   10    1      88     2      30        14    34  3.828641   \n",
      "221   33   10    4    3    1      18     3      15         8     8  3.496508   \n",
      "222   38   12    7    8    3      30     6      38        11    44  3.637586   \n",
      "223   63   51   21   13   27     112     2     212         5     4  4.143135   \n",
      "224   69   29    5    5    7      46     3      60        14    26  4.234107   \n",
      "225   59   22    4    2    1      29     7      50        15     7  4.077537   \n",
      "226   64   20   12    5    4      41     2      44         9     7  4.158883   \n",
      "227   61   15    4    3    5      27     2      22         5     2  4.110874   \n",
      "229   56   30    5    4    1      40     5      55        15     2  4.025352   \n",
      "230   52    8    6    4    4      22     7      15         5     4  3.951244   \n",
      "231   29   19    7    8    4      38     9      39         9    12  3.367296   \n",
      "232   40   17    3    4    2      26     4      41         5     5  3.688879   \n",
      "234   58   17    7    5    4      33     5      15        11    58  4.060443   \n",
      "235   52   13    6    4    5      28     2      29        19    51  3.951244   \n",
      "236   59   19    7    3    5      34     2      36        19    10  4.077537   \n",
      "237   22   16    2    1    2      21     7      60         5    10  3.091042   \n",
      "238   46    7    6    3    3      19     4      38         8     3  3.828641   \n",
      "239   29   32    9    8    4      53     8      41         7     6  3.367296   \n",
      "240   42   15    6    5   12      38     1      18         5     2  3.737670   \n",
      "242   54   14    5    5    4      28     5      23         5    10  3.988984   \n",
      "243   54    8    7    7    3      25     2      15         5     8  3.988984   \n",
      "244   57   24    6   11    4      45     4      26         5    11  4.043051   \n",
      "245   41    9   10    5   39      63     4      41         6     6  3.713572   \n",
      "247   62   22    7    4    4      37     2      16         9     3  4.127134   \n",
      "248   59   10    6    5    4      25     3      18         5     7  4.077537   \n",
      "249   66   12    8    4    3      27     5      32        10     5  4.189655   \n",
      "250   33   11    5    4    6      26     4      16         5    11  3.496508   \n",
      "251   81   11    7    9    8      35     7      20        17     9  4.394449   \n",
      "252   26    9    7    6    4      26     7      26        23    14  3.258097   \n",
      "253   39   19    9    9    7      44     3      20        11     6  3.663562   \n",
      "254   40   25   20   10   11      66     6      24        10     4  3.688879   \n",
      "\n",
      "     P17-OHLOG  CTotalLOG     C1LOG     C2LOG     C3LOG     C4LOG   DHEALOG  \\\n",
      "0     3.891820   3.526361  2.944439  1.791759  1.386294  1.609438  0.000000   \n",
      "1     2.708050   3.401197  2.484907  1.945910  1.386294  1.945910  0.693147   \n",
      "2     3.401197   2.639057  2.397895  0.000000  0.000000  0.000000  1.098612   \n",
      "3     3.496508   3.091042  2.484907  1.098612  1.791759  0.000000  1.791759   \n",
      "4     2.197225   3.526361  2.995732  1.945910  1.386294  1.098612  1.609438   \n",
      "5     3.367296   3.583519  3.044522  1.791759  1.945910  0.693147  0.693147   \n",
      "6     3.332205   3.850148  2.944439  2.079442  2.484907  2.079442  1.386294   \n",
      "7     2.890372   3.295837  2.564949  1.609438  1.098612  1.791759  1.386294   \n",
      "8     2.833213   3.555348  3.091042  1.609438  1.609438  1.098612  1.098612   \n",
      "9     2.708050   3.610918  2.397895  1.945910  2.564949  1.791759  1.945910   \n",
      "11    2.772589   3.178054  1.945910  1.098612  1.098612  2.397895  0.693147   \n",
      "12    3.258097   3.135494  2.639057  1.386294  1.098612  0.693147  1.098612   \n",
      "13    3.295837   3.555348  2.772589  2.197225  1.609438  1.609438  1.609438   \n",
      "14    2.708050   3.091042  2.484907  1.609438  1.098612  0.693147  0.693147   \n",
      "15    3.761200   2.397895  1.609438  1.098612  0.693147  0.000000  0.693147   \n",
      "16    2.772589   3.295837  2.197225  1.791759  2.197225  1.098612  1.386294   \n",
      "17    3.332205   3.465736  2.890372  1.791759  1.609438  1.098612  1.098612   \n",
      "18    4.465908   3.871201  3.258097  1.609438  2.197225  2.079442  0.693147   \n",
      "20    3.871201   3.784190  2.772589  1.945910  1.609438  2.772589  1.098612   \n",
      "21    3.178054   3.465736  2.639057  1.945910  1.609438  1.791759  1.386294   \n",
      "22    3.433987   3.295837  2.833213  1.386294  1.098612  1.098612  1.098612   \n",
      "23    3.583519   3.044522  1.945910  1.386294  1.609438  1.609438  2.639057   \n",
      "24    3.555348   2.833213  2.079442  1.386294  1.098612  0.693147  1.098612   \n",
      "25    3.828641   3.713572  3.135494  2.079442  1.609438  1.609438  1.609438   \n",
      "26    4.317488   3.526361  2.995732  1.791759  1.609438  1.098612  1.945910   \n",
      "27    2.995732   3.367296  2.397895  1.609438  2.079442  1.609438  1.098612   \n",
      "28    4.356709   4.521789  4.143135  2.708050  2.397895  1.098612  2.079442   \n",
      "29    4.595120   4.204693  3.637586  2.564949  2.197225  1.945910  2.302585   \n",
      "30    3.555348   2.639057  1.791759  1.098612  0.693147  1.098612  1.609438   \n",
      "31    3.332205   3.637586  2.944439  2.302585  1.791759  1.098612  2.397895   \n",
      "32    2.833213   3.496508  2.833213  1.791759  1.791759  1.386294  1.386294   \n",
      "33    2.708050   5.023881  1.386294  4.700480  3.401197  2.079442  0.000000   \n",
      "34    2.833213   3.332205  2.564949  1.791759  1.945910  0.693147  1.098612   \n",
      "35    3.828641   5.720312  4.700480  3.806662  4.700480  3.688879  1.945910   \n",
      "36    3.135494   2.708050  1.945910  1.098612  1.098612  0.693147  0.000000   \n",
      "37    3.401197   3.688879  2.833213  2.397895  1.945910  1.609438  0.693147   \n",
      "38    2.995732   3.091042  2.397895  1.386294  1.098612  1.386294  1.386294   \n",
      "39    2.708050   3.135494  1.945910  1.945910  1.609438  1.386294  1.791759   \n",
      "41    3.218876   3.401197  2.890372  1.609438  1.386294  1.098612  1.386294   \n",
      "43    3.555348   4.007333  2.944439  2.484907  2.079442  2.772589  2.302585   \n",
      "44    2.708050   3.737670  1.386294  1.386294  1.386294  3.401197  1.386294   \n",
      "45    2.708050   3.713572  2.564949  2.397895  2.079442  2.197225  1.386294   \n",
      "46    3.332205   3.871201  3.367296  2.197225  1.945910  1.098612  1.609438   \n",
      "47    2.639057   4.477337  3.988984  2.564949  2.639057  1.945910  1.098612   \n",
      "48    4.234107   6.028279  4.007333  4.787492  4.787492  4.787492  1.098612   \n",
      "49    2.833213   2.944439  2.302585  1.386294  1.098612  0.693147  0.693147   \n",
      "51    3.526361   5.659482  4.700480  3.496508  3.526361  4.700480  0.693147   \n",
      "52    3.688879   3.135494  2.564949  1.791759  1.098612  0.000000  1.609438   \n",
      "54    3.218876   2.995732  2.302585  1.386294  1.098612  1.098612  1.098612   \n",
      "55    5.117994   4.477337  3.583519  3.367296  2.772589  1.945910  1.945910   \n",
      "56    3.218876   3.135494  2.639057  1.386294  1.098612  0.693147  2.079442   \n",
      "57    2.302585   3.135494  2.397895  1.609438  1.386294  1.098612  1.098612   \n",
      "58    3.637586   6.086775  4.700480  4.700480  4.700480  4.700480  1.386294   \n",
      "59    2.397895   2.772589  1.386294  1.609438  1.098612  1.386294  1.609438   \n",
      "60    3.891820   3.850148  2.890372  2.833213  1.609438  1.945910  1.386294   \n",
      "61    3.433987   3.737670  2.564949  2.397895  2.197225  2.197225  1.791759   \n",
      "62    3.367296   3.526361  2.772589  1.945910  1.609438  1.791759  0.693147   \n",
      "63    3.433987   3.401197  2.708050  1.609438  1.098612  1.945910  1.386294   \n",
      "64    3.761200   3.465736  2.995732  1.791759  1.386294  0.693147  1.609438   \n",
      "66    3.761200   4.564348  3.713572  1.945910  1.386294  3.784190  1.386294   \n",
      "68    2.833213   3.135494  1.791759  1.098612  1.609438  2.197225  1.386294   \n",
      "69    2.708050   3.295837  2.197225  1.945910  1.945910  1.386294  1.386294   \n",
      "70    2.890372   5.560682  4.510860  3.091042  4.532599  3.988984  2.079442   \n",
      "71    3.295837   3.044522  2.079442  1.609438  0.693147  1.791759  1.386294   \n",
      "72    2.944439   4.143135  3.135494  3.091042  2.302585  2.079442  2.833213   \n",
      "73    6.077642   5.549076  4.700480  3.295837  2.302585  4.700480  1.791759   \n",
      "74    2.944439   3.871201  2.564949  2.639057  2.484907  2.197225  1.945910   \n",
      "75    4.158883   4.060443  3.806662  1.609438  1.098612  1.609438  0.000000   \n",
      "76    2.944439   3.258097  2.484907  1.386294  1.098612  1.945910  0.000000   \n",
      "77    3.637586   3.401197  2.639057  1.609438  1.791759  1.609438  1.386294   \n",
      "78    2.944439   3.737670  1.791759  2.772589  2.639057  1.791759  1.609438   \n",
      "79    2.995732   3.433987  2.890372  1.386294  1.609438  1.386294  0.000000   \n",
      "80    2.708050   3.465736  2.397895  2.197225  1.609438  1.945910  1.386294   \n",
      "81    3.713572   3.828641  3.044522  2.564949  1.609438  1.945910  1.945910   \n",
      "82    3.091042   3.258097  2.484907  1.386294  1.609438  1.609438  2.197225   \n",
      "83    3.295837   3.555348  2.995732  2.197225  1.098612  1.098612  1.945910   \n",
      "84    3.610918   3.828641  3.555348  1.791759  1.098612  0.693147  1.609438   \n",
      "85    3.465736   3.332205  2.564949  1.609438  1.098612  1.945910  0.693147   \n",
      "86    2.890372   3.367296  2.564949  1.609438  1.791759  1.609438  0.693147   \n",
      "87    4.543295   3.295837  2.833213  1.609438  1.386294  0.000000  1.609438   \n",
      "88    3.258097   3.295837  2.564949  1.791759  1.098612  1.609438  1.098612   \n",
      "89    2.772589   3.688879  2.302585  2.484907  2.484907  1.791759  0.693147   \n",
      "91    3.610918   3.610918  3.367296  1.386294  1.098612  0.000000  1.609438   \n",
      "92    3.218876   3.713572  2.944439  2.079442  2.079442  1.791759  1.386294   \n",
      "93    3.178054   3.555348  2.639057  2.484907  1.098612  1.791759  0.000000   \n",
      "94    3.663562   3.258097  2.708050  1.386294  1.098612  1.386294  1.386294   \n",
      "95    4.127134   4.927254  2.708050  4.634729  2.484907  2.079442  1.386294   \n",
      "96    3.401197   3.465736  2.890372  1.609438  1.791759  1.098612  2.302585   \n",
      "97    3.332205   3.218876  2.302585  1.791759  1.386294  1.609438  1.791759   \n",
      "98    3.465736   3.258097  2.708050  1.609438  1.386294  0.693147  1.098612   \n",
      "99    3.135494   5.135798  4.700480  2.944439  2.079442  3.496508  0.693147   \n",
      "100   3.871201   4.007333  3.496508  2.302585  1.945910  1.609438  2.079442   \n",
      "101   4.060443   3.663562  2.772589  2.079442  2.302585  1.609438  2.197225   \n",
      "102   3.555348   3.871201  2.944439  2.639057  2.197225  1.791759  1.098612   \n",
      "104   3.713572   3.610918  2.564949  2.079442  2.197225  1.945910  2.079442   \n",
      "105   3.091042   3.218876  2.484907  1.386294  1.945910  0.693147  1.609438   \n",
      "106   2.708050   3.218876  2.079442  2.079442  1.791759  1.098612  0.693147   \n",
      "107   3.912023   3.583519  2.995732  1.945910  1.791759  1.098612  1.386294   \n",
      "109   4.736198   3.610918  2.995732  1.945910  1.945910  1.098612  0.693147   \n",
      "110   3.044522   3.367296  2.833213  1.609438  1.098612  1.386294  1.098612   \n",
      "111   3.610918   3.332205  2.890372  1.098612  1.609438  0.693147  1.609438   \n",
      "112   2.890372   3.401197  2.484907  1.945910  1.791759  1.609438  1.609438   \n",
      "113   2.890372   3.295837  2.639057  1.945910  0.693147  1.386294  1.386294   \n",
      "114   4.219508   3.970292  3.178054  2.302585  2.079442  2.397895  1.386294   \n",
      "115   2.995732   3.912023  3.178054  2.302585  1.609438  2.397895  1.098612   \n",
      "116   3.044522   2.833213  1.791759  1.609438  1.386294  0.693147  2.302585   \n",
      "117   3.610918   5.749393  4.700480  4.700480  3.912023  3.784190  2.302585   \n",
      "118   3.526361   3.135494  2.639057  1.098612  1.098612  1.098612  1.791759   \n",
      "119   4.094345   3.367296  2.564949  1.791759  1.609438  1.609438  2.484907   \n",
      "120   3.295837   2.995732  2.302585  1.098612  1.386294  1.098612  2.302585   \n",
      "121   3.663562   3.496508  2.564949  1.386294  1.945910  2.197225  1.609438   \n",
      "122   3.663562   4.672829  4.060443  2.639057  3.218876  2.302585  2.639057   \n",
      "123   3.610918   3.526361  3.135494  1.609438  1.098612  1.098612  2.484907   \n",
      "124   3.091042   2.995732  2.302585  1.609438  1.098612  0.693147  0.693147   \n",
      "125   3.044522   3.583519  3.044522  1.945910  1.098612  1.609438  0.693147   \n",
      "126   3.091042   3.091042  2.197225  1.609438  1.609438  1.098612  1.098612   \n",
      "127   2.708050   3.761200  3.091042  2.302585  1.609438  1.791759  1.609438   \n",
      "128   3.135494   3.367296  2.564949  2.302585  1.098612  1.098612  1.098612   \n",
      "129   2.944439   2.708050  1.945910  1.609438  0.693147  0.000000  2.079442   \n",
      "130   2.708050   3.178054  2.197225  1.386294  1.791759  1.609438  1.098612   \n",
      "131   2.708050   3.135494  1.791759  1.791759  1.945910  1.386294  1.386294   \n",
      "132   4.442651   3.637586  3.258097  1.386294  1.386294  1.386294  1.386294   \n",
      "133   2.639057   5.099866  1.791759  3.218876  2.564949  4.787492  1.609438   \n",
      "134   2.397895   2.639057  1.609438  1.609438  1.098612  0.000000  1.098612   \n",
      "135   3.332205   3.850148  3.496508  1.945910  1.386294  1.098612  1.098612   \n",
      "136   4.143135   3.688879  3.258097  1.945910  1.386294  1.098612  1.098612   \n",
      "138   4.812184   4.189655  3.218876  2.397895  2.079442  3.091042  0.000000   \n",
      "139   2.833213   3.178054  2.197225  1.791759  1.098612  1.791759  1.386294   \n",
      "140   2.995732   3.465736  2.302585  2.484907  1.791759  1.386294  1.098612   \n",
      "141   2.833213   3.178054  2.397895  1.791759  1.386294  1.098612  1.386294   \n",
      "142   2.708050   3.806662  2.079442  3.218876  1.945910  1.609438  1.386294   \n",
      "143   3.688879   3.688879  2.484907  2.397895  2.079442  2.197225  2.079442   \n",
      "144   3.761200   3.663562  2.944439  2.079442  2.079442  1.386294  2.197225   \n",
      "145   3.737670   3.401197  2.708050  2.197225  1.098612  1.098612  0.693147   \n",
      "146   3.135494   3.367296  2.708050  1.609438  1.386294  1.609438  0.000000   \n",
      "147   3.555348   5.375278  4.488636  3.912023  3.258097  3.931826  2.302585   \n",
      "148   2.944439   3.218876  2.197225  1.386294  2.079442  1.386294  1.791759   \n",
      "149   3.091042   2.708050  1.791759  1.386294  1.098612  0.693147  1.386294   \n",
      "150   3.433987   2.995732  2.197225  1.609438  1.098612  1.098612  0.000000   \n",
      "151   4.094345   3.784190  2.708050  2.564949  2.302585  1.791759  2.079442   \n",
      "152   6.214608   4.110874  1.791759  3.178054  3.332205  1.098612  0.693147   \n",
      "153   3.332205   3.332205  2.944439  1.609438  0.693147  0.693147  1.098612   \n",
      "154   2.708050   2.833213  1.945910  1.386294  1.098612  1.098612  0.693147   \n",
      "155   2.944439   2.944439  2.564949  1.098612  0.693147  0.000000  0.000000   \n",
      "156   2.708050   4.804021  3.713572  2.944439  3.555348  3.295837  1.098612   \n",
      "157   2.995732   3.258097  1.386294  2.564949  1.609438  1.386294  2.302585   \n",
      "159   4.127134   3.433987  1.791759  2.197225  2.397895  1.609438  0.693147   \n",
      "160   2.708050   3.688879  1.791759  1.791759  3.044522  1.945910  1.609438   \n",
      "161   3.526361   3.044522  1.791759  1.791759  1.098612  1.791759  1.098612   \n",
      "162   3.332205   3.332205  2.484907  1.791759  1.386294  1.791759  1.098612   \n",
      "164   3.526361   3.951244  3.526361  1.945910  1.791759  1.609438  1.386294   \n",
      "166   2.708050   2.772589  1.609438  1.386294  1.098612  1.386294  1.791759   \n",
      "167   3.806662   2.944439  2.639057  1.098612  0.000000  0.000000  1.609438   \n",
      "168   2.708050   3.258097  1.609438  1.945910  1.791759  2.079442  1.386294   \n",
      "169   3.713572   4.043051  3.218876  2.772589  1.945910  2.197225  1.791759   \n",
      "170   2.708050   3.433987  2.564949  2.564949  1.098612  0.693147  1.098612   \n",
      "171   3.367296   3.526361  2.995732  1.791759  1.386294  1.386294  2.302585   \n",
      "172   2.708050   3.218876  1.791759  1.945910  1.945910  1.609438  1.386294   \n",
      "173   4.060443   5.068904  4.672829  3.218876  2.890372  2.197225  2.079442   \n",
      "174   4.219508   3.784190  3.401197  2.302585  1.098612  0.000000  1.386294   \n",
      "175   3.970292   3.367296  2.484907  2.302585  1.791759  0.000000  1.609438   \n",
      "176   3.178054   2.944439  2.197225  1.386294  1.098612  1.098612  0.693147   \n",
      "177   3.332205   3.555348  3.091042  2.079442  1.098612  0.693147  0.000000   \n",
      "178   3.401197   3.465736  2.639057  1.609438  1.945910  1.791759  1.945910   \n",
      "179   3.401197   5.068904  3.688879  3.526361  4.317488  2.302585  1.098612   \n",
      "180   3.332205   4.317488  3.218876  3.044522  3.135494  1.791759  2.890372   \n",
      "181   3.713572   3.091042  2.484907  1.386294  1.386294  0.693147  0.693147   \n",
      "182   4.343805   5.159055  4.248495  3.713572  3.526361  3.367296  2.079442   \n",
      "183   3.583519   3.496508  3.178054  1.098612  1.386294  0.693147  1.098612   \n",
      "184   3.465736   2.833213  2.197225  1.098612  1.098612  0.693147  1.098612   \n",
      "185   3.850148   3.044522  2.079442  2.197225  0.693147  0.693147  0.693147   \n",
      "186   3.637586   3.044522  2.079442  2.079442  1.386294  0.000000  1.386294   \n",
      "187   3.044522   3.367296  2.564949  1.945910  1.791759  1.098612  1.386294   \n",
      "188   3.737670   3.367296  2.890372  0.693147  2.079442  0.000000  2.484907   \n",
      "189   2.833213   3.784190  3.295837  1.609438  1.945910  1.609438  1.791759   \n",
      "190   2.639057   2.890372  2.302585  1.386294  1.098612  0.000000  1.386294   \n",
      "191   3.044522   3.091042  2.484907  1.386294  1.098612  1.098612  1.609438   \n",
      "192   4.418841   3.091042  2.564949  1.098612  0.693147  1.386294  1.098612   \n",
      "193   3.135494   3.828641  3.583519  1.386294  0.693147  1.386294  1.098612   \n",
      "194   2.708050   3.367296  2.197225  1.791759  2.397895  1.098612  1.791759   \n",
      "195   2.708050   3.465736  3.091042  1.609438  0.693147  1.098612  1.098612   \n",
      "196   3.332205   3.637586  2.944439  2.197225  1.386294  1.791759  2.197225   \n",
      "197   3.178054   3.555348  2.197225  2.197225  2.564949  1.386294  2.197225   \n",
      "198   3.367296   2.995732  2.197225  1.386294  1.609438  0.693147  0.693147   \n",
      "199   2.772589   2.995732  2.079442  1.609438  1.609438  0.693147  0.693147   \n",
      "200   3.401197   4.248495  2.833213  2.772589  2.302585  3.295837  1.098612   \n",
      "201   3.988984   3.988984  3.367296  2.708050  1.945910  1.098612  1.609438   \n",
      "202   4.204693   4.043051  3.663562  1.791759  2.197225  1.098612  1.609438   \n",
      "204   3.496508   3.433987  3.258097  0.693147  0.693147  0.000000  0.693147   \n",
      "206   2.708050   3.555348  2.564949  2.708050  1.098612  1.386294  0.693147   \n",
      "207   3.044522   3.433987  2.639057  2.079442  1.609438  1.386294  1.609438   \n",
      "208   3.135494   3.401197  2.397895  1.945910  1.945910  1.609438  1.609438   \n",
      "209   4.499810   4.700480  3.610918  2.772589  2.484907  3.806662  2.079442   \n",
      "210   4.204693   3.988984  3.465736  2.302585  1.945910  1.609438  2.079442   \n",
      "212   2.708050   2.890372  0.693147  1.945910  1.386294  1.609438  1.098612   \n",
      "213   3.091042   3.367296  1.945910  2.397895  1.945910  1.386294  1.609438   \n",
      "214   2.944439   3.610918  2.302585  2.708050  1.945910  1.609438  1.098612   \n",
      "215   2.890372   3.637586  3.044522  1.791759  1.386294  1.945910  1.098612   \n",
      "216   3.610918   3.401197  2.302585  2.197225  1.609438  1.791759  2.397895   \n",
      "217   2.708050   2.995732  1.609438  1.609438  1.609438  1.609438  1.386294   \n",
      "218   3.332205   3.555348  2.708050  2.397895  1.791759  1.098612  1.098612   \n",
      "219   3.663562   3.178054  1.098612  1.098612  2.397895  1.945910  2.564949   \n",
      "220   3.401197   4.477337  1.609438  4.276666  2.302585  0.000000  0.693147   \n",
      "221   2.708050   2.890372  2.302585  1.386294  1.098612  0.000000  1.098612   \n",
      "222   3.637586   3.401197  2.484907  1.945910  2.079442  1.098612  1.791759   \n",
      "223   5.356586   4.718499  3.931826  3.044522  2.564949  3.295837  0.693147   \n",
      "224   4.094345   3.828641  3.367296  1.609438  1.609438  1.945910  1.098612   \n",
      "225   3.912023   3.367296  3.091042  1.386294  0.693147  0.000000  1.945910   \n",
      "226   3.784190   3.713572  2.995732  2.484907  1.609438  1.386294  0.693147   \n",
      "227   3.091042   3.295837  2.708050  1.386294  1.098612  1.609438  0.693147   \n",
      "229   4.007333   3.688879  3.401197  1.609438  1.386294  0.000000  1.609438   \n",
      "230   2.708050   3.091042  2.079442  1.791759  1.386294  1.386294  1.945910   \n",
      "231   3.663562   3.637586  2.944439  1.945910  2.079442  1.386294  2.197225   \n",
      "232   3.713572   3.258097  2.833213  1.098612  1.386294  0.693147  1.386294   \n",
      "234   2.708050   3.496508  2.833213  1.945910  1.609438  1.386294  1.609438   \n",
      "235   3.367296   3.332205  2.564949  1.791759  1.386294  1.609438  0.693147   \n",
      "236   3.583519   3.526361  2.944439  1.945910  1.098612  1.609438  0.693147   \n",
      "237   4.094345   3.044522  2.772589  0.693147  0.000000  0.693147  1.945910   \n",
      "238   3.637586   2.944439  1.945910  1.791759  1.098612  1.098612  1.386294   \n",
      "239   3.713572   3.970292  3.465736  2.197225  2.079442  1.386294  2.079442   \n",
      "240   2.890372   3.637586  2.708050  1.791759  1.609438  2.484907  0.000000   \n",
      "242   3.135494   3.332205  2.639057  1.609438  1.609438  1.386294  1.609438   \n",
      "243   2.708050   3.218876  2.079442  1.945910  1.945910  1.098612  0.693147   \n",
      "244   3.258097   3.806662  3.178054  1.791759  2.397895  1.386294  1.386294   \n",
      "245   3.713572   4.143135  2.197225  2.302585  1.609438  3.663562  1.386294   \n",
      "247   2.772589   3.610918  3.091042  1.945910  1.386294  1.386294  0.693147   \n",
      "248   2.890372   3.218876  2.302585  1.791759  1.609438  1.386294  1.098612   \n",
      "249   3.465736   3.295837  2.484907  2.079442  1.386294  1.098612  1.609438   \n",
      "250   2.772589   3.258097  2.397895  1.609438  1.386294  1.791759  1.386294   \n",
      "251   2.995732   3.555348  2.397895  1.945910  2.197225  2.079442  1.945910   \n",
      "252   3.258097   3.258097  2.197225  1.945910  1.791759  1.386294  1.945910   \n",
      "253   2.995732   3.784190  2.944439  2.197225  2.197225  1.945910  1.098612   \n",
      "254   3.178054   4.189655  3.218876  2.995732  2.302585  2.397895  1.791759   \n",
      "\n",
      "     TotalIgALOG   GIgALOG  \n",
      "0       1.609438  3.135494  \n",
      "1       1.945910  1.609438  \n",
      "2       1.609438  0.000000  \n",
      "3       2.772589  1.386294  \n",
      "4       1.609438  2.564949  \n",
      "5       2.772589  2.302585  \n",
      "6       2.197225  1.609438  \n",
      "7       1.791759  1.098612  \n",
      "8       2.564949  1.791759  \n",
      "9       2.302585  1.791759  \n",
      "11      1.791759  2.484907  \n",
      "12      2.397895  2.484907  \n",
      "13      2.197225  1.098612  \n",
      "14      1.609438  0.693147  \n",
      "15      2.397895  3.044522  \n",
      "16      2.079442  3.401197  \n",
      "17      1.609438  2.079442  \n",
      "18      1.945910  1.609438  \n",
      "20      1.609438  2.079442  \n",
      "21      2.890372  2.833213  \n",
      "22      1.609438  1.609438  \n",
      "23      2.484907  2.302585  \n",
      "24      1.609438  1.098612  \n",
      "25      1.609438  2.079442  \n",
      "26      1.791759  2.079442  \n",
      "27      1.609438  1.791759  \n",
      "28      2.772589  0.693147  \n",
      "29      1.945910  1.609438  \n",
      "30      3.258097  3.555348  \n",
      "31      2.708050  3.970292  \n",
      "32      2.079442  2.484907  \n",
      "33      1.609438  2.708050  \n",
      "34      1.609438  0.000000  \n",
      "35      1.791759  1.098612  \n",
      "36      1.609438  0.000000  \n",
      "37      1.945910  2.484907  \n",
      "38      1.609438  2.397895  \n",
      "39      1.609438  1.791759  \n",
      "41      1.609438  1.098612  \n",
      "43      2.708050  1.386294  \n",
      "44      1.609438  2.484907  \n",
      "45      2.302585  3.044522  \n",
      "46      1.609438  1.386294  \n",
      "47      1.609438  3.178054  \n",
      "48      3.912023  4.025352  \n",
      "49      1.609438  1.098612  \n",
      "51      1.791759  2.197225  \n",
      "52      4.094345  0.693147  \n",
      "54      2.484907  2.564949  \n",
      "55      2.397895  2.708050  \n",
      "56      2.197225  1.791759  \n",
      "57      2.639057  1.098612  \n",
      "58      1.609438  1.098612  \n",
      "59      1.791759  1.791759  \n",
      "60      2.197225  1.098612  \n",
      "61      1.609438  2.708050  \n",
      "62      1.609438  1.945910  \n",
      "63      1.609438  0.000000  \n",
      "64      2.772589  1.791759  \n",
      "66      1.609438  0.693147  \n",
      "68      1.791759  1.791759  \n",
      "69      2.484907  1.945910  \n",
      "70      3.258097  2.833213  \n",
      "71      1.609438  0.000000  \n",
      "72      2.772589  2.197225  \n",
      "73      1.609438  2.639057  \n",
      "74      1.609438  1.386294  \n",
      "75      2.890372  1.791759  \n",
      "76      1.609438  2.564949  \n",
      "77      2.397895  3.135494  \n",
      "78      2.564949  2.995732  \n",
      "79      1.609438  1.609438  \n",
      "80      2.302585  0.000000  \n",
      "81      3.496508  2.302585  \n",
      "82      1.791759  2.302585  \n",
      "83      1.791759  0.693147  \n",
      "84      2.302585  1.386294  \n",
      "85      2.079442  2.079442  \n",
      "86      1.609438  1.945910  \n",
      "87      2.302585  0.000000  \n",
      "88      2.484907  2.772589  \n",
      "89      2.639057  2.639057  \n",
      "91      2.302585  1.791759  \n",
      "92      1.609438  1.609438  \n",
      "93      1.609438  1.098612  \n",
      "94      2.397895  3.688879  \n",
      "95      1.609438  1.609438  \n",
      "96      2.890372  1.386294  \n",
      "97      2.484907  3.583519  \n",
      "98      1.609438  1.098612  \n",
      "99      2.302585  4.094345  \n",
      "100     2.639057  2.197225  \n",
      "101     1.791759  1.945910  \n",
      "102     2.302585  2.197225  \n",
      "104     1.791759  0.000000  \n",
      "105     1.945910  2.890372  \n",
      "106     1.609438  2.484907  \n",
      "107     2.197225  2.079442  \n",
      "109     1.609438  1.386294  \n",
      "110     2.302585  3.332205  \n",
      "111     1.945910  3.555348  \n",
      "112     2.397895  3.610918  \n",
      "113     2.302585  2.484907  \n",
      "114     1.609438  2.302585  \n",
      "115     1.609438  1.098612  \n",
      "116     2.079442  2.564949  \n",
      "117     1.609438  1.609438  \n",
      "118     2.079442  1.098612  \n",
      "119     1.609438  2.302585  \n",
      "120     3.091042  2.397895  \n",
      "121     2.302585  1.791759  \n",
      "122     1.609438  1.386294  \n",
      "123     2.197225  2.197225  \n",
      "124     2.079442  1.945910  \n",
      "125     1.791759  0.000000  \n",
      "126     1.791759  2.772589  \n",
      "127     2.197225  1.386294  \n",
      "128     1.609438  1.098612  \n",
      "129     1.791759  0.000000  \n",
      "130     2.197225  2.708050  \n",
      "131     1.609438  2.197225  \n",
      "132     2.302585  1.945910  \n",
      "133     1.791759  1.609438  \n",
      "134     1.791759  1.609438  \n",
      "135     3.295837  0.693147  \n",
      "136     2.079442  2.564949  \n",
      "138     2.197225  0.000000  \n",
      "139     2.708050  3.931826  \n",
      "140     2.079442  2.079442  \n",
      "141     1.791759  1.791759  \n",
      "142     1.791759  2.197225  \n",
      "143     2.397895  2.079442  \n",
      "144     1.609438  1.098612  \n",
      "145     1.609438  2.197225  \n",
      "146     1.609438  2.079442  \n",
      "147     1.609438  1.098612  \n",
      "148     2.197225  2.995732  \n",
      "149     1.945910  1.609438  \n",
      "150     1.609438  2.944439  \n",
      "151     2.397895  2.564949  \n",
      "152     1.945910  0.693147  \n",
      "153     2.197225  3.465736  \n",
      "154     2.197225  2.079442  \n",
      "155     1.945910  2.708050  \n",
      "156     3.367296  2.890372  \n",
      "157     2.079442  1.945910  \n",
      "159     2.708050  2.397895  \n",
      "160     2.484907  2.397895  \n",
      "161     1.609438  1.791759  \n",
      "162     2.079442  2.079442  \n",
      "164     1.791759  1.945910  \n",
      "166     1.609438  2.197225  \n",
      "167     2.302585  0.000000  \n",
      "168     2.302585  2.079442  \n",
      "169     2.302585  1.609438  \n",
      "170     2.302585  2.484907  \n",
      "171     1.609438  0.693147  \n",
      "172     1.609438  1.945910  \n",
      "173     1.791759  2.302585  \n",
      "174     2.484907  0.693147  \n",
      "175     1.609438  2.079442  \n",
      "176     1.609438  1.945910  \n",
      "177     1.945910  2.397895  \n",
      "178     2.079442  2.079442  \n",
      "179     2.197225  1.791759  \n",
      "180     1.609438  0.693147  \n",
      "181     2.639057  2.079442  \n",
      "182     1.609438  1.945910  \n",
      "183     3.178054  1.098612  \n",
      "184     1.609438  2.197225  \n",
      "185     3.218876  2.079442  \n",
      "186     2.772589  2.708050  \n",
      "187     2.772589  3.044522  \n",
      "188     2.302585  0.000000  \n",
      "189     2.397895  1.386294  \n",
      "190     1.945910  1.609438  \n",
      "191     2.079442  2.772589  \n",
      "192     2.484907  2.708050  \n",
      "193     1.609438  1.098612  \n",
      "194     2.397895  2.772589  \n",
      "195     1.609438  2.639057  \n",
      "196     2.302585  1.609438  \n",
      "197     1.945910  2.302585  \n",
      "198     2.708050  1.609438  \n",
      "199     2.944439  3.178054  \n",
      "200     1.945910  2.564949  \n",
      "201     2.397895  2.197225  \n",
      "202     1.791759  1.609438  \n",
      "204     1.609438  0.000000  \n",
      "206     1.791759  2.197225  \n",
      "207     1.609438  1.945910  \n",
      "208     2.564949  2.772589  \n",
      "209     1.609438  2.484907  \n",
      "210     3.583519  4.025352  \n",
      "212     1.609438  1.945910  \n",
      "213     1.791759  1.945910  \n",
      "214     2.197225  2.708050  \n",
      "215     1.609438  1.609438  \n",
      "216     2.995732  2.302585  \n",
      "217     1.609438  2.079442  \n",
      "218     2.484907  2.197225  \n",
      "219     1.791759  1.609438  \n",
      "220     2.639057  3.526361  \n",
      "221     2.079442  2.079442  \n",
      "222     2.397895  3.784190  \n",
      "223     1.609438  1.386294  \n",
      "224     2.639057  3.258097  \n",
      "225     2.708050  1.945910  \n",
      "226     2.197225  1.945910  \n",
      "227     1.609438  0.693147  \n",
      "229     2.708050  0.693147  \n",
      "230     1.609438  1.386294  \n",
      "231     2.197225  2.484907  \n",
      "232     1.609438  1.609438  \n",
      "234     2.397895  4.060443  \n",
      "235     2.944439  3.931826  \n",
      "236     2.944439  2.302585  \n",
      "237     1.609438  2.302585  \n",
      "238     2.079442  1.098612  \n",
      "239     1.945910  1.791759  \n",
      "240     1.609438  0.693147  \n",
      "242     1.609438  2.302585  \n",
      "243     1.609438  2.079442  \n",
      "244     1.609438  2.397895  \n",
      "245     1.791759  1.791759  \n",
      "247     2.197225  1.098612  \n",
      "248     1.609438  1.945910  \n",
      "249     2.302585  1.609438  \n",
      "250     1.609438  2.397895  \n",
      "251     2.833213  2.197225  \n",
      "252     3.135494  2.639057  \n",
      "253     2.397895  1.791759  \n",
      "254     2.302585  1.386294  \n"
     ]
    }
   ],
   "source": [
    "pd.set_option('display.max_rows', None)\n",
    "pd.set_option('display.max_columns', None)\n",
    "print(ASI_Base1)"
   ]
  },
  {
   "cell_type": "code",
   "execution_count": 43,
   "metadata": {},
   "outputs": [
    {
     "data": {
      "image/png": "[encoded data removed]",
      "text/plain": [
       "<Figure size 432x288 with 1 Axes>"
      ]
     },
     "metadata": {
      "needs_background": "light"
     },
     "output_type": "display_data"
    }
   ],
   "source": [
    "Plot = ASI_Base1.plot.scatter( x = 'Age', y = 'C1')"
   ]
  },
  {
   "cell_type": "code",
   "execution_count": 44,
   "metadata": {},
   "outputs": [
    {
     "data": {
      "image/png": "[encoded data removed]",
      "text/plain": [
       "<Figure size 432x288 with 1 Axes>"
      ]
     },
     "metadata": {
      "needs_background": "light"
     },
     "output_type": "display_data"
    }
   ],
   "source": [
    "Plot = ASI_Base1.plot.scatter( x = 'AgeLOG', y = 'C1LOG')"
   ]
  },
  {
   "cell_type": "code",
   "execution_count": 75,
   "metadata": {},
   "outputs": [],
   "source": [
    "x = ASI_Base1['Age']\n",
    "y = ASI_Base1['C1LOG']"
   ]
  },
  {
   "cell_type": "code",
   "execution_count": 76,
   "metadata": {},
   "outputs": [],
   "source": [
    "model = sm.OLS(y,x).fit()"
   ]
  },
  {
   "cell_type": "code",
   "execution_count": 77,
   "metadata": {},
   "outputs": [],
   "source": [
    "pred_val = model.fittedvalues.copy()\n",
    "true_val = ASI_Base1['C1LOG'].values.copy()\n",
    "residual = true_val - pred_val"
   ]
  },
  {
   "cell_type": "code",
   "execution_count": 78,
   "metadata": {},
   "outputs": [
    {
     "data": {
      "image/png": "[encoded data removed]",
      "text/plain": [
       "<Figure size 432x180 with 1 Axes>"
      ]
     },
     "metadata": {
      "needs_background": "light"
     },
     "output_type": "display_data"
    }
   ],
   "source": [
    "fig, ax = plt.subplots(figsize=(6, 2.5))\n",
    "_ = ax.scatter(residual, pred_val)"
   ]
  },
  {
   "cell_type": "code",
   "execution_count": 81,
   "metadata": {},
   "outputs": [
    {
     "data": {
      "text/plain": [
       "(47.02850037604098, nan, 58.66819437012205, 5.031127666419072e-13)"
      ]
     },
     "execution_count": 81,
     "metadata": {},
     "output_type": "execute_result"
    }
   ],
   "source": [
    "sms.diagnostic.het_breuschpagan(residual, ASI_Base1[['Age']])"
   ]
  },
  {
   "cell_type": "code",
   "execution_count": 82,
   "metadata": {},
   "outputs": [
    {
     "data": {
      "text/plain": [
       "Ttest_1sampResult(statistic=2.6358261382067947, pvalue=0.00896702403323433)"
      ]
     },
     "execution_count": 82,
     "metadata": {},
     "output_type": "execute_result"
    }
   ],
   "source": [
    "sms.linear_harvey_collier(model)"
   ]
  },
  {
   "cell_type": "code",
   "execution_count": 83,
   "metadata": {},
   "outputs": [],
   "source": [
    "transformed, _ = boxcox(ASI_Base1['Age'])"
   ]
  },
  {
   "cell_type": "code",
   "execution_count": 84,
   "metadata": {},
   "outputs": [
    {
     "data": {
      "text/plain": [
       "(array([ 4., 22., 26., 28., 32., 60., 39., 15.,  2.,  5.]),\n",
       " array([ 12.69567964,  36.13297116,  59.57026269,  83.00755421,\n",
       "        106.44484574, 129.88213726, 153.31942879, 176.75672031,\n",
       "        200.19401183, 223.63130336, 247.06859488]),\n",
       " <a list of 10 Patch objects>)"
      ]
     },
     "execution_count": 84,
     "metadata": {},
     "output_type": "execute_result"
    },
    {
     "data": {
      "image/png": "[encoded data removed]",
      "text/plain": [
       "<Figure size 432x288 with 1 Axes>"
      ]
     },
     "metadata": {
      "needs_background": "light"
     },
     "output_type": "display_data"
    }
   ],
   "source": [
    "plt.hist(transformed)"
   ]
  },
  {
   "cell_type": "code",
   "execution_count": 85,
   "metadata": {},
   "outputs": [
    {
     "data": {
      "text/html": [
       "<table class=\"simpletable\">\n",
       "<caption>OLS Regression Results</caption>\n",
       "<tr>\n",
       "  <th>Dep. Variable:</th>          <td>C1LOG</td>      <th>  R-squared (uncentered):</th>      <td>   0.829</td>\n",
       "</tr>\n",
       "<tr>\n",
       "  <th>Model:</th>                   <td>OLS</td>       <th>  Adj. R-squared (uncentered):</th> <td>   0.829</td>\n",
       "</tr>\n",
       "<tr>\n",
       "  <th>Method:</th>             <td>Least Squares</td>  <th>  F-statistic:       </th>          <td>   1128.</td>\n",
       "</tr>\n",
       "<tr>\n",
       "  <th>Date:</th>             <td>Fri, 26 Feb 2021</td> <th>  Prob (F-statistic):</th>          <td>4.59e-91</td>\n",
       "</tr>\n",
       "<tr>\n",
       "  <th>Time:</th>                 <td>19:52:45</td>     <th>  Log-Likelihood:    </th>          <td> -365.06</td>\n",
       "</tr>\n",
       "<tr>\n",
       "  <th>No. Observations:</th>      <td>   233</td>      <th>  AIC:               </th>          <td>   732.1</td>\n",
       "</tr>\n",
       "<tr>\n",
       "  <th>Df Residuals:</th>          <td>   232</td>      <th>  BIC:               </th>          <td>   735.6</td>\n",
       "</tr>\n",
       "<tr>\n",
       "  <th>Df Model:</th>              <td>     1</td>      <th>                     </th>              <td> </td>   \n",
       "</tr>\n",
       "<tr>\n",
       "  <th>Covariance Type:</th>      <td>nonrobust</td>    <th>                     </th>              <td> </td>   \n",
       "</tr>\n",
       "</table>\n",
       "<table class=\"simpletable\">\n",
       "<tr>\n",
       "   <td></td>     <th>coef</th>     <th>std err</th>      <th>t</th>      <th>P>|t|</th>  <th>[0.025</th>    <th>0.975]</th>  \n",
       "</tr>\n",
       "<tr>\n",
       "  <th>x1</th> <td>    0.0194</td> <td>    0.001</td> <td>   33.587</td> <td> 0.000</td> <td>    0.018</td> <td>    0.021</td>\n",
       "</tr>\n",
       "</table>\n",
       "<table class=\"simpletable\">\n",
       "<tr>\n",
       "  <th>Omnibus:</th>       <td> 2.028</td> <th>  Durbin-Watson:     </th> <td>   1.952</td>\n",
       "</tr>\n",
       "<tr>\n",
       "  <th>Prob(Omnibus):</th> <td> 0.363</td> <th>  Jarque-Bera (JB):  </th> <td>   1.724</td>\n",
       "</tr>\n",
       "<tr>\n",
       "  <th>Skew:</th>          <td> 0.124</td> <th>  Prob(JB):          </th> <td>   0.422</td>\n",
       "</tr>\n",
       "<tr>\n",
       "  <th>Kurtosis:</th>      <td> 3.341</td> <th>  Cond. No.          </th> <td>    1.00</td>\n",
       "</tr>\n",
       "</table><br/><br/>Warnings:<br/>[1] Standard Errors assume that the covariance matrix of the errors is correctly specified."
      ],
      "text/plain": [
       "<class 'statsmodels.iolib.summary.Summary'>\n",
       "\"\"\"\n",
       "                                 OLS Regression Results                                \n",
       "=======================================================================================\n",
       "Dep. Variable:                  C1LOG   R-squared (uncentered):                   0.829\n",
       "Model:                            OLS   Adj. R-squared (uncentered):              0.829\n",
       "Method:                 Least Squares   F-statistic:                              1128.\n",
       "Date:                Fri, 26 Feb 2021   Prob (F-statistic):                    4.59e-91\n",
       "Time:                        19:52:45   Log-Likelihood:                         -365.06\n",
       "No. Observations:                 233   AIC:                                      732.1\n",
       "Df Residuals:                     232   BIC:                                      735.6\n",
       "Df Model:                           1                                                  \n",
       "Covariance Type:            nonrobust                                                  \n",
       "==============================================================================\n",
       "                 coef    std err          t      P>|t|      [0.025      0.975]\n",
       "------------------------------------------------------------------------------\n",
       "x1             0.0194      0.001     33.587      0.000       0.018       0.021\n",
       "==============================================================================\n",
       "Omnibus:                        2.028   Durbin-Watson:                   1.952\n",
       "Prob(Omnibus):                  0.363   Jarque-Bera (JB):                1.724\n",
       "Skew:                           0.124   Prob(JB):                        0.422\n",
       "Kurtosis:                       3.341   Cond. No.                         1.00\n",
       "==============================================================================\n",
       "\n",
       "Warnings:\n",
       "[1] Standard Errors assume that the covariance matrix of the errors is correctly specified.\n",
       "\"\"\""
      ]
     },
     "execution_count": 85,
     "metadata": {},
     "output_type": "execute_result"
    }
   ],
   "source": [
    "x = transformed\n",
    "model1 = sm.OLS(y,x).fit()\n",
    "model1.summary()"
   ]
  },
  {
   "cell_type": "code",
   "execution_count": 86,
   "metadata": {},
   "outputs": [],
   "source": [
    "pred_val1 = model1.fittedvalues.copy()\n",
    "true_val1 = ASI_Base1['C1LOG'].values.copy()\n",
    "residual1 = true_val1 - pred_val1"
   ]
  },
  {
   "cell_type": "code",
   "execution_count": 87,
   "metadata": {},
   "outputs": [
    {
     "data": {
      "image/png": "[encoded data removed]",
      "text/plain": [
       "<Figure size 432x180 with 1 Axes>"
      ]
     },
     "metadata": {
      "needs_background": "light"
     },
     "output_type": "display_data"
    }
   ],
   "source": [
    "fig, ax = plt.subplots(figsize=(6, 2.5))\n",
    "_ = ax.scatter(residual, pred_val1)"
   ]
  },
  {
   "cell_type": "code",
   "execution_count": 88,
   "metadata": {},
   "outputs": [
    {
     "data": {
      "text/plain": [
       "(47.69260781977507, nan, 59.709895455366414, 3.30001301258983e-13)"
      ]
     },
     "execution_count": 88,
     "metadata": {},
     "output_type": "execute_result"
    }
   ],
   "source": [
    "sms.diagnostic.het_breuschpagan(residual1, ASI_Base1[['Age']])"
   ]
  },
  {
   "cell_type": "code",
   "execution_count": 89,
   "metadata": {},
   "outputs": [
    {
     "data": {
      "text/plain": [
       "Ttest_1sampResult(statistic=3.620087424732929, pvalue=0.00036252016660698967)"
      ]
     },
     "execution_count": 89,
     "metadata": {},
     "output_type": "execute_result"
    }
   ],
   "source": [
    "sms.linear_harvey_collier(model1)"
   ]
  },
  {
   "cell_type": "code",
   "execution_count": 58,
   "metadata": {},
   "outputs": [
    {
     "data": {
      "image/png": "[encoded data removed]",
      "text/plain": [
       "<Figure size 864x576 with 1 Axes>"
      ]
     },
     "metadata": {
      "needs_background": "light"
     },
     "output_type": "display_data"
    }
   ],
   "source": [
    "fig, ax = plt.subplots(figsize=(12,8))\n",
    "fig = sm.graphics.influence_plot(model1, alpha = .05, ax = ax, criterion=\"cooks\")"
   ]
  },
  {
   "cell_type": "code",
   "execution_count": 90,
   "metadata": {},
   "outputs": [
    {
     "name": "stdout",
     "output_type": "stream",
     "text": [
      "       dfb_x1       cooks_d  standard_resid  hat_diag  dffits_internal  \\\n",
      "0    0.043164  1.865083e-03        0.869803  0.002459         0.043187   \n",
      "1   -0.041436  1.722308e-03       -0.522450  0.006270        -0.041501   \n",
      "2    0.001496  2.248387e-06        0.024650  0.003687         0.001499   \n",
      "3    0.032347  1.047736e-03        0.829013  0.001522         0.032369   \n",
      "4    0.021460  4.623263e-04        0.318765  0.004529         0.021502   \n",
      "5    0.024295  5.924772e-04        0.360855  0.004529         0.024341   \n",
      "6    0.011435  1.313145e-04        0.161792  0.004991         0.011459   \n",
      "7   -0.016108  2.605417e-04       -0.222550  0.005233        -0.016141   \n",
      "8    0.044457  1.955238e-03        1.864841  0.000562         0.044218   \n",
      "9   -0.021900  4.814653e-04       -0.309801  0.004991        -0.021942   \n",
      "11  -0.049510  2.456691e-03       -0.699803  0.004991        -0.049565   \n",
      "12   0.022074  4.890334e-04        0.395093  0.003123         0.022114   \n",
      "13  -0.007450  5.573483e-05       -0.100559  0.005481        -0.007466   \n",
      "14   0.014647  2.153906e-04        0.262206  0.003123         0.014676   \n",
      "15  -0.044318  1.968281e-03       -0.710193  0.003887        -0.044365   \n",
      "16  -0.117052  1.366808e-02       -1.247690  0.008704        -0.116911   \n",
      "17   0.044095  1.933568e-03        1.512106  0.000845         0.043972   \n",
      "18   0.027192  7.421803e-04        0.375615  0.005233         0.027243   \n",
      "20   0.042059  1.767702e-03        1.076812  0.001522         0.042044   \n",
      "21   0.014120  2.001962e-04        0.232604  0.003687         0.014149   \n",
      "22   0.041802  1.748478e-03        0.928557  0.002024         0.041815   \n",
      "23  -0.078464  6.157241e-03       -0.987830  0.006270        -0.078468   \n",
      "24   0.023811  5.676023e-04        0.859639  0.000768         0.023824   \n",
      "25   0.007550  5.725024e-05        0.097387  0.006000         0.007566   \n",
      "26   0.044107  1.947601e-03        0.861707  0.002616         0.044132   \n",
      "27  -0.017471  3.064706e-04       -0.253219  0.004757        -0.017506   \n",
      "28   0.076291  5.676380e-03        2.590825  0.000845         0.075342   \n",
      "29   0.069755  4.809258e-03        1.919494  0.001304         0.069349   \n",
      "30  -0.070297  4.943883e-03       -0.947090  0.005481        -0.070313   \n",
      "31   0.044320  1.965536e-03        0.921723  0.002308         0.044334   \n",
      "32  -0.003573  1.282370e-05       -0.048235  0.005481        -0.003581   \n",
      "33  -0.305239  9.077019e-02       -2.636751  0.012888        -0.301281   \n",
      "34   0.036328  1.318630e-03        1.091571  0.001105         0.036313   \n",
      "35   0.122570  1.478160e-02        2.172154  0.003123         0.121580   \n",
      "36  -0.039531  1.567124e-03       -0.586879  0.004529        -0.039587   \n",
      "37  -0.017576  3.101785e-04       -0.221715  0.006270        -0.017612   \n",
      "38  -0.108504  1.175847e-02       -1.135147  0.009043        -0.108436   \n",
      "39   0.015524  2.418740e-04        0.413843  0.001410         0.015552   \n",
      "41   0.018628  3.483869e-04        0.283744  0.004309         0.018665   \n",
      "43   0.047938  2.291832e-03        1.273892  0.001410         0.047873   \n",
      "44  -0.077891  6.059924e-03       -1.125990  0.004757        -0.077846   \n",
      "45  -0.003558  1.271134e-05       -0.052856  0.004529        -0.003565   \n",
      "46   0.058542  3.424770e-03        1.076263  0.002948         0.058522   \n",
      "47   0.075317  5.669453e-03        1.063093  0.004991         0.075296   \n",
      "48   0.013281  1.771390e-04        0.134163  0.009745         0.013309   \n",
      "49   0.005866  3.456278e-05        0.105035  0.003123         0.005879   \n",
      "51   0.112803  1.266414e-02        1.448443  0.006000         0.112535   \n",
      "52   0.010240  1.053067e-04        0.168701  0.003687         0.010262   \n",
      "54  -0.108455  1.174537e-02       -1.156608  0.008704        -0.108376   \n",
      "55   0.041102  1.694541e-03        0.541910  0.005737         0.041165   \n",
      "56   0.019614  3.861746e-04        0.341287  0.003305         0.019651   \n",
      "57  -0.093139  8.673858e-03       -1.013578  0.008372        -0.093134   \n",
      "58   0.122552  1.484925e-02        1.900451  0.004095         0.121857   \n",
      "59  -0.109995  1.204684e-02       -1.412701  0.006000        -0.109758   \n",
      "60   0.027284  7.469945e-04        0.449313  0.003687         0.027331   \n",
      "61  -0.011708  1.376620e-04       -0.165656  0.004991        -0.011733   \n",
      "62  -0.016740  2.813959e-04       -0.215910  0.006000        -0.016775   \n",
      "63   0.040454  1.633179e-03        1.214808  0.001105         0.040413   \n",
      "64   0.041068  1.689733e-03        0.755982  0.002948         0.041106   \n",
      "66   0.055379  3.000790e-03        2.444425  0.000502         0.054779   \n",
      "68  -0.043619  1.907196e-03       -0.663885  0.004309        -0.043671   \n",
      "69  -0.024917  6.231535e-04       -0.370079  0.004529        -0.024963   \n",
      "70   0.066009  4.366964e-03        0.691778  0.009043         0.066083   \n",
      "71   0.020835  4.353359e-04        0.577511  0.001304         0.020865   \n",
      "72   0.035257  1.246815e-03        0.550688  0.004095         0.035310   \n",
      "73   0.112803  1.266414e-02        1.448443  0.006000         0.112535   \n",
      "74   0.034298  1.171897e-03        1.367697  0.000626         0.034233   \n",
      "75   0.045432  2.070230e-03        0.560443  0.006548         0.045500   \n",
      "76  -0.065527  4.301727e-03       -0.758292  0.007426        -0.065588   \n",
      "77   0.035311  1.248670e-03        0.812027  0.001890         0.035337   \n",
      "78  -0.048506  2.357771e-03       -0.719859  0.004529        -0.048557   \n",
      "79   0.008138  6.650367e-05        0.115139  0.004991         0.008155   \n",
      "80   0.007663  5.897659e-05        0.133373  0.003305         0.007680   \n",
      "81  -0.061957  3.848515e-03       -0.637185  0.009390        -0.062036   \n",
      "82   0.032557  1.056774e-03        1.298782  0.000626         0.032508   \n",
      "83   0.048775  2.367244e-03        1.462555  0.001105         0.048654   \n",
      "84   0.069238  4.754568e-03        1.701599  0.001639         0.068953   \n",
      "85   0.003750  1.412156e-05        0.058607  0.004095         0.003758   \n",
      "86  -0.035949  1.296787e-03       -0.453339  0.006270        -0.036011   \n",
      "87   0.012020  1.450789e-04        0.178566  0.004529         0.012045   \n",
      "88   0.035971  1.293988e-03        0.995664  0.001304         0.035972   \n",
      "89  -0.059887  3.593566e-03       -0.738389  0.006548        -0.059946   \n",
      "91   0.043068  1.859584e-03        0.639300  0.004529         0.043123   \n",
      "92   0.044320  1.965536e-03        0.921723  0.002308         0.044334   \n",
      "93   0.038445  1.476554e-03        1.107671  0.001202         0.038426   \n",
      "94  -0.082775  6.859045e-03       -0.866979  0.009043        -0.082819   \n",
      "95   0.017733  3.156995e-04        0.292097  0.003687         0.017768   \n",
      "96   0.024597  6.072315e-04        0.394467  0.003887         0.024642   \n",
      "97   0.027069  7.342635e-04        0.721053  0.001410         0.027097   \n",
      "98  -0.026146  6.862446e-04       -0.329783  0.006270        -0.026196   \n",
      "99   0.110680  1.220046e-02        1.390520  0.006270         0.110456   \n",
      "100  0.038859  1.514760e-03        0.524239  0.005481         0.038920   \n",
      "101 -0.011983  1.441872e-04       -0.158075  0.005737        -0.012008   \n",
      "102 -0.009962  9.966848e-05       -0.125681  0.006270        -0.009983   \n",
      "104  0.036328  1.318630e-03        1.091571  0.001105         0.036313   \n",
      "105  0.006050  3.676539e-05        0.099680  0.003687         0.006063   \n",
      "106 -0.088894  7.898779e-03       -1.049107  0.007125        -0.088875   \n",
      "107  0.048135  2.315567e-03        1.068581  0.002024         0.048120   \n",
      "109 -0.033189  1.105570e-03       -0.376635  0.007733        -0.033250   \n",
      "110 -0.012682  1.615077e-04       -0.163572  0.006000        -0.012709   \n",
      "111  0.041400  1.701218e-03        1.647879  0.000626         0.041246   \n",
      "112 -0.072165  5.215177e-03       -0.818017  0.007733        -0.072216   \n",
      "113 -0.047854  2.296767e-03       -0.565716  0.007125        -0.047925   \n",
      "114  0.025688  6.623639e-04        0.363370  0.004991         0.025736   \n",
      "115 -0.013764  1.902434e-04       -0.159467  0.007426        -0.013793   \n",
      "116  0.010542  1.115704e-04        0.281071  0.001410         0.010563   \n",
      "117  0.075446  5.449417e-03        3.294079  0.000502         0.073820   \n",
      "118  0.030762  9.392947e-04        1.646769  0.000346         0.030648   \n",
      "119  0.036328  1.318630e-03        1.091571  0.001105         0.036313   \n",
      "120  0.029156  8.496833e-04        1.051774  0.000768         0.029149   \n",
      "121 -0.007526  5.688155e-05       -0.109090  0.004757        -0.007542   \n",
      "122  0.048560  2.279300e-03        2.952149  0.000261         0.047742   \n",
      "123  0.037796  1.432432e-03        0.605857  0.003887         0.037847   \n",
      "124 -0.116430  1.352769e-02       -1.217555  0.009043        -0.116309   \n",
      "125  0.024295  5.924772e-04        0.360855  0.004529         0.024341   \n",
      "126 -0.009007  8.147344e-05       -0.148388  0.003687        -0.009026   \n",
      "127  0.012912  1.674313e-04        0.174291  0.005481         0.012940   \n",
      "128  0.007096  5.056178e-05        0.113827  0.003887         0.007111   \n",
      "129  0.020618  4.259236e-04        0.744663  0.000768         0.020638   \n",
      "130 -0.073640  5.427767e-03       -0.888215  0.006833        -0.073673   \n",
      "131  0.014156  2.001708e-04        1.116818  0.000160         0.014148   \n",
      "132  0.023598  5.590201e-04        0.318472  0.005481         0.023644   \n",
      "133  0.017306  3.002350e-04        0.657230  0.000695         0.017327   \n",
      "134 -0.116019  1.340516e-02       -1.395865  0.006833        -0.115781   \n",
      "135  0.065569  4.289278e-03        1.240653  0.002779         0.065493   \n",
      "136  0.058200  3.366978e-03        1.544051  0.001410         0.058026   \n",
      "138  0.031409  9.899159e-04        0.455093  0.004757         0.031463   \n",
      "139 -0.024917  6.231535e-04       -0.370079  0.004529        -0.024963   \n",
      "140 -0.053943  2.916576e-03       -0.679870  0.006270        -0.054005   \n",
      "141 -0.017471  3.064706e-04       -0.253219  0.004757        -0.017506   \n",
      "142  0.023256  5.406424e-04        1.037562  0.000502         0.023252   \n",
      "143 -0.004332  1.884821e-05       -0.065998  0.004309        -0.004341   \n",
      "144  0.045467  2.054465e-03        1.558661  0.000845         0.045326   \n",
      "145  0.039372  1.550538e-03        0.971724  0.001639         0.039377   \n",
      "146 -0.055122  3.046451e-03       -0.625209  0.007733        -0.055195   \n",
      "147  0.108746  1.174475e-02        1.606640  0.004529         0.108373   \n",
      "148 -0.020625  4.270373e-04       -0.314143  0.004309        -0.020665   \n",
      "149 -0.048506  2.357771e-03       -0.719859  0.004529        -0.048557   \n",
      "150 -0.233696  5.390607e-02       -1.998358  0.013319        -0.232177   \n",
      "151 -0.011576  1.345813e-04       -0.156261  0.005481        -0.011601   \n",
      "152  0.014156  2.001708e-04        1.116818  0.000160         0.014148   \n",
      "153 -0.020104  4.058276e-04       -0.242872  0.006833        -0.020145   \n",
      "154 -0.072202  5.216143e-03       -0.929583  0.006000        -0.072223   \n",
      "155  0.034935  1.216508e-03        1.322952  0.000695         0.034878   \n",
      "156 -0.005694  3.255666e-05       -0.058606  0.009390        -0.005706   \n",
      "157 -0.020211  4.099331e-04       -0.420936  0.002308        -0.020247   \n",
      "159 -0.117597  1.377859e-02       -1.357117  0.007426        -0.117382   \n",
      "160 -0.006121  3.762437e-05       -0.123540  0.002459        -0.006134   \n",
      "161 -0.003434  1.184252e-05       -0.071545  0.002308        -0.003441   \n",
      "162 -0.012291  1.516916e-04       -0.178148  0.004757        -0.012316   \n",
      "164 -0.034644  1.204775e-03       -0.343477  0.010109        -0.034710   \n",
      "166 -0.088342  7.792557e-03       -1.162093  0.005737        -0.088275   \n",
      "167  0.026437  7.011594e-04        0.501610  0.002779         0.026479   \n",
      "168 -0.213933  4.512159e-02       -2.064019  0.010480        -0.212418   \n",
      "169  0.055750  3.103502e-03        1.158206  0.002308         0.055709   \n",
      "170  0.015941  2.551200e-04        0.277396  0.003305         0.015972   \n",
      "171  0.049189  2.409061e-03        1.414848  0.001202         0.049082   \n",
      "172 -0.076322  5.824842e-03       -1.004716  0.005737        -0.076321   \n",
      "173  0.120721  1.433092e-02        2.201606  0.002948         0.119712   \n",
      "174  0.064070  4.084423e-03        1.468628  0.001890         0.063909   \n",
      "175  0.019429  3.789137e-04        0.368747  0.002779         0.019466   \n",
      "176  0.026606  7.084025e-04        0.915256  0.000845         0.026616   \n",
      "177 -0.051107  2.620032e-03       -0.535834  0.009043        -0.051186   \n",
      "178  0.022074  4.890334e-04        0.395093  0.003123         0.022114   \n",
      "179  0.009377  8.829643e-05        0.102264  0.008372         0.009397   \n",
      "180  0.016369  2.615135e-04        2.558258  0.000040         0.016171   \n",
      "181 -0.021109  4.473734e-04       -0.291624  0.005233        -0.021151   \n",
      "182  0.087505  7.484066e-03        2.493761  0.001202         0.086510   \n",
      "183  0.022190  4.943102e-04        0.306541  0.005233         0.022233   \n",
      "184 -0.020625  4.270373e-04       -0.314143  0.004309        -0.020665   \n",
      "185 -0.110780  1.224509e-02       -1.228445  0.008049        -0.110658   \n",
      "186  0.001015  1.035168e-06        0.019274  0.002779         0.001017   \n",
      "187  0.031372  9.863689e-04        0.697426  0.002024         0.031407   \n",
      "188  0.039068  1.512994e-03        1.735712  0.000502         0.038897   \n",
      "189  0.022258  4.973580e-04        0.293586  0.005737         0.022302   \n",
      "190  0.029156  8.496833e-04        1.051774  0.000768         0.029149   \n",
      "191 -0.004332  1.884821e-05       -0.065998  0.004309        -0.004341   \n",
      "192 -0.030646  9.426069e-04       -0.395165  0.006000        -0.030702   \n",
      "193  0.065235  4.251688e-03        1.101452  0.003492         0.065205   \n",
      "194 -0.044271  1.965357e-03       -0.597143  0.005481        -0.044332   \n",
      "195  0.026999  7.315853e-04        0.400986  0.004529         0.027048   \n",
      "196  0.046801  2.188875e-03        1.075120  0.001890         0.046785   \n",
      "197  0.015308  2.352484e-04        0.329422  0.002163         0.015338   \n",
      "198 -0.282363  7.831489e-02       -2.257644  0.015133        -0.279848   \n",
      "199 -0.011543  1.337889e-04       -0.195387  0.003492        -0.011567   \n",
      "200 -0.017576  3.101785e-04       -0.221715  0.006270        -0.017612   \n",
      "201  0.061786  3.789667e-03        1.638106  0.001410         0.061560   \n",
      "202  0.066314  4.395147e-03        1.061255  0.003887         0.066296   \n",
      "204  0.030574  9.380852e-04        0.432436  0.004991         0.030628   \n",
      "206  0.026908  7.262557e-04        0.542771  0.002459         0.026949   \n",
      "207 -0.011479  1.323159e-04       -0.158597  0.005233        -0.011503   \n",
      "208 -0.031419  9.906294e-04       -0.423948  0.005481        -0.031474   \n",
      "209  0.071699  5.098751e-03        1.699595  0.001762         0.071406   \n",
      "210  0.036888  1.365170e-03        0.497681  0.005481         0.036948   \n",
      "212 -0.019682  3.885331e-04       -0.568198  0.001202        -0.019711   \n",
      "213 -0.072202  5.216143e-03       -0.929583  0.006000        -0.072223   \n",
      "214 -0.200828  3.995388e-02       -1.779137  0.012465        -0.199885   \n",
      "215  0.041638  1.737069e-03        0.744626  0.003123         0.041678   \n",
      "216 -0.010729  1.155939e-04       -0.167676  0.004095        -0.010751   \n",
      "217 -0.020330  4.148262e-04       -0.385826  0.002779        -0.020367   \n",
      "218 -0.037015  1.374878e-03       -0.447033  0.006833        -0.037079   \n",
      "219  0.004319  1.873417e-05        0.193142  0.000502         0.004328   \n",
      "220 -0.027521  7.598822e-04       -0.492496  0.003123        -0.027566   \n",
      "221  0.027784  7.732940e-04        0.769697  0.001304         0.027808   \n",
      "222  0.029523  8.736372e-04        0.679222  0.001890         0.029557   \n",
      "223  0.046605  2.178564e-03        0.550966  0.007125         0.046675   \n",
      "224 -0.028313  8.048117e-04       -0.296978  0.009043        -0.028369   \n",
      "225  0.004575  2.102099e-05        0.059012  0.006000         0.004585   \n",
      "226 -0.027363  7.516731e-04       -0.316978  0.007426        -0.027417   \n",
      "227 -0.031463  9.935404e-04       -0.388253  0.006548        -0.031520   \n",
      "229  0.036141  1.310419e-03        0.499107  0.005233         0.036200   \n",
      "230 -0.027299  7.479148e-04       -0.415739  0.004309        -0.027348   \n",
      "231  0.046198  2.122346e-03        1.512387  0.000927         0.046069   \n",
      "232  0.040832  1.668908e-03        0.877416  0.002163         0.040852   \n",
      "234 -0.008016  6.452341e-05       -0.105745  0.005737        -0.008033   \n",
      "235  0.000200  4.010682e-08        0.003044  0.004309         0.000200   \n",
      "236 -0.005237  2.754471e-05       -0.067551  0.006000        -0.005248   \n",
      "237  0.035576  1.255692e-03        1.677377  0.000446         0.035436   \n",
      "238 -0.011307  1.283887e-04       -0.202439  0.003123        -0.011331   \n",
      "239  0.060114  3.569188e-03        1.961280  0.000927         0.059743   \n",
      "240  0.033032  1.093763e-03        0.666091  0.002459         0.033072   \n",
      "242 -0.003115  9.744695e-06       -0.045153  0.004757        -0.003122   \n",
      "243 -0.036444  1.332337e-03       -0.527969  0.004757        -0.036501   \n",
      "244  0.018477  3.427987e-04        0.249389  0.005481         0.018515   \n",
      "245  0.013338  1.786022e-04        0.277845  0.002308         0.013364   \n",
      "247 -0.009622  9.298602e-05       -0.116256  0.006833        -0.009643   \n",
      "248 -0.048236  2.332844e-03       -0.621665  0.006000        -0.048300   \n",
      "249 -0.079055  6.255811e-03       -0.878044  0.008049        -0.079094   \n",
      "250  0.030756  9.470323e-04        0.851785  0.001304         0.030774   \n",
      "251 -0.224349  4.977299e-02       -1.888843  0.013759        -0.223099   \n",
      "252  0.026532  7.039061e-04        1.006338  0.000695         0.026531   \n",
      "253  0.046135  2.127997e-03        1.024387  0.002024         0.046130   \n",
      "254  0.056381  3.172415e-03        1.209719  0.002163         0.056324   \n",
      "\n",
      "     student_resid    dffits  \n",
      "0         0.869346  0.043164  \n",
      "1        -0.521630 -0.041436  \n",
      "2         0.024597  0.001496  \n",
      "3         0.828453  0.032347  \n",
      "4         0.318147  0.021460  \n",
      "5         0.360177  0.024295  \n",
      "6         0.161452  0.011435  \n",
      "7        -0.222093 -0.016108  \n",
      "8         1.874923  0.044457  \n",
      "9        -0.309197 -0.021900  \n",
      "11       -0.699032 -0.049510  \n",
      "12        0.394373  0.022074  \n",
      "13       -0.100344 -0.007450  \n",
      "14        0.261679  0.014647  \n",
      "15       -0.709433 -0.044318  \n",
      "16       -1.249197 -0.117052  \n",
      "17        1.516334  0.044095  \n",
      "18        0.374919  0.027192  \n",
      "20        1.077184  0.042059  \n",
      "21        0.232130  0.014120  \n",
      "22        0.928281  0.041802  \n",
      "23       -0.987778 -0.078464  \n",
      "24        0.859153  0.023811  \n",
      "25        0.097179  0.007550  \n",
      "26        0.861228  0.044107  \n",
      "27       -0.252707 -0.017471  \n",
      "28        2.623466  0.076291  \n",
      "29        1.930745  0.069755  \n",
      "30       -0.946879 -0.070297  \n",
      "31        0.921423  0.044320  \n",
      "32       -0.048131 -0.003573  \n",
      "33       -2.671394 -0.305239  \n",
      "34        1.092024  0.036328  \n",
      "35        2.189850  0.122570  \n",
      "36       -0.586048 -0.039531  \n",
      "37       -0.221260 -0.017576  \n",
      "38       -1.135857 -0.108504  \n",
      "39        0.413103  0.015524  \n",
      "41        0.283181  0.018628  \n",
      "43        1.275613  0.047938  \n",
      "44       -1.126644 -0.077891  \n",
      "45       -0.052742 -0.003558  \n",
      "46        1.076632  0.058542  \n",
      "47        1.063393  0.075317  \n",
      "48        0.133879  0.013281  \n",
      "49        0.104811  0.005866  \n",
      "51        1.451898  0.112803  \n",
      "52        0.168347  0.010240  \n",
      "54       -1.157455 -0.108455  \n",
      "55        0.541083  0.041102  \n",
      "56        0.340636  0.019614  \n",
      "57       -1.013638 -0.093139  \n",
      "58        1.911286  0.122552  \n",
      "59       -1.415756 -0.109995  \n",
      "60        0.448538  0.027284  \n",
      "61       -0.165309 -0.011708  \n",
      "62       -0.215466 -0.016740  \n",
      "63        1.216061  0.040454  \n",
      "64        0.755282  0.041068  \n",
      "66        2.471182  0.055379  \n",
      "68       -0.663083 -0.043619  \n",
      "69       -0.369389 -0.024917  \n",
      "70        0.690998  0.066009  \n",
      "71        0.576679  0.020835  \n",
      "72        0.549859  0.035257  \n",
      "73        1.451898  0.112803  \n",
      "74        1.370282  0.034298  \n",
      "75        0.559613  0.045432  \n",
      "76       -0.757595 -0.065527  \n",
      "77        0.811429  0.035311  \n",
      "78       -0.719110 -0.048506  \n",
      "79        0.114894  0.008138  \n",
      "80        0.133090  0.007663  \n",
      "81       -0.636367 -0.061957  \n",
      "82        1.300718  0.032557  \n",
      "83        1.466174  0.048775  \n",
      "84        1.708623  0.069238  \n",
      "85        0.058480  0.003750  \n",
      "86       -0.452562 -0.035949  \n",
      "87        0.178193  0.012020  \n",
      "88        0.995645  0.035971  \n",
      "89       -0.737663 -0.059887  \n",
      "91        0.638483  0.043068  \n",
      "92        0.921423  0.044320  \n",
      "93        1.108215  0.038445  \n",
      "94       -0.866513 -0.082775  \n",
      "95        0.291520  0.017733  \n",
      "96        0.393748  0.024597  \n",
      "97        0.720305  0.027069  \n",
      "98       -0.329149 -0.026146  \n",
      "99        1.393339  0.110680  \n",
      "100       0.523418  0.038859  \n",
      "101      -0.157743 -0.011983  \n",
      "102      -0.125414 -0.009962  \n",
      "104       1.092024  0.036328  \n",
      "105       0.099467  0.006050  \n",
      "106      -1.049336 -0.088894  \n",
      "107       1.068909  0.048135  \n",
      "109      -0.375938 -0.033189  \n",
      "110      -0.163229 -0.012682  \n",
      "111       1.654032  0.041400  \n",
      "112      -0.817432 -0.072165  \n",
      "113      -0.564885 -0.047854  \n",
      "114       0.362689  0.025688  \n",
      "115      -0.159131 -0.013764  \n",
      "116       0.280512  0.010542  \n",
      "117       3.366646  0.075446  \n",
      "118       1.652905  0.030762  \n",
      "119       1.092024  0.036328  \n",
      "120       1.052016  0.029156  \n",
      "121      -0.108858 -0.007526  \n",
      "122       3.002719  0.048560  \n",
      "123       0.605028  0.037796  \n",
      "124      -1.218829 -0.116430  \n",
      "125       0.360177  0.024295  \n",
      "126      -0.148075 -0.009007  \n",
      "127       0.173927  0.012912  \n",
      "128       0.113584  0.007096  \n",
      "129       0.743946  0.020618  \n",
      "130      -0.887809 -0.073640  \n",
      "131       1.117416  0.014156  \n",
      "132       0.317854  0.023598  \n",
      "133       0.656423  0.017306  \n",
      "134      -1.398739 -0.116019  \n",
      "135       1.242103  0.065569  \n",
      "136       1.548697  0.058200  \n",
      "138       0.454314  0.031409  \n",
      "139      -0.369389 -0.024917  \n",
      "140      -0.679080 -0.053943  \n",
      "141      -0.252707 -0.017471  \n",
      "142       1.037734  0.023256  \n",
      "143      -0.065856 -0.004332  \n",
      "144       1.563506  0.045467  \n",
      "145       0.971607  0.039372  \n",
      "146      -0.624386 -0.055122  \n",
      "147       1.612168  0.108746  \n",
      "148      -0.313532 -0.020625  \n",
      "149      -0.719110 -0.048506  \n",
      "150      -2.011434 -0.233696  \n",
      "151      -0.155932 -0.011576  \n",
      "152       1.117416  0.014156  \n",
      "153      -0.242379 -0.020104  \n",
      "154      -0.929310 -0.072202  \n",
      "155       1.325106  0.034935  \n",
      "156      -0.058480 -0.005694  \n",
      "157      -0.420188 -0.020211  \n",
      "159      -1.359596 -0.117597  \n",
      "160      -0.123277 -0.006121  \n",
      "161      -0.071392 -0.003434  \n",
      "162      -0.177776 -0.012291  \n",
      "164      -0.342823 -0.034644  \n",
      "166      -1.162976 -0.088342  \n",
      "167       0.500800  0.026437  \n",
      "168      -2.078740 -0.213933  \n",
      "169       1.159063  0.055750  \n",
      "170       0.276843  0.015941  \n",
      "171       1.417926  0.049189  \n",
      "172      -1.004736 -0.076322  \n",
      "173       2.220171  0.120721  \n",
      "174       1.472319  0.064070  \n",
      "175       0.368059  0.019429  \n",
      "176       0.914934  0.026606  \n",
      "177      -0.535009 -0.051107  \n",
      "178       0.394373  0.022074  \n",
      "179       0.102046  0.009377  \n",
      "180       2.589525  0.016369  \n",
      "181      -0.291048 -0.021109  \n",
      "182       2.522417  0.087505  \n",
      "183       0.305941  0.022190  \n",
      "184      -0.313532 -0.020625  \n",
      "185      -1.229801 -0.110780  \n",
      "186       0.019232  0.001015  \n",
      "187       0.696652  0.031372  \n",
      "188       1.743323  0.039068  \n",
      "189       0.293007  0.022258  \n",
      "190       1.052016  0.029156  \n",
      "191      -0.065856 -0.004332  \n",
      "192      -0.394446 -0.030646  \n",
      "193       1.101961  0.065235  \n",
      "194      -0.596313 -0.044271  \n",
      "195       0.400260  0.026999  \n",
      "196       1.075483  0.046801  \n",
      "197       0.328788  0.015308  \n",
      "198      -2.277935 -0.282363  \n",
      "199      -0.194981 -0.011543  \n",
      "200      -0.221260 -0.017576  \n",
      "201       1.644107  0.061786  \n",
      "202       1.061545  0.066314  \n",
      "204       0.431677  0.030574  \n",
      "206       0.541944  0.026908  \n",
      "207      -0.158263 -0.011479  \n",
      "208      -0.423198 -0.031419  \n",
      "209       1.706585  0.071699  \n",
      "210       0.496872  0.036888  \n",
      "212      -0.567367 -0.019682  \n",
      "213      -0.929310 -0.072202  \n",
      "214      -1.787535 -0.200828  \n",
      "215       0.743909  0.041638  \n",
      "216      -0.167325 -0.010729  \n",
      "217      -0.385117 -0.020330  \n",
      "218      -0.446261 -0.037015  \n",
      "219       0.192741  0.004319  \n",
      "220      -0.491691 -0.027521  \n",
      "221       0.769019  0.027784  \n",
      "222       0.678432  0.029523  \n",
      "223       0.550138  0.046605  \n",
      "224      -0.296393 -0.028313  \n",
      "225       0.058885  0.004575  \n",
      "226      -0.316363 -0.027363  \n",
      "227      -0.387541 -0.031463  \n",
      "229       0.498298  0.036141  \n",
      "230      -0.414997 -0.027299  \n",
      "231       1.516619  0.046198  \n",
      "232       0.876979  0.040832  \n",
      "234      -0.105519 -0.008016  \n",
      "235       0.003038  0.000200  \n",
      "236      -0.067406 -0.005237  \n",
      "237       1.684001  0.035576  \n",
      "238      -0.202020 -0.011307  \n",
      "239       1.973477  0.060114  \n",
      "240       0.665290  0.033032  \n",
      "242      -0.045056 -0.003115  \n",
      "243      -0.527146 -0.036444  \n",
      "244       0.248884  0.018477  \n",
      "245       0.277292  0.013338  \n",
      "247      -0.116009 -0.009622  \n",
      "248      -0.620841 -0.048236  \n",
      "249      -0.877609 -0.079055  \n",
      "250       0.851280  0.030756  \n",
      "251      -1.899429 -0.224349  \n",
      "252       1.006366  0.026532  \n",
      "253       1.024497  0.046135  \n",
      "254       1.210934  0.056381  \n"
     ]
    }
   ],
   "source": [
    "infl = model1.get_influence()\n",
    "print(infl.summary_frame())"
   ]
  },
  {
   "cell_type": "code",
   "execution_count": null,
   "metadata": {},
   "outputs": [],
   "source": []
  }
 ],
 "metadata": {
  "kernelspec": {
   "display_name": "Python 3",
   "language": "python",
   "name": "python3"
  },
  "language_info": {
   "codemirror_mode": {
    "name": "ipython",
    "version": 3
   },
   "file_extension": ".py",
   "mimetype": "text/x-python",
   "name": "python",
   "nbconvert_exporter": "python",
   "pygments_lexer": "ipython3",
   "version": "3.8.3"
  }
 },
 "nbformat": 4,
 "nbformat_minor": 4
}
