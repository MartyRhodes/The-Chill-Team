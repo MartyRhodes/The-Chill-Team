{
 "cells": [
  {
   "cell_type": "code",
   "execution_count": 1,
   "metadata": {},
   "outputs": [],
   "source": [
    "import pandas as pd\n",
    "import numpy as np\n",
    "import matplotlib.pyplot as plt\n",
    "from pylab import *\n",
    "import seaborn as sns\n",
    "%matplotlib inline\n",
    "import  statsmodels.api as sm\n",
    "import statsmodels.stats.api as sms\n",
    "from scipy import stats\n",
    "from scipy.stats import boxcox"
   ]
  },
  {
   "cell_type": "code",
   "execution_count": 2,
   "metadata": {},
   "outputs": [],
   "source": [
    "#Loaded Libraries"
   ]
  },
  {
   "cell_type": "code",
   "execution_count": 3,
   "metadata": {},
   "outputs": [],
   "source": [
    "ASI_Base = pd.read_csv('C:/Users/matth/Desktop/Week-4-Analysis/ASI_Base.csv')"
   ]
  },
  {
   "cell_type": "code",
   "execution_count": 4,
   "metadata": {},
   "outputs": [],
   "source": [
    "#Loaded Data"
   ]
  },
  {
   "cell_type": "code",
   "execution_count": 5,
   "metadata": {},
   "outputs": [
    {
     "data": {
      "text/html": [
       "<div>\n",
       "<style scoped>\n",
       "    .dataframe tbody tr th:only-of-type {\n",
       "        vertical-align: middle;\n",
       "    }\n",
       "\n",
       "    .dataframe tbody tr th {\n",
       "        vertical-align: top;\n",
       "    }\n",
       "\n",
       "    .dataframe thead th {\n",
       "        text-align: right;\n",
       "    }\n",
       "</style>\n",
       "<table border=\"1\" class=\"dataframe\">\n",
       "  <thead>\n",
       "    <tr style=\"text-align: right;\">\n",
       "      <th></th>\n",
       "      <th>Unnamed: 0</th>\n",
       "      <th>Year</th>\n",
       "      <th>Age</th>\n",
       "      <th>Gender</th>\n",
       "      <th>C1</th>\n",
       "      <th>C2</th>\n",
       "      <th>C3</th>\n",
       "      <th>C4</th>\n",
       "      <th>CTotal</th>\n",
       "      <th>DHEA</th>\n",
       "      <th>IF</th>\n",
       "      <th>INF</th>\n",
       "      <th>P17-OH</th>\n",
       "      <th>TotalIgA</th>\n",
       "      <th>GIgA</th>\n",
       "      <th>RandID</th>\n",
       "    </tr>\n",
       "  </thead>\n",
       "  <tbody>\n",
       "    <tr>\n",
       "      <th>0</th>\n",
       "      <td>0</td>\n",
       "      <td>10</td>\n",
       "      <td>42</td>\n",
       "      <td>F</td>\n",
       "      <td>19.0</td>\n",
       "      <td>6</td>\n",
       "      <td>4.0</td>\n",
       "      <td>5.0</td>\n",
       "      <td>34</td>\n",
       "      <td>1.0</td>\n",
       "      <td>3.0</td>\n",
       "      <td>3.0</td>\n",
       "      <td>49.0</td>\n",
       "      <td>5.0</td>\n",
       "      <td>23.0</td>\n",
       "      <td>9383480749</td>\n",
       "    </tr>\n",
       "    <tr>\n",
       "      <th>1</th>\n",
       "      <td>1</td>\n",
       "      <td>11</td>\n",
       "      <td>60</td>\n",
       "      <td>F</td>\n",
       "      <td>12.0</td>\n",
       "      <td>7</td>\n",
       "      <td>4.0</td>\n",
       "      <td>7.0</td>\n",
       "      <td>30</td>\n",
       "      <td>2.0</td>\n",
       "      <td>3.0</td>\n",
       "      <td>22.0</td>\n",
       "      <td>15.0</td>\n",
       "      <td>7.0</td>\n",
       "      <td>5.0</td>\n",
       "      <td>2705809722</td>\n",
       "    </tr>\n",
       "    <tr>\n",
       "      <th>2</th>\n",
       "      <td>2</td>\n",
       "      <td>14</td>\n",
       "      <td>49</td>\n",
       "      <td>F</td>\n",
       "      <td>11.0</td>\n",
       "      <td>1</td>\n",
       "      <td>1.0</td>\n",
       "      <td>1.0</td>\n",
       "      <td>14</td>\n",
       "      <td>3.0</td>\n",
       "      <td>3.0</td>\n",
       "      <td>3.0</td>\n",
       "      <td>30.0</td>\n",
       "      <td>5.0</td>\n",
       "      <td>1.0</td>\n",
       "      <td>517281238</td>\n",
       "    </tr>\n",
       "    <tr>\n",
       "      <th>3</th>\n",
       "      <td>3</td>\n",
       "      <td>14</td>\n",
       "      <td>35</td>\n",
       "      <td>F</td>\n",
       "      <td>12.0</td>\n",
       "      <td>3</td>\n",
       "      <td>6.0</td>\n",
       "      <td>1.0</td>\n",
       "      <td>22</td>\n",
       "      <td>6.0</td>\n",
       "      <td>15.0</td>\n",
       "      <td>18.0</td>\n",
       "      <td>33.0</td>\n",
       "      <td>16.0</td>\n",
       "      <td>4.0</td>\n",
       "      <td>2356075951</td>\n",
       "    </tr>\n",
       "    <tr>\n",
       "      <th>4</th>\n",
       "      <td>4</td>\n",
       "      <td>13</td>\n",
       "      <td>53</td>\n",
       "      <td>F</td>\n",
       "      <td>20.0</td>\n",
       "      <td>7</td>\n",
       "      <td>4.0</td>\n",
       "      <td>3.0</td>\n",
       "      <td>34</td>\n",
       "      <td>5.0</td>\n",
       "      <td>3.0</td>\n",
       "      <td>7.0</td>\n",
       "      <td>9.0</td>\n",
       "      <td>5.0</td>\n",
       "      <td>13.0</td>\n",
       "      <td>9137475714</td>\n",
       "    </tr>\n",
       "  </tbody>\n",
       "</table>\n",
       "</div>"
      ],
      "text/plain": [
       "   Unnamed: 0  Year  Age Gender    C1  C2   C3   C4  CTotal  DHEA    IF   INF  \\\n",
       "0           0    10   42      F  19.0   6  4.0  5.0      34   1.0   3.0   3.0   \n",
       "1           1    11   60      F  12.0   7  4.0  7.0      30   2.0   3.0  22.0   \n",
       "2           2    14   49      F  11.0   1  1.0  1.0      14   3.0   3.0   3.0   \n",
       "3           3    14   35      F  12.0   3  6.0  1.0      22   6.0  15.0  18.0   \n",
       "4           4    13   53      F  20.0   7  4.0  3.0      34   5.0   3.0   7.0   \n",
       "\n",
       "   P17-OH  TotalIgA  GIgA      RandID  \n",
       "0    49.0       5.0  23.0  9383480749  \n",
       "1    15.0       7.0   5.0  2705809722  \n",
       "2    30.0       5.0   1.0   517281238  \n",
       "3    33.0      16.0   4.0  2356075951  \n",
       "4     9.0       5.0  13.0  9137475714  "
      ]
     },
     "execution_count": 5,
     "metadata": {},
     "output_type": "execute_result"
    }
   ],
   "source": [
    "ASI_Base.head()"
   ]
  },
  {
   "cell_type": "code",
   "execution_count": 6,
   "metadata": {},
   "outputs": [],
   "source": [
    "ASI_Base1 = ASI_Base[['Age','DHEA']]"
   ]
  },
  {
   "cell_type": "code",
   "execution_count": 7,
   "metadata": {},
   "outputs": [
    {
     "name": "stdout",
     "output_type": "stream",
     "text": [
      "<class 'pandas.core.frame.DataFrame'>\n",
      "RangeIndex: 255 entries, 0 to 254\n",
      "Data columns (total 2 columns):\n",
      " #   Column  Non-Null Count  Dtype  \n",
      "---  ------  --------------  -----  \n",
      " 0   Age     255 non-null    int64  \n",
      " 1   DHEA    250 non-null    float64\n",
      "dtypes: float64(1), int64(1)\n",
      "memory usage: 4.0 KB\n"
     ]
    }
   ],
   "source": [
    "ASI_Base1.info()"
   ]
  },
  {
   "cell_type": "code",
   "execution_count": 8,
   "metadata": {},
   "outputs": [],
   "source": [
    "#DROP NA Values"
   ]
  },
  {
   "cell_type": "code",
   "execution_count": 12,
   "metadata": {},
   "outputs": [
    {
     "name": "stderr",
     "output_type": "stream",
     "text": [
      "<ipython-input-12-a356c9faf015>:1: SettingWithCopyWarning: \n",
      "A value is trying to be set on a copy of a slice from a DataFrame\n",
      "\n",
      "See the caveats in the documentation: https://pandas.pydata.org/pandas-docs/stable/user_guide/indexing.html#returning-a-view-versus-a-copy\n",
      "  ASI_Base1.dropna(inplace=True)\n"
     ]
    }
   ],
   "source": [
    "ASI_Base1.dropna(inplace=True)"
   ]
  },
  {
   "cell_type": "code",
   "execution_count": 13,
   "metadata": {},
   "outputs": [],
   "source": [
    "#Convert DHEA into Integer"
   ]
  },
  {
   "cell_type": "code",
   "execution_count": 14,
   "metadata": {},
   "outputs": [
    {
     "name": "stderr",
     "output_type": "stream",
     "text": [
      "<ipython-input-14-2a892db57b1d>:1: SettingWithCopyWarning: \n",
      "A value is trying to be set on a copy of a slice from a DataFrame.\n",
      "Try using .loc[row_indexer,col_indexer] = value instead\n",
      "\n",
      "See the caveats in the documentation: https://pandas.pydata.org/pandas-docs/stable/user_guide/indexing.html#returning-a-view-versus-a-copy\n",
      "  ASI_Base1['DHEA'] = ASI_Base1['DHEA'].astype(int)\n"
     ]
    }
   ],
   "source": [
    "ASI_Base1['DHEA'] = ASI_Base1['DHEA'].astype(int)"
   ]
  },
  {
   "cell_type": "code",
   "execution_count": 15,
   "metadata": {},
   "outputs": [
    {
     "name": "stdout",
     "output_type": "stream",
     "text": [
      "<class 'pandas.core.frame.DataFrame'>\n",
      "Int64Index: 250 entries, 0 to 254\n",
      "Data columns (total 2 columns):\n",
      " #   Column  Non-Null Count  Dtype\n",
      "---  ------  --------------  -----\n",
      " 0   Age     250 non-null    int64\n",
      " 1   DHEA    250 non-null    int32\n",
      "dtypes: int32(1), int64(1)\n",
      "memory usage: 4.9 KB\n"
     ]
    }
   ],
   "source": [
    "ASI_Base1.info()"
   ]
  },
  {
   "cell_type": "code",
   "execution_count": 16,
   "metadata": {},
   "outputs": [
    {
     "name": "stderr",
     "output_type": "stream",
     "text": [
      "<ipython-input-16-bb71ae7ed462>:1: SettingWithCopyWarning: \n",
      "A value is trying to be set on a copy of a slice from a DataFrame.\n",
      "Try using .loc[row_indexer,col_indexer] = value instead\n",
      "\n",
      "See the caveats in the documentation: https://pandas.pydata.org/pandas-docs/stable/user_guide/indexing.html#returning-a-view-versus-a-copy\n",
      "  ASI_Base1['DHEALOG'] = np.log(ASI_Base1['DHEA'])\n"
     ]
    }
   ],
   "source": [
    "ASI_Base1['DHEALOG'] = np.log(ASI_Base1['DHEA'])"
   ]
  },
  {
   "cell_type": "code",
   "execution_count": 18,
   "metadata": {},
   "outputs": [
    {
     "data": {
      "text/plain": [
       "<matplotlib.axes._subplots.AxesSubplot at 0xa0be8c8>"
      ]
     },
     "execution_count": 18,
     "metadata": {},
     "output_type": "execute_result"
    },
    {
     "data": {
      "image/png": "[encoded data removed]",
      "text/plain": [
       "<Figure size 432x288 with 1 Axes>"
      ]
     },
     "metadata": {
      "needs_background": "light"
     },
     "output_type": "display_data"
    }
   ],
   "source": [
    "sns.distplot(ASI_Base1['DHEALOG'])"
   ]
  },
  {
   "cell_type": "code",
   "execution_count": 19,
   "metadata": {},
   "outputs": [
    {
     "data": {
      "text/plain": [
       "<matplotlib.axes._subplots.AxesSubplot at 0x15e46a0>"
      ]
     },
     "execution_count": 19,
     "metadata": {},
     "output_type": "execute_result"
    },
    {
     "data": {
      "image/png": "[encoded data removed]",
      "text/plain": [
       "<Figure size 432x288 with 1 Axes>"
      ]
     },
     "metadata": {
      "needs_background": "light"
     },
     "output_type": "display_data"
    }
   ],
   "source": [
    "sns.distplot(ASI_Base1['Age'])"
   ]
  },
  {
   "cell_type": "code",
   "execution_count": 20,
   "metadata": {},
   "outputs": [
    {
     "name": "stdout",
     "output_type": "stream",
     "text": [
      "     Age  DHEA   DHEALOG\n",
      "0     42     1  0.000000\n",
      "1     60     2  0.693147\n",
      "2     49     3  1.098612\n",
      "3     35     6  1.791759\n",
      "4     53     5  1.609438\n",
      "5     53     2  0.693147\n",
      "6     55     4  1.386294\n",
      "7     56     4  1.386294\n",
      "8     24     3  1.098612\n",
      "9     55     7  1.945910\n",
      "10    93     3  1.098612\n",
      "11    55     2  0.693147\n",
      "12    46     3  1.098612\n",
      "13    57     5  1.609438\n",
      "14    46     2  0.693147\n",
      "15    50     2  0.693147\n",
      "16    68     4  1.386294\n",
      "17    28     3  1.098612\n",
      "18    56     2  0.693147\n",
      "19    28    18  2.890372\n",
      "20    35     3  1.098612\n",
      "21    49     4  1.386294\n",
      "22    39     3  1.098612\n",
      "23    60    14  2.639057\n",
      "24    27     3  1.098612\n",
      "25    59     5  1.609438\n",
      "26    43     7  1.945910\n",
      "27    54     3  1.098612\n",
      "28    28     8  2.079442\n",
      "29    33    10  2.302585\n",
      "30    57     5  1.609438\n",
      "31    41    11  2.397895\n",
      "32    57     4  1.386294\n",
      "33    79     1  0.000000\n",
      "34    31     3  1.098612\n",
      "35    46     7  1.945910\n",
      "36    53     1  0.000000\n",
      "37    60     2  0.693147\n",
      "38    69     4  1.386294\n",
      "39    34     6  1.791759\n",
      "41    52     4  1.386294\n",
      "42    74     2  0.693147\n",
      "43    34    10  2.302585\n",
      "44    54     4  1.386294\n",
      "45    53     4  1.386294\n",
      "46    45     5  1.609438\n",
      "47    55     3  1.098612\n",
      "48    71     3  1.098612\n",
      "49    46     2  0.693147\n",
      "50    64     4  1.386294\n",
      "51    59     2  0.693147\n",
      "52    49     5  1.609438\n",
      "53    46     4  1.386294\n",
      "54    68     3  1.098612\n",
      "55    58     7  1.945910\n",
      "56    47     8  2.079442\n",
      "57    67     3  1.098612\n",
      "58    51     4  1.386294\n",
      "59    59     5  1.609438\n",
      "60    49     4  1.386294\n",
      "61    55     6  1.791759\n",
      "62    59     2  0.693147\n",
      "63    31     4  1.386294\n",
      "64    45     5  1.609438\n",
      "66    23     4  1.386294\n",
      "67    58     2  0.693147\n",
      "68    52     4  1.386294\n",
      "69    53     4  1.386294\n",
      "70    69     8  2.079442\n",
      "71    33     4  1.386294\n",
      "72    51    17  2.833213\n",
      "73    59     6  1.791759\n",
      "74    25     7  1.945910\n",
      "75    61     1  0.000000\n",
      "76    64     1  0.000000\n",
      "77    38     4  1.386294\n",
      "78    53     5  1.609438\n",
      "79    55     1  0.000000\n",
      "80    47     4  1.386294\n",
      "81    70     7  1.945910\n",
      "82    25     9  2.197225\n",
      "83    31     7  1.945910\n",
      "84    36     5  1.609438\n",
      "85    51     2  0.693147\n",
      "86    60     2  0.693147\n",
      "87    53     5  1.609438\n",
      "88    33     3  1.098612\n",
      "89    61     2  0.693147\n",
      "90    39    17  2.833213\n",
      "91    53     5  1.609438\n",
      "92    41     4  1.386294\n",
      "93    32     1  0.000000\n",
      "94    69     4  1.386294\n",
      "95    49     4  1.386294\n",
      "96    50    10  2.302585\n",
      "97    34     6  1.791759\n",
      "98    60     3  1.098612\n",
      "99    60     2  0.693147\n",
      "100   57     8  2.079442\n",
      "101   58     9  2.197225\n",
      "102   60     3  1.098612\n",
      "103   60     5  1.609438\n",
      "104   31     8  2.079442\n",
      "105   49     5  1.609438\n",
      "106   63     2  0.693147\n",
      "107   39     4  1.386294\n",
      "109   65     2  0.693147\n",
      "110   59     3  1.098612\n",
      "111   25     5  1.609438\n",
      "112   65     5  1.609438\n",
      "113   63     4  1.386294\n",
      "114   55     4  1.386294\n",
      "115   64     3  1.098612\n",
      "116   34    10  2.302585\n",
      "117   23    10  2.302585\n",
      "118   20     6  1.791759\n",
      "119   31    12  2.484907\n",
      "120   27    10  2.302585\n",
      "121   54     5  1.609438\n",
      "122   18    14  2.639057\n",
      "123   50    12  2.484907\n",
      "124   69     2  0.693147\n",
      "125   53     2  0.693147\n",
      "126   49     3  1.098612\n",
      "127   57     5  1.609438\n",
      "128   50     3  1.098612\n",
      "129   27     8  2.079442\n",
      "130   62     3  1.098612\n",
      "131   15     4  1.386294\n",
      "132   57     4  1.386294\n",
      "133   26     5  1.609438\n",
      "134   62     3  1.098612\n",
      "135   44     3  1.098612\n",
      "136   34     3  1.098612\n",
      "137   62     6  1.791759\n",
      "138   54     1  0.000000\n",
      "139   53     4  1.386294\n",
      "140   60     3  1.098612\n",
      "141   54     4  1.386294\n",
      "142   23     4  1.386294\n",
      "143   52     8  2.079442\n",
      "144   28     9  2.197225\n",
      "145   36     2  0.693147\n",
      "146   65     1  0.000000\n",
      "147   53    10  2.302585\n",
      "148   52     6  1.791759\n",
      "149   53     4  1.386294\n",
      "150   80     1  0.000000\n",
      "151   57     8  2.079442\n",
      "152   15     2  0.693147\n",
      "153   62     3  1.098612\n",
      "154   59     2  0.693147\n",
      "155   26     1  0.000000\n",
      "156   70     3  1.098612\n",
      "157   41    10  2.302585\n",
      "159   64     2  0.693147\n",
      "160   42     5  1.609438\n",
      "161   41     3  1.098612\n",
      "162   54     3  1.098612\n",
      "163   52     3  1.098612\n",
      "164   72     4  1.386294\n",
      "165   60     3  1.098612\n",
      "166   58     6  1.791759\n",
      "167   44     5  1.609438\n",
      "168   73     4  1.386294\n",
      "169   41     6  1.791759\n",
      "170   47     3  1.098612\n",
      "171   32    10  2.302585\n",
      "172   58     4  1.386294\n",
      "173   45     8  2.079442\n",
      "174   38     4  1.386294\n",
      "175   44     5  1.609438\n",
      "176   28     2  0.693147\n",
      "177   69     1  0.000000\n",
      "178   46     7  1.945910\n",
      "179   67     3  1.098612\n",
      "180    9    18  2.890372\n",
      "181   56     2  0.693147\n",
      "182   32     8  2.079442\n",
      "183   56     3  1.098612\n",
      "184   52     3  1.098612\n",
      "185   66     2  0.693147\n",
      "186   44     4  1.386294\n",
      "187   39     4  1.386294\n",
      "188   23    12  2.484907\n",
      "189   58     6  1.791759\n",
      "190   27     4  1.386294\n",
      "191   52     5  1.609438\n",
      "192   59     3  1.098612\n",
      "193   48     3  1.098612\n",
      "194   57     6  1.791759\n",
      "195   53     3  1.098612\n",
      "196   38     9  2.197225\n",
      "197   40     9  2.197225\n",
      "198   84     2  0.693147\n",
      "199   48     2  0.693147\n",
      "200   60     3  1.098612\n",
      "201   34     5  1.609438\n",
      "202   50     5  1.609438\n",
      "203   58     3  1.098612\n",
      "204   55     2  0.693147\n",
      "205   44     7  1.945910\n",
      "206   42     2  0.693147\n",
      "207   56     5  1.609438\n",
      "208   57     5  1.609438\n",
      "209   37     8  2.079442\n",
      "210   57     8  2.079442\n",
      "212   32     3  1.098612\n",
      "213   59     5  1.609438\n",
      "214   78     3  1.098612\n",
      "215   46     3  1.098612\n",
      "216   51    11  2.397895\n",
      "217   44     4  1.386294\n",
      "218   62     3  1.098612\n",
      "219   23    13  2.564949\n",
      "220   46     2  0.693147\n",
      "221   33     3  1.098612\n",
      "222   38     6  1.791759\n",
      "223   63     2  0.693147\n",
      "224   69     3  1.098612\n",
      "225   59     7  1.945910\n",
      "226   64     2  0.693147\n",
      "227   61     2  0.693147\n",
      "228   39     8  2.079442\n",
      "229   56     5  1.609438\n",
      "230   52     7  1.945910\n",
      "231   29     9  2.197225\n",
      "232   40     4  1.386294\n",
      "233   59     8  2.079442\n",
      "234   58     5  1.609438\n",
      "235   52     2  0.693147\n",
      "236   59     2  0.693147\n",
      "237   22     7  1.945910\n",
      "238   46     4  1.386294\n",
      "239   29     8  2.079442\n",
      "240   42     1  0.000000\n",
      "241   50     3  1.098612\n",
      "242   54     5  1.609438\n",
      "243   54     2  0.693147\n",
      "244   57     4  1.386294\n",
      "245   41     4  1.386294\n",
      "246   57     3  1.098612\n",
      "247   62     2  0.693147\n",
      "248   59     3  1.098612\n",
      "249   66     5  1.609438\n",
      "250   33     4  1.386294\n",
      "251   81     7  1.945910\n",
      "252   26     7  1.945910\n",
      "253   39     3  1.098612\n",
      "254   40     6  1.791759\n"
     ]
    }
   ],
   "source": [
    "pd.set_option('display.max_rows', None)\n",
    "pd.set_option('display.max_columns', None)\n",
    "print(ASI_Base1)"
   ]
  },
  {
   "cell_type": "code",
   "execution_count": 21,
   "metadata": {},
   "outputs": [],
   "source": [
    "#It seems that when the DHEA WAS A 1, the LOG will be a 0.000000..."
   ]
  },
  {
   "cell_type": "code",
   "execution_count": 23,
   "metadata": {},
   "outputs": [
    {
     "data": {
      "image/png": "[encoded data removed]",
      "text/plain": [
       "<Figure size 432x288 with 1 Axes>"
      ]
     },
     "metadata": {
      "needs_background": "light"
     },
     "output_type": "display_data"
    }
   ],
   "source": [
    "Plot = ASI_Base1.plot.scatter( x = 'Age', y = 'DHEA')"
   ]
  },
  {
   "cell_type": "code",
   "execution_count": 24,
   "metadata": {},
   "outputs": [
    {
     "data": {
      "image/png": "[encoded data removed]",
      "text/plain": [
       "<Figure size 432x288 with 1 Axes>"
      ]
     },
     "metadata": {
      "needs_background": "light"
     },
     "output_type": "display_data"
    }
   ],
   "source": [
    "Plot = ASI_Base1.plot.scatter( x = 'Age', y = 'DHEALOG')"
   ]
  },
  {
   "cell_type": "code",
   "execution_count": 25,
   "metadata": {},
   "outputs": [],
   "source": [
    "x = ASI_Base1['Age']\n",
    "y = ASI_Base1['DHEALOG']"
   ]
  },
  {
   "cell_type": "code",
   "execution_count": 26,
   "metadata": {},
   "outputs": [],
   "source": [
    "model = sm.OLS(y,x).fit()"
   ]
  },
  {
   "cell_type": "code",
   "execution_count": 28,
   "metadata": {},
   "outputs": [],
   "source": [
    "pred_val = model.fittedvalues.copy()\n",
    "true_val = ASI_Base1['DHEALOG'].values.copy()\n",
    "residual = true_val - pred_val"
   ]
  },
  {
   "cell_type": "code",
   "execution_count": 29,
   "metadata": {},
   "outputs": [
    {
     "data": {
      "image/png": "[encoded data removed]",
      "text/plain": [
       "<Figure size 432x180 with 1 Axes>"
      ]
     },
     "metadata": {
      "needs_background": "light"
     },
     "output_type": "display_data"
    }
   ],
   "source": [
    "fig, ax = plt.subplots(figsize=(6, 2.5))\n",
    "_ = ax.scatter(residual, pred_val)"
   ]
  },
  {
   "cell_type": "code",
   "execution_count": 30,
   "metadata": {},
   "outputs": [],
   "source": [
    "# This is kind of going at a slope"
   ]
  },
  {
   "cell_type": "code",
   "execution_count": 31,
   "metadata": {},
   "outputs": [
    {
     "data": {
      "text/plain": [
       "(55.516384018725134, nan, 71.07837619593373, 2.7970737005817873e-15)"
      ]
     },
     "execution_count": 31,
     "metadata": {},
     "output_type": "execute_result"
    }
   ],
   "source": [
    "sms.diagnostic.het_breuschpagan(residual, ASI_Base1[['Age']])"
   ]
  },
  {
   "cell_type": "code",
   "execution_count": 32,
   "metadata": {},
   "outputs": [
    {
     "data": {
      "text/plain": [
       "Ttest_1sampResult(statistic=4.124073723037562, pvalue=5.094556664967306e-05)"
      ]
     },
     "execution_count": 32,
     "metadata": {},
     "output_type": "execute_result"
    }
   ],
   "source": [
    "sms.linear_harvey_collier(model)"
   ]
  },
  {
   "cell_type": "code",
   "execution_count": 33,
   "metadata": {},
   "outputs": [],
   "source": [
    "# This seems to fail both tests"
   ]
  },
  {
   "cell_type": "code",
   "execution_count": 34,
   "metadata": {},
   "outputs": [],
   "source": [
    "transformed, _ = boxcox(ASI_Base1['Age'])"
   ]
  },
  {
   "cell_type": "code",
   "execution_count": 35,
   "metadata": {},
   "outputs": [
    {
     "data": {
      "text/plain": [
       "(array([ 4., 25., 29., 38., 60., 62., 22.,  5.,  4.,  1.]),\n",
       " array([ 11.14887791,  30.64266038,  50.13644284,  69.6302253 ,\n",
       "         89.12400776, 108.61779022, 128.11157268, 147.60535514,\n",
       "        167.0991376 , 186.59292006, 206.08670252]),\n",
       " <a list of 10 Patch objects>)"
      ]
     },
     "execution_count": 35,
     "metadata": {},
     "output_type": "execute_result"
    },
    {
     "data": {
      "image/png": "[encoded data removed]",
      "text/plain": [
       "<Figure size 432x288 with 1 Axes>"
      ]
     },
     "metadata": {
      "needs_background": "light"
     },
     "output_type": "display_data"
    }
   ],
   "source": [
    "plt.hist(transformed)"
   ]
  },
  {
   "cell_type": "code",
   "execution_count": 36,
   "metadata": {},
   "outputs": [
    {
     "data": {
      "text/html": [
       "<table class=\"simpletable\">\n",
       "<caption>OLS Regression Results</caption>\n",
       "<tr>\n",
       "  <th>Dep. Variable:</th>         <td>DHEALOG</td>     <th>  R-squared (uncentered):</th>      <td>   0.665</td>\n",
       "</tr>\n",
       "<tr>\n",
       "  <th>Model:</th>                   <td>OLS</td>       <th>  Adj. R-squared (uncentered):</th> <td>   0.664</td>\n",
       "</tr>\n",
       "<tr>\n",
       "  <th>Method:</th>             <td>Least Squares</td>  <th>  F-statistic:       </th>          <td>   495.2</td>\n",
       "</tr>\n",
       "<tr>\n",
       "  <th>Date:</th>             <td>Fri, 26 Feb 2021</td> <th>  Prob (F-statistic):</th>          <td>3.94e-61</td>\n",
       "</tr>\n",
       "<tr>\n",
       "  <th>Time:</th>                 <td>22:14:43</td>     <th>  Log-Likelihood:    </th>          <td> -321.44</td>\n",
       "</tr>\n",
       "<tr>\n",
       "  <th>No. Observations:</th>      <td>   250</td>      <th>  AIC:               </th>          <td>   644.9</td>\n",
       "</tr>\n",
       "<tr>\n",
       "  <th>Df Residuals:</th>          <td>   249</td>      <th>  BIC:               </th>          <td>   648.4</td>\n",
       "</tr>\n",
       "<tr>\n",
       "  <th>Df Model:</th>              <td>     1</td>      <th>                     </th>              <td> </td>   \n",
       "</tr>\n",
       "<tr>\n",
       "  <th>Covariance Type:</th>      <td>nonrobust</td>    <th>                     </th>              <td> </td>   \n",
       "</tr>\n",
       "</table>\n",
       "<table class=\"simpletable\">\n",
       "<tr>\n",
       "   <td></td>     <th>coef</th>     <th>std err</th>      <th>t</th>      <th>P>|t|</th>  <th>[0.025</th>    <th>0.975]</th>  \n",
       "</tr>\n",
       "<tr>\n",
       "  <th>x1</th> <td>    0.0122</td> <td>    0.001</td> <td>   22.252</td> <td> 0.000</td> <td>    0.011</td> <td>    0.013</td>\n",
       "</tr>\n",
       "</table>\n",
       "<table class=\"simpletable\">\n",
       "<tr>\n",
       "  <th>Omnibus:</th>       <td> 0.499</td> <th>  Durbin-Watson:     </th> <td>   1.874</td>\n",
       "</tr>\n",
       "<tr>\n",
       "  <th>Prob(Omnibus):</th> <td> 0.779</td> <th>  Jarque-Bera (JB):  </th> <td>   0.448</td>\n",
       "</tr>\n",
       "<tr>\n",
       "  <th>Skew:</th>          <td> 0.103</td> <th>  Prob(JB):          </th> <td>   0.799</td>\n",
       "</tr>\n",
       "<tr>\n",
       "  <th>Kurtosis:</th>      <td> 2.986</td> <th>  Cond. No.          </th> <td>    1.00</td>\n",
       "</tr>\n",
       "</table><br/><br/>Warnings:<br/>[1] Standard Errors assume that the covariance matrix of the errors is correctly specified."
      ],
      "text/plain": [
       "<class 'statsmodels.iolib.summary.Summary'>\n",
       "\"\"\"\n",
       "                                 OLS Regression Results                                \n",
       "=======================================================================================\n",
       "Dep. Variable:                DHEALOG   R-squared (uncentered):                   0.665\n",
       "Model:                            OLS   Adj. R-squared (uncentered):              0.664\n",
       "Method:                 Least Squares   F-statistic:                              495.2\n",
       "Date:                Fri, 26 Feb 2021   Prob (F-statistic):                    3.94e-61\n",
       "Time:                        22:14:43   Log-Likelihood:                         -321.44\n",
       "No. Observations:                 250   AIC:                                      644.9\n",
       "Df Residuals:                     249   BIC:                                      648.4\n",
       "Df Model:                           1                                                  \n",
       "Covariance Type:            nonrobust                                                  \n",
       "==============================================================================\n",
       "                 coef    std err          t      P>|t|      [0.025      0.975]\n",
       "------------------------------------------------------------------------------\n",
       "x1             0.0122      0.001     22.252      0.000       0.011       0.013\n",
       "==============================================================================\n",
       "Omnibus:                        0.499   Durbin-Watson:                   1.874\n",
       "Prob(Omnibus):                  0.779   Jarque-Bera (JB):                0.448\n",
       "Skew:                           0.103   Prob(JB):                        0.799\n",
       "Kurtosis:                       2.986   Cond. No.                         1.00\n",
       "==============================================================================\n",
       "\n",
       "Warnings:\n",
       "[1] Standard Errors assume that the covariance matrix of the errors is correctly specified.\n",
       "\"\"\""
      ]
     },
     "execution_count": 36,
     "metadata": {},
     "output_type": "execute_result"
    }
   ],
   "source": [
    "x = transformed\n",
    "model1 = sm.OLS(y,x).fit()\n",
    "model1.summary()"
   ]
  },
  {
   "cell_type": "code",
   "execution_count": 42,
   "metadata": {},
   "outputs": [],
   "source": [
    "pred_val1 = model1.fittedvalues.copy()\n",
    "true_val = ASI_Base1['DHEA'].values.copy()\n",
    "residual1 = true_val - pred_val"
   ]
  },
  {
   "cell_type": "code",
   "execution_count": 43,
   "metadata": {},
   "outputs": [
    {
     "data": {
      "image/png": "[encoded data removed]",
      "text/plain": [
       "<Figure size 432x180 with 1 Axes>"
      ]
     },
     "metadata": {
      "needs_background": "light"
     },
     "output_type": "display_data"
    }
   ],
   "source": [
    "fig, ax = plt.subplots(figsize=(6, 2.5))\n",
    "_ = ax.scatter(residual, pred_val1)"
   ]
  },
  {
   "cell_type": "code",
   "execution_count": 44,
   "metadata": {},
   "outputs": [
    {
     "data": {
      "text/plain": [
       "(31.64061943698823, nan, 36.0804936316284, 6.674167515679752e-09)"
      ]
     },
     "execution_count": 44,
     "metadata": {},
     "output_type": "execute_result"
    }
   ],
   "source": [
    "sms.diagnostic.het_breuschpagan(residual1, ASI_Base1[['Age']])"
   ]
  },
  {
   "cell_type": "code",
   "execution_count": 45,
   "metadata": {},
   "outputs": [
    {
     "data": {
      "text/plain": [
       "Ttest_1sampResult(statistic=4.866097849150678, pvalue=2.0347296951051863e-06)"
      ]
     },
     "execution_count": 45,
     "metadata": {},
     "output_type": "execute_result"
    }
   ],
   "source": [
    "sms.linear_harvey_collier(model1)"
   ]
  },
  {
   "cell_type": "code",
   "execution_count": 46,
   "metadata": {},
   "outputs": [
    {
     "data": {
      "image/png": "[encoded data removed]",
      "text/plain": [
       "<Figure size 864x576 with 1 Axes>"
      ]
     },
     "metadata": {
      "needs_background": "light"
     },
     "output_type": "display_data"
    }
   ],
   "source": [
    "fig, ax = plt.subplots(figsize=(12,8))\n",
    "fig = sm.graphics.influence_plot(model1, alpha = .05, ax = ax, criterion=\"cooks\")"
   ]
  },
  {
   "cell_type": "code",
   "execution_count": 47,
   "metadata": {},
   "outputs": [],
   "source": [
    "# I am not sure with this graph if this is right or wrong?"
   ]
  },
  {
   "cell_type": "code",
   "execution_count": 48,
   "metadata": {},
   "outputs": [
    {
     "name": "stdout",
     "output_type": "stream",
     "text": [
      "       dfb_x1       cooks_d  standard_resid  hat_diag  dffits_internal  \\\n",
      "0   -0.052423  2.746356e-03       -1.079882  0.002350        -0.052406   \n",
      "1   -0.066723  4.455810e-03       -0.885298  0.005653        -0.066752   \n",
      "2   -0.003031  9.223104e-06       -0.051727  0.003435        -0.003037   \n",
      "3    0.045838  2.097724e-03        1.182583  0.001498         0.045801   \n",
      "4    0.025792  6.674869e-04        0.399395  0.004167         0.025836   \n",
      "5   -0.041836  1.754333e-03       -0.647496  0.004167        -0.041885   \n",
      "6    0.005229  2.745096e-05        0.077373  0.004564         0.005239   \n",
      "7    0.003014  9.123085e-06        0.043623  0.004771         0.003020   \n",
      "8    0.017279  2.991626e-04        0.713584  0.000587         0.017296   \n",
      "9    0.048496  2.356519e-03        0.716879  0.004564         0.048544   \n",
      "10  -0.211650  4.449922e-02       -1.625208  0.016568        -0.210948   \n",
      "11  -0.048351  2.342394e-03       -0.714728  0.004564        -0.048398   \n",
      "12   0.002496  6.254175e-06        0.046053  0.002940         0.002501   \n",
      "13   0.018704  3.511503e-04        0.264786  0.004983         0.018739   \n",
      "14  -0.022602  5.125737e-04       -0.416919  0.002940        -0.022640   \n",
      "15  -0.032926  1.087172e-03       -0.547757  0.003610        -0.032972   \n",
      "16  -0.032679  1.071614e-03       -0.371917  0.007688        -0.032736   \n",
      "17   0.017587  3.101005e-04        0.599672  0.000862         0.017610   \n",
      "18  -0.051784  2.686364e-03       -0.748560  0.004771        -0.051830   \n",
      "19   0.078580  6.025723e-03        2.643425  0.000862         0.077626   \n",
      "20   0.015145  2.301395e-04        0.391699  0.001498         0.015170   \n",
      "21   0.016223  2.641798e-04        0.276838  0.003435         0.016254   \n",
      "22   0.011866  1.413334e-04        0.268483  0.001957         0.011888   \n",
      "23   0.101171  1.020272e-02        1.339627  0.005653         0.101008   \n",
      "24   0.017619  3.111934e-04        0.628510  0.000787         0.017641   \n",
      "25   0.014495  2.109058e-04        0.196648  0.005424         0.014523   \n",
      "26   0.055465  3.073498e-03        1.109642  0.002490         0.055439   \n",
      "27  -0.014386  2.077571e-04       -0.217737  0.004363        -0.014414   \n",
      "28   0.050663  2.546517e-03        1.718445  0.000862         0.050463   \n",
      "29   0.066051  4.321717e-03        1.825756  0.001295         0.065740   \n",
      "30   0.018704  3.511503e-04        0.264786  0.004983         0.018739   \n",
      "31   0.079849  6.328280e-03        1.688802  0.002214         0.079550   \n",
      "32   0.000687  4.744389e-07        0.009733  0.004983         0.000689   \n",
      "33  -0.252252  6.246057e-02       -2.358244  0.011107        -0.249921   \n",
      "34   0.017029  2.908370e-04        0.511806  0.001109         0.017054   \n",
      "35   0.055041  3.029145e-03        1.013522  0.002940         0.055038   \n",
      "36  -0.093315  8.670097e-03       -1.439439  0.004167        -0.093113   \n",
      "37  -0.066723  4.455810e-03       -0.885298  0.005653        -0.066752   \n",
      "38  -0.036450  1.333053e-03       -0.407387  0.007968        -0.036511   \n",
      "39   0.045360  2.053660e-03        1.212870  0.001394         0.045317   \n",
      "41   0.011210  1.261540e-04        0.177766  0.003976         0.011232   \n",
      "42  -0.135177  1.820603e-02       -1.380646  0.009461        -0.134930   \n",
      "43   0.067397  4.501575e-03        1.795694  0.001394         0.067094   \n",
      "44   0.007332  5.397490e-05        0.110981  0.004363         0.007347   \n",
      "45   0.009325  8.730739e-05        0.144446  0.004167         0.009344   \n",
      "46   0.034923  1.222372e-03        0.661559  0.002785         0.034962   \n",
      "47  -0.016990  2.897577e-04       -0.251378  0.004564        -0.017022   \n",
      "48  -0.074979  5.629730e-03       -0.808111  0.008547        -0.075032   \n",
      "49  -0.022602  5.125737e-04       -0.416919  0.002940        -0.022640   \n",
      "50  -0.018852  3.567720e-04       -0.231302  0.006624        -0.018888   \n",
      "51  -0.062805  3.948864e-03       -0.850905  0.005424        -0.062840   \n",
      "52   0.031171  9.744718e-04        0.531693  0.003435         0.031217   \n",
      "53   0.020303  4.136589e-04        0.374537  0.002940         0.020339   \n",
      "54  -0.061654  3.809011e-03       -0.701185  0.007688        -0.061717   \n",
      "55   0.044443  1.980167e-03        0.615415  0.005201         0.044499   \n",
      "56   0.063255  3.996564e-03        1.133645  0.003100         0.063218   \n",
      "57  -0.057474  3.310637e-03       -0.665795  0.007413        -0.057538   \n",
      "58   0.012987  1.693110e-04        0.210940  0.003791         0.013012   \n",
      "59   0.014495  2.109058e-04        0.196648  0.005424         0.014523   \n",
      "60   0.016223  2.641798e-04        0.276838  0.003435         0.016254   \n",
      "61   0.036563  1.340686e-03        0.540722  0.004564         0.036615   \n",
      "62  -0.062805  3.948864e-03       -0.850905  0.005424        -0.062840   \n",
      "63   0.027973  7.834036e-04        0.839988  0.001109         0.027989   \n",
      "64   0.034923  1.222372e-03        0.661559  0.002785         0.034962   \n",
      "66   0.024590  6.043397e-04        1.069524  0.000528         0.024583   \n",
      "67  -0.059010  3.486884e-03       -0.816650  0.005201        -0.059050   \n",
      "68   0.011210  1.261540e-04        0.177766  0.003976         0.011232   \n",
      "69   0.009325  8.730739e-05        0.144446  0.004167         0.009344   \n",
      "70   0.034541  1.197208e-03        0.386072  0.007968         0.034601   \n",
      "71   0.028077  7.895383e-04        0.780371  0.001295         0.028099   \n",
      "72   0.115546  1.321773e-02        1.863778  0.003791         0.114968   \n",
      "73   0.029866  8.949693e-04        0.405088  0.005424         0.029916   \n",
      "74   0.042275  1.774756e-03        1.651833  0.000650         0.042128   \n",
      "75  -0.132301  1.736711e-02       -1.712455  0.005887        -0.131784   \n",
      "76  -0.149084  2.201962e-02       -1.817145  0.006624        -0.148390   \n",
      "77   0.026890  7.248286e-04        0.627867  0.001835         0.026923   \n",
      "78   0.025792  6.674869e-04        0.399395  0.004167         0.025836   \n",
      "79  -0.102298  1.041133e-02       -1.506828  0.004564        -0.102036   \n",
      "80   0.019045  3.640041e-04        0.342127  0.003100         0.019079   \n",
      "81   0.018003  3.253649e-04        0.197714  0.008255         0.018038   \n",
      "82   0.049715  2.444112e-03        1.938462  0.000650         0.049438   \n",
      "83   0.049380  2.426698e-03        1.478388  0.001109         0.049262   \n",
      "84   0.037853  1.433450e-03        0.944062  0.001606         0.037861   \n",
      "85  -0.035783  1.283812e-03       -0.580853  0.003791        -0.035830   \n",
      "86  -0.066723  4.455810e-03       -0.885298  0.005653        -0.066752   \n",
      "87   0.025792  6.674869e-04        0.399395  0.004167         0.025836   \n",
      "88   0.016255  2.650645e-04        0.452158  0.001295         0.016281   \n",
      "89  -0.070765  5.010741e-03       -0.919827  0.005887        -0.070787   \n",
      "90   0.100370  9.909489e-03        2.248124  0.001957         0.099546   \n",
      "91   0.025792  6.674869e-04        0.399395  0.004167         0.025836   \n",
      "92   0.025125  6.330696e-04        0.534148  0.002214         0.025161   \n",
      "93  -0.026709  7.145407e-04       -0.771248  0.001200        -0.026731   \n",
      "94  -0.036450  1.333053e-03       -0.407387  0.007968        -0.036511   \n",
      "95   0.016223  2.641798e-04        0.276838  0.003435         0.016254   \n",
      "96   0.077790  6.035052e-03        1.290563  0.003610         0.077686   \n",
      "97   0.045360  2.053660e-03        1.212870  0.001394         0.045317   \n",
      "98  -0.031743  1.010985e-03       -0.421695  0.005653        -0.031796   \n",
      "99  -0.066723  4.455810e-03       -0.885298  0.005653        -0.066752   \n",
      "100  0.056717  3.221456e-03        0.802000  0.004983         0.056758   \n",
      "101  0.065247  4.260410e-03        0.902699  0.005201         0.065272   \n",
      "102 -0.031743  1.010985e-03       -0.421695  0.005653        -0.031796   \n",
      "103  0.012219  1.498956e-04        0.162375  0.005653         0.012243   \n",
      "104  0.054520  2.952546e-03        1.630718  0.001109         0.054337   \n",
      "105  0.031171  9.744718e-04        0.531693  0.003435         0.031217   \n",
      "106 -0.079226  6.277260e-03       -0.989291  0.006373        -0.079229   \n",
      "107  0.026392  6.983538e-04        0.596805  0.001957         0.026426   \n",
      "109 -0.088198  7.775136e-03       -1.059288  0.006881        -0.088177   \n",
      "110 -0.028558  8.183318e-04       -0.387355  0.005424        -0.028606   \n",
      "111  0.032380  1.045923e-03        1.268080  0.000650         0.032341   \n",
      "112 -0.000911  8.334620e-07       -0.010967  0.006881        -0.000913   \n",
      "113 -0.015704  2.475799e-04       -0.196470  0.006373        -0.015735   \n",
      "114  0.005229  2.745096e-05        0.077373  0.004564         0.005239   \n",
      "115 -0.045699  2.094201e-03       -0.560395  0.006624        -0.045762   \n",
      "116  0.067397  4.501575e-03        1.795694  0.001394         0.067094   \n",
      "117  0.048946  2.362210e-03        2.114508  0.000528         0.048603   \n",
      "118  0.031246  9.700188e-04        1.613801  0.000372         0.031145   \n",
      "119  0.070230  4.865051e-03        2.093265  0.001109         0.069750   \n",
      "120  0.056528  3.156671e-03        2.001759  0.000787         0.056184   \n",
      "121  0.024183  5.868773e-04        0.365955  0.004363         0.024226   \n",
      "122  0.045063  1.982120e-03        2.633102  0.000286         0.044521   \n",
      "123  0.090449  8.139870e-03        1.498813  0.003610         0.090221   \n",
      "124 -0.107719  1.158264e-02       -1.200845  0.007968        -0.107623   \n",
      "125 -0.041836  1.754333e-03       -0.647496  0.004167        -0.041885   \n",
      "126 -0.003031  9.223104e-06       -0.051727  0.003435        -0.003037   \n",
      "127  0.018704  3.511503e-04        0.264786  0.004983         0.018739   \n",
      "128 -0.005084  2.595184e-05       -0.084630  0.003610        -0.005094   \n",
      "129  0.049245  2.404982e-03        1.747242  0.000787         0.049041   \n",
      "130 -0.038476  1.484964e-03       -0.490779  0.006127        -0.038535   \n",
      "131  0.017240  2.964603e-04        1.281821  0.000180         0.017218   \n",
      "132  0.000687  4.744389e-07        0.009733  0.004983         0.000689   \n",
      "133  0.033236  1.102260e-03        1.239739  0.000717         0.033200   \n",
      "134 -0.038476  1.484964e-03       -0.490779  0.006127        -0.038535   \n",
      "135  0.005666  3.222716e-05        0.110443  0.002635         0.005677   \n",
      "136  0.015742  2.486464e-04        0.422028  0.001394         0.015769   \n",
      "137  0.023665  5.620798e-04        0.301944  0.006127         0.023708   \n",
      "138 -0.097745  9.508952e-03       -1.473060  0.004363        -0.097514   \n",
      "139  0.009325  8.730739e-05        0.144446  0.004167         0.009344   \n",
      "140 -0.031743  1.010985e-03       -0.421695  0.005653        -0.031796   \n",
      "141  0.007332  5.397490e-05        0.110981  0.004363         0.007347   \n",
      "142  0.024590  6.043397e-04        1.069524  0.000528         0.024583   \n",
      "143  0.061257  3.753327e-03        0.969633  0.003976         0.061264   \n",
      "144  0.054677  2.960255e-03        1.852793  0.000862         0.054408   \n",
      "145 -0.004062  1.656484e-05       -0.101485  0.001606        -0.004070   \n",
      "146 -0.154951  2.377432e-02       -1.852312  0.006881        -0.154189   \n",
      "147  0.077130  5.938917e-03        1.191338  0.004167         0.077064   \n",
      "148  0.040451  1.640170e-03        0.640979  0.003976         0.040499   \n",
      "149  0.009325  8.730739e-05        0.144446  0.004167         0.009344   \n",
      "150 -0.260341  6.648244e-02       -2.395322  0.011454        -0.257842   \n",
      "151  0.056717  3.221456e-03        0.802000  0.004983         0.056758   \n",
      "152  0.006591  4.357993e-05        0.491459  0.000180         0.006602   \n",
      "153 -0.038476  1.484964e-03       -0.490779  0.006127        -0.038535   \n",
      "154 -0.062805  3.948864e-03       -0.850905  0.005424        -0.062840   \n",
      "155 -0.015938  2.546807e-04       -0.595918  0.000717        -0.015959   \n",
      "156 -0.070406  4.965001e-03       -0.772344  0.008255        -0.070463   \n",
      "157  0.074652  5.539237e-03        1.580014  0.002214         0.074426   \n",
      "159 -0.083648  6.995526e-03       -1.024224  0.006624        -0.083639   \n",
      "160  0.036718  1.350555e-03        0.757276  0.002350         0.036750   \n",
      "161  0.009675  9.396189e-05        0.205784  0.002214         0.009693   \n",
      "162 -0.014386  2.077571e-04       -0.217737  0.004363        -0.014414   \n",
      "163 -0.009515  9.088884e-05       -0.150888  0.003976        -0.009534   \n",
      "164 -0.048537  2.362781e-03       -0.514541  0.008846        -0.048608   \n",
      "165 -0.031743  1.010985e-03       -0.421695  0.005653        -0.031796   \n",
      "166  0.031706  1.008540e-03        0.439202  0.005201         0.031758   \n",
      "167  0.035616  1.271159e-03        0.693629  0.002635         0.035653   \n",
      "168 -0.052827  2.798586e-03       -0.550505  0.009150        -0.052902   \n",
      "169  0.046960  2.205341e-03        0.996951  0.002214         0.046961   \n",
      "170  0.000758  5.766071e-07        0.013617  0.003100         0.000759   \n",
      "171  0.064634  4.136340e-03        1.855618  0.001200         0.064314   \n",
      "172 -0.001753  3.086259e-06       -0.024296  0.005201        -0.001757   \n",
      "173  0.063378  4.009690e-03        1.198181  0.002785         0.063322   \n",
      "174  0.026890  7.248286e-04        0.627867  0.001835         0.026923   \n",
      "175  0.035616  1.271159e-03        0.693629  0.002635         0.035653   \n",
      "176  0.004020  1.622817e-05        0.137182  0.000862         0.004028   \n",
      "177 -0.179817  3.194598e-02       -1.994303  0.007968        -0.178734   \n",
      "178  0.055041  3.029145e-03        1.013522  0.002940         0.055038   \n",
      "179 -0.057474  3.310637e-03       -0.665795  0.007413        -0.057538   \n",
      "180  0.022271  4.782793e-04        3.140578  0.000048         0.021870   \n",
      "181 -0.051784  2.686364e-03       -0.748560  0.004771        -0.051830   \n",
      "182  0.055667  3.079271e-03        1.601048  0.001200         0.055491   \n",
      "183 -0.019708  3.898495e-04       -0.285163  0.004771        -0.019745   \n",
      "184 -0.009515  9.088884e-05       -0.150888  0.003976        -0.009534   \n",
      "185 -0.092880  8.619766e-03       -1.094484  0.007144        -0.092843   \n",
      "186  0.022522  5.088968e-04        0.438876  0.002635         0.022559   \n",
      "187  0.026392  6.983538e-04        0.596805  0.001957         0.026426   \n",
      "188  0.053861  2.849624e-03        2.322436  0.000528         0.053382   \n",
      "189  0.031706  1.008540e-03        0.439202  0.005201         0.031758   \n",
      "190  0.026846  7.209457e-04        0.956640  0.000787         0.026850   \n",
      "191  0.027294  7.474056e-04        0.432691  0.003976         0.027339   \n",
      "192 -0.028558  8.183318e-04       -0.387355  0.005424        -0.028606   \n",
      "193 -0.001084  1.179746e-06       -0.018977  0.003265        -0.001086   \n",
      "194  0.033435  1.121386e-03        0.473180  0.004983         0.033487   \n",
      "195 -0.011895  1.420375e-04       -0.184239  0.004167        -0.011918   \n",
      "196  0.066795  4.436183e-03        1.553297  0.001835         0.066605   \n",
      "197  0.068295  4.641167e-03        1.491110  0.002083         0.068126   \n",
      "198 -0.200905  4.002761e-02       -1.749410  0.012910        -0.200069   \n",
      "199 -0.027546  7.611338e-04       -0.482024  0.003265        -0.027589   \n",
      "200 -0.031743  1.010985e-03       -0.421695  0.005653        -0.031796   \n",
      "201  0.037546  1.409625e-03        1.004851  0.001394         0.037545   \n",
      "202  0.029982  9.016709e-04        0.498842  0.003610         0.030028   \n",
      "203 -0.025491  6.520642e-04       -0.353153  0.005201        -0.025536   \n",
      "204 -0.048351  2.342394e-03       -0.714728  0.004564        -0.048398   \n",
      "205  0.055416  3.068969e-03        1.077764  0.002635         0.055398   \n",
      "206 -0.013983  1.962372e-04       -0.288661  0.002350        -0.014008   \n",
      "207  0.020641  4.275958e-04        0.298649  0.004771         0.020678   \n",
      "208  0.018704  3.511503e-04        0.264786  0.004983         0.018739   \n",
      "209  0.060279  3.617466e-03        1.449717  0.001718         0.060145   \n",
      "210  0.056717  3.221456e-03        0.802000  0.004983         0.056758   \n",
      "212  0.016683  2.791821e-04        0.482086  0.001200         0.016709   \n",
      "213  0.014495  2.109058e-04        0.196648  0.005424         0.014523   \n",
      "214 -0.110804  1.227112e-02       -1.061910  0.010765        -0.110775   \n",
      "215  0.002496  6.254175e-06        0.046053  0.002940         0.002501   \n",
      "216  0.084442  7.105464e-03        1.366507  0.003791         0.084294   \n",
      "217  0.022522  5.088968e-04        0.438876  0.002635         0.022559   \n",
      "218 -0.038476  1.484964e-03       -0.490779  0.006127        -0.038535   \n",
      "219  0.056028  3.078039e-03        2.413721  0.000528         0.055480   \n",
      "220 -0.022602  5.125737e-04       -0.416919  0.002940        -0.022640   \n",
      "221  0.016255  2.650645e-04        0.452158  0.001295         0.016281   \n",
      "222  0.046782  2.186840e-03        1.090582  0.001835         0.046764   \n",
      "223 -0.079226  6.277260e-03       -0.989291  0.006373        -0.079229   \n",
      "224 -0.065964  4.359304e-03       -0.736702  0.007968        -0.066025   \n",
      "225  0.042874  1.843071e-03        0.581321  0.005424         0.042931   \n",
      "226 -0.083648  6.995526e-03       -1.024224  0.006624        -0.083639   \n",
      "227 -0.070765  5.010741e-03       -0.919827  0.005887        -0.070787   \n",
      "228  0.061570  3.776664e-03        1.387870  0.001957         0.061455   \n",
      "229  0.020641  4.275958e-04        0.298649  0.004771         0.020678   \n",
      "230  0.051591  2.665231e-03        0.817084  0.003976         0.051626   \n",
      "231  0.056207  3.129558e-03        1.823775  0.000940         0.055942   \n",
      "232  0.025804  6.676855e-04        0.565564  0.002083         0.025840   \n",
      "233  0.054155  2.938191e-03        0.733981  0.005424         0.054205   \n",
      "234  0.016656  2.784718e-04        0.230785  0.005201         0.016687   \n",
      "235 -0.038752  1.505498e-03       -0.614100  0.003976        -0.038801   \n",
      "236 -0.062805  3.948864e-03       -0.850905  0.005424        -0.062840   \n",
      "237  0.037886  1.423726e-03        1.735298  0.000473         0.037732   \n",
      "238  0.020303  4.136589e-04        0.374537  0.002940         0.020339   \n",
      "239  0.052016  2.685447e-03        1.689422  0.000940         0.051821   \n",
      "240 -0.052423  2.746356e-03       -1.079882  0.002350        -0.052406   \n",
      "241 -0.005084  2.595184e-05       -0.084630  0.003610        -0.005094   \n",
      "242  0.024183  5.868773e-04        0.365955  0.004363         0.024226   \n",
      "243 -0.045035  2.032526e-03       -0.681039  0.004363        -0.045084   \n",
      "244  0.000687  4.744389e-07        0.009733  0.004983         0.000689   \n",
      "245  0.025125  6.330696e-04        0.534148  0.002214         0.025161   \n",
      "246 -0.022541  5.099455e-04       -0.319088  0.004983        -0.022582   \n",
      "247 -0.074932  5.616800e-03       -0.954492  0.006127        -0.074945   \n",
      "248 -0.028558  8.183318e-04       -0.387355  0.005424        -0.028606   \n",
      "249 -0.003896  1.524207e-05       -0.046024  0.007144        -0.003904   \n",
      "250  0.028077  7.895383e-04        0.780371  0.001295         0.028099   \n",
      "251 -0.021895  4.812485e-04       -0.200679  0.011809        -0.021937   \n",
      "252  0.043622  1.890300e-03        1.623505  0.000717         0.043478   \n",
      "253  0.011866  1.413334e-04        0.268483  0.001957         0.011888   \n",
      "254  0.046988  2.207389e-03        1.028337  0.002083         0.046983   \n",
      "\n",
      "     student_resid    dffits  \n",
      "0        -1.080244 -0.052423  \n",
      "1        -0.884912 -0.066723  \n",
      "2        -0.051623 -0.003031  \n",
      "3         1.183534  0.045838  \n",
      "4         0.398720  0.025792  \n",
      "5        -0.646739 -0.041836  \n",
      "6         0.077218  0.005229  \n",
      "7         0.043535  0.003014  \n",
      "8         0.712879  0.017279  \n",
      "9         0.716178  0.048496  \n",
      "10       -1.630612 -0.211650  \n",
      "11       -0.714024 -0.048351  \n",
      "12        0.045961  0.002496  \n",
      "13        0.264291  0.018704  \n",
      "14       -0.416226 -0.022602  \n",
      "15       -0.546986 -0.032926  \n",
      "16       -0.371272 -0.032679  \n",
      "17        0.598899  0.017587  \n",
      "18       -0.747897 -0.051784  \n",
      "19        2.675926  0.078580  \n",
      "20        0.391033  0.015145  \n",
      "21        0.276324  0.016223  \n",
      "22        0.267982  0.011866  \n",
      "23        1.341778  0.101171  \n",
      "24        0.627745  0.017619  \n",
      "25        0.196268  0.014495  \n",
      "26        1.110160  0.055465  \n",
      "27       -0.217320 -0.014386  \n",
      "28        1.725252  0.050663  \n",
      "29        1.834406  0.066051  \n",
      "30        0.264291  0.018704  \n",
      "31        1.695144  0.079849  \n",
      "32        0.009713  0.000687  \n",
      "33       -2.380234 -0.252252  \n",
      "34        0.511046  0.017029  \n",
      "35        1.013577  0.055041  \n",
      "36       -1.442560 -0.093315  \n",
      "37       -0.884912 -0.066723  \n",
      "38       -0.406703 -0.036450  \n",
      "39        1.214024  0.045360  \n",
      "41        0.177420  0.011210  \n",
      "42       -1.383175 -0.135177  \n",
      "43        1.803802  0.067397  \n",
      "44        0.110761  0.007332  \n",
      "45        0.144162  0.009325  \n",
      "46        0.660810  0.034923  \n",
      "47       -0.250905 -0.016990  \n",
      "48       -0.807546 -0.074979  \n",
      "49       -0.416226 -0.022602  \n",
      "50       -0.230862 -0.018852  \n",
      "51       -0.850432 -0.062805  \n",
      "52        0.530926  0.031171  \n",
      "53        0.373889  0.020303  \n",
      "54       -0.700468 -0.061654  \n",
      "55        0.614646  0.044443  \n",
      "56        1.134298  0.063255  \n",
      "57       -0.665049 -0.057474  \n",
      "58        0.210535  0.012987  \n",
      "59        0.196268  0.014495  \n",
      "60        0.276324  0.016223  \n",
      "61        0.539952  0.036563  \n",
      "62       -0.850432 -0.062805  \n",
      "63        0.839490  0.027973  \n",
      "64        0.660810  0.034923  \n",
      "66        1.069835  0.024590  \n",
      "67       -0.816102 -0.059010  \n",
      "68        0.177420  0.011210  \n",
      "69        0.144162  0.009325  \n",
      "70        0.385411  0.034541  \n",
      "71        0.779756  0.028077  \n",
      "72        1.873143  0.115546  \n",
      "73        0.404407  0.029866  \n",
      "74        1.657620  0.042275  \n",
      "75       -1.719166 -0.132301  \n",
      "76       -1.825638 -0.149084  \n",
      "77        0.627101  0.026890  \n",
      "78        0.398720  0.025792  \n",
      "79       -1.510703 -0.102298  \n",
      "80        0.341519  0.019045  \n",
      "81        0.197332  0.018003  \n",
      "82        1.949330  0.049715  \n",
      "83        1.481934  0.049380  \n",
      "84        0.943855  0.037853  \n",
      "85       -0.580079 -0.035783  \n",
      "86       -0.884912 -0.066723  \n",
      "87        0.398720  0.025792  \n",
      "88        0.451435  0.016255  \n",
      "89       -0.919542 -0.070765  \n",
      "90        2.266728  0.100370  \n",
      "91        0.398720  0.025792  \n",
      "92        0.533380  0.025125  \n",
      "93       -0.770619 -0.026709  \n",
      "94       -0.406703 -0.036450  \n",
      "95        0.276324  0.016223  \n",
      "96        1.292298  0.077790  \n",
      "97        1.214024  0.045360  \n",
      "98       -0.420998 -0.031743  \n",
      "99       -0.884912 -0.066723  \n",
      "100       0.801424  0.056717  \n",
      "101       0.902362  0.065247  \n",
      "102      -0.420998 -0.031743  \n",
      "103       0.162058  0.012219  \n",
      "104       1.636200  0.054520  \n",
      "105       0.530926  0.031171  \n",
      "106      -0.989249 -0.079226  \n",
      "107       0.596032  0.026392  \n",
      "109      -1.059549 -0.088198  \n",
      "110      -0.386693 -0.028558  \n",
      "111       1.269637  0.032380  \n",
      "112      -0.010945 -0.000911  \n",
      "113      -0.196091 -0.015704  \n",
      "114       0.077218  0.005229  \n",
      "115      -0.559621 -0.045699  \n",
      "116       1.803802  0.067397  \n",
      "117       2.129463  0.048946  \n",
      "118       1.619046  0.031246  \n",
      "119       2.107684  0.070230  \n",
      "120       2.014006  0.056528  \n",
      "121       0.365318  0.024183  \n",
      "122       2.665176  0.045063  \n",
      "123       1.502594  0.090449  \n",
      "124      -1.201917 -0.107719  \n",
      "125      -0.646739 -0.041836  \n",
      "126      -0.051623 -0.003031  \n",
      "127       0.264291  0.018704  \n",
      "128      -0.084461 -0.005084  \n",
      "129       1.754518  0.049245  \n",
      "130      -0.490029 -0.038476  \n",
      "131       1.283486  0.017240  \n",
      "132       0.009713  0.000687  \n",
      "133       1.241083  0.033236  \n",
      "134      -0.490029 -0.038476  \n",
      "135       0.110224  0.005666  \n",
      "136       0.421330  0.015742  \n",
      "137       0.301393  0.023665  \n",
      "138      -1.476547 -0.097745  \n",
      "139       0.144162  0.009325  \n",
      "140      -0.420998 -0.031743  \n",
      "141       0.110761  0.007332  \n",
      "142       1.069835  0.024590  \n",
      "143       0.969516  0.061257  \n",
      "144       1.861948  0.054677  \n",
      "145      -0.101283 -0.004062  \n",
      "146      -1.861458 -0.154951  \n",
      "147       1.192346  0.077130  \n",
      "148       0.640219  0.040451  \n",
      "149       0.144162  0.009325  \n",
      "150      -2.418534 -0.260341  \n",
      "151       0.801424  0.056717  \n",
      "152       0.490709  0.006591  \n",
      "153      -0.490029 -0.038476  \n",
      "154      -0.850432 -0.062805  \n",
      "155      -0.595144 -0.015938  \n",
      "156      -0.771716 -0.070406  \n",
      "157       1.584803  0.074652  \n",
      "159      -1.024325 -0.083648  \n",
      "160       0.756625  0.036718  \n",
      "161       0.205388  0.009675  \n",
      "162      -0.217320 -0.014386  \n",
      "163      -0.150592 -0.009515  \n",
      "164      -0.513780 -0.048537  \n",
      "165      -0.420998 -0.031743  \n",
      "166       0.438489  0.031706  \n",
      "167       0.692905  0.035616  \n",
      "168      -0.549733 -0.052827  \n",
      "169       0.996939  0.046960  \n",
      "170       0.013589  0.000758  \n",
      "171       1.864827  0.064634  \n",
      "172      -0.024247 -0.001753  \n",
      "173       1.199235  0.063378  \n",
      "174       0.627101  0.026890  \n",
      "175       0.692905  0.035616  \n",
      "176       0.136911  0.004020  \n",
      "177      -2.006383 -0.179817  \n",
      "178       1.013577  0.055041  \n",
      "179      -0.665049 -0.057474  \n",
      "180       3.198249  0.022271  \n",
      "181      -0.747897 -0.051784  \n",
      "182       1.606119  0.055667  \n",
      "183      -0.284636 -0.019708  \n",
      "184      -0.150592 -0.009515  \n",
      "185      -1.094920 -0.092880  \n",
      "186       0.438164  0.022522  \n",
      "187       0.596032  0.026392  \n",
      "188       2.343287  0.053861  \n",
      "189       0.438489  0.031706  \n",
      "190       0.956476  0.026846  \n",
      "191       0.431983  0.027294  \n",
      "192      -0.386693 -0.028558  \n",
      "193      -0.018939 -0.001084  \n",
      "194       0.472441  0.033435  \n",
      "195      -0.183882 -0.011895  \n",
      "196       1.557741  0.066795  \n",
      "197       1.494801  0.068295  \n",
      "198      -1.756723 -0.200905  \n",
      "199      -0.481280 -0.027546  \n",
      "200      -0.420998 -0.031743  \n",
      "201       1.004871  0.037546  \n",
      "202       0.498088  0.029982  \n",
      "203      -0.352531 -0.025491  \n",
      "204      -0.714024 -0.048351  \n",
      "205       1.078115  0.055416  \n",
      "206      -0.288129 -0.013983  \n",
      "207       0.298102  0.020641  \n",
      "208       0.264291  0.018704  \n",
      "209       1.452948  0.060279  \n",
      "210       0.801424  0.056717  \n",
      "212       0.481341  0.016683  \n",
      "213       0.196268  0.014495  \n",
      "214      -1.062183 -0.110804  \n",
      "215       0.045961  0.002496  \n",
      "216       1.368903  0.084442  \n",
      "217       0.438164  0.022522  \n",
      "218      -0.490029 -0.038476  \n",
      "219       2.437555  0.056028  \n",
      "220      -0.416226 -0.022602  \n",
      "221       0.451435  0.016255  \n",
      "222       1.090999  0.046782  \n",
      "223      -0.989249 -0.079226  \n",
      "224      -0.736023 -0.065964  \n",
      "225       0.580547  0.042874  \n",
      "226      -1.024325 -0.083648  \n",
      "227      -0.919542 -0.070765  \n",
      "228       1.390469  0.061570  \n",
      "229       0.298102  0.020641  \n",
      "230       0.816537  0.051591  \n",
      "231       1.832389  0.056207  \n",
      "232       0.564790  0.025804  \n",
      "233       0.733300  0.054155  \n",
      "234       0.230346  0.016656  \n",
      "235      -0.613331 -0.038752  \n",
      "236      -0.850432 -0.062805  \n",
      "237       1.742378  0.037886  \n",
      "238       0.373889  0.020303  \n",
      "239       1.695773  0.052016  \n",
      "240      -1.080244 -0.052423  \n",
      "241      -0.084461 -0.005084  \n",
      "242       0.365318  0.024183  \n",
      "243      -0.680304 -0.045035  \n",
      "244       0.009713  0.000687  \n",
      "245       0.533380  0.025125  \n",
      "246      -0.318512 -0.022541  \n",
      "247      -0.954321 -0.074932  \n",
      "248      -0.386693 -0.028558  \n",
      "249      -0.045932 -0.003896  \n",
      "250       0.779756  0.028077  \n",
      "251      -0.200292 -0.021895  \n",
      "252       1.628885  0.043622  \n",
      "253       0.267982  0.011866  \n",
      "254       1.028456  0.046988  \n"
     ]
    }
   ],
   "source": [
    "infl = model1.get_influence()\n",
    "print(infl.summary_frame())"
   ]
  },
  {
   "cell_type": "code",
   "execution_count": null,
   "metadata": {},
   "outputs": [],
   "source": []
  }
 ],
 "metadata": {
  "kernelspec": {
   "display_name": "Python 3",
   "language": "python",
   "name": "python3"
  },
  "language_info": {
   "codemirror_mode": {
    "name": "ipython",
    "version": 3
   },
   "file_extension": ".py",
   "mimetype": "text/x-python",
   "name": "python",
   "nbconvert_exporter": "python",
   "pygments_lexer": "ipython3",
   "version": "3.8.3"
  }
 },
 "nbformat": 4,
 "nbformat_minor": 4
}
